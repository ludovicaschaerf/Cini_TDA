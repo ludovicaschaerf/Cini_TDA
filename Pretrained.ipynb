{
 "cells": [
  {
   "cell_type": "markdown",
   "metadata": {},
   "source": [
    "# Replica project\n",
    "\n",
    "### The data"
   ]
  },
  {
   "cell_type": "code",
   "execution_count": 3,
   "metadata": {},
   "outputs": [
    {
     "name": "stderr",
     "output_type": "stream",
     "text": [
      "2022-03-21 15:47:48.366164: I tensorflow/stream_executor/platform/default/dso_loader.cc:49] Successfully opened dynamic library libcudart.so.10.1\n"
     ]
    }
   ],
   "source": [
    "# loading the metadata\n",
    "%load_ext autoreload\n",
    "%autoreload 2\n",
    "\n",
    "import pandas as pd\n",
    "from IPython.display import Image as Image2\n",
    "import numpy as np\n",
    "\n",
    "from torch import nn\n",
    "import torchvision.models as models\n",
    "from tqdm import tqdm\n",
    "import torch\n",
    "import matplotlib.pyplot as plt\n",
    "\n",
    "from urllib.request import urlretrieve \n",
    "import pickle\n",
    "from glob import glob\n",
    "from scipy import sparse\n",
    "\n",
    "from torch.utils.data import DataLoader\n",
    "\n",
    "from utils import *\n",
    "from dataloader_replica import ReplicaDataset\n",
    "from train_replica import train_replica\n",
    "from model_replica import ReplicaNet\n",
    "\n",
    "import umap\n",
    "\n",
    "from utils import * \n",
    "path = '/home/guhennec/scratch/2021_Cini/TopologicalAnalysis_Cini/data/'\n",
    "data_dir = '/scratch/students/schaerf/'\n",
    "\n"
   ]
  },
  {
   "cell_type": "code",
   "execution_count": 4,
   "metadata": {},
   "outputs": [
    {
     "name": "stdout",
     "output_type": "stream",
     "text": [
      "(6163, 45)\n"
     ]
    },
    {
     "data": {
      "text/html": [
       "<div>\n",
       "<style scoped>\n",
       "    .dataframe tbody tr th:only-of-type {\n",
       "        vertical-align: middle;\n",
       "    }\n",
       "\n",
       "    .dataframe tbody tr th {\n",
       "        vertical-align: top;\n",
       "    }\n",
       "\n",
       "    .dataframe thead th {\n",
       "        text-align: right;\n",
       "    }\n",
       "</style>\n",
       "<table border=\"1\" class=\"dataframe\">\n",
       "  <thead>\n",
       "    <tr style=\"text-align: right;\">\n",
       "      <th></th>\n",
       "      <th>uid_connection</th>\n",
       "      <th>index</th>\n",
       "      <th>uid</th>\n",
       "      <th>Drawer</th>\n",
       "      <th>ImageNumber</th>\n",
       "      <th>Author</th>\n",
       "      <th>Description</th>\n",
       "      <th>AuthorOriginal</th>\n",
       "      <th>AuthorULANLabel</th>\n",
       "      <th>AuthorULAN</th>\n",
       "      <th>...</th>\n",
       "      <th>AuthorBirthCity</th>\n",
       "      <th>AuthorDeathCity</th>\n",
       "      <th>CardboardURL</th>\n",
       "      <th>ImageURL</th>\n",
       "      <th>img1</th>\n",
       "      <th>img2</th>\n",
       "      <th>type</th>\n",
       "      <th>annotated</th>\n",
       "      <th>cluster</th>\n",
       "      <th>set</th>\n",
       "    </tr>\n",
       "  </thead>\n",
       "  <tbody>\n",
       "    <tr>\n",
       "      <th>0</th>\n",
       "      <td>002ca9c06a704c779e69d93cb4fadaa3</td>\n",
       "      <td>649</td>\n",
       "      <td>45588b4e33444ed8b34c523bac808bc4</td>\n",
       "      <td>158B</td>\n",
       "      <td>556</td>\n",
       "      <td>TIZIANO Vecellio (copia da)</td>\n",
       "      <td>S.Mariá Maddalena. cm. 123 x 91</td>\n",
       "      <td>TIZIANO (copia da -)</td>\n",
       "      <td>Titian</td>\n",
       "      <td>ulan:500031075</td>\n",
       "      <td>...</td>\n",
       "      <td>Belluno</td>\n",
       "      <td>Venice</td>\n",
       "      <td>https://dhlabsrv4.epfl.ch/iiif_cini/158B%2F158...</td>\n",
       "      <td>https://dhlabsrv4.epfl.ch/iiif_replica/cini%2F...</td>\n",
       "      <td>45588b4e33444ed8b34c523bac808bc4</td>\n",
       "      <td>da54c106180449d1a52993e9a5bc17fd</td>\n",
       "      <td>POSITIVE</td>\n",
       "      <td>2018-07-24 14:58:44.559049+00:00</td>\n",
       "      <td>50.0</td>\n",
       "      <td>train</td>\n",
       "    </tr>\n",
       "    <tr>\n",
       "      <th>1</th>\n",
       "      <td>0038ab462149452b98a4d7359a06f9f4</td>\n",
       "      <td>1571</td>\n",
       "      <td>ae828b07e4284d80b652206ffb77278a</td>\n",
       "      <td>158C</td>\n",
       "      <td>120</td>\n",
       "      <td>TIZIANO Vecellio (copia da)</td>\n",
       "      <td>Morte di S. Pietro Martire. mm. 123,8 x 84,2</td>\n",
       "      <td>TIZIANO (copia da -)</td>\n",
       "      <td>Titian</td>\n",
       "      <td>ulan:500031075</td>\n",
       "      <td>...</td>\n",
       "      <td>Belluno</td>\n",
       "      <td>Venice</td>\n",
       "      <td>https://dhlabsrv4.epfl.ch/iiif_cini/158C%2F158...</td>\n",
       "      <td>https://dhlabsrv4.epfl.ch/iiif_replica/cini%2F...</td>\n",
       "      <td>ae828b07e4284d80b652206ffb77278a</td>\n",
       "      <td>ea64207684694d379579998f88b7c29a</td>\n",
       "      <td>POSITIVE</td>\n",
       "      <td>2018-07-16 09:47:57.987515+00:00</td>\n",
       "      <td>51.0</td>\n",
       "      <td>test</td>\n",
       "    </tr>\n",
       "    <tr>\n",
       "      <th>2</th>\n",
       "      <td>00474897de044f7fb1ef16888dc198f3</td>\n",
       "      <td>1107</td>\n",
       "      <td>76b2c4aeab404bc79768117e3ddc62b1</td>\n",
       "      <td>47A</td>\n",
       "      <td>858</td>\n",
       "      <td>BELLINI Giovanni (cerchia di)</td>\n",
       "      <td>Pietà.</td>\n",
       "      <td>BELLINI, Giovanni (cerchia di -)</td>\n",
       "      <td>Bellini, Giovanni</td>\n",
       "      <td>ulan:500019244</td>\n",
       "      <td>...</td>\n",
       "      <td>Venice</td>\n",
       "      <td>Venice</td>\n",
       "      <td>https://dhlabsrv4.epfl.ch/iiif_cini/47A%2F47A_...</td>\n",
       "      <td>https://dhlabsrv4.epfl.ch/iiif_replica/cini%2F...</td>\n",
       "      <td>76b2c4aeab404bc79768117e3ddc62b1</td>\n",
       "      <td>b8dd2c0c2c7146e68e5bbb0aaf6cf803</td>\n",
       "      <td>POSITIVE</td>\n",
       "      <td>2018-03-14 10:46:45.603341+00:00</td>\n",
       "      <td>498.0</td>\n",
       "      <td>test</td>\n",
       "    </tr>\n",
       "    <tr>\n",
       "      <th>3</th>\n",
       "      <td>009c03c265b8418495da038bc3826bf7</td>\n",
       "      <td>1764</td>\n",
       "      <td>c5839e5220e5419e92d878396b0c04bb</td>\n",
       "      <td>135C</td>\n",
       "      <td>57</td>\n",
       "      <td>SEC XVI ex</td>\n",
       "      <td>Un soffitto. Part.: Leda e il cigno.</td>\n",
       "      <td>SEC. XVI ex.</td>\n",
       "      <td>NaN</td>\n",
       "      <td>NaN</td>\n",
       "      <td>...</td>\n",
       "      <td>NaN</td>\n",
       "      <td>NaN</td>\n",
       "      <td>https://dhlabsrv4.epfl.ch/iiif_cini/135C%2F135...</td>\n",
       "      <td>https://dhlabsrv4.epfl.ch/iiif_replica/cini%2F...</td>\n",
       "      <td>450ee2aceb014709b23a93e1163937c5</td>\n",
       "      <td>c5839e5220e5419e92d878396b0c04bb</td>\n",
       "      <td>POSITIVE</td>\n",
       "      <td>2018-05-07 08:28:11.797723+00:00</td>\n",
       "      <td>92.0</td>\n",
       "      <td>train</td>\n",
       "    </tr>\n",
       "    <tr>\n",
       "      <th>4</th>\n",
       "      <td>00aeddb93a8a4120aa984eda6c822747</td>\n",
       "      <td>747</td>\n",
       "      <td>4d02860f58f2443ba4d1ef088756f854</td>\n",
       "      <td>21C</td>\n",
       "      <td>228</td>\n",
       "      <td>BASSANO Leandro</td>\n",
       "      <td>La preparazione del pranzo. cm. 88,3 x 102,9</td>\n",
       "      <td>BASSANO, Leandro.</td>\n",
       "      <td>Bassano, Leandro</td>\n",
       "      <td>ulan:500015945</td>\n",
       "      <td>...</td>\n",
       "      <td>Bassano del Grappa</td>\n",
       "      <td>Venice</td>\n",
       "      <td>https://dhlabsrv4.epfl.ch/iiif_cini/21C%2F21C_...</td>\n",
       "      <td>https://dhlabsrv4.epfl.ch/iiif_replica/cini%2F...</td>\n",
       "      <td>4d02860f58f2443ba4d1ef088756f854</td>\n",
       "      <td>27bad0f213a342c3987e8cec61e40550</td>\n",
       "      <td>POSITIVE</td>\n",
       "      <td>2018-03-23 15:41:53.094226+00:00</td>\n",
       "      <td>218.0</td>\n",
       "      <td>train</td>\n",
       "    </tr>\n",
       "  </tbody>\n",
       "</table>\n",
       "<p>5 rows × 45 columns</p>\n",
       "</div>"
      ],
      "text/plain": [
       "                     uid_connection  index                               uid  \\\n",
       "0  002ca9c06a704c779e69d93cb4fadaa3    649  45588b4e33444ed8b34c523bac808bc4   \n",
       "1  0038ab462149452b98a4d7359a06f9f4   1571  ae828b07e4284d80b652206ffb77278a   \n",
       "2  00474897de044f7fb1ef16888dc198f3   1107  76b2c4aeab404bc79768117e3ddc62b1   \n",
       "3  009c03c265b8418495da038bc3826bf7   1764  c5839e5220e5419e92d878396b0c04bb   \n",
       "4  00aeddb93a8a4120aa984eda6c822747    747  4d02860f58f2443ba4d1ef088756f854   \n",
       "\n",
       "  Drawer ImageNumber                         Author  \\\n",
       "0   158B         556    TIZIANO Vecellio (copia da)   \n",
       "1   158C         120    TIZIANO Vecellio (copia da)   \n",
       "2    47A         858  BELLINI Giovanni (cerchia di)   \n",
       "3   135C          57                     SEC XVI ex   \n",
       "4    21C         228                BASSANO Leandro   \n",
       "\n",
       "                                    Description  \\\n",
       "0               S.Mariá Maddalena. cm. 123 x 91   \n",
       "1  Morte di S. Pietro Martire. mm. 123,8 x 84,2   \n",
       "2                                        Pietà.   \n",
       "3          Un soffitto. Part.: Leda e il cigno.   \n",
       "4  La preparazione del pranzo. cm. 88,3 x 102,9   \n",
       "\n",
       "                     AuthorOriginal    AuthorULANLabel      AuthorULAN  ...  \\\n",
       "0              TIZIANO (copia da -)             Titian  ulan:500031075  ...   \n",
       "1              TIZIANO (copia da -)             Titian  ulan:500031075  ...   \n",
       "2  BELLINI, Giovanni (cerchia di -)  Bellini, Giovanni  ulan:500019244  ...   \n",
       "3                      SEC. XVI ex.                NaN             NaN  ...   \n",
       "4                 BASSANO, Leandro.   Bassano, Leandro  ulan:500015945  ...   \n",
       "\n",
       "      AuthorBirthCity  AuthorDeathCity  \\\n",
       "0             Belluno           Venice   \n",
       "1             Belluno           Venice   \n",
       "2              Venice           Venice   \n",
       "3                 NaN              NaN   \n",
       "4  Bassano del Grappa           Venice   \n",
       "\n",
       "                                        CardboardURL  \\\n",
       "0  https://dhlabsrv4.epfl.ch/iiif_cini/158B%2F158...   \n",
       "1  https://dhlabsrv4.epfl.ch/iiif_cini/158C%2F158...   \n",
       "2  https://dhlabsrv4.epfl.ch/iiif_cini/47A%2F47A_...   \n",
       "3  https://dhlabsrv4.epfl.ch/iiif_cini/135C%2F135...   \n",
       "4  https://dhlabsrv4.epfl.ch/iiif_cini/21C%2F21C_...   \n",
       "\n",
       "                                            ImageURL  \\\n",
       "0  https://dhlabsrv4.epfl.ch/iiif_replica/cini%2F...   \n",
       "1  https://dhlabsrv4.epfl.ch/iiif_replica/cini%2F...   \n",
       "2  https://dhlabsrv4.epfl.ch/iiif_replica/cini%2F...   \n",
       "3  https://dhlabsrv4.epfl.ch/iiif_replica/cini%2F...   \n",
       "4  https://dhlabsrv4.epfl.ch/iiif_replica/cini%2F...   \n",
       "\n",
       "                               img1                              img2  \\\n",
       "0  45588b4e33444ed8b34c523bac808bc4  da54c106180449d1a52993e9a5bc17fd   \n",
       "1  ae828b07e4284d80b652206ffb77278a  ea64207684694d379579998f88b7c29a   \n",
       "2  76b2c4aeab404bc79768117e3ddc62b1  b8dd2c0c2c7146e68e5bbb0aaf6cf803   \n",
       "3  450ee2aceb014709b23a93e1163937c5  c5839e5220e5419e92d878396b0c04bb   \n",
       "4  4d02860f58f2443ba4d1ef088756f854  27bad0f213a342c3987e8cec61e40550   \n",
       "\n",
       "       type                         annotated cluster    set  \n",
       "0  POSITIVE  2018-07-24 14:58:44.559049+00:00    50.0  train  \n",
       "1  POSITIVE  2018-07-16 09:47:57.987515+00:00    51.0   test  \n",
       "2  POSITIVE  2018-03-14 10:46:45.603341+00:00   498.0   test  \n",
       "3  POSITIVE  2018-05-07 08:28:11.797723+00:00    92.0  train  \n",
       "4  POSITIVE  2018-03-23 15:41:53.094226+00:00   218.0  train  \n",
       "\n",
       "[5 rows x 45 columns]"
      ]
     },
     "execution_count": 4,
     "metadata": {},
     "output_type": "execute_result"
    }
   ],
   "source": [
    "data = pd.read_csv(data_dir + 'full_data.csv').drop(columns=['Unnamed: 0', 'level_0'])\n",
    "print(data.shape)\n",
    "data.head()"
   ]
  },
  {
   "cell_type": "markdown",
   "metadata": {},
   "source": [
    "### Creating embeddings of all the images"
   ]
  },
  {
   "cell_type": "code",
   "execution_count": 22,
   "metadata": {},
   "outputs": [],
   "source": [
    "def create_model(model_name, pooling):\n",
    "    if model_name == \"resnet50\":\n",
    "        model = models.resnet50(pretrained=True)\n",
    "    elif model_name == \"efficientnet0\":\n",
    "        model = models.efficientnet_b0(pretrained=True)\n",
    "    elif model_name == \"efficientnet7\":\n",
    "        model = models.efficientnet_b7(pretrained=True)\n",
    "\n",
    "    if pooling == \"avg\":\n",
    "        newmodel = torch.nn.Sequential(\n",
    "            *(list(model.children())[:-2]), nn.AdaptiveAvgPool2d((1, 1))\n",
    "        )\n",
    "    elif pooling == 'max':\n",
    "        newmodel = torch.nn.Sequential(\n",
    "            *(list(model.children())[:-2]), nn.AdaptiveMaxPool2d((1, 1), )\n",
    "        )\n",
    "    \n",
    "    return newmodel\n",
    "\n",
    "def preprocess_image_orig(img_name, resolution=480):\n",
    "    img = Image.open(img_name)\n",
    "    tfms = transforms.Compose(\n",
    "        [\n",
    "            transforms.Resize((resolution, resolution)),\n",
    "            transforms.ToTensor(),\n",
    "            #transforms.Normalize([0.485, 0.456, 0.406], [0.229, 0.224, 0.225]),\n",
    "        ]\n",
    "    )\n",
    "    return tfms(img).unsqueeze(0)\n",
    "\n",
    "\n",
    "def get_embedding_orig(img, model, device='cpu'):\n",
    "    embedding = model(img.squeeze(1).to(device))[0].cpu().detach().numpy()\n",
    "    norm = np.linalg.norm(embedding)\n",
    "    return embedding / norm\n",
    "\n",
    "\n",
    "# print(model)\n"
   ]
  },
  {
   "cell_type": "code",
   "execution_count": 26,
   "metadata": {},
   "outputs": [
    {
     "name": "stdout",
     "output_type": "stream",
     "text": [
      "(2048,)\n"
     ]
    },
    {
     "data": {
      "text/plain": [
       "array([0.01368189, 0.02313367, 0.01797748, ..., 0.02025607, 0.01675818,\n",
       "       0.01065022], dtype=float32)"
      ]
     },
     "execution_count": 26,
     "metadata": {},
     "output_type": "execute_result"
    }
   ],
   "source": [
    "img = preprocess_image_orig(data_dir + 'subset/' + data['uid'][0] + '.jpg')\n",
    "newmodel = create_model('resnet50', 'max')\n",
    "embedding = get_embedding_orig(img, newmodel).squeeze(1).squeeze(1)\n",
    "print(embedding.shape)\n",
    "embedding"
   ]
  },
  {
   "cell_type": "code",
   "execution_count": 27,
   "metadata": {},
   "outputs": [
    {
     "name": "stderr",
     "output_type": "stream",
     "text": [
      "100%|██████████| 4357/4357 [23:13<00:00,  3.13it/s]\n"
     ]
    }
   ],
   "source": [
    "newmodel = create_model('resnet50', 'max')\n",
    "embeddings = [[uid, get_embedding_orig(preprocess_image_orig(data_dir + 'subset/' + uid + '.jpg'), newmodel).squeeze(1).squeeze(1)] for uid in tqdm(data['uid'].unique())]"
   ]
  },
  {
   "cell_type": "code",
   "execution_count": null,
   "metadata": {},
   "outputs": [],
   "source": [
    "np.save('resnet50_max_480.npy', np.array(embeddings, dtype=np.ndarray))"
   ]
  },
  {
   "cell_type": "code",
   "execution_count": 7,
   "metadata": {},
   "outputs": [
    {
     "data": {
      "text/plain": [
       "array([['45588b4e33444ed8b34c523bac808bc4',\n",
       "        array([0.01368189, 0.02313367, 0.01797748, ..., 0.02025607, 0.01675818,\n",
       "       0.01065022], dtype=float32)],\n",
       "       ['ae828b07e4284d80b652206ffb77278a',\n",
       "        array([0.02267348, 0.02207473, 0.02679155, ..., 0.01316007, 0.01706073,\n",
       "       0.0239618 ], dtype=float32)],\n",
       "       ['76b2c4aeab404bc79768117e3ddc62b1',\n",
       "        array([0.01994276, 0.02536203, 0.02381043, ..., 0.0210929 , 0.02055986,\n",
       "       0.01366972], dtype=float32)],\n",
       "       ...,\n",
       "       ['ffd362f3b0f64665a6d4708b62c6333c',\n",
       "        array([0.02442177, 0.01836587, 0.01773359, ..., 0.01279425, 0.02543648,\n",
       "       0.01438388], dtype=float32)],\n",
       "       ['ffd9ce3649364906810269748b8a5ddc',\n",
       "        array([0.01238512, 0.01889924, 0.01867861, ..., 0.01401675, 0.02105789,\n",
       "       0.01638981], dtype=float32)],\n",
       "       ['fffb47ce9194475087f2c7dc1eaaa41a',\n",
       "        array([0.01438884, 0.0334691 , 0.01874444, ..., 0.01686426, 0.02170148,\n",
       "       0.01797038], dtype=float32)]], dtype=object)"
      ]
     },
     "execution_count": 7,
     "metadata": {},
     "output_type": "execute_result"
    }
   ],
   "source": [
    "embeddings = np.load('resnet50_max_480.npy', allow_pickle=True)\n",
    "embeddings"
   ]
  },
  {
   "cell_type": "markdown",
   "metadata": {},
   "source": [
    "### Finding most similar embeddings"
   ]
  },
  {
   "cell_type": "code",
   "execution_count": 92,
   "metadata": {},
   "outputs": [],
   "source": [
    "def make_tree_orig(embeds):\n",
    "    kdt = BallTree(np.vstack(embeds[:,1]), metric=\"euclidean\")\n",
    "    return kdt\n",
    "\n",
    "def find_most_similar_orig(uid, tree, embeds, uids, n=401):\n",
    "    img = np.vstack(embeds[embeds[:,0] == uid][:,1]).reshape(1, -1)\n",
    "    cv = tree.query(img, k=n)[1][0]\n",
    "    return [uids[c] for c in cv if uids[c] != uid] #not in uids_match\n",
    "\n",
    "def find_pos_matches(uids_sim, uids_match, how='all'):\n",
    "    matched = list(filter(lambda i: uids_sim[i] in uids_match, range(len(uids_sim))))\n",
    "    while len(matched) < len(uids_match):\n",
    "        matched.append(400)\n",
    "    if how == 'all':\n",
    "        if len(matched) > 0:\n",
    "            return matched\n",
    "        else:\n",
    "            return [400]\n",
    "    elif how == 'first':\n",
    "        if len(matched) > 0:\n",
    "            return matched[0]\n",
    "        else:\n",
    "            return 400\n",
    "    elif how == 'median':\n",
    "        if len(matched) > 0:\n",
    "            return np.median(np.array(matched))\n",
    "        else:\n",
    "            return 400\n",
    "\n",
    "def make_rank(uids_sim, uids_match):\n",
    "    return [1 if uid in uids_match else 0 for uid in uids_sim]\n",
    "        "
   ]
  },
  {
   "cell_type": "code",
   "execution_count": 81,
   "metadata": {},
   "outputs": [
    {
     "data": {
      "text/plain": [
       "array([[0.01368189, 0.02313367, 0.01797748, ..., 0.02025607, 0.01675818,\n",
       "        0.01065022],\n",
       "       [0.02267348, 0.02207473, 0.02679155, ..., 0.01316007, 0.01706073,\n",
       "        0.0239618 ],\n",
       "       [0.01994276, 0.02536203, 0.02381043, ..., 0.0210929 , 0.02055986,\n",
       "        0.01366972],\n",
       "       ...,\n",
       "       [0.02442177, 0.01836587, 0.01773359, ..., 0.01279425, 0.02543648,\n",
       "        0.01438388],\n",
       "       [0.01238512, 0.01889924, 0.01867861, ..., 0.01401675, 0.02105789,\n",
       "        0.01638981],\n",
       "       [0.01438884, 0.0334691 , 0.01874444, ..., 0.01686426, 0.02170148,\n",
       "        0.01797038]], dtype=float32)"
      ]
     },
     "execution_count": 81,
     "metadata": {},
     "output_type": "execute_result"
    }
   ],
   "source": [
    "np.vstack(embeddings[:,1])"
   ]
  },
  {
   "cell_type": "code",
   "execution_count": 82,
   "metadata": {},
   "outputs": [],
   "source": [
    "tree = make_tree_orig(embeddings)"
   ]
  },
  {
   "cell_type": "code",
   "execution_count": null,
   "metadata": {},
   "outputs": [],
   "source": [
    "list_downloaded = [file.split('/')[-1].split('.')[0] for file in glob(data_dir + 'subset/*')]\n",
    "list_downloaded[0]"
   ]
  },
  {
   "cell_type": "code",
   "execution_count": 98,
   "metadata": {},
   "outputs": [
    {
     "name": "stderr",
     "output_type": "stream",
     "text": [
      "100%|██████████| 2862/2862 [00:49<00:00, 57.62it/s]\n"
     ]
    },
    {
     "data": {
      "text/plain": [
       "2862"
      ]
     },
     "execution_count": 98,
     "metadata": {},
     "output_type": "execute_result"
    }
   ],
   "source": [
    "train_test = data[data['set'].notnull()].reset_index()\n",
    "\n",
    "Cs = []\n",
    "Bs = []\n",
    "pos = []\n",
    "ranks = []\n",
    "\n",
    "for i in tqdm(range(train_test.shape[0])):\n",
    "    if train_test['uid'][i] in list_downloaded:\n",
    "        list_theo = list(train_test[train_test['img1'] == train_test['uid'][i]]['img2']) + list(train_test[train_test['img2'] == train_test['uid'][i]]['img1']) + [train_test['uid'][i]]\n",
    "        Bs.append(list_theo)\n",
    "        list_ = find_most_similar_orig(train_test['uid'][i], tree, embeddings, list(data['uid'].unique()), n=4357)\n",
    "        Cs.append(list_[:400])\n",
    "        matches = find_pos_matches(list_[:400], list_theo, how='all')\n",
    "        pos.append(matches)\n",
    "        rank = make_rank(list_, list_theo)\n",
    "        ranks.append(rank)\n",
    "len(Cs)\n"
   ]
  },
  {
   "cell_type": "code",
   "execution_count": 99,
   "metadata": {},
   "outputs": [
    {
     "data": {
      "text/plain": [
       "Text(0.5, 0, 'Data')"
      ]
     },
     "execution_count": 99,
     "metadata": {},
     "output_type": "execute_result"
    },
    {
     "data": {
      "image/png": "[encoded data removed]",
      "text/plain": [
       "<Figure size 432x288 with 1 Axes>"
      ]
     },
     "metadata": {
      "needs_background": "light"
     },
     "output_type": "display_data"
    }
   ],
   "source": [
    "posses = [po for p in pos for po in p]\n",
    "posses_min = [p[0] for p in pos]\n",
    "posses_med = [np.median(np.array(p)) for p in pos]\n",
    "posses\n",
    "\n",
    "\n",
    "plt.hist(posses_min, density=True, bins=30)  # density=False would make counts\n",
    "plt.ylabel('Probability')\n",
    "plt.xlabel('Data')"
   ]
  },
  {
   "cell_type": "code",
   "execution_count": 100,
   "metadata": {},
   "outputs": [
    {
     "name": "stdout",
     "output_type": "stream",
     "text": [
      "all 355.20255693168195 400.0\n",
      "min 217.79350104821802 219.0\n",
      "median 389.54542278127184 400.0\n"
     ]
    }
   ],
   "source": [
    "print('all', np.mean(np.array(posses)), np.median(np.array(posses)))\n",
    "print('min', np.mean(np.array(posses_min)), np.median(np.array(posses_min)))\n",
    "print('median', np.mean(np.array(posses_med)), np.median(np.array(posses_med)))"
   ]
  },
  {
   "cell_type": "code",
   "execution_count": 122,
   "metadata": {},
   "outputs": [],
   "source": [
    "def mean_reciprocal_rank(rs):\n",
    "    \"\"\"Score is reciprocal of the rank of the first relevant item\n",
    "\n",
    "    First element is 'rank 1'.  Relevance is binary (nonzero is relevant).\n",
    "\n",
    "    Example from http://en.wikipedia.org/wiki/Mean_reciprocal_rank\n",
    "    >>> rs = [[0, 0, 1], [0, 1, 0], [1, 0, 0]]\n",
    "    >>> mean_reciprocal_rank(rs)\n",
    "    0.61111111111111105\n",
    "    >>> rs = np.array([[0, 0, 0], [0, 1, 0], [1, 0, 0]])\n",
    "    >>> mean_reciprocal_rank(rs)\n",
    "    0.5\n",
    "    >>> rs = [[0, 0, 0, 1], [1, 0, 0], [1, 0, 0]]\n",
    "    >>> mean_reciprocal_rank(rs)\n",
    "    0.75\n",
    "\n",
    "    Args:\n",
    "        rs: Iterator of relevance scores (list or numpy) in rank order\n",
    "            (first element is the first item)\n",
    "\n",
    "    Returns:\n",
    "        Mean reciprocal rank\n",
    "    \"\"\"\n",
    "    rs = (np.asarray(r).nonzero()[0] for r in rs)\n",
    "    return np.mean([1. / (r[0] + 1) if r.size else 0. for r in rs])\n",
    "\n",
    "\n",
    "def r_precision(r):\n",
    "    \"\"\"Score is precision after all relevant documents have been retrieved\n",
    "\n",
    "    Relevance is binary (nonzero is relevant).\n",
    "\n",
    "    >>> r = [0, 0, 1]\n",
    "    >>> r_precision(r)\n",
    "    0.33333333333333331\n",
    "    >>> r = [0, 1, 0]\n",
    "    >>> r_precision(r)\n",
    "    0.5\n",
    "    >>> r = [1, 0, 0]\n",
    "    >>> r_precision(r)\n",
    "    1.0\n",
    "\n",
    "    Args:\n",
    "        r: Relevance scores (list or numpy) in rank order\n",
    "            (first element is the first item)\n",
    "\n",
    "    Returns:\n",
    "        R Precision\n",
    "    \"\"\"\n",
    "    r = np.asarray(r) != 0\n",
    "    z = r.nonzero()[0]\n",
    "    if not z.size:\n",
    "        return 0.\n",
    "    return np.mean(r[:z[-1] + 1])\n",
    "\n",
    "\n",
    "def precision_at_k(r, k):\n",
    "    \"\"\"Score is precision @ k\n",
    "\n",
    "    Relevance is binary (nonzero is relevant).\n",
    "\n",
    "    >>> r = [0, 0, 1]\n",
    "    >>> precision_at_k(r, 1)\n",
    "    0.0\n",
    "    >>> precision_at_k(r, 2)\n",
    "    0.0\n",
    "    >>> precision_at_k(r, 3)\n",
    "    0.33333333333333331\n",
    "    >>> precision_at_k(r, 4)\n",
    "    Traceback (most recent call last):\n",
    "        File \"<stdin>\", line 1, in ?\n",
    "    ValueError: Relevance score length < k\n",
    "\n",
    "\n",
    "    Args:\n",
    "        r: Relevance scores (list or numpy) in rank order\n",
    "            (first element is the first item)\n",
    "\n",
    "    Returns:\n",
    "        Precision @ k\n",
    "\n",
    "    Raises:\n",
    "        ValueError: len(r) must be >= k\n",
    "    \"\"\"\n",
    "    assert k >= 1\n",
    "    r = np.asarray(r)[:k] != 0\n",
    "    if r.size != k:\n",
    "        raise ValueError('Relevance score length < k')\n",
    "    return np.mean(r)\n",
    "\n",
    "def recall_at_k(r, k):\n",
    "    \"\"\"Score is precision @ k\n",
    "\n",
    "    \"\"\"\n",
    "    assert k >= 1\n",
    "    true = np.asarray(r)[np.asarray(r) != 0]\n",
    "    r = np.asarray(r)[:k][np.asarray(r)[:k] != 0]\n",
    "    if len(true) > 0:\n",
    "        return len(r) / len(true)\n",
    "    else:\n",
    "        return 0\n",
    "\n",
    "def average_precision(r):\n",
    "    \"\"\"Score is average precision (area under PR curve)\n",
    "\n",
    "    Relevance is binary (nonzero is relevant).\n",
    "\n",
    "    >>> r = [1, 1, 0, 1, 0, 1, 0, 0, 0, 1]\n",
    "    >>> delta_r = 1. / sum(r)\n",
    "    >>> sum([sum(r[:x + 1]) / (x + 1.) * delta_r for x, y in enumerate(r) if y])\n",
    "    0.7833333333333333\n",
    "    >>> average_precision(r)\n",
    "    0.78333333333333333\n",
    "    >>> r = [1, 1, 0, 1, 0, 1, 0, 0, 0, 1, 0, 0, 0]\n",
    "    >>> average_precision(r)\n",
    "    0.78333333333333333\n",
    "    >>> average_precision([1,1,0,0]) == average_precision([1,1])\n",
    "    True\n",
    "    >>> average_precision([0])\n",
    "    0.0\n",
    "\n",
    "\n",
    "    Args:\n",
    "        r: Relevance scores (list or numpy) in rank order\n",
    "            (first element is the first item)\n",
    "\n",
    "    Returns:\n",
    "        Average precision\n",
    "    \"\"\"\n",
    "    r = np.asarray(r) != 0\n",
    "    out = [precision_at_k(r, k + 1) for k in range(r.size) if r[k]]\n",
    "    if not out:\n",
    "        return 0.\n",
    "    return np.mean(out)\n",
    "\n",
    "\n",
    "def mean_average_precision(rs):\n",
    "    \"\"\"Score is mean average precision\n",
    "\n",
    "    Relevance is binary (nonzero is relevant).\n",
    "\n",
    "    >>> rs = [[1, 1, 0, 1, 0, 1, 0, 0, 0, 1]]\n",
    "    >>> mean_average_precision(rs)\n",
    "    0.78333333333333333\n",
    "    >>> rs = [[1, 1, 0, 1, 0, 1, 0, 0, 0, 1], [0]]\n",
    "    >>> mean_average_precision(rs)\n",
    "    0.39166666666666666\n",
    "\n",
    "    Args:\n",
    "        rs: Iterator of relevance scores (list or numpy) in rank order\n",
    "            (first element is the first item)\n",
    "\n",
    "    Returns:\n",
    "        Mean average precision\n",
    "    \"\"\"\n",
    "    return np.mean([average_precision(r) for r in rs])\n",
    "\n",
    "\n",
    "def dcg_at_k(r, k, method=0):\n",
    "    \"\"\"Score is discounted cumulative gain (dcg)\n",
    "\n",
    "    Relevance is positive real values.  Can use binary\n",
    "    as the previous methods.\n",
    "\n",
    "    Example from\n",
    "    http://www.stanford.edu/class/cs276/handouts/EvaluationNew-handout-6-per.pdf\n",
    "    >>> r = [3, 2, 3, 0, 0, 1, 2, 2, 3, 0]\n",
    "    >>> dcg_at_k(r, 1)\n",
    "    3.0\n",
    "    >>> dcg_at_k(r, 1, method=1)\n",
    "    3.0\n",
    "    >>> dcg_at_k(r, 2)\n",
    "    5.0\n",
    "    >>> dcg_at_k(r, 2, method=1)\n",
    "    4.2618595071429155\n",
    "    >>> dcg_at_k(r, 10)\n",
    "    9.6051177391888114\n",
    "    >>> dcg_at_k(r, 11)\n",
    "    9.6051177391888114\n",
    "\n",
    "    Args:\n",
    "        r: Relevance scores (list or numpy) in rank order\n",
    "            (first element is the first item)\n",
    "        k: Number of results to consider\n",
    "        method: If 0 then weights are [1.0, 1.0, 0.6309, 0.5, 0.4307, ...]\n",
    "                If 1 then weights are [1.0, 0.6309, 0.5, 0.4307, ...]\n",
    "\n",
    "    Returns:\n",
    "        Discounted cumulative gain\n",
    "    \"\"\"\n",
    "    r = np.asfarray(r)[:k]\n",
    "    if r.size:\n",
    "        if method == 0:\n",
    "            return r[0] + np.sum(r[1:] / np.log2(np.arange(2, r.size + 1)))\n",
    "        elif method == 1:\n",
    "            return np.sum(r / np.log2(np.arange(2, r.size + 2)))\n",
    "        else:\n",
    "            raise ValueError('method must be 0 or 1.')\n",
    "    return 0.\n",
    "\n",
    "\n",
    "\n",
    "def ndcg_at_k(r, k, method=0):\n",
    "    \"\"\"Score is normalized discounted cumulative gain (ndcg)\n",
    "\n",
    "    Relevance is positive real values.  Can use binary\n",
    "    as the previous methods.\n",
    "\n",
    "    Example from\n",
    "    http://www.stanford.edu/class/cs276/handouts/EvaluationNew-handout-6-per.pdf\n",
    "    >>> r = [3, 2, 3, 0, 0, 1, 2, 2, 3, 0]\n",
    "    >>> ndcg_at_k(r, 1)\n",
    "    1.0\n",
    "    >>> r = [2, 1, 2, 0]\n",
    "    >>> ndcg_at_k(r, 4)\n",
    "    0.9203032077642922\n",
    "    >>> ndcg_at_k(r, 4, method=1)\n",
    "    0.96519546960144276\n",
    "    >>> ndcg_at_k([0], 1)\n",
    "    0.0\n",
    "    >>> ndcg_at_k([1], 2)\n",
    "    1.0\n",
    "\n",
    "    Args:\n",
    "        r: Relevance scores (list or numpy) in rank order\n",
    "            (first element is the first item)\n",
    "        k: Number of results to consider\n",
    "        method: If 0 then weights are [1.0, 1.0, 0.6309, 0.5, 0.4307, ...]\n",
    "                If 1 then weights are [1.0, 0.6309, 0.5, 0.4307, ...]\n",
    "\n",
    "    Returns:\n",
    "        Normalized discounted cumulative gain\n",
    "    \"\"\"\n",
    "    dcg_max = dcg_at_k(sorted(r, reverse=True), k, method)\n",
    "    if not dcg_max:\n",
    "        return 0.\n",
    "    return dcg_at_k(r, k, method) / dcg_max\n",
    "\n",
    "\n",
    "# Additions by lgalke BEGIN\n",
    "def recall(r, n_relevant):\n",
    "    \"\"\" Recall bounded to R, relevance is binary\"\"\"\n",
    "    assert n_relevant >= 1\n",
    "    relevant_and_retrieved = np.count_nonzero(r)\n",
    "    return relevant_and_retrieved / n_relevant\n",
    "\n",
    "\n",
    "def precision(r):\n",
    "    \"\"\" Unbounded precision of r, relevance is binary \"\"\"\n",
    "    r = np.asarray(r)\n",
    "    if r.size == 0:\n",
    "        return 0\n",
    "    tp = np.count_nonzero(r)\n",
    "    return tp / r.size\n",
    "\n",
    "\n",
    "def safe_precision_at_k(r, k):\n",
    "    r = np.asarray(r)\n",
    "    if r.size == 0:\n",
    "        return 0.\n",
    "    return precision_at_k(r, min(k, r.size))\n",
    "# Additions by lgalke END"
   ]
  },
  {
   "cell_type": "code",
   "execution_count": 119,
   "metadata": {},
   "outputs": [
    {
     "data": {
      "text/plain": [
       "0.037254283381425855"
      ]
     },
     "execution_count": 119,
     "metadata": {},
     "output_type": "execute_result"
    }
   ],
   "source": [
    "mean_average_precision(ranks)"
   ]
  },
  {
   "cell_type": "code",
   "execution_count": 123,
   "metadata": {},
   "outputs": [
    {
     "name": "stdout",
     "output_type": "stream",
     "text": [
      "0.30247898017814157\n",
      "0.21236190143422848\n",
      "0.15097182012800459\n",
      "0.11699139241067961\n",
      "0.08080901356582697\n"
     ]
    }
   ],
   "source": [
    "print(np.mean([recall_at_k(ranks[i], 400) for i in range(len(ranks))]))\n",
    "print(np.mean([recall_at_k(ranks[i], 200) for i in range(len(ranks))]))\n",
    "print(np.mean([recall_at_k(ranks[i], 100) for i in range(len(ranks))]))\n",
    "print(np.mean([recall_at_k(ranks[i], 50) for i in range(len(ranks))]))\n",
    "print(np.mean([recall_at_k(ranks[i], 20) for i in range(len(ranks))]))\n"
   ]
  },
  {
   "cell_type": "code",
   "execution_count": 113,
   "metadata": {},
   "outputs": [
    {
     "data": {
      "text/plain": [
       "(4356, 2862)"
      ]
     },
     "execution_count": 113,
     "metadata": {},
     "output_type": "execute_result"
    }
   ],
   "source": [
    "len(ranks[0]), len(ranks)"
   ]
  },
  {
   "cell_type": "code",
   "execution_count": null,
   "metadata": {},
   "outputs": [],
   "source": []
  }
 ],
 "metadata": {
  "interpreter": {
   "hash": "31f2aee4e71d21fbe5cf8b01ff0e069b9275f58929596ceb00d14d90e3e16cd6"
  },
  "kernelspec": {
   "display_name": "Xonsh",
   "language": "python",
   "name": "python3"
  },
  "language_info": {
   "codemirror_mode": {
    "name": "ipython",
    "version": 3
   },
   "file_extension": ".py",
   "mimetype": "text/x-python",
   "name": "python",
   "nbconvert_exporter": "python",
   "pygments_lexer": "ipython3",
   "version": "3.8.12"
  },
  "orig_nbformat": 4
 },
 "nbformat": 4,
 "nbformat_minor": 2
}
