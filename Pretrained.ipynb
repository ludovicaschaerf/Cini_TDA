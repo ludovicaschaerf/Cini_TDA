{
 "cells": [
  {
   "cell_type": "markdown",
   "metadata": {},
   "source": [
    "# Replica project\n",
    "\n",
    "### The data"
   ]
  },
  {
   "cell_type": "code",
   "execution_count": 14,
   "metadata": {},
   "outputs": [
    {
     "name": "stdout",
     "output_type": "stream",
     "text": [
      "The autoreload extension is already loaded. To reload it, use:\n",
      "  %reload_ext autoreload\n"
     ]
    }
   ],
   "source": [
    "# loading the metadata\n",
    "%load_ext autoreload\n",
    "%autoreload 2\n",
    "\n",
    "import pandas as pd\n",
    "\n",
    "from torch import nn\n",
    "import torchvision.models as models\n",
    "from tqdm import tqdm\n",
    "import torch\n",
    "import matplotlib.pyplot as plt\n",
    "\n",
    "from glob import glob\n",
    "from scipy import sparse\n",
    "\n",
    "from torch.utils.data import DataLoader\n",
    "\n",
    "from utils import *\n",
    "from metrics import *\n",
    "from dataloader_replica import ReplicaDataset\n",
    "from train_replica import train_replica\n",
    "from model_replica import ReplicaNet\n",
    "\n",
    "import umap\n",
    "import numpy as np\n",
    "\n",
    "from utils import * \n",
    "path = '/home/guhennec/scratch/2021_Cini/TopologicalAnalysis_Cini/data/'\n",
    "data_dir = '/scratch/students/schaerf/'\n",
    "\n"
   ]
  },
  {
   "cell_type": "code",
   "execution_count": 2,
   "metadata": {},
   "outputs": [
    {
     "name": "stdout",
     "output_type": "stream",
     "text": [
      "(6163, 45)\n"
     ]
    },
    {
     "data": {
      "text/html": [
       "<div>\n",
       "<style scoped>\n",
       "    .dataframe tbody tr th:only-of-type {\n",
       "        vertical-align: middle;\n",
       "    }\n",
       "\n",
       "    .dataframe tbody tr th {\n",
       "        vertical-align: top;\n",
       "    }\n",
       "\n",
       "    .dataframe thead th {\n",
       "        text-align: right;\n",
       "    }\n",
       "</style>\n",
       "<table border=\"1\" class=\"dataframe\">\n",
       "  <thead>\n",
       "    <tr style=\"text-align: right;\">\n",
       "      <th></th>\n",
       "      <th>uid_connection</th>\n",
       "      <th>index</th>\n",
       "      <th>uid</th>\n",
       "      <th>Drawer</th>\n",
       "      <th>ImageNumber</th>\n",
       "      <th>Author</th>\n",
       "      <th>Description</th>\n",
       "      <th>AuthorOriginal</th>\n",
       "      <th>AuthorULANLabel</th>\n",
       "      <th>AuthorULAN</th>\n",
       "      <th>...</th>\n",
       "      <th>AuthorBirthCity</th>\n",
       "      <th>AuthorDeathCity</th>\n",
       "      <th>CardboardURL</th>\n",
       "      <th>ImageURL</th>\n",
       "      <th>img1</th>\n",
       "      <th>img2</th>\n",
       "      <th>type</th>\n",
       "      <th>annotated</th>\n",
       "      <th>cluster</th>\n",
       "      <th>set</th>\n",
       "    </tr>\n",
       "  </thead>\n",
       "  <tbody>\n",
       "    <tr>\n",
       "      <th>0</th>\n",
       "      <td>002ca9c06a704c779e69d93cb4fadaa3</td>\n",
       "      <td>649</td>\n",
       "      <td>45588b4e33444ed8b34c523bac808bc4</td>\n",
       "      <td>158B</td>\n",
       "      <td>556</td>\n",
       "      <td>TIZIANO Vecellio (copia da)</td>\n",
       "      <td>S.Mariá Maddalena. cm. 123 x 91</td>\n",
       "      <td>TIZIANO (copia da -)</td>\n",
       "      <td>Titian</td>\n",
       "      <td>ulan:500031075</td>\n",
       "      <td>...</td>\n",
       "      <td>Belluno</td>\n",
       "      <td>Venice</td>\n",
       "      <td>https://dhlabsrv4.epfl.ch/iiif_cini/158B%2F158...</td>\n",
       "      <td>https://dhlabsrv4.epfl.ch/iiif_replica/cini%2F...</td>\n",
       "      <td>45588b4e33444ed8b34c523bac808bc4</td>\n",
       "      <td>da54c106180449d1a52993e9a5bc17fd</td>\n",
       "      <td>POSITIVE</td>\n",
       "      <td>2018-07-24 14:58:44.559049+00:00</td>\n",
       "      <td>50.0</td>\n",
       "      <td>train</td>\n",
       "    </tr>\n",
       "    <tr>\n",
       "      <th>1</th>\n",
       "      <td>0038ab462149452b98a4d7359a06f9f4</td>\n",
       "      <td>1571</td>\n",
       "      <td>ae828b07e4284d80b652206ffb77278a</td>\n",
       "      <td>158C</td>\n",
       "      <td>120</td>\n",
       "      <td>TIZIANO Vecellio (copia da)</td>\n",
       "      <td>Morte di S. Pietro Martire. mm. 123,8 x 84,2</td>\n",
       "      <td>TIZIANO (copia da -)</td>\n",
       "      <td>Titian</td>\n",
       "      <td>ulan:500031075</td>\n",
       "      <td>...</td>\n",
       "      <td>Belluno</td>\n",
       "      <td>Venice</td>\n",
       "      <td>https://dhlabsrv4.epfl.ch/iiif_cini/158C%2F158...</td>\n",
       "      <td>https://dhlabsrv4.epfl.ch/iiif_replica/cini%2F...</td>\n",
       "      <td>ae828b07e4284d80b652206ffb77278a</td>\n",
       "      <td>ea64207684694d379579998f88b7c29a</td>\n",
       "      <td>POSITIVE</td>\n",
       "      <td>2018-07-16 09:47:57.987515+00:00</td>\n",
       "      <td>51.0</td>\n",
       "      <td>test</td>\n",
       "    </tr>\n",
       "    <tr>\n",
       "      <th>2</th>\n",
       "      <td>00474897de044f7fb1ef16888dc198f3</td>\n",
       "      <td>1107</td>\n",
       "      <td>76b2c4aeab404bc79768117e3ddc62b1</td>\n",
       "      <td>47A</td>\n",
       "      <td>858</td>\n",
       "      <td>BELLINI Giovanni (cerchia di)</td>\n",
       "      <td>Pietà.</td>\n",
       "      <td>BELLINI, Giovanni (cerchia di -)</td>\n",
       "      <td>Bellini, Giovanni</td>\n",
       "      <td>ulan:500019244</td>\n",
       "      <td>...</td>\n",
       "      <td>Venice</td>\n",
       "      <td>Venice</td>\n",
       "      <td>https://dhlabsrv4.epfl.ch/iiif_cini/47A%2F47A_...</td>\n",
       "      <td>https://dhlabsrv4.epfl.ch/iiif_replica/cini%2F...</td>\n",
       "      <td>76b2c4aeab404bc79768117e3ddc62b1</td>\n",
       "      <td>b8dd2c0c2c7146e68e5bbb0aaf6cf803</td>\n",
       "      <td>POSITIVE</td>\n",
       "      <td>2018-03-14 10:46:45.603341+00:00</td>\n",
       "      <td>498.0</td>\n",
       "      <td>test</td>\n",
       "    </tr>\n",
       "    <tr>\n",
       "      <th>3</th>\n",
       "      <td>009c03c265b8418495da038bc3826bf7</td>\n",
       "      <td>1764</td>\n",
       "      <td>c5839e5220e5419e92d878396b0c04bb</td>\n",
       "      <td>135C</td>\n",
       "      <td>57</td>\n",
       "      <td>SEC XVI ex</td>\n",
       "      <td>Un soffitto. Part.: Leda e il cigno.</td>\n",
       "      <td>SEC. XVI ex.</td>\n",
       "      <td>NaN</td>\n",
       "      <td>NaN</td>\n",
       "      <td>...</td>\n",
       "      <td>NaN</td>\n",
       "      <td>NaN</td>\n",
       "      <td>https://dhlabsrv4.epfl.ch/iiif_cini/135C%2F135...</td>\n",
       "      <td>https://dhlabsrv4.epfl.ch/iiif_replica/cini%2F...</td>\n",
       "      <td>450ee2aceb014709b23a93e1163937c5</td>\n",
       "      <td>c5839e5220e5419e92d878396b0c04bb</td>\n",
       "      <td>POSITIVE</td>\n",
       "      <td>2018-05-07 08:28:11.797723+00:00</td>\n",
       "      <td>92.0</td>\n",
       "      <td>train</td>\n",
       "    </tr>\n",
       "    <tr>\n",
       "      <th>4</th>\n",
       "      <td>00aeddb93a8a4120aa984eda6c822747</td>\n",
       "      <td>747</td>\n",
       "      <td>4d02860f58f2443ba4d1ef088756f854</td>\n",
       "      <td>21C</td>\n",
       "      <td>228</td>\n",
       "      <td>BASSANO Leandro</td>\n",
       "      <td>La preparazione del pranzo. cm. 88,3 x 102,9</td>\n",
       "      <td>BASSANO, Leandro.</td>\n",
       "      <td>Bassano, Leandro</td>\n",
       "      <td>ulan:500015945</td>\n",
       "      <td>...</td>\n",
       "      <td>Bassano del Grappa</td>\n",
       "      <td>Venice</td>\n",
       "      <td>https://dhlabsrv4.epfl.ch/iiif_cini/21C%2F21C_...</td>\n",
       "      <td>https://dhlabsrv4.epfl.ch/iiif_replica/cini%2F...</td>\n",
       "      <td>4d02860f58f2443ba4d1ef088756f854</td>\n",
       "      <td>27bad0f213a342c3987e8cec61e40550</td>\n",
       "      <td>POSITIVE</td>\n",
       "      <td>2018-03-23 15:41:53.094226+00:00</td>\n",
       "      <td>218.0</td>\n",
       "      <td>train</td>\n",
       "    </tr>\n",
       "  </tbody>\n",
       "</table>\n",
       "<p>5 rows × 45 columns</p>\n",
       "</div>"
      ],
      "text/plain": [
       "                     uid_connection  index                               uid  \\\n",
       "0  002ca9c06a704c779e69d93cb4fadaa3    649  45588b4e33444ed8b34c523bac808bc4   \n",
       "1  0038ab462149452b98a4d7359a06f9f4   1571  ae828b07e4284d80b652206ffb77278a   \n",
       "2  00474897de044f7fb1ef16888dc198f3   1107  76b2c4aeab404bc79768117e3ddc62b1   \n",
       "3  009c03c265b8418495da038bc3826bf7   1764  c5839e5220e5419e92d878396b0c04bb   \n",
       "4  00aeddb93a8a4120aa984eda6c822747    747  4d02860f58f2443ba4d1ef088756f854   \n",
       "\n",
       "  Drawer ImageNumber                         Author  \\\n",
       "0   158B         556    TIZIANO Vecellio (copia da)   \n",
       "1   158C         120    TIZIANO Vecellio (copia da)   \n",
       "2    47A         858  BELLINI Giovanni (cerchia di)   \n",
       "3   135C          57                     SEC XVI ex   \n",
       "4    21C         228                BASSANO Leandro   \n",
       "\n",
       "                                    Description  \\\n",
       "0               S.Mariá Maddalena. cm. 123 x 91   \n",
       "1  Morte di S. Pietro Martire. mm. 123,8 x 84,2   \n",
       "2                                        Pietà.   \n",
       "3          Un soffitto. Part.: Leda e il cigno.   \n",
       "4  La preparazione del pranzo. cm. 88,3 x 102,9   \n",
       "\n",
       "                     AuthorOriginal    AuthorULANLabel      AuthorULAN  ...  \\\n",
       "0              TIZIANO (copia da -)             Titian  ulan:500031075  ...   \n",
       "1              TIZIANO (copia da -)             Titian  ulan:500031075  ...   \n",
       "2  BELLINI, Giovanni (cerchia di -)  Bellini, Giovanni  ulan:500019244  ...   \n",
       "3                      SEC. XVI ex.                NaN             NaN  ...   \n",
       "4                 BASSANO, Leandro.   Bassano, Leandro  ulan:500015945  ...   \n",
       "\n",
       "      AuthorBirthCity  AuthorDeathCity  \\\n",
       "0             Belluno           Venice   \n",
       "1             Belluno           Venice   \n",
       "2              Venice           Venice   \n",
       "3                 NaN              NaN   \n",
       "4  Bassano del Grappa           Venice   \n",
       "\n",
       "                                        CardboardURL  \\\n",
       "0  https://dhlabsrv4.epfl.ch/iiif_cini/158B%2F158...   \n",
       "1  https://dhlabsrv4.epfl.ch/iiif_cini/158C%2F158...   \n",
       "2  https://dhlabsrv4.epfl.ch/iiif_cini/47A%2F47A_...   \n",
       "3  https://dhlabsrv4.epfl.ch/iiif_cini/135C%2F135...   \n",
       "4  https://dhlabsrv4.epfl.ch/iiif_cini/21C%2F21C_...   \n",
       "\n",
       "                                            ImageURL  \\\n",
       "0  https://dhlabsrv4.epfl.ch/iiif_replica/cini%2F...   \n",
       "1  https://dhlabsrv4.epfl.ch/iiif_replica/cini%2F...   \n",
       "2  https://dhlabsrv4.epfl.ch/iiif_replica/cini%2F...   \n",
       "3  https://dhlabsrv4.epfl.ch/iiif_replica/cini%2F...   \n",
       "4  https://dhlabsrv4.epfl.ch/iiif_replica/cini%2F...   \n",
       "\n",
       "                               img1                              img2  \\\n",
       "0  45588b4e33444ed8b34c523bac808bc4  da54c106180449d1a52993e9a5bc17fd   \n",
       "1  ae828b07e4284d80b652206ffb77278a  ea64207684694d379579998f88b7c29a   \n",
       "2  76b2c4aeab404bc79768117e3ddc62b1  b8dd2c0c2c7146e68e5bbb0aaf6cf803   \n",
       "3  450ee2aceb014709b23a93e1163937c5  c5839e5220e5419e92d878396b0c04bb   \n",
       "4  4d02860f58f2443ba4d1ef088756f854  27bad0f213a342c3987e8cec61e40550   \n",
       "\n",
       "       type                         annotated cluster    set  \n",
       "0  POSITIVE  2018-07-24 14:58:44.559049+00:00    50.0  train  \n",
       "1  POSITIVE  2018-07-16 09:47:57.987515+00:00    51.0   test  \n",
       "2  POSITIVE  2018-03-14 10:46:45.603341+00:00   498.0   test  \n",
       "3  POSITIVE  2018-05-07 08:28:11.797723+00:00    92.0  train  \n",
       "4  POSITIVE  2018-03-23 15:41:53.094226+00:00   218.0  train  \n",
       "\n",
       "[5 rows x 45 columns]"
      ]
     },
     "execution_count": 2,
     "metadata": {},
     "output_type": "execute_result"
    }
   ],
   "source": [
    "data = pd.read_csv(data_dir + 'full_data.csv').drop(columns=['Unnamed: 0', 'level_0'])\n",
    "print(data.shape)\n",
    "data.head()"
   ]
  },
  {
   "cell_type": "markdown",
   "metadata": {},
   "source": [
    "### Creating embeddings of all the images"
   ]
  },
  {
   "cell_type": "code",
   "execution_count": 22,
   "metadata": {},
   "outputs": [],
   "source": [
    "def create_model(model_name, pooling):\n",
    "    if model_name == \"resnet50\":\n",
    "        model = models.resnet50(pretrained=True)\n",
    "    elif model_name == \"efficientnet0\":\n",
    "        model = models.efficientnet_b0(pretrained=True)\n",
    "    elif model_name == \"efficientnet7\":\n",
    "        model = models.efficientnet_b7(pretrained=True)\n",
    "\n",
    "    if pooling == \"avg\":\n",
    "        newmodel = torch.nn.Sequential(\n",
    "            *(list(model.children())[:-2]), nn.AdaptiveAvgPool2d((1, 1))\n",
    "        )\n",
    "    elif pooling == 'max':\n",
    "        newmodel = torch.nn.Sequential(\n",
    "            *(list(model.children())[:-2]), nn.AdaptiveMaxPool2d((1, 1), )\n",
    "        )\n",
    "    \n",
    "    return newmodel\n",
    "\n",
    "def preprocess_image_orig(img_name, resolution=480):\n",
    "    img = Image.open(img_name)\n",
    "    tfms = transforms.Compose(\n",
    "        [\n",
    "            transforms.Resize((resolution, resolution)),\n",
    "            transforms.ToTensor(),\n",
    "            #transforms.Normalize([0.485, 0.456, 0.406], [0.229, 0.224, 0.225]),\n",
    "        ]\n",
    "    )\n",
    "    return tfms(img).unsqueeze(0)\n",
    "\n",
    "\n",
    "def get_embedding_orig(img, model, device='cpu'):\n",
    "    embedding = model(img.squeeze(1).to(device))[0].cpu().detach().numpy()\n",
    "    norm = np.linalg.norm(embedding)\n",
    "    return embedding / norm\n",
    "\n",
    "\n",
    "# print(model)\n"
   ]
  },
  {
   "cell_type": "code",
   "execution_count": 26,
   "metadata": {},
   "outputs": [
    {
     "name": "stdout",
     "output_type": "stream",
     "text": [
      "(2048,)\n"
     ]
    },
    {
     "data": {
      "text/plain": [
       "array([0.01368189, 0.02313367, 0.01797748, ..., 0.02025607, 0.01675818,\n",
       "       0.01065022], dtype=float32)"
      ]
     },
     "execution_count": 26,
     "metadata": {},
     "output_type": "execute_result"
    }
   ],
   "source": [
    "img = preprocess_image_orig(data_dir + 'subset/' + data['uid'][0] + '.jpg')\n",
    "newmodel = create_model('resnet50', 'max')\n",
    "embedding = get_embedding_orig(img, newmodel).squeeze(1).squeeze(1)\n",
    "print(embedding.shape)\n",
    "embedding"
   ]
  },
  {
   "cell_type": "code",
   "execution_count": 27,
   "metadata": {},
   "outputs": [
    {
     "name": "stderr",
     "output_type": "stream",
     "text": [
      "100%|██████████| 4357/4357 [23:13<00:00,  3.13it/s]\n"
     ]
    }
   ],
   "source": [
    "newmodel = create_model('resnet50', 'max')\n",
    "embeddings = [[uid, get_embedding_orig(preprocess_image_orig(data_dir + 'subset/' + uid + '.jpg'), newmodel).squeeze(1).squeeze(1)] for uid in tqdm(data['uid'].unique())]"
   ]
  },
  {
   "cell_type": "code",
   "execution_count": null,
   "metadata": {},
   "outputs": [],
   "source": [
    "np.save('resnet50_max_480.npy', np.array(embeddings, dtype=np.ndarray))"
   ]
  },
  {
   "cell_type": "code",
   "execution_count": 7,
   "metadata": {},
   "outputs": [
    {
     "data": {
      "text/plain": [
       "array([['45588b4e33444ed8b34c523bac808bc4',\n",
       "        array([0.01273958, 0.02077351, 0.02422727, ..., 0.01849872, 0.02054269,\n",
       "       0.01348173], dtype=float32)],\n",
       "       ['ae828b07e4284d80b652206ffb77278a',\n",
       "        array([0.01653748, 0.02765266, 0.02819748, ..., 0.01199384, 0.01694367,\n",
       "       0.01413397], dtype=float32)],\n",
       "       ['76b2c4aeab404bc79768117e3ddc62b1',\n",
       "        array([0.01377614, 0.02740756, 0.02341555, ..., 0.01013662, 0.01947277,\n",
       "       0.01492655], dtype=float32)],\n",
       "       ...,\n",
       "       ['ffd362f3b0f64665a6d4708b62c6333c',\n",
       "        array([0.01821662, 0.01876744, 0.0185441 , ..., 0.01633258, 0.02021206,\n",
       "       0.01388135], dtype=float32)],\n",
       "       ['ffd9ce3649364906810269748b8a5ddc',\n",
       "        array([0.01877906, 0.0240321 , 0.02262984, ..., 0.01359423, 0.01878336,\n",
       "       0.01530929], dtype=float32)],\n",
       "       ['fffb47ce9194475087f2c7dc1eaaa41a',\n",
       "        array([0.02208385, 0.02518187, 0.02769189, ..., 0.01206282, 0.02445544,\n",
       "       0.01236099], dtype=float32)]], dtype=object)"
      ]
     },
     "execution_count": 7,
     "metadata": {},
     "output_type": "execute_result"
    }
   ],
   "source": [
    "embeddings = np.load(data_dir + 'resnet50_max_240.npy', allow_pickle=True)\n",
    "embeddings"
   ]
  },
  {
   "cell_type": "markdown",
   "metadata": {},
   "source": [
    "### Finding most similar embeddings"
   ]
  },
  {
   "cell_type": "code",
   "execution_count": 3,
   "metadata": {},
   "outputs": [
    {
     "name": "stdout",
     "output_type": "stream",
     "text": [
      "4593\n",
      "(2862, 46)\n"
     ]
    }
   ],
   "source": [
    "list_downloaded = [\n",
    "    file.split(\"/\")[-1].split(\".\")[0] for file in glob(data_dir + \"subset/*\")\n",
    "]\n",
    "print(len(list_downloaded))\n",
    "\n",
    "train_test = data[data[\"set\"].notnull()].reset_index() #[data['img1'].isin(list_downloaded)][data['img2'].isin(list_downloaded)]\n",
    "print(train_test.shape)\n"
   ]
  },
  {
   "cell_type": "code",
   "execution_count": 4,
   "metadata": {},
   "outputs": [],
   "source": [
    "def get_scores(embeddings, train_test, data, list_downloaded):\n",
    "    tree = make_tree_orig(embeddings)\n",
    "    Cs = []\n",
    "    Bs = []\n",
    "    pos = []\n",
    "    ranks = []\n",
    "\n",
    "    for i in tqdm(range(train_test.shape[0])):\n",
    "        if (train_test[\"img1\"][i] in list_downloaded) and (train_test[\"img2\"][i] in list_downloaded):\n",
    "            list_theo = (\n",
    "                list(train_test[train_test[\"img1\"] == train_test[\"uid\"][i]][\"img2\"])\n",
    "                + list(train_test[train_test[\"img2\"] == train_test[\"uid\"][i]][\"img1\"])\n",
    "                + [train_test[\"uid\"][i]]\n",
    "            )\n",
    "            Bs.append(list_theo)\n",
    "            list_sim = find_most_similar_orig(\n",
    "                train_test[\"uid\"][i], tree, embeddings, list(data[\"uid\"].unique()), n=4357\n",
    "            )\n",
    "            Cs.append(list_sim[:400])\n",
    "            matches = find_pos_matches(list_sim[:400], list_theo, how=\"all\")\n",
    "            pos.append(matches)\n",
    "            rank = make_rank(list_sim, list_theo)\n",
    "            ranks.append(rank)\n",
    "            \n",
    "    posses = [po for p in pos for po in p]\n",
    "    posses_min = [p[0] for p in pos]\n",
    "    posses_med = [np.median(np.array(p)) for p in pos]\n",
    "\n",
    "    mean_position = np.mean(np.array(posses))\n",
    "    mean_min_position = np.mean(np.array(posses_min))\n",
    "    mean_median_position = np.mean(np.array(posses_med))\n",
    "            \n",
    "    print('all positions', mean_position)\n",
    "    print('min positions', mean_min_position)\n",
    "    print('median positions', mean_median_position)\n",
    "\n",
    "    map = mean_average_precision(ranks)\n",
    "    print('mean average precision', map)\n",
    "\n",
    "    recall_400 = np.mean([recall_at_k(ranks[i], 400) for i in range(len(ranks))])\n",
    "    recall_200 = np.mean([recall_at_k(ranks[i], 200) for i in range(len(ranks))])\n",
    "    recall_100 = np.mean([recall_at_k(ranks[i], 100) for i in range(len(ranks))])\n",
    "    recall_50 = np.mean([recall_at_k(ranks[i], 50) for i in range(len(ranks))])\n",
    "    recall_20 = np.mean([recall_at_k(ranks[i], 20) for i in range(len(ranks))])\n",
    "    print('recall @ 400', recall_400)\n",
    "    print('recall @ 200', recall_200)\n",
    "    print('recall @ 100', recall_100)\n",
    "    print('recall @ 50', recall_50)\n",
    "    print('recall @ 20', recall_20)\n",
    "\n",
    "    return mean_position, mean_min_position, mean_median_position, map, recall_400, recall_200, recall_100, recall_50, recall_20\n"
   ]
  },
  {
   "cell_type": "code",
   "execution_count": 5,
   "metadata": {},
   "outputs": [],
   "source": [
    "from sklearn.decomposition import PCA, TruncatedSVD\n",
    "\n",
    "def get_lower_dimension_(embeddings, dimensions=100, method='umap'):\n",
    "    if method == 'umap':\n",
    "        embeddings_new = umap.UMAP(n_components=dimensions, metric='cosine').fit(np.vstack(embeddings[:,1]))\n",
    "        embeddings_new = embeddings_new.embedding_\n",
    "    elif method == 'pca':\n",
    "        embeddings_new = PCA(n_components=dimensions).fit_transform(np.vstack(embeddings[:,1]))\n",
    "    elif method == 'svd':\n",
    "        embeddings_new = TruncatedSVD(n_components=dimensions).fit_transform(np.vstack(embeddings[:,1]))\n",
    "    \n",
    "    return embeddings_new\n"
   ]
  },
  {
   "cell_type": "code",
   "execution_count": 9,
   "metadata": {},
   "outputs": [
    {
     "name": "stdout",
     "output_type": "stream",
     "text": [
      "resnext-101 avg 240\n",
      "original scores\n"
     ]
    },
    {
     "name": "stderr",
     "output_type": "stream",
     "text": [
      "100%|██████████| 2862/2862 [00:27<00:00, 105.17it/s]\n"
     ]
    },
    {
     "name": "stdout",
     "output_type": "stream",
     "text": [
      "all positions 294.01240625867973\n",
      "min positions 134.63024217365623\n",
      "median positions 334.555522740697\n",
      "mean average precision 0.10641506213192588\n",
      "recall @ 400 0.5087109385987117\n",
      "recall @ 200 0.4093215293599228\n",
      "recall @ 100 0.3380469533747738\n",
      "recall @ 50 0.2656576097657019\n",
      "recall @ 20 0.18377750588323533\n",
      "dimensionality reduction scores 500\n"
     ]
    },
    {
     "name": "stderr",
     "output_type": "stream",
     "text": [
      "100%|██████████| 2862/2862 [00:11<00:00, 254.34it/s]\n"
     ]
    },
    {
     "name": "stdout",
     "output_type": "stream",
     "text": [
      "all positions 293.94343116378116\n",
      "min positions 137.32132309509745\n",
      "median positions 333.22947430596577\n",
      "mean average precision 0.1042114731328412\n",
      "recall @ 400 0.5147336371051668\n",
      "recall @ 200 0.40461494107388973\n",
      "recall @ 100 0.33125310569197164\n",
      "recall @ 50 0.25854991139988187\n",
      "recall @ 20 0.17897762964213051\n",
      "\n",
      "\n",
      "\n",
      "\n",
      "\n",
      "resnext-101 avg 480\n",
      "original scores\n"
     ]
    },
    {
     "name": "stderr",
     "output_type": "stream",
     "text": [
      "100%|██████████| 2862/2862 [00:27<00:00, 102.45it/s]\n"
     ]
    },
    {
     "name": "stdout",
     "output_type": "stream",
     "text": [
      "all positions 286.7803907045644\n",
      "min positions 126.7005316007088\n",
      "median positions 327.55197873597166\n",
      "mean average precision 0.12735763379073267\n",
      "recall @ 400 0.5292476490497754\n",
      "recall @ 200 0.4385745694221772\n",
      "recall @ 100 0.36267661425664965\n",
      "recall @ 50 0.2844490385246439\n",
      "recall @ 20 0.2171340440094132\n",
      "dimensionality reduction scores 500\n"
     ]
    },
    {
     "name": "stderr",
     "output_type": "stream",
     "text": [
      "100%|██████████| 2862/2862 [00:11<00:00, 254.31it/s]\n"
     ]
    },
    {
     "name": "stdout",
     "output_type": "stream",
     "text": [
      "all positions 287.44968058513103\n",
      "min positions 128.91139988186652\n",
      "median positions 326.7454223272298\n",
      "mean average precision 0.12179712400457439\n",
      "recall @ 400 0.5255883235357541\n",
      "recall @ 200 0.43824196739140625\n",
      "recall @ 100 0.3495141057013473\n",
      "recall @ 50 0.28454607674926635\n",
      "recall @ 20 0.21256551252121247\n",
      "\n",
      "\n",
      "\n",
      "\n",
      "\n",
      "regnet_x_32gf avg 240\n",
      "original scores\n"
     ]
    },
    {
     "name": "stderr",
     "output_type": "stream",
     "text": [
      "100%|██████████| 2862/2862 [00:42<00:00, 67.90it/s] \n"
     ]
    },
    {
     "name": "stdout",
     "output_type": "stream",
     "text": [
      "all positions 321.7858531617443\n",
      "min positions 165.873006497342\n",
      "median positions 371.0431187241583\n",
      "mean average precision 0.05023972878865298\n",
      "recall @ 400 0.39857466317891593\n",
      "recall @ 200 0.2937154858005419\n",
      "recall @ 100 0.2236065404700963\n",
      "recall @ 50 0.16639383455685877\n",
      "recall @ 20 0.11133940877000535\n",
      "dimensionality reduction scores 500\n"
     ]
    },
    {
     "name": "stderr",
     "output_type": "stream",
     "text": [
      "100%|██████████| 2862/2862 [00:11<00:00, 253.72it/s]\n"
     ]
    },
    {
     "name": "stdout",
     "output_type": "stream",
     "text": [
      "all positions 325.4952319229701\n",
      "min positions 168.5682220909628\n",
      "median positions 376.22711163614883\n",
      "mean average precision 0.041097630223792404\n",
      "recall @ 400 0.38558818290064595\n",
      "recall @ 200 0.28540676361113454\n",
      "recall @ 100 0.20946357081915262\n",
      "recall @ 50 0.14949910462314478\n",
      "recall @ 20 0.08930634076824272\n",
      "\n",
      "\n",
      "\n",
      "\n",
      "\n",
      "regnet_x_32gf avg 480\n",
      "original scores\n"
     ]
    },
    {
     "name": "stderr",
     "output_type": "stream",
     "text": [
      "100%|██████████| 2862/2862 [00:42<00:00, 67.52it/s] \n"
     ]
    },
    {
     "name": "stdout",
     "output_type": "stream",
     "text": [
      "all positions 313.9138968614017\n",
      "min positions 155.65386887182515\n",
      "median positions 359.3251624335499\n",
      "mean average precision 0.07430045359496414\n",
      "recall @ 400 0.44379213193448275\n",
      "recall @ 200 0.3346145191685652\n",
      "recall @ 100 0.24340186950937098\n",
      "recall @ 50 0.1941877853720736\n",
      "recall @ 20 0.14122577560262142\n",
      "dimensionality reduction scores 500\n"
     ]
    },
    {
     "name": "stderr",
     "output_type": "stream",
     "text": [
      "100%|██████████| 2862/2862 [00:11<00:00, 254.76it/s]\n"
     ]
    },
    {
     "name": "stdout",
     "output_type": "stream",
     "text": [
      "all positions 309.6933617257661\n",
      "min positions 149.47548730064975\n",
      "median positions 356.38363851151803\n",
      "mean average precision 0.07482086440359799\n",
      "recall @ 400 0.44746317704084976\n",
      "recall @ 200 0.35367690490253995\n",
      "recall @ 100 0.271775940145698\n",
      "recall @ 50 0.20691549705135057\n",
      "recall @ 20 0.13831134737809278\n",
      "\n",
      "\n",
      "\n",
      "\n",
      "\n",
      "resnet101 avg 240\n",
      "original scores\n"
     ]
    },
    {
     "name": "stderr",
     "output_type": "stream",
     "text": [
      "100%|██████████| 2862/2862 [00:27<00:00, 104.70it/s]\n"
     ]
    },
    {
     "name": "stdout",
     "output_type": "stream",
     "text": [
      "all positions 309.50726784556986\n",
      "min positions 159.41464855286475\n",
      "median positions 350.73006497342\n",
      "mean average precision 0.07360308443810834\n",
      "recall @ 400 0.44630645327632923\n",
      "recall @ 200 0.34881468043015595\n",
      "recall @ 100 0.25295497801404476\n",
      "recall @ 50 0.1882225128681124\n",
      "recall @ 20 0.1273729830581573\n",
      "dimensionality reduction scores 500\n"
     ]
    },
    {
     "name": "stderr",
     "output_type": "stream",
     "text": [
      "100%|██████████| 2862/2862 [00:11<00:00, 254.43it/s]\n"
     ]
    },
    {
     "name": "stdout",
     "output_type": "stream",
     "text": [
      "all positions 310.4883807054902\n",
      "min positions 160.64619019492025\n",
      "median positions 353.63526284701715\n",
      "mean average precision 0.06781074434643639\n",
      "recall @ 400 0.45064082730946287\n",
      "recall @ 200 0.34235530991290003\n",
      "recall @ 100 0.24711393318894795\n",
      "recall @ 50 0.17922655378355318\n",
      "recall @ 20 0.12372350200170638\n",
      "\n",
      "\n",
      "\n",
      "\n",
      "\n",
      "resnet101 avg 480\n",
      "original scores\n"
     ]
    },
    {
     "name": "stderr",
     "output_type": "stream",
     "text": [
      "100%|██████████| 2862/2862 [00:28<00:00, 100.09it/s]\n"
     ]
    },
    {
     "name": "stdout",
     "output_type": "stream",
     "text": [
      "all positions 304.100823997778\n",
      "min positions 149.22445363260485\n",
      "median positions 347.39220318960423\n",
      "mean average precision 0.0801186051868008\n",
      "recall @ 400 0.4626477840594793\n",
      "recall @ 200 0.36010674204708465\n",
      "recall @ 100 0.2764900289708323\n",
      "recall @ 50 0.21111298624588642\n",
      "recall @ 20 0.15539499714041946\n",
      "dimensionality reduction scores 500\n"
     ]
    },
    {
     "name": "stderr",
     "output_type": "stream",
     "text": [
      "100%|██████████| 2862/2862 [00:11<00:00, 255.67it/s]\n"
     ]
    },
    {
     "name": "stdout",
     "output_type": "stream",
     "text": [
      "all positions 302.5857790945283\n",
      "min positions 148.40519787359716\n",
      "median positions 345.0868281157708\n",
      "mean average precision 0.07800218401345639\n",
      "recall @ 400 0.4684330436250106\n",
      "recall @ 200 0.36873447154014194\n",
      "recall @ 100 0.2790671673276517\n",
      "recall @ 50 0.21717224988046016\n",
      "recall @ 20 0.14777609015648\n",
      "\n",
      "\n",
      "\n",
      "\n",
      "\n",
      "resnet152 avg 240\n",
      "original scores\n"
     ]
    },
    {
     "name": "stderr",
     "output_type": "stream",
     "text": [
      "100%|██████████| 2862/2862 [00:27<00:00, 105.15it/s]\n"
     ]
    },
    {
     "name": "stdout",
     "output_type": "stream",
     "text": [
      "all positions 308.3150634200537\n",
      "min positions 145.24689899586534\n",
      "median positions 352.259303012404\n",
      "mean average precision 0.08860341180119101\n",
      "recall @ 400 0.45298005794166457\n",
      "recall @ 200 0.3563871778284064\n",
      "recall @ 100 0.27969815017954414\n",
      "recall @ 50 0.21734663741456417\n",
      "recall @ 20 0.15481815880516414\n",
      "dimensionality reduction scores 500\n"
     ]
    },
    {
     "name": "stderr",
     "output_type": "stream",
     "text": [
      "100%|██████████| 2862/2862 [00:11<00:00, 254.64it/s]\n"
     ]
    },
    {
     "name": "stdout",
     "output_type": "stream",
     "text": [
      "all positions 309.1141560966577\n",
      "min positions 146.92439456585942\n",
      "median positions 353.6848789131719\n",
      "mean average precision 0.07963686422206237\n",
      "recall @ 400 0.4465014672929617\n",
      "recall @ 200 0.34974287214393535\n",
      "recall @ 100 0.27523345427952634\n",
      "recall @ 50 0.21389896773830622\n",
      "recall @ 20 0.1539591126862243\n",
      "\n",
      "\n",
      "\n",
      "\n",
      "\n",
      "resnet152 avg 480\n",
      "original scores\n"
     ]
    },
    {
     "name": "stderr",
     "output_type": "stream",
     "text": [
      "100%|██████████| 2862/2862 [00:27<00:00, 105.50it/s]\n"
     ]
    },
    {
     "name": "stdout",
     "output_type": "stream",
     "text": [
      "all positions 302.46440144431074\n",
      "min positions 144.35144713526284\n",
      "median positions 345.3449497932664\n",
      "mean average precision 0.08735369381220447\n",
      "recall @ 400 0.4808108082768449\n",
      "recall @ 200 0.37789802079524465\n",
      "recall @ 100 0.2901960922191283\n",
      "recall @ 50 0.22923241357972604\n",
      "recall @ 20 0.1622933835869453\n",
      "dimensionality reduction scores 500\n"
     ]
    },
    {
     "name": "stderr",
     "output_type": "stream",
     "text": [
      "100%|██████████| 2862/2862 [00:11<00:00, 255.78it/s]\n"
     ]
    },
    {
     "name": "stdout",
     "output_type": "stream",
     "text": [
      "all positions 298.8769558374225\n",
      "min positions 142.38216184288245\n",
      "median positions 343.2028942705257\n",
      "mean average precision 0.08805038763972971\n",
      "recall @ 400 0.49518770099100873\n",
      "recall @ 200 0.3879733543348428\n",
      "recall @ 100 0.3025815918019108\n",
      "recall @ 50 0.22045936114158202\n",
      "recall @ 20 0.15933535847889066\n",
      "\n",
      "\n",
      "\n",
      "\n",
      "\n"
     ]
    }
   ],
   "source": [
    "\n",
    "for model in ['resnext-101',]: #, \"efficientnet0\", \"efficientnet7\" 'densenet161',==3 dimensions?? 'regnet_x_32gf', 'resnet101', 'resnet152',\n",
    "    for pool in [\"avg\"]: #, \"max\"\n",
    "        for resolution in [\"480\"]: #\"240\", \n",
    "            print(model, pool, resolution)\n",
    "            embeddings = np.load(\n",
    "                data_dir + model + \"_\" + pool + \"_\" + resolution + \".npy\",\n",
    "                allow_pickle=True,\n",
    "            )        \n",
    "            embs = get_lower_dimension_(embeddings, dimensions=500, method='pca')\n",
    "            embeddings_new = np.array([[embeddings[i, 0], embs[i]] for i in range(len(embs))], dtype=np.ndarray)\n",
    "            #embs = get_lower_dimension_(embeddings, dimensions=500, method='svd')\n",
    "            #embeddings_new_2 = np.array([[embeddings[i, 0], embs[i]] for i in range(len(embs))], dtype=np.ndarray)\n",
    "            print('original scores')\n",
    "            get_scores(embeddings, train_test, data, list_downloaded)\n",
    "            print('dimensionality reduction scores 500')\n",
    "            get_scores(embeddings_new, train_test, data, list_downloaded)\n",
    "            print('\\n\\n\\n\\n')\n",
    "            #print('dimensionality reduction scores 250')\n",
    "            #get_scores(embeddings_new_2, train_test, data, list_downloaded)\n",
    "            \n",
    "            "
   ]
  },
  {
   "cell_type": "code",
   "execution_count": 6,
   "metadata": {},
   "outputs": [
    {
     "name": "stdout",
     "output_type": "stream",
     "text": [
      "resnext-101 avg 480\n",
      "original scores\n"
     ]
    },
    {
     "name": "stderr",
     "output_type": "stream",
     "text": [
      "100%|██████████| 2862/2862 [00:34<00:00, 82.71it/s] \n"
     ]
    },
    {
     "name": "stdout",
     "output_type": "stream",
     "text": [
      "all positions 286.7803907045644\n",
      "min positions 126.7005316007088\n",
      "median positions 327.55197873597166\n",
      "mean average precision 0.12735763379073267\n",
      "recall @ 400 0.5292476490497754\n",
      "recall @ 200 0.4385745694221772\n",
      "recall @ 100 0.36267661425664965\n",
      "recall @ 50 0.2844490385246439\n",
      "recall @ 20 0.2171340440094132\n"
     ]
    }
   ],
   "source": [
    "for model in ['resnext-101',]: #, \"efficientnet0\", \"efficientnet7\" 'densenet161',==3 dimensions?? 'regnet_x_32gf', 'resnet101', 'resnet152',\n",
    "    for pool in [\"avg\"]: #, \"max\"\n",
    "        for resolution in [\"480\"]: #\"240\", \n",
    "            print(model, pool, resolution)\n",
    "            embeddings = np.load(\n",
    "                data_dir + model + \"_\" + pool + \"_\" + resolution + \".npy\",\n",
    "                allow_pickle=True,\n",
    "            )        \n",
    "            print('original scores')\n",
    "            get_scores(embeddings, train_test, data, list_downloaded)\n",
    "            "
   ]
  },
  {
   "cell_type": "code",
   "execution_count": 15,
   "metadata": {},
   "outputs": [],
   "source": [
    "def make_training_set_orig(embeddings, train_test, data_dir):\n",
    "    tree = make_tree_orig(embeddings)\n",
    "\n",
    "    \n",
    "    Cs = []\n",
    "    for i in tqdm(range(train_test.shape[0])):\n",
    "            list_theo = (\n",
    "                list(train_test[train_test[\"img1\"] == train_test[\"uid\"][i]][\"img2\"])\n",
    "                + list(train_test[train_test[\"img2\"] == train_test[\"uid\"][i]][\"img1\"])\n",
    "                + [train_test[\"uid\"][i]]\n",
    "            )\n",
    "            list_sim = find_most_similar_no_theo(\n",
    "                train_test[\"uid\"][i], tree, embeddings, list(data[\"uid\"].unique()), list_theo, n=10\n",
    "            )\n",
    "            Cs.append(list_sim)\n",
    "            \n",
    "    print(len(Cs))\n",
    "\n",
    "    train_test['C'] = Cs\n",
    "\n",
    "    list_downloaded = [file.split('/')[-1].split('.')[0] for file in glob(data_dir + 'subset/*')]\n",
    "\n",
    "\n",
    "    train_test = train_test[train_test['img1'].isin(list_downloaded)]\n",
    "    train_test = train_test[train_test['img2'].isin(list_downloaded)]\n",
    "\n",
    "    final = train_test[['img1', 'img2', 'C', 'set']].explode('C')\n",
    "    final.columns = ['A', 'B', 'C', 'set']\n",
    "    print(final.shape)\n",
    "\n",
    "    final[final['set'] == 'train'].reset_index().to_csv(data_dir + 'abc_train.csv')\n",
    "    final[final['set'] == 'test'].reset_index().to_csv(data_dir + 'abc_test.csv')\n",
    "\n",
    "    return final\n"
   ]
  },
  {
   "cell_type": "code",
   "execution_count": 17,
   "metadata": {},
   "outputs": [
    {
     "name": "stderr",
     "output_type": "stream",
     "text": [
      "100%|██████████| 2862/2862 [00:44<00:00, 63.90it/s]\n"
     ]
    },
    {
     "name": "stdout",
     "output_type": "stream",
     "text": [
      "2862\n",
      "(14096, 4)\n"
     ]
    },
    {
     "data": {
      "text/html": [
       "<div>\n",
       "<style scoped>\n",
       "    .dataframe tbody tr th:only-of-type {\n",
       "        vertical-align: middle;\n",
       "    }\n",
       "\n",
       "    .dataframe tbody tr th {\n",
       "        vertical-align: top;\n",
       "    }\n",
       "\n",
       "    .dataframe thead th {\n",
       "        text-align: right;\n",
       "    }\n",
       "</style>\n",
       "<table border=\"1\" class=\"dataframe\">\n",
       "  <thead>\n",
       "    <tr style=\"text-align: right;\">\n",
       "      <th></th>\n",
       "      <th>A</th>\n",
       "      <th>B</th>\n",
       "      <th>C</th>\n",
       "      <th>set</th>\n",
       "    </tr>\n",
       "  </thead>\n",
       "  <tbody>\n",
       "    <tr>\n",
       "      <th>952</th>\n",
       "      <td>89dd078005de443382875fcc00c78fac</td>\n",
       "      <td>36e4b7aba6f046de916cfae3d999369c</td>\n",
       "      <td>ea158e43a0184c3582a870fc9db39097</td>\n",
       "      <td>train</td>\n",
       "    </tr>\n",
       "    <tr>\n",
       "      <th>2502</th>\n",
       "      <td>e7db4731e0a34029832505f7a6f4ccb1</td>\n",
       "      <td>e05ca03f3fc44d5a91716745de81fc34</td>\n",
       "      <td>8ac721cae3184a4eb3665ea387d38cbd</td>\n",
       "      <td>train</td>\n",
       "    </tr>\n",
       "    <tr>\n",
       "      <th>849</th>\n",
       "      <td>d25678d4d71e4f9cbbc15bbb155f3ea2</td>\n",
       "      <td>b9e8f6bd9c544c41b2196be93c3352a7</td>\n",
       "      <td>8ae58e27ec284e84bc191b0995df5e02</td>\n",
       "      <td>test</td>\n",
       "    </tr>\n",
       "    <tr>\n",
       "      <th>2366</th>\n",
       "      <td>ea75a7a900dd44818f0fa4fe55fe606b</td>\n",
       "      <td>a57d5a95036a40e49b9715adba79ac32</td>\n",
       "      <td>0060668f7bb54ee3b76923bf482a8b6b</td>\n",
       "      <td>test</td>\n",
       "    </tr>\n",
       "    <tr>\n",
       "      <th>2575</th>\n",
       "      <td>7ee9e023d1854a1da4ab1588ee94947e</td>\n",
       "      <td>d3fba7a263e540efa87af9ca19c58917</td>\n",
       "      <td>0f21c000cfaf45d8ba860654a4bd32c5</td>\n",
       "      <td>train</td>\n",
       "    </tr>\n",
       "  </tbody>\n",
       "</table>\n",
       "</div>"
      ],
      "text/plain": [
       "                                     A                                 B  \\\n",
       "952   89dd078005de443382875fcc00c78fac  36e4b7aba6f046de916cfae3d999369c   \n",
       "2502  e7db4731e0a34029832505f7a6f4ccb1  e05ca03f3fc44d5a91716745de81fc34   \n",
       "849   d25678d4d71e4f9cbbc15bbb155f3ea2  b9e8f6bd9c544c41b2196be93c3352a7   \n",
       "2366  ea75a7a900dd44818f0fa4fe55fe606b  a57d5a95036a40e49b9715adba79ac32   \n",
       "2575  7ee9e023d1854a1da4ab1588ee94947e  d3fba7a263e540efa87af9ca19c58917   \n",
       "\n",
       "                                     C    set  \n",
       "952   ea158e43a0184c3582a870fc9db39097  train  \n",
       "2502  8ac721cae3184a4eb3665ea387d38cbd  train  \n",
       "849   8ae58e27ec284e84bc191b0995df5e02   test  \n",
       "2366  0060668f7bb54ee3b76923bf482a8b6b   test  \n",
       "2575  0f21c000cfaf45d8ba860654a4bd32c5  train  "
      ]
     },
     "execution_count": 17,
     "metadata": {},
     "output_type": "execute_result"
    }
   ],
   "source": [
    "final = make_training_set_orig(embeddings, train_test, data_dir)\n",
    "final.sample(5)"
   ]
  },
  {
   "cell_type": "code",
   "execution_count": null,
   "metadata": {},
   "outputs": [],
   "source": [
    "preprocess = transforms.Compose([\n",
    "    transforms.Resize(256),\n",
    "    transforms.CenterCrop(224),\n",
    "    transforms.ToTensor(),\n",
    "    transforms.Normalize(mean=[0.485, 0.456, 0.406], std=[0.229, 0.224, 0.225]),\n",
    "])"
   ]
  }
 ],
 "metadata": {
  "interpreter": {
   "hash": "31f2aee4e71d21fbe5cf8b01ff0e069b9275f58929596ceb00d14d90e3e16cd6"
  },
  "kernelspec": {
   "display_name": "Xonsh",
   "language": "python",
   "name": "python3"
  },
  "language_info": {
   "codemirror_mode": {
    "name": "ipython",
    "version": 3
   },
   "file_extension": ".py",
   "mimetype": "text/x-python",
   "name": "python",
   "nbconvert_exporter": "python",
   "pygments_lexer": "ipython3",
   "version": "3.8.12"
  },
  "orig_nbformat": 4
 },
 "nbformat": 4,
 "nbformat_minor": 2
}
