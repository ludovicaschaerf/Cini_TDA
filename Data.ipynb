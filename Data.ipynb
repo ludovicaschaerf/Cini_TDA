{
 "cells": [
  {
   "cell_type": "markdown",
   "metadata": {},
   "source": [
    "# Replica project\n",
    "\n",
    "### The data"
   ]
  },
  {
   "cell_type": "code",
   "execution_count": 1,
   "metadata": {},
   "outputs": [
    {
     "name": "stderr",
     "output_type": "stream",
     "text": [
      "2022-03-17 10:50:46.447849: I tensorflow/stream_executor/platform/default/dso_loader.cc:49] Successfully opened dynamic library libcudart.so.10.1\n"
     ]
    }
   ],
   "source": [
    "# loading the metadata\n",
    "%load_ext autoreload\n",
    "%autoreload 2\n",
    "\n",
    "import pandas as pd\n",
    "from IPython.display import Image as Image2\n",
    "import numpy as np\n",
    "\n",
    "from torch import nn\n",
    "import torchvision.models as models\n",
    "from tqdm import tqdm\n",
    "import torch\n",
    "import matplotlib.pyplot as plt\n",
    "\n",
    "from urllib.request import urlretrieve \n",
    "import pickle\n",
    "from glob import glob\n",
    "from scipy import sparse\n",
    "\n",
    "from torch.utils.data import DataLoader\n",
    "\n",
    "from utils import *\n",
    "from dataloader_replica import ReplicaDataset\n",
    "from train_replica import train_replica\n",
    "from model_replica import ReplicaNet\n",
    "\n",
    "import umap\n",
    "\n",
    "from utils import * \n",
    "path = '/home/guhennec/scratch/2021_Cini/TopologicalAnalysis_Cini/data/'\n",
    "data_dir = '/scratch/students/schaerf/'\n",
    "\n"
   ]
  },
  {
   "cell_type": "code",
   "execution_count": 2,
   "metadata": {},
   "outputs": [
    {
     "name": "stderr",
     "output_type": "stream",
     "text": [
      "/tmp/ipykernel_1570752/2286784503.py:1: DtypeWarning: Columns (1) have mixed types. Specify dtype option on import or set low_memory=False.\n",
      "  metadata = pd.read_csv(path + 'Cini_20210811.csv', sep=';')\n"
     ]
    },
    {
     "data": {
      "text/html": [
       "<div>\n",
       "<style scoped>\n",
       "    .dataframe tbody tr th:only-of-type {\n",
       "        vertical-align: middle;\n",
       "    }\n",
       "\n",
       "    .dataframe tbody tr th {\n",
       "        vertical-align: top;\n",
       "    }\n",
       "\n",
       "    .dataframe thead th {\n",
       "        text-align: right;\n",
       "    }\n",
       "</style>\n",
       "<table border=\"1\" class=\"dataframe\">\n",
       "  <thead>\n",
       "    <tr style=\"text-align: right;\">\n",
       "      <th></th>\n",
       "      <th>Drawer</th>\n",
       "      <th>ImageNumber</th>\n",
       "      <th>Author</th>\n",
       "      <th>Description</th>\n",
       "      <th>AuthorOriginal</th>\n",
       "      <th>AuthorULANLabel</th>\n",
       "      <th>AuthorULAN</th>\n",
       "      <th>AuthorURL</th>\n",
       "      <th>AuthorComplemented</th>\n",
       "      <th>AuthorComplement</th>\n",
       "      <th>...</th>\n",
       "      <th>AuthorDeath</th>\n",
       "      <th>AuthorBirthLong</th>\n",
       "      <th>AuthorBirthLat</th>\n",
       "      <th>AuthorDeathLong</th>\n",
       "      <th>AuthorDeathLat</th>\n",
       "      <th>AuthorBirthCity</th>\n",
       "      <th>AuthorDeathCity</th>\n",
       "      <th>uid</th>\n",
       "      <th>CardboardURL</th>\n",
       "      <th>ImageURL</th>\n",
       "    </tr>\n",
       "  </thead>\n",
       "  <tbody>\n",
       "    <tr>\n",
       "      <th>0</th>\n",
       "      <td>1A</td>\n",
       "      <td>1</td>\n",
       "      <td>ALLEGRINI Francesco</td>\n",
       "      <td>tca con penna acquarellata 148 x 203 mm</td>\n",
       "      <td>ALLEGRINI, Francesco</td>\n",
       "      <td>Allegrini, Francesco</td>\n",
       "      <td>ulan:500115272</td>\n",
       "      <td>http://vocab.getty.edu/page/ulan/500115272</td>\n",
       "      <td>0</td>\n",
       "      <td>No complement</td>\n",
       "      <td>...</td>\n",
       "      <td>1690.0</td>\n",
       "      <td>NaN</td>\n",
       "      <td>NaN</td>\n",
       "      <td>NaN</td>\n",
       "      <td>NaN</td>\n",
       "      <td>NaN</td>\n",
       "      <td>NaN</td>\n",
       "      <td>253993c139284a45be233a13121ddeeb</td>\n",
       "      <td>https://dhlabsrv4.epfl.ch/iiif_cini/1A%2F1A_1....</td>\n",
       "      <td>https://dhlabsrv4.epfl.ch/iiif_replica/cini%2F...</td>\n",
       "    </tr>\n",
       "    <tr>\n",
       "      <th>1</th>\n",
       "      <td>1A</td>\n",
       "      <td>2</td>\n",
       "      <td>BAROCCI Federico</td>\n",
       "      <td>Studio di figura penna acquarellata (carboncin...</td>\n",
       "      <td>BAROCCI, Federico</td>\n",
       "      <td>Barocci, Federico</td>\n",
       "      <td>ulan:500115210</td>\n",
       "      <td>http://vocab.getty.edu/page/ulan/500115210</td>\n",
       "      <td>0</td>\n",
       "      <td>No complement</td>\n",
       "      <td>...</td>\n",
       "      <td>1612.0</td>\n",
       "      <td>12.633333</td>\n",
       "      <td>43.716667</td>\n",
       "      <td>12.633333</td>\n",
       "      <td>43.716667</td>\n",
       "      <td>Urbino</td>\n",
       "      <td>Urbino</td>\n",
       "      <td>1323356994c24635a11fdcd9d5f9284a</td>\n",
       "      <td>https://dhlabsrv4.epfl.ch/iiif_cini/1A%2F1A_2....</td>\n",
       "      <td>https://dhlabsrv4.epfl.ch/iiif_replica/cini%2F...</td>\n",
       "    </tr>\n",
       "    <tr>\n",
       "      <th>2</th>\n",
       "      <td>1A</td>\n",
       "      <td>3</td>\n",
       "      <td>BASSANO Leandro</td>\n",
       "      <td>Scene penna su carta blu 171 x 219 mm</td>\n",
       "      <td>BASSANO, Leandro</td>\n",
       "      <td>Bassano, Leandro</td>\n",
       "      <td>ulan:500015945</td>\n",
       "      <td>http://vocab.getty.edu/page/ulan/500015945</td>\n",
       "      <td>0</td>\n",
       "      <td>No complement</td>\n",
       "      <td>...</td>\n",
       "      <td>1622.0</td>\n",
       "      <td>11.733333</td>\n",
       "      <td>45.766667</td>\n",
       "      <td>12.326667</td>\n",
       "      <td>45.438611</td>\n",
       "      <td>Bassano del Grappa</td>\n",
       "      <td>Venice</td>\n",
       "      <td>a4268385f6384e61a3dd092bc6b8c083</td>\n",
       "      <td>https://dhlabsrv4.epfl.ch/iiif_cini/1A%2F1A_3....</td>\n",
       "      <td>https://dhlabsrv4.epfl.ch/iiif_replica/cini%2F...</td>\n",
       "    </tr>\n",
       "    <tr>\n",
       "      <th>3</th>\n",
       "      <td>1A</td>\n",
       "      <td>4</td>\n",
       "      <td>CAMPIGLI Massimo</td>\n",
       "      <td>Ragazza su una scala gessetto su carta bruna g...</td>\n",
       "      <td>CAMPIGLI, Massimo</td>\n",
       "      <td>Campigli, Massimo</td>\n",
       "      <td>ulan:500029770</td>\n",
       "      <td>http://vocab.getty.edu/page/ulan/500029770</td>\n",
       "      <td>0</td>\n",
       "      <td>No complement</td>\n",
       "      <td>...</td>\n",
       "      <td>1971.0</td>\n",
       "      <td>13.400000</td>\n",
       "      <td>52.516667</td>\n",
       "      <td>6.639811</td>\n",
       "      <td>43.269316</td>\n",
       "      <td>Berlin</td>\n",
       "      <td>Var</td>\n",
       "      <td>550f368cdb4442aab4d5e2ada702d6ad</td>\n",
       "      <td>https://dhlabsrv4.epfl.ch/iiif_cini/1A%2F1A_4....</td>\n",
       "      <td>https://dhlabsrv4.epfl.ch/iiif_replica/cini%2F...</td>\n",
       "    </tr>\n",
       "    <tr>\n",
       "      <th>4</th>\n",
       "      <td>1A</td>\n",
       "      <td>5</td>\n",
       "      <td>CARRACCI A attr</td>\n",
       "      <td>Madonna e Santi penna 291 x 205 mm</td>\n",
       "      <td>CARRACCI, A. attr.</td>\n",
       "      <td>NaN</td>\n",
       "      <td>NaN</td>\n",
       "      <td>NaN</td>\n",
       "      <td>1</td>\n",
       "      <td>attr</td>\n",
       "      <td>...</td>\n",
       "      <td>NaN</td>\n",
       "      <td>NaN</td>\n",
       "      <td>NaN</td>\n",
       "      <td>NaN</td>\n",
       "      <td>NaN</td>\n",
       "      <td>NaN</td>\n",
       "      <td>NaN</td>\n",
       "      <td>6047de5547b643cb87491be925748bee</td>\n",
       "      <td>https://dhlabsrv4.epfl.ch/iiif_cini/1A%2F1A_5....</td>\n",
       "      <td>https://dhlabsrv4.epfl.ch/iiif_replica/cini%2F...</td>\n",
       "    </tr>\n",
       "  </tbody>\n",
       "</table>\n",
       "<p>5 rows × 37 columns</p>\n",
       "</div>"
      ],
      "text/plain": [
       "  Drawer ImageNumber               Author  \\\n",
       "0     1A           1  ALLEGRINI Francesco   \n",
       "1     1A           2     BAROCCI Federico   \n",
       "2     1A           3      BASSANO Leandro   \n",
       "3     1A           4     CAMPIGLI Massimo   \n",
       "4     1A           5      CARRACCI A attr   \n",
       "\n",
       "                                         Description        AuthorOriginal  \\\n",
       "0            tca con penna acquarellata 148 x 203 mm  ALLEGRINI, Francesco   \n",
       "1  Studio di figura penna acquarellata (carboncin...     BAROCCI, Federico   \n",
       "2              Scene penna su carta blu 171 x 219 mm      BASSANO, Leandro   \n",
       "3  Ragazza su una scala gessetto su carta bruna g...     CAMPIGLI, Massimo   \n",
       "4                 Madonna e Santi penna 291 x 205 mm    CARRACCI, A. attr.   \n",
       "\n",
       "        AuthorULANLabel      AuthorULAN  \\\n",
       "0  Allegrini, Francesco  ulan:500115272   \n",
       "1     Barocci, Federico  ulan:500115210   \n",
       "2      Bassano, Leandro  ulan:500015945   \n",
       "3     Campigli, Massimo  ulan:500029770   \n",
       "4                   NaN             NaN   \n",
       "\n",
       "                                    AuthorURL  AuthorComplemented  \\\n",
       "0  http://vocab.getty.edu/page/ulan/500115272                   0   \n",
       "1  http://vocab.getty.edu/page/ulan/500115210                   0   \n",
       "2  http://vocab.getty.edu/page/ulan/500015945                   0   \n",
       "3  http://vocab.getty.edu/page/ulan/500029770                   0   \n",
       "4                                         NaN                   1   \n",
       "\n",
       "  AuthorComplement  ...  AuthorDeath AuthorBirthLong AuthorBirthLat  \\\n",
       "0    No complement  ...       1690.0             NaN            NaN   \n",
       "1    No complement  ...       1612.0       12.633333      43.716667   \n",
       "2    No complement  ...       1622.0       11.733333      45.766667   \n",
       "3    No complement  ...       1971.0       13.400000      52.516667   \n",
       "4             attr  ...          NaN             NaN            NaN   \n",
       "\n",
       "  AuthorDeathLong AuthorDeathLat     AuthorBirthCity AuthorDeathCity  \\\n",
       "0             NaN            NaN                 NaN             NaN   \n",
       "1       12.633333      43.716667              Urbino          Urbino   \n",
       "2       12.326667      45.438611  Bassano del Grappa          Venice   \n",
       "3        6.639811      43.269316              Berlin             Var   \n",
       "4             NaN            NaN                 NaN             NaN   \n",
       "\n",
       "                                uid  \\\n",
       "0  253993c139284a45be233a13121ddeeb   \n",
       "1  1323356994c24635a11fdcd9d5f9284a   \n",
       "2  a4268385f6384e61a3dd092bc6b8c083   \n",
       "3  550f368cdb4442aab4d5e2ada702d6ad   \n",
       "4  6047de5547b643cb87491be925748bee   \n",
       "\n",
       "                                        CardboardURL  \\\n",
       "0  https://dhlabsrv4.epfl.ch/iiif_cini/1A%2F1A_1....   \n",
       "1  https://dhlabsrv4.epfl.ch/iiif_cini/1A%2F1A_2....   \n",
       "2  https://dhlabsrv4.epfl.ch/iiif_cini/1A%2F1A_3....   \n",
       "3  https://dhlabsrv4.epfl.ch/iiif_cini/1A%2F1A_4....   \n",
       "4  https://dhlabsrv4.epfl.ch/iiif_cini/1A%2F1A_5....   \n",
       "\n",
       "                                            ImageURL  \n",
       "0  https://dhlabsrv4.epfl.ch/iiif_replica/cini%2F...  \n",
       "1  https://dhlabsrv4.epfl.ch/iiif_replica/cini%2F...  \n",
       "2  https://dhlabsrv4.epfl.ch/iiif_replica/cini%2F...  \n",
       "3  https://dhlabsrv4.epfl.ch/iiif_replica/cini%2F...  \n",
       "4  https://dhlabsrv4.epfl.ch/iiif_replica/cini%2F...  \n",
       "\n",
       "[5 rows x 37 columns]"
      ]
     },
     "execution_count": 2,
     "metadata": {},
     "output_type": "execute_result"
    }
   ],
   "source": [
    "metadata = pd.read_csv(path + 'Cini_20210811.csv', sep=';')\n",
    "metadata.head(5)"
   ]
  },
  {
   "cell_type": "code",
   "execution_count": 3,
   "metadata": {},
   "outputs": [
    {
     "data": {
      "text/plain": [
       "(329480, (330002, 37))"
      ]
     },
     "execution_count": 3,
     "metadata": {},
     "output_type": "execute_result"
    }
   ],
   "source": [
    "metadata['uid'].nunique(), metadata.shape"
   ]
  },
  {
   "cell_type": "code",
   "execution_count": 4,
   "metadata": {},
   "outputs": [],
   "source": [
    "# dropping duplicates\n",
    "\n",
    "metadata = metadata.groupby('uid').first().reset_index()"
   ]
  },
  {
   "cell_type": "code",
   "execution_count": 5,
   "metadata": {},
   "outputs": [
    {
     "data": {
      "text/html": [
       "<div>\n",
       "<style scoped>\n",
       "    .dataframe tbody tr th:only-of-type {\n",
       "        vertical-align: middle;\n",
       "    }\n",
       "\n",
       "    .dataframe tbody tr th {\n",
       "        vertical-align: top;\n",
       "    }\n",
       "\n",
       "    .dataframe thead th {\n",
       "        text-align: right;\n",
       "    }\n",
       "</style>\n",
       "<table border=\"1\" class=\"dataframe\">\n",
       "  <thead>\n",
       "    <tr style=\"text-align: right;\">\n",
       "      <th></th>\n",
       "      <th>uid</th>\n",
       "      <th>img1</th>\n",
       "      <th>img2</th>\n",
       "      <th>type</th>\n",
       "      <th>annotated</th>\n",
       "    </tr>\n",
       "  </thead>\n",
       "  <tbody>\n",
       "    <tr>\n",
       "      <th>0</th>\n",
       "      <td>0f84770be893475581bebd8c0ce95704</td>\n",
       "      <td>4b6e5a18012e4974a43f6f652c9cad78</td>\n",
       "      <td>e3329a91a266412fb1a0975d70894178</td>\n",
       "      <td>POSITIVE</td>\n",
       "      <td>2017-07-19 15:02:50.997512+00:00</td>\n",
       "    </tr>\n",
       "    <tr>\n",
       "      <th>1</th>\n",
       "      <td>5ade49fc2dc649b9947496a41e2decdb</td>\n",
       "      <td>384b9f017d5f43ba9dcfd92f2af830c4</td>\n",
       "      <td>e3329a91a266412fb1a0975d70894178</td>\n",
       "      <td>POSITIVE</td>\n",
       "      <td>2017-07-19 15:02:51.238615+00:00</td>\n",
       "    </tr>\n",
       "    <tr>\n",
       "      <th>2</th>\n",
       "      <td>bf4d99eaf7da4bd486f9007c90c177a5</td>\n",
       "      <td>94fe74bcebf9442fb5cd9a0327590a84</td>\n",
       "      <td>726f47fb5bd94c5db8069334cc58020e</td>\n",
       "      <td>POSITIVE</td>\n",
       "      <td>2017-07-20 12:18:23.705228+00:00</td>\n",
       "    </tr>\n",
       "    <tr>\n",
       "      <th>3</th>\n",
       "      <td>b29ec3c83c5641f9b6afadb2409b6746</td>\n",
       "      <td>922fe92d61e744b1a9462c848a916bcf</td>\n",
       "      <td>726f47fb5bd94c5db8069334cc58020e</td>\n",
       "      <td>POSITIVE</td>\n",
       "      <td>2017-07-20 12:18:24.021703+00:00</td>\n",
       "    </tr>\n",
       "    <tr>\n",
       "      <th>4</th>\n",
       "      <td>ab27b55997b94bef9cca122829e9f64d</td>\n",
       "      <td>94fe74bcebf9442fb5cd9a0327590a84</td>\n",
       "      <td>922fe92d61e744b1a9462c848a916bcf</td>\n",
       "      <td>POSITIVE</td>\n",
       "      <td>2017-07-20 12:18:23.873097+00:00</td>\n",
       "    </tr>\n",
       "  </tbody>\n",
       "</table>\n",
       "</div>"
      ],
      "text/plain": [
       "                                uid                              img1  \\\n",
       "0  0f84770be893475581bebd8c0ce95704  4b6e5a18012e4974a43f6f652c9cad78   \n",
       "1  5ade49fc2dc649b9947496a41e2decdb  384b9f017d5f43ba9dcfd92f2af830c4   \n",
       "2  bf4d99eaf7da4bd486f9007c90c177a5  94fe74bcebf9442fb5cd9a0327590a84   \n",
       "3  b29ec3c83c5641f9b6afadb2409b6746  922fe92d61e744b1a9462c848a916bcf   \n",
       "4  ab27b55997b94bef9cca122829e9f64d  94fe74bcebf9442fb5cd9a0327590a84   \n",
       "\n",
       "                               img2      type                        annotated  \n",
       "0  e3329a91a266412fb1a0975d70894178  POSITIVE 2017-07-19 15:02:50.997512+00:00  \n",
       "1  e3329a91a266412fb1a0975d70894178  POSITIVE 2017-07-19 15:02:51.238615+00:00  \n",
       "2  726f47fb5bd94c5db8069334cc58020e  POSITIVE 2017-07-20 12:18:23.705228+00:00  \n",
       "3  726f47fb5bd94c5db8069334cc58020e  POSITIVE 2017-07-20 12:18:24.021703+00:00  \n",
       "4  922fe92d61e744b1a9462c848a916bcf  POSITIVE 2017-07-20 12:18:23.873097+00:00  "
      ]
     },
     "execution_count": 5,
     "metadata": {},
     "output_type": "execute_result"
    }
   ],
   "source": [
    "# in jeanne's code\n",
    "with open(path + 'save_link_data_2018_08_02.pkl', 'rb') as f:\n",
    "    morpho_graph_complete = pickle.load(f)\n",
    "\n",
    "# contains uid\timg1\timg2\ttype\tannotated\n",
    "morpho_graph_complete.head()"
   ]
  },
  {
   "cell_type": "code",
   "execution_count": 6,
   "metadata": {},
   "outputs": [
    {
     "data": {
      "text/plain": [
       "DUPLICATE        114283\n",
       "POSITIVE           6293\n",
       "NON-DUPLICATE        60\n",
       "PROPOSAL             27\n",
       "Name: type, dtype: int64"
      ]
     },
     "execution_count": 6,
     "metadata": {},
     "output_type": "execute_result"
    }
   ],
   "source": [
    "morpho_graph_complete['type'].value_counts() # does positive mean similar?"
   ]
  },
  {
   "cell_type": "code",
   "execution_count": 7,
   "metadata": {},
   "outputs": [
    {
     "data": {
      "text/plain": [
       "(120663, (120663, 5))"
      ]
     },
     "execution_count": 7,
     "metadata": {},
     "output_type": "execute_result"
    }
   ],
   "source": [
    "morpho_graph_complete['uid'].nunique(), morpho_graph_complete.shape"
   ]
  },
  {
   "cell_type": "code",
   "execution_count": 8,
   "metadata": {},
   "outputs": [],
   "source": [
    "positives = get_train_test_split(metadata, morpho_graph_complete)"
   ]
  },
  {
   "cell_type": "code",
   "execution_count": 9,
   "metadata": {},
   "outputs": [
    {
     "name": "stdout",
     "output_type": "stream",
     "text": [
      "(2862, 45)\n"
     ]
    },
    {
     "data": {
      "text/html": [
       "<div>\n",
       "<style scoped>\n",
       "    .dataframe tbody tr th:only-of-type {\n",
       "        vertical-align: middle;\n",
       "    }\n",
       "\n",
       "    .dataframe tbody tr th {\n",
       "        vertical-align: top;\n",
       "    }\n",
       "\n",
       "    .dataframe thead th {\n",
       "        text-align: right;\n",
       "    }\n",
       "</style>\n",
       "<table border=\"1\" class=\"dataframe\">\n",
       "  <thead>\n",
       "    <tr style=\"text-align: right;\">\n",
       "      <th></th>\n",
       "      <th>uid_connection</th>\n",
       "      <th>index</th>\n",
       "      <th>uid</th>\n",
       "      <th>Drawer</th>\n",
       "      <th>ImageNumber</th>\n",
       "      <th>Author</th>\n",
       "      <th>Description</th>\n",
       "      <th>AuthorOriginal</th>\n",
       "      <th>AuthorULANLabel</th>\n",
       "      <th>AuthorULAN</th>\n",
       "      <th>...</th>\n",
       "      <th>AuthorBirthCity</th>\n",
       "      <th>AuthorDeathCity</th>\n",
       "      <th>CardboardURL</th>\n",
       "      <th>ImageURL</th>\n",
       "      <th>img1</th>\n",
       "      <th>img2</th>\n",
       "      <th>type</th>\n",
       "      <th>annotated</th>\n",
       "      <th>cluster</th>\n",
       "      <th>set</th>\n",
       "    </tr>\n",
       "  </thead>\n",
       "  <tbody>\n",
       "    <tr>\n",
       "      <th>0</th>\n",
       "      <td>002ca9c06a704c779e69d93cb4fadaa3</td>\n",
       "      <td>649</td>\n",
       "      <td>45588b4e33444ed8b34c523bac808bc4</td>\n",
       "      <td>158B</td>\n",
       "      <td>556</td>\n",
       "      <td>TIZIANO Vecellio (copia da)</td>\n",
       "      <td>S.Mariá Maddalena. cm. 123 x 91</td>\n",
       "      <td>TIZIANO (copia da -)</td>\n",
       "      <td>Titian</td>\n",
       "      <td>ulan:500031075</td>\n",
       "      <td>...</td>\n",
       "      <td>Belluno</td>\n",
       "      <td>Venice</td>\n",
       "      <td>https://dhlabsrv4.epfl.ch/iiif_cini/158B%2F158...</td>\n",
       "      <td>https://dhlabsrv4.epfl.ch/iiif_replica/cini%2F...</td>\n",
       "      <td>45588b4e33444ed8b34c523bac808bc4</td>\n",
       "      <td>da54c106180449d1a52993e9a5bc17fd</td>\n",
       "      <td>POSITIVE</td>\n",
       "      <td>2018-07-24 14:58:44.559049+00:00</td>\n",
       "      <td>50</td>\n",
       "      <td>train</td>\n",
       "    </tr>\n",
       "    <tr>\n",
       "      <th>1</th>\n",
       "      <td>0038ab462149452b98a4d7359a06f9f4</td>\n",
       "      <td>1571</td>\n",
       "      <td>ae828b07e4284d80b652206ffb77278a</td>\n",
       "      <td>158C</td>\n",
       "      <td>120</td>\n",
       "      <td>TIZIANO Vecellio (copia da)</td>\n",
       "      <td>Morte di S. Pietro Martire. mm. 123,8 x 84,2</td>\n",
       "      <td>TIZIANO (copia da -)</td>\n",
       "      <td>Titian</td>\n",
       "      <td>ulan:500031075</td>\n",
       "      <td>...</td>\n",
       "      <td>Belluno</td>\n",
       "      <td>Venice</td>\n",
       "      <td>https://dhlabsrv4.epfl.ch/iiif_cini/158C%2F158...</td>\n",
       "      <td>https://dhlabsrv4.epfl.ch/iiif_replica/cini%2F...</td>\n",
       "      <td>ae828b07e4284d80b652206ffb77278a</td>\n",
       "      <td>ea64207684694d379579998f88b7c29a</td>\n",
       "      <td>POSITIVE</td>\n",
       "      <td>2018-07-16 09:47:57.987515+00:00</td>\n",
       "      <td>51</td>\n",
       "      <td>test</td>\n",
       "    </tr>\n",
       "    <tr>\n",
       "      <th>2</th>\n",
       "      <td>00474897de044f7fb1ef16888dc198f3</td>\n",
       "      <td>1107</td>\n",
       "      <td>76b2c4aeab404bc79768117e3ddc62b1</td>\n",
       "      <td>47A</td>\n",
       "      <td>858</td>\n",
       "      <td>BELLINI Giovanni (cerchia di)</td>\n",
       "      <td>Pietà.</td>\n",
       "      <td>BELLINI, Giovanni (cerchia di -)</td>\n",
       "      <td>Bellini, Giovanni</td>\n",
       "      <td>ulan:500019244</td>\n",
       "      <td>...</td>\n",
       "      <td>Venice</td>\n",
       "      <td>Venice</td>\n",
       "      <td>https://dhlabsrv4.epfl.ch/iiif_cini/47A%2F47A_...</td>\n",
       "      <td>https://dhlabsrv4.epfl.ch/iiif_replica/cini%2F...</td>\n",
       "      <td>76b2c4aeab404bc79768117e3ddc62b1</td>\n",
       "      <td>b8dd2c0c2c7146e68e5bbb0aaf6cf803</td>\n",
       "      <td>POSITIVE</td>\n",
       "      <td>2018-03-14 10:46:45.603341+00:00</td>\n",
       "      <td>498</td>\n",
       "      <td>test</td>\n",
       "    </tr>\n",
       "    <tr>\n",
       "      <th>3</th>\n",
       "      <td>009c03c265b8418495da038bc3826bf7</td>\n",
       "      <td>1764</td>\n",
       "      <td>c5839e5220e5419e92d878396b0c04bb</td>\n",
       "      <td>135C</td>\n",
       "      <td>57</td>\n",
       "      <td>SEC XVI ex</td>\n",
       "      <td>Un soffitto. Part.: Leda e il cigno.</td>\n",
       "      <td>SEC. XVI ex.</td>\n",
       "      <td>None</td>\n",
       "      <td>None</td>\n",
       "      <td>...</td>\n",
       "      <td>None</td>\n",
       "      <td>None</td>\n",
       "      <td>https://dhlabsrv4.epfl.ch/iiif_cini/135C%2F135...</td>\n",
       "      <td>https://dhlabsrv4.epfl.ch/iiif_replica/cini%2F...</td>\n",
       "      <td>450ee2aceb014709b23a93e1163937c5</td>\n",
       "      <td>c5839e5220e5419e92d878396b0c04bb</td>\n",
       "      <td>POSITIVE</td>\n",
       "      <td>2018-05-07 08:28:11.797723+00:00</td>\n",
       "      <td>92</td>\n",
       "      <td>train</td>\n",
       "    </tr>\n",
       "    <tr>\n",
       "      <th>4</th>\n",
       "      <td>00aeddb93a8a4120aa984eda6c822747</td>\n",
       "      <td>747</td>\n",
       "      <td>4d02860f58f2443ba4d1ef088756f854</td>\n",
       "      <td>21C</td>\n",
       "      <td>228</td>\n",
       "      <td>BASSANO Leandro</td>\n",
       "      <td>La preparazione del pranzo. cm. 88,3 x 102,9</td>\n",
       "      <td>BASSANO, Leandro.</td>\n",
       "      <td>Bassano, Leandro</td>\n",
       "      <td>ulan:500015945</td>\n",
       "      <td>...</td>\n",
       "      <td>Bassano del Grappa</td>\n",
       "      <td>Venice</td>\n",
       "      <td>https://dhlabsrv4.epfl.ch/iiif_cini/21C%2F21C_...</td>\n",
       "      <td>https://dhlabsrv4.epfl.ch/iiif_replica/cini%2F...</td>\n",
       "      <td>4d02860f58f2443ba4d1ef088756f854</td>\n",
       "      <td>27bad0f213a342c3987e8cec61e40550</td>\n",
       "      <td>POSITIVE</td>\n",
       "      <td>2018-03-23 15:41:53.094226+00:00</td>\n",
       "      <td>218</td>\n",
       "      <td>train</td>\n",
       "    </tr>\n",
       "  </tbody>\n",
       "</table>\n",
       "<p>5 rows × 45 columns</p>\n",
       "</div>"
      ],
      "text/plain": [
       "                     uid_connection  index                               uid  \\\n",
       "0  002ca9c06a704c779e69d93cb4fadaa3    649  45588b4e33444ed8b34c523bac808bc4   \n",
       "1  0038ab462149452b98a4d7359a06f9f4   1571  ae828b07e4284d80b652206ffb77278a   \n",
       "2  00474897de044f7fb1ef16888dc198f3   1107  76b2c4aeab404bc79768117e3ddc62b1   \n",
       "3  009c03c265b8418495da038bc3826bf7   1764  c5839e5220e5419e92d878396b0c04bb   \n",
       "4  00aeddb93a8a4120aa984eda6c822747    747  4d02860f58f2443ba4d1ef088756f854   \n",
       "\n",
       "  Drawer ImageNumber                         Author  \\\n",
       "0   158B         556    TIZIANO Vecellio (copia da)   \n",
       "1   158C         120    TIZIANO Vecellio (copia da)   \n",
       "2    47A         858  BELLINI Giovanni (cerchia di)   \n",
       "3   135C          57                     SEC XVI ex   \n",
       "4    21C         228                BASSANO Leandro   \n",
       "\n",
       "                                    Description  \\\n",
       "0               S.Mariá Maddalena. cm. 123 x 91   \n",
       "1  Morte di S. Pietro Martire. mm. 123,8 x 84,2   \n",
       "2                                        Pietà.   \n",
       "3          Un soffitto. Part.: Leda e il cigno.   \n",
       "4  La preparazione del pranzo. cm. 88,3 x 102,9   \n",
       "\n",
       "                     AuthorOriginal    AuthorULANLabel      AuthorULAN  ...  \\\n",
       "0              TIZIANO (copia da -)             Titian  ulan:500031075  ...   \n",
       "1              TIZIANO (copia da -)             Titian  ulan:500031075  ...   \n",
       "2  BELLINI, Giovanni (cerchia di -)  Bellini, Giovanni  ulan:500019244  ...   \n",
       "3                      SEC. XVI ex.               None            None  ...   \n",
       "4                 BASSANO, Leandro.   Bassano, Leandro  ulan:500015945  ...   \n",
       "\n",
       "      AuthorBirthCity  AuthorDeathCity  \\\n",
       "0             Belluno           Venice   \n",
       "1             Belluno           Venice   \n",
       "2              Venice           Venice   \n",
       "3                None             None   \n",
       "4  Bassano del Grappa           Venice   \n",
       "\n",
       "                                        CardboardURL  \\\n",
       "0  https://dhlabsrv4.epfl.ch/iiif_cini/158B%2F158...   \n",
       "1  https://dhlabsrv4.epfl.ch/iiif_cini/158C%2F158...   \n",
       "2  https://dhlabsrv4.epfl.ch/iiif_cini/47A%2F47A_...   \n",
       "3  https://dhlabsrv4.epfl.ch/iiif_cini/135C%2F135...   \n",
       "4  https://dhlabsrv4.epfl.ch/iiif_cini/21C%2F21C_...   \n",
       "\n",
       "                                            ImageURL  \\\n",
       "0  https://dhlabsrv4.epfl.ch/iiif_replica/cini%2F...   \n",
       "1  https://dhlabsrv4.epfl.ch/iiif_replica/cini%2F...   \n",
       "2  https://dhlabsrv4.epfl.ch/iiif_replica/cini%2F...   \n",
       "3  https://dhlabsrv4.epfl.ch/iiif_replica/cini%2F...   \n",
       "4  https://dhlabsrv4.epfl.ch/iiif_replica/cini%2F...   \n",
       "\n",
       "                               img1                              img2  \\\n",
       "0  45588b4e33444ed8b34c523bac808bc4  da54c106180449d1a52993e9a5bc17fd   \n",
       "1  ae828b07e4284d80b652206ffb77278a  ea64207684694d379579998f88b7c29a   \n",
       "2  76b2c4aeab404bc79768117e3ddc62b1  b8dd2c0c2c7146e68e5bbb0aaf6cf803   \n",
       "3  450ee2aceb014709b23a93e1163937c5  c5839e5220e5419e92d878396b0c04bb   \n",
       "4  4d02860f58f2443ba4d1ef088756f854  27bad0f213a342c3987e8cec61e40550   \n",
       "\n",
       "       type                        annotated cluster    set  \n",
       "0  POSITIVE 2018-07-24 14:58:44.559049+00:00      50  train  \n",
       "1  POSITIVE 2018-07-16 09:47:57.987515+00:00      51   test  \n",
       "2  POSITIVE 2018-03-14 10:46:45.603341+00:00     498   test  \n",
       "3  POSITIVE 2018-05-07 08:28:11.797723+00:00      92  train  \n",
       "4  POSITIVE 2018-03-23 15:41:53.094226+00:00     218  train  \n",
       "\n",
       "[5 rows x 45 columns]"
      ]
     },
     "execution_count": 9,
     "metadata": {},
     "output_type": "execute_result"
    }
   ],
   "source": [
    "positives = positives.groupby('uid_connection').first().reset_index()\n",
    "print(positives.shape)\n",
    "positives.head()"
   ]
  },
  {
   "cell_type": "markdown",
   "metadata": {},
   "source": [
    "## Getting a subset of the data\n",
    "\n",
    "In order to select a subset of the data, we would like to vary spatially and temporally, for it to be suitable to the data in the morphograph and to be comprehensive of what we want to study.\n"
   ]
  },
  {
   "cell_type": "code",
   "execution_count": 10,
   "metadata": {},
   "outputs": [
    {
     "name": "stderr",
     "output_type": "stream",
     "text": [
      "/tmp/ipykernel_1570752/3952239037.py:1: UserWarning: Boolean Series key will be reindexed to match DataFrame index.\n",
      "  subset_max = metadata[metadata['BeginDate'] > 1550][metadata['BeginDate'] < 1650][metadata['AuthorDeathCity'].isin(['Parma', 'Bologna', 'Ravenna', 'Verona', 'Ferrara'])].reset_index()\n"
     ]
    },
    {
     "data": {
      "text/plain": [
       "(3302, 38)"
      ]
     },
     "execution_count": 10,
     "metadata": {},
     "output_type": "execute_result"
    }
   ],
   "source": [
    "subset_max = metadata[metadata['BeginDate'] > 1550][metadata['BeginDate'] < 1650][metadata['AuthorDeathCity'].isin(['Parma', 'Bologna', 'Ravenna', 'Verona', 'Ferrara'])].reset_index()\n",
    "subset_max.shape"
   ]
  },
  {
   "cell_type": "code",
   "execution_count": 49,
   "metadata": {},
   "outputs": [
    {
     "data": {
      "text/plain": [
       "'383d8fb371ae4aa9bd3819fb973f0ac9'"
      ]
     },
     "execution_count": 49,
     "metadata": {},
     "output_type": "execute_result"
    }
   ],
   "source": [
    "list_downloaded = [file.split('/')[-1].split('.')[0] for file in glob(data_dir + 'subset/*')]\n",
    "list_downloaded[0]"
   ]
  },
  {
   "cell_type": "code",
   "execution_count": 50,
   "metadata": {},
   "outputs": [
    {
     "data": {
      "text/plain": [
       "4593"
      ]
     },
     "execution_count": 50,
     "metadata": {},
     "output_type": "execute_result"
    }
   ],
   "source": [
    "len(list_downloaded)"
   ]
  },
  {
   "cell_type": "code",
   "execution_count": 13,
   "metadata": {},
   "outputs": [],
   "source": [
    "del morpho_graph_complete\n",
    "del metadata"
   ]
  },
  {
   "cell_type": "code",
   "execution_count": 14,
   "metadata": {},
   "outputs": [
    {
     "name": "stdout",
     "output_type": "stream",
     "text": [
      "(3301, 38)\n"
     ]
    }
   ],
   "source": [
    "uniques = subset_max[subset_max['uid'].isin(list_downloaded)].groupby('uid').first().reset_index()\n",
    "\n",
    "\n",
    "print(uniques.shape)"
   ]
  },
  {
   "cell_type": "code",
   "execution_count": 26,
   "metadata": {},
   "outputs": [
    {
     "name": "stdout",
     "output_type": "stream",
     "text": [
      "(6163, 46)\n"
     ]
    }
   ],
   "source": [
    "data = pd.concat([positives, uniques], axis=0).reset_index()\n",
    "print(data.shape)\n",
    "\n",
    "data.to_csv(data_dir + 'full_data.csv')"
   ]
  },
  {
   "cell_type": "code",
   "execution_count": 27,
   "metadata": {},
   "outputs": [
    {
     "data": {
      "text/html": [
       "<div>\n",
       "<style scoped>\n",
       "    .dataframe tbody tr th:only-of-type {\n",
       "        vertical-align: middle;\n",
       "    }\n",
       "\n",
       "    .dataframe tbody tr th {\n",
       "        vertical-align: top;\n",
       "    }\n",
       "\n",
       "    .dataframe thead th {\n",
       "        text-align: right;\n",
       "    }\n",
       "</style>\n",
       "<table border=\"1\" class=\"dataframe\">\n",
       "  <thead>\n",
       "    <tr style=\"text-align: right;\">\n",
       "      <th></th>\n",
       "      <th>level_0</th>\n",
       "      <th>uid_connection</th>\n",
       "      <th>index</th>\n",
       "      <th>uid</th>\n",
       "      <th>Drawer</th>\n",
       "      <th>ImageNumber</th>\n",
       "      <th>Author</th>\n",
       "      <th>Description</th>\n",
       "      <th>AuthorOriginal</th>\n",
       "      <th>AuthorULANLabel</th>\n",
       "      <th>...</th>\n",
       "      <th>AuthorBirthCity</th>\n",
       "      <th>AuthorDeathCity</th>\n",
       "      <th>CardboardURL</th>\n",
       "      <th>ImageURL</th>\n",
       "      <th>img1</th>\n",
       "      <th>img2</th>\n",
       "      <th>type</th>\n",
       "      <th>annotated</th>\n",
       "      <th>cluster</th>\n",
       "      <th>set</th>\n",
       "    </tr>\n",
       "  </thead>\n",
       "  <tbody>\n",
       "    <tr>\n",
       "      <th>4624</th>\n",
       "      <td>1762</td>\n",
       "      <td>NaN</td>\n",
       "      <td>174881</td>\n",
       "      <td>87f9919c81fb4c1da4365e38f0dc658e</td>\n",
       "      <td>9A</td>\n",
       "      <td>187</td>\n",
       "      <td>GUERCINO (BARBIERI Giovanni Francesco)</td>\n",
       "      <td>Paesaggio con fiume 281 x 409</td>\n",
       "      <td>GUERCINO (i1-)</td>\n",
       "      <td>Guercino</td>\n",
       "      <td>...</td>\n",
       "      <td>Cento</td>\n",
       "      <td>Bologna</td>\n",
       "      <td>https://dhlabsrv4.epfl.ch/iiif_cini/9A%2F9A_18...</td>\n",
       "      <td>https://dhlabsrv4.epfl.ch/iiif_replica/cini%2F...</td>\n",
       "      <td>NaN</td>\n",
       "      <td>NaN</td>\n",
       "      <td>NaN</td>\n",
       "      <td>NaT</td>\n",
       "      <td>NaN</td>\n",
       "      <td>NaN</td>\n",
       "    </tr>\n",
       "    <tr>\n",
       "      <th>3390</th>\n",
       "      <td>528</td>\n",
       "      <td>NaN</td>\n",
       "      <td>54269</td>\n",
       "      <td>2a12ab793be84eff98761c2c173682f0</td>\n",
       "      <td>22B</td>\n",
       "      <td>115</td>\n",
       "      <td>CARRACCI Lodovico</td>\n",
       "      <td>Allegoria della Storia. Penna, acquerello grig...</td>\n",
       "      <td>CARRACCI, Lodavico.</td>\n",
       "      <td>Carracci, Lodovico</td>\n",
       "      <td>...</td>\n",
       "      <td>Bologna</td>\n",
       "      <td>Bologna</td>\n",
       "      <td>https://dhlabsrv4.epfl.ch/iiif_cini/22B%2F22B_...</td>\n",
       "      <td>https://dhlabsrv4.epfl.ch/iiif_replica/cini%2F...</td>\n",
       "      <td>NaN</td>\n",
       "      <td>NaN</td>\n",
       "      <td>NaN</td>\n",
       "      <td>NaT</td>\n",
       "      <td>NaN</td>\n",
       "      <td>NaN</td>\n",
       "    </tr>\n",
       "    <tr>\n",
       "      <th>3771</th>\n",
       "      <td>909</td>\n",
       "      <td>NaN</td>\n",
       "      <td>90767</td>\n",
       "      <td>461cf0273a644cf29172476a6f63da3c</td>\n",
       "      <td>28B</td>\n",
       "      <td>70</td>\n",
       "      <td>GUERCINO (il)</td>\n",
       "      <td>Busto femminile di profilo.</td>\n",
       "      <td>GUERCINO.II .</td>\n",
       "      <td>Guercino</td>\n",
       "      <td>...</td>\n",
       "      <td>Cento</td>\n",
       "      <td>Bologna</td>\n",
       "      <td>https://dhlabsrv4.epfl.ch/iiif_cini/28B%2F28B_...</td>\n",
       "      <td>https://dhlabsrv4.epfl.ch/iiif_replica/cini%2F...</td>\n",
       "      <td>NaN</td>\n",
       "      <td>NaN</td>\n",
       "      <td>NaN</td>\n",
       "      <td>NaT</td>\n",
       "      <td>NaN</td>\n",
       "      <td>NaN</td>\n",
       "    </tr>\n",
       "    <tr>\n",
       "      <th>2088</th>\n",
       "      <td>2088</td>\n",
       "      <td>be85ba5052a04647aba145685bb27399</td>\n",
       "      <td>135</td>\n",
       "      <td>0df535371e6a4e6c8152b858d00adc36</td>\n",
       "      <td>43A</td>\n",
       "      <td>208</td>\n",
       "      <td>PIETRO MONACO (inc ) STROZ2I Bernardo (inv )</td>\n",
       "      <td>David con la testa di Golia</td>\n",
       "      <td>PIETRO MONACO (inc.) STROZ2I, Bernardo (inv.)</td>\n",
       "      <td>Guardi, Francesco</td>\n",
       "      <td>...</td>\n",
       "      <td>Venice</td>\n",
       "      <td>Venice</td>\n",
       "      <td>https://dhlabsrv4.epfl.ch/iiif_cini/43A%2F43A_...</td>\n",
       "      <td>https://dhlabsrv4.epfl.ch/iiif_replica/cini%2F...</td>\n",
       "      <td>0df535371e6a4e6c8152b858d00adc36</td>\n",
       "      <td>1e1398112e564c5bb0223c0f64554f91</td>\n",
       "      <td>POSITIVE</td>\n",
       "      <td>2018-03-16 18:39:01.512580+00:00</td>\n",
       "      <td>661.0</td>\n",
       "      <td>train</td>\n",
       "    </tr>\n",
       "    <tr>\n",
       "      <th>234</th>\n",
       "      <td>234</td>\n",
       "      <td>13f9b8a429b14321b20a33ae3019bd20</td>\n",
       "      <td>130</td>\n",
       "      <td>0eef8204802d4d0ea8476f99d60ad6a3</td>\n",
       "      <td>21C</td>\n",
       "      <td>131</td>\n",
       "      <td>SASSOFERRATO (il)</td>\n",
       "      <td>La Madonna col Bambino. cm. 70 x 58,5</td>\n",
       "      <td>SASSOFERRATO (IL)</td>\n",
       "      <td>Sassoferrato</td>\n",
       "      <td>...</td>\n",
       "      <td>Ancona</td>\n",
       "      <td>Rome</td>\n",
       "      <td>https://dhlabsrv4.epfl.ch/iiif_cini/21C%2F21C_...</td>\n",
       "      <td>https://dhlabsrv4.epfl.ch/iiif_replica/cini%2F...</td>\n",
       "      <td>a7da74e233084c39a68f53ad787d407b</td>\n",
       "      <td>0eef8204802d4d0ea8476f99d60ad6a3</td>\n",
       "      <td>POSITIVE</td>\n",
       "      <td>2018-03-02 18:44:38.643686+00:00</td>\n",
       "      <td>590.0</td>\n",
       "      <td>train</td>\n",
       "    </tr>\n",
       "  </tbody>\n",
       "</table>\n",
       "<p>5 rows × 46 columns</p>\n",
       "</div>"
      ],
      "text/plain": [
       "      level_0                    uid_connection   index  \\\n",
       "4624     1762                               NaN  174881   \n",
       "3390      528                               NaN   54269   \n",
       "3771      909                               NaN   90767   \n",
       "2088     2088  be85ba5052a04647aba145685bb27399     135   \n",
       "234       234  13f9b8a429b14321b20a33ae3019bd20     130   \n",
       "\n",
       "                                   uid Drawer ImageNumber  \\\n",
       "4624  87f9919c81fb4c1da4365e38f0dc658e     9A         187   \n",
       "3390  2a12ab793be84eff98761c2c173682f0    22B         115   \n",
       "3771  461cf0273a644cf29172476a6f63da3c    28B          70   \n",
       "2088  0df535371e6a4e6c8152b858d00adc36    43A         208   \n",
       "234   0eef8204802d4d0ea8476f99d60ad6a3    21C         131   \n",
       "\n",
       "                                            Author  \\\n",
       "4624        GUERCINO (BARBIERI Giovanni Francesco)   \n",
       "3390                             CARRACCI Lodovico   \n",
       "3771                                 GUERCINO (il)   \n",
       "2088  PIETRO MONACO (inc ) STROZ2I Bernardo (inv )   \n",
       "234                              SASSOFERRATO (il)   \n",
       "\n",
       "                                            Description  \\\n",
       "4624                      Paesaggio con fiume 281 x 409   \n",
       "3390  Allegoria della Storia. Penna, acquerello grig...   \n",
       "3771                        Busto femminile di profilo.   \n",
       "2088                        David con la testa di Golia   \n",
       "234               La Madonna col Bambino. cm. 70 x 58,5   \n",
       "\n",
       "                                     AuthorOriginal     AuthorULANLabel  ...  \\\n",
       "4624                                 GUERCINO (i1-)            Guercino  ...   \n",
       "3390                            CARRACCI, Lodavico.  Carracci, Lodovico  ...   \n",
       "3771                                  GUERCINO.II .            Guercino  ...   \n",
       "2088  PIETRO MONACO (inc.) STROZ2I, Bernardo (inv.)   Guardi, Francesco  ...   \n",
       "234                               SASSOFERRATO (IL)        Sassoferrato  ...   \n",
       "\n",
       "     AuthorBirthCity AuthorDeathCity  \\\n",
       "4624           Cento         Bologna   \n",
       "3390         Bologna         Bologna   \n",
       "3771           Cento         Bologna   \n",
       "2088          Venice          Venice   \n",
       "234           Ancona            Rome   \n",
       "\n",
       "                                           CardboardURL  \\\n",
       "4624  https://dhlabsrv4.epfl.ch/iiif_cini/9A%2F9A_18...   \n",
       "3390  https://dhlabsrv4.epfl.ch/iiif_cini/22B%2F22B_...   \n",
       "3771  https://dhlabsrv4.epfl.ch/iiif_cini/28B%2F28B_...   \n",
       "2088  https://dhlabsrv4.epfl.ch/iiif_cini/43A%2F43A_...   \n",
       "234   https://dhlabsrv4.epfl.ch/iiif_cini/21C%2F21C_...   \n",
       "\n",
       "                                               ImageURL  \\\n",
       "4624  https://dhlabsrv4.epfl.ch/iiif_replica/cini%2F...   \n",
       "3390  https://dhlabsrv4.epfl.ch/iiif_replica/cini%2F...   \n",
       "3771  https://dhlabsrv4.epfl.ch/iiif_replica/cini%2F...   \n",
       "2088  https://dhlabsrv4.epfl.ch/iiif_replica/cini%2F...   \n",
       "234   https://dhlabsrv4.epfl.ch/iiif_replica/cini%2F...   \n",
       "\n",
       "                                  img1                              img2  \\\n",
       "4624                               NaN                               NaN   \n",
       "3390                               NaN                               NaN   \n",
       "3771                               NaN                               NaN   \n",
       "2088  0df535371e6a4e6c8152b858d00adc36  1e1398112e564c5bb0223c0f64554f91   \n",
       "234   a7da74e233084c39a68f53ad787d407b  0eef8204802d4d0ea8476f99d60ad6a3   \n",
       "\n",
       "          type                        annotated cluster    set  \n",
       "4624       NaN                              NaT     NaN    NaN  \n",
       "3390       NaN                              NaT     NaN    NaN  \n",
       "3771       NaN                              NaT     NaN    NaN  \n",
       "2088  POSITIVE 2018-03-16 18:39:01.512580+00:00   661.0  train  \n",
       "234   POSITIVE 2018-03-02 18:44:38.643686+00:00   590.0  train  \n",
       "\n",
       "[5 rows x 46 columns]"
      ]
     },
     "execution_count": 27,
     "metadata": {},
     "output_type": "execute_result"
    }
   ],
   "source": [
    "data.sample(5)"
   ]
  },
  {
   "cell_type": "markdown",
   "metadata": {},
   "source": [
    "### Creating embeddings of all the images"
   ]
  },
  {
   "cell_type": "code",
   "execution_count": 28,
   "metadata": {},
   "outputs": [],
   "source": [
    "model = models.resnet50(pretrained=True)\n",
    "#print(model)"
   ]
  },
  {
   "cell_type": "code",
   "execution_count": 29,
   "metadata": {},
   "outputs": [],
   "source": [
    "newmodel = torch.nn.Sequential(\n",
    "    *(list(model.children())[:-2]), nn.AdaptiveMaxPool2d((1,1))\n",
    ")\n",
    "#print(newmodel)\n"
   ]
  },
  {
   "cell_type": "code",
   "execution_count": 30,
   "metadata": {},
   "outputs": [],
   "source": [
    "img = preprocess_image(data_dir + 'subset/' + data['uid'][0] + '.jpg')\n",
    "embedding = get_embedding(img, newmodel).squeeze(3).squeeze(1).squeeze(0)"
   ]
  },
  {
   "cell_type": "code",
   "execution_count": 31,
   "metadata": {},
   "outputs": [
    {
     "name": "stderr",
     "output_type": "stream",
     "text": [
      "100%|██████████| 4357/4357 [16:40<00:00,  4.35it/s]\n"
     ]
    }
   ],
   "source": [
    "embeddings = [get_embedding(preprocess_image(data_dir + 'subset/' + uid + '.jpg'), newmodel).squeeze(3).squeeze(1).squeeze(0) for uid in tqdm(data['uid'].unique())]"
   ]
  },
  {
   "cell_type": "code",
   "execution_count": 32,
   "metadata": {},
   "outputs": [],
   "source": [
    "embeddings_new = get_lower_dimension(embeddings)"
   ]
  },
  {
   "cell_type": "code",
   "execution_count": 33,
   "metadata": {},
   "outputs": [
    {
     "data": {
      "text/plain": [
       "((2048,), (100,))"
      ]
     },
     "execution_count": 33,
     "metadata": {},
     "output_type": "execute_result"
    }
   ],
   "source": [
    "embeddings[0].shape, embeddings_new[0].shape "
   ]
  },
  {
   "cell_type": "markdown",
   "metadata": {},
   "source": [
    "### Finding most similar embeddings"
   ]
  },
  {
   "cell_type": "code",
   "execution_count": 34,
   "metadata": {},
   "outputs": [],
   "source": [
    "tree = make_tree_list(embeddings_new)"
   ]
  },
  {
   "cell_type": "code",
   "execution_count": 60,
   "metadata": {},
   "outputs": [
    {
     "name": "stderr",
     "output_type": "stream",
     "text": [
      "100%|██████████| 2862/2862 [00:10<00:00, 286.12it/s]\n"
     ]
    },
    {
     "data": {
      "text/plain": [
       "2862"
      ]
     },
     "execution_count": 60,
     "metadata": {},
     "output_type": "execute_result"
    }
   ],
   "source": [
    "train_test = data[data['set'].notnull()].drop(columns=['level_0']).reset_index()\n",
    "\n",
    "Cs = []\n",
    "for i in tqdm(range(train_test.shape[0])):\n",
    "    list_theo = list(train_test[train_test['img1'] == train_test['uid'][i]]['img2']) + list(train_test[train_test['img2'] == train_test['uid'][i]]['img1']) + [train_test['uid'][i]]\n",
    "    list_ = find_most_similar_list(train_test['uid'][i], tree, embeddings_new, list(data['uid'].unique()), list_theo)\n",
    "    Cs.append(list_)\n",
    "\n",
    "len(Cs)\n"
   ]
  },
  {
   "cell_type": "code",
   "execution_count": 58,
   "metadata": {},
   "outputs": [
    {
     "name": "stdout",
     "output_type": "stream",
     "text": [
      "(2299, 47)\n",
      "(2256, 47)\n"
     ]
    }
   ],
   "source": [
    "print(train_test[train_test['img1'].isin(list_downloaded)].shape)\n",
    "print(train_test[train_test['img2'].isin(list_downloaded)].shape)"
   ]
  },
  {
   "cell_type": "code",
   "execution_count": 61,
   "metadata": {},
   "outputs": [
    {
     "name": "stdout",
     "output_type": "stream",
     "text": [
      "(31709, 4)\n"
     ]
    },
    {
     "data": {
      "text/html": [
       "<div>\n",
       "<style scoped>\n",
       "    .dataframe tbody tr th:only-of-type {\n",
       "        vertical-align: middle;\n",
       "    }\n",
       "\n",
       "    .dataframe tbody tr th {\n",
       "        vertical-align: top;\n",
       "    }\n",
       "\n",
       "    .dataframe thead th {\n",
       "        text-align: right;\n",
       "    }\n",
       "</style>\n",
       "<table border=\"1\" class=\"dataframe\">\n",
       "  <thead>\n",
       "    <tr style=\"text-align: right;\">\n",
       "      <th></th>\n",
       "      <th>A</th>\n",
       "      <th>B</th>\n",
       "      <th>C</th>\n",
       "      <th>set</th>\n",
       "    </tr>\n",
       "  </thead>\n",
       "  <tbody>\n",
       "    <tr>\n",
       "      <th>1771</th>\n",
       "      <td>6fcf1af179fa47488d40564e80856a1e</td>\n",
       "      <td>e100fa4b1d1e4abab65256ac310ab543</td>\n",
       "      <td>6bf773f2e04f4c919ccd6f0b76df2b15</td>\n",
       "      <td>train</td>\n",
       "    </tr>\n",
       "    <tr>\n",
       "      <th>1539</th>\n",
       "      <td>ef25d7d6549547b59945a61ae6849d3d</td>\n",
       "      <td>272cd39493464a878264554be785e9db</td>\n",
       "      <td>92fc36e4d04743ec97e441342acd29f1</td>\n",
       "      <td>test</td>\n",
       "    </tr>\n",
       "    <tr>\n",
       "      <th>63</th>\n",
       "      <td>59fb95590dda4ff58e63dc0df43e70c3</td>\n",
       "      <td>a043a8ccb7994ef68179ad66929143af</td>\n",
       "      <td>756a2003514740448ffb37eec9351177</td>\n",
       "      <td>train</td>\n",
       "    </tr>\n",
       "    <tr>\n",
       "      <th>289</th>\n",
       "      <td>383cd750b1cc425089ff3cf3d2c81df1</td>\n",
       "      <td>8b47beb1f1a6438993f3988e880cfa9c</td>\n",
       "      <td>45d519d9ba884c948b2a0abf1a692599</td>\n",
       "      <td>test</td>\n",
       "    </tr>\n",
       "    <tr>\n",
       "      <th>581</th>\n",
       "      <td>3d7b289477ca4765a6932bd85cf51fec</td>\n",
       "      <td>246ca4d9a3324ad2aad8ec6a4e1c6769</td>\n",
       "      <td>4ced1a6287c1417db8b41e79e1a04c79</td>\n",
       "      <td>test</td>\n",
       "    </tr>\n",
       "  </tbody>\n",
       "</table>\n",
       "</div>"
      ],
      "text/plain": [
       "                                     A                                 B  \\\n",
       "1771  6fcf1af179fa47488d40564e80856a1e  e100fa4b1d1e4abab65256ac310ab543   \n",
       "1539  ef25d7d6549547b59945a61ae6849d3d  272cd39493464a878264554be785e9db   \n",
       "63    59fb95590dda4ff58e63dc0df43e70c3  a043a8ccb7994ef68179ad66929143af   \n",
       "289   383cd750b1cc425089ff3cf3d2c81df1  8b47beb1f1a6438993f3988e880cfa9c   \n",
       "581   3d7b289477ca4765a6932bd85cf51fec  246ca4d9a3324ad2aad8ec6a4e1c6769   \n",
       "\n",
       "                                     C    set  \n",
       "1771  6bf773f2e04f4c919ccd6f0b76df2b15  train  \n",
       "1539  92fc36e4d04743ec97e441342acd29f1   test  \n",
       "63    756a2003514740448ffb37eec9351177  train  \n",
       "289   45d519d9ba884c948b2a0abf1a692599   test  \n",
       "581   4ced1a6287c1417db8b41e79e1a04c79   test  "
      ]
     },
     "execution_count": 61,
     "metadata": {},
     "output_type": "execute_result"
    }
   ],
   "source": [
    "train_test['C'] = Cs\n",
    "\n",
    "train_test = train_test[train_test['img1'].isin(list_downloaded)]\n",
    "train_test = train_test[train_test['img2'].isin(list_downloaded)]\n",
    "\n",
    "final = train_test[['img1', 'img2', 'C', 'set']].explode('C')\n",
    "final.columns = ['A', 'B', 'C', 'set']\n",
    "print(final.shape)\n",
    "final.sample(5)"
   ]
  },
  {
   "cell_type": "code",
   "execution_count": 62,
   "metadata": {},
   "outputs": [
    {
     "data": {
      "text/plain": [
       "(31709, 4)"
      ]
     },
     "execution_count": 62,
     "metadata": {},
     "output_type": "execute_result"
    }
   ],
   "source": [
    "final[final['C'].isin(list_downloaded)].shape"
   ]
  },
  {
   "cell_type": "code",
   "execution_count": 63,
   "metadata": {},
   "outputs": [],
   "source": [
    "final[final['set'] == 'train'].reset_index().to_csv(data_dir + 'abc_train.csv')\n",
    "final[final['set'] == 'test'].reset_index().to_csv(data_dir + 'abc_test.csv')\n"
   ]
  },
  {
   "cell_type": "code",
   "execution_count": null,
   "metadata": {},
   "outputs": [],
   "source": []
  }
 ],
 "metadata": {
  "interpreter": {
   "hash": "31f2aee4e71d21fbe5cf8b01ff0e069b9275f58929596ceb00d14d90e3e16cd6"
  },
  "kernelspec": {
   "display_name": "Xonsh",
   "language": "python",
   "name": "python3"
  },
  "language_info": {
   "codemirror_mode": {
    "name": "ipython",
    "version": 3
   },
   "file_extension": ".py",
   "mimetype": "text/x-python",
   "name": "python",
   "nbconvert_exporter": "python",
   "pygments_lexer": "ipython3",
   "version": "3.8.12"
  },
  "orig_nbformat": 4
 },
 "nbformat": 4,
 "nbformat_minor": 2
}
