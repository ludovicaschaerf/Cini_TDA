{
 "cells": [
  {
   "cell_type": "markdown",
   "metadata": {},
   "source": [
    "## Replica model\n",
    "\n",
    "### Spatial reranking\n",
    "\n",
    "Testing how to implement the spatial reranking."
   ]
  },
  {
   "cell_type": "code",
   "execution_count": 1,
   "metadata": {},
   "outputs": [
    {
     "name": "stderr",
     "output_type": "stream",
     "text": [
      "2022-04-16 17:34:06.531402: I tensorflow/stream_executor/platform/default/dso_loader.cc:49] Successfully opened dynamic library libcudart.so.10.1\n"
     ]
    }
   ],
   "source": [
    "# loading the metadata\n",
    "%load_ext autoreload\n",
    "%autoreload 2\n",
    "\n",
    "import pandas as pd\n",
    "import numpy as np\n",
    "\n",
    "from tqdm import tqdm\n",
    "import torch\n",
    "from torch.utils.data import DataLoader\n",
    "from torch.optim import lr_scheduler\n",
    "import sys\n",
    "\n",
    "sys.path.insert(0, \"../model/\")\n",
    "from utils import *\n",
    "from metrics import *\n",
    "from model_replica import ReplicaNet\n",
    "from dataloader_replica import ReplicaDataset\n",
    "\n",
    "\n",
    "path = '/home/guhennec/scratch/2021_Cini/TopologicalAnalysis_Cini/data/'\n",
    "data_dir = '/scratch/students/schaerf/'\n",
    "replica_dir='/mnt/project_replica/datasets/cini/'\n",
    "\n"
   ]
  },
  {
   "cell_type": "code",
   "execution_count": null,
   "metadata": {},
   "outputs": [],
   "source": []
  }
 ],
 "metadata": {
  "interpreter": {
   "hash": "4f8e3478237dc9ca2ad28b1e82aec5b5eff6967ac82a3186532ba63a72b00cf6"
  },
  "kernelspec": {
   "display_name": "Python 3.8.12 ('thesis')",
   "language": "python",
   "name": "python3"
  },
  "language_info": {
   "codemirror_mode": {
    "name": "ipython",
    "version": 3
   },
   "file_extension": ".py",
   "mimetype": "text/x-python",
   "name": "python",
   "nbconvert_exporter": "python",
   "pygments_lexer": "ipython3",
   "version": "3.8.12"
  },
  "orig_nbformat": 4
 },
 "nbformat": 4,
 "nbformat_minor": 2
}
