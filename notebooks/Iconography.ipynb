{
 "cells": [
  {
   "cell_type": "markdown",
   "metadata": {},
   "source": [
    "# Replica project\n",
    "\n",
    "### Iconographic subset\n",
    "\n",
    "Creates subset, stores pre-pooling embeddings for items in subset and for 5 most similar ones to each using embeddings, attempts clustering and mapper."
   ]
  },
  {
   "cell_type": "code",
   "execution_count": 17,
   "metadata": {},
   "outputs": [
    {
     "name": "stdout",
     "output_type": "stream",
     "text": [
      "The autoreload extension is already loaded. To reload it, use:\n",
      "  %reload_ext autoreload\n"
     ]
    }
   ],
   "source": [
    "# loading the metadata\n",
    "%load_ext autoreload\n",
    "%autoreload 2\n",
    "\n",
    "import pandas as pd\n",
    "import numpy as np\n",
    "\n",
    "from scipy import sparse\n",
    "import pickle\n",
    "import sys\n",
    "\n",
    "from sklearn.cluster import DBSCAN\n",
    "from sklearn import metrics\n",
    "from sklearn.preprocessing import StandardScaler\n",
    "\n",
    "\n",
    "sys.path.insert(0, \"../model/\")\n",
    "from utils import *\n",
    "from spatial_reranking import sim_matrix_rerank, make_embds_pooled, match_feature_maps_simple\n",
    "\n",
    "path = '/home/guhennec/scratch/2021_Cini/TopologicalAnalysis_Cini/data/'\n",
    "data_dir = '/scratch/students/schaerf/'\n",
    "replica_dir = '/mnt/project_replica/datasets/cini/'\n",
    "wga_dir = '/mnt/project_replica/datasets/WGA/'\n",
    "\n",
    "# path = '../data/'\n",
    "# data_dir = '../data/'\n",
    "# replica_dir = '../data/'\n",
    "# wga_dir = '../data/'\n"
   ]
  },
  {
   "cell_type": "code",
   "execution_count": 2,
   "metadata": {},
   "outputs": [
    {
     "name": "stderr",
     "output_type": "stream",
     "text": [
      "/tmp/ipykernel_4089190/2466698109.py:3: DtypeWarning: Columns (7) have mixed types. Specify dtype option on import or set low_memory=False.\n",
      "  metadata = pd.read_csv(data_dir + 'dedup_data.csv').drop(columns=['Unnamed: 0', 'level_0'])\n"
     ]
    },
    {
     "data": {
      "text/html": [
       "<div>\n",
       "<style scoped>\n",
       "    .dataframe tbody tr th:only-of-type {\n",
       "        vertical-align: middle;\n",
       "    }\n",
       "\n",
       "    .dataframe tbody tr th {\n",
       "        vertical-align: top;\n",
       "    }\n",
       "\n",
       "    .dataframe thead th {\n",
       "        text-align: right;\n",
       "    }\n",
       "</style>\n",
       "<table border=\"1\" class=\"dataframe\">\n",
       "  <thead>\n",
       "    <tr style=\"text-align: right;\">\n",
       "      <th></th>\n",
       "      <th>uid</th>\n",
       "      <th>uid_connection</th>\n",
       "      <th>cluster</th>\n",
       "      <th>index</th>\n",
       "      <th>Drawer</th>\n",
       "      <th>ImageNumber</th>\n",
       "      <th>Author</th>\n",
       "      <th>Description</th>\n",
       "      <th>AuthorOriginal</th>\n",
       "      <th>AuthorULANLabel</th>\n",
       "      <th>...</th>\n",
       "      <th>AuthorDeathCity</th>\n",
       "      <th>CardboardURL</th>\n",
       "      <th>ImageURL</th>\n",
       "      <th>img1</th>\n",
       "      <th>img2</th>\n",
       "      <th>type</th>\n",
       "      <th>annotated</th>\n",
       "      <th>uid2</th>\n",
       "      <th>set</th>\n",
       "      <th>path</th>\n",
       "    </tr>\n",
       "  </thead>\n",
       "  <tbody>\n",
       "    <tr>\n",
       "      <th>0</th>\n",
       "      <td>00000763d00845d7aa8f796fa3e86e20</td>\n",
       "      <td>c8ac0f0ea2524e74a8b90c92138260a5</td>\n",
       "      <td>4041</td>\n",
       "      <td>0</td>\n",
       "      <td>61A</td>\n",
       "      <td>632</td>\n",
       "      <td>MARESCALCHI Pietro</td>\n",
       "      <td>Madonna in trono e Santi.</td>\n",
       "      <td>MAKESCALCHI, Pietro.</td>\n",
       "      <td>Marascalchi, Pietro de'</td>\n",
       "      <td>...</td>\n",
       "      <td>Feltre</td>\n",
       "      <td>https://dhlabsrv4.epfl.ch/iiif_cini/61A%2F61A_...</td>\n",
       "      <td>https://dhlabsrv4.epfl.ch/iiif_replica/cini%2F...</td>\n",
       "      <td>00000763d00845d7aa8f796fa3e86e20</td>\n",
       "      <td>3e1be39c07bd4203848d7ebe44db3528</td>\n",
       "      <td>DUPLICATE</td>\n",
       "      <td>2018-07-19 17:17:46.960437+00:00</td>\n",
       "      <td>61A/61A_632.jpg</td>\n",
       "      <td>NaN</td>\n",
       "      <td>61A/61A_632.jpg</td>\n",
       "    </tr>\n",
       "    <tr>\n",
       "      <th>1</th>\n",
       "      <td>00001c888748454ea4ecf8997f902f1f</td>\n",
       "      <td>Not uid connection</td>\n",
       "      <td>00001c888748454ea4ecf8997f902f1f</td>\n",
       "      <td>3</td>\n",
       "      <td>87A</td>\n",
       "      <td>507</td>\n",
       "      <td>SCULTORE SEC XVII</td>\n",
       "      <td>Colonna . Part.</td>\n",
       "      <td>SCULTORE SEC. XVII</td>\n",
       "      <td>NaN</td>\n",
       "      <td>...</td>\n",
       "      <td>NaN</td>\n",
       "      <td>https://dhlabsrv4.epfl.ch/iiif_cini/87A%2F87A_...</td>\n",
       "      <td>https://dhlabsrv4.epfl.ch/iiif_replica/cini%2F...</td>\n",
       "      <td>NaN</td>\n",
       "      <td>NaN</td>\n",
       "      <td>NaN</td>\n",
       "      <td>NaN</td>\n",
       "      <td>87A/87A_507.jpg</td>\n",
       "      <td>NaN</td>\n",
       "      <td>87A/87A_507.jpg</td>\n",
       "    </tr>\n",
       "    <tr>\n",
       "      <th>2</th>\n",
       "      <td>000036a6440344f89e0f0e120e962f88</td>\n",
       "      <td>Not uid connection</td>\n",
       "      <td>000036a6440344f89e0f0e120e962f88</td>\n",
       "      <td>4</td>\n",
       "      <td>1C</td>\n",
       "      <td>484</td>\n",
       "      <td>TIZIANO Vecellio</td>\n",
       "      <td>Giovane guerriero. 272x178</td>\n",
       "      <td>TIZIANO.</td>\n",
       "      <td>Titian</td>\n",
       "      <td>...</td>\n",
       "      <td>Venice</td>\n",
       "      <td>https://dhlabsrv4.epfl.ch/iiif_cini/1C%2F1C_48...</td>\n",
       "      <td>https://dhlabsrv4.epfl.ch/iiif_replica/cini%2F...</td>\n",
       "      <td>NaN</td>\n",
       "      <td>NaN</td>\n",
       "      <td>NaN</td>\n",
       "      <td>NaN</td>\n",
       "      <td>1C/1C_484.jpg</td>\n",
       "      <td>NaN</td>\n",
       "      <td>1C/1C_484.jpg</td>\n",
       "    </tr>\n",
       "    <tr>\n",
       "      <th>3</th>\n",
       "      <td>000092c815b6453eb6f37ccabbc8689d</td>\n",
       "      <td>Not uid connection</td>\n",
       "      <td>000092c815b6453eb6f37ccabbc8689d</td>\n",
       "      <td>5</td>\n",
       "      <td>42C</td>\n",
       "      <td>694</td>\n",
       "      <td>BOSCHINI Marco</td>\n",
       "      <td>Pag. 664</td>\n",
       "      <td>BOSCHINI, Marco.</td>\n",
       "      <td>Boschini, Marco</td>\n",
       "      <td>...</td>\n",
       "      <td>Venice</td>\n",
       "      <td>https://dhlabsrv4.epfl.ch/iiif_cini/42C%2F42C_...</td>\n",
       "      <td>https://dhlabsrv4.epfl.ch/iiif_replica/cini%2F...</td>\n",
       "      <td>NaN</td>\n",
       "      <td>NaN</td>\n",
       "      <td>NaN</td>\n",
       "      <td>NaN</td>\n",
       "      <td>42C/42C_694.jpg</td>\n",
       "      <td>NaN</td>\n",
       "      <td>42C/42C_694.jpg</td>\n",
       "    </tr>\n",
       "    <tr>\n",
       "      <th>4</th>\n",
       "      <td>0000b1a1cf3843619edb853fa03a2d5d</td>\n",
       "      <td>Not uid connection</td>\n",
       "      <td>0000b1a1cf3843619edb853fa03a2d5d</td>\n",
       "      <td>6</td>\n",
       "      <td>96A</td>\n",
       "      <td>336</td>\n",
       "      <td>CATTANEO Danese</td>\n",
       "      <td>Allegoria.</td>\n",
       "      <td>CATTANEO, Danese.</td>\n",
       "      <td>Cattaneo, Danese</td>\n",
       "      <td>...</td>\n",
       "      <td>NaN</td>\n",
       "      <td>https://dhlabsrv4.epfl.ch/iiif_cini/96A%2F96A_...</td>\n",
       "      <td>https://dhlabsrv4.epfl.ch/iiif_replica/cini%2F...</td>\n",
       "      <td>NaN</td>\n",
       "      <td>NaN</td>\n",
       "      <td>NaN</td>\n",
       "      <td>NaN</td>\n",
       "      <td>96A/96A_336.jpg</td>\n",
       "      <td>NaN</td>\n",
       "      <td>96A/96A_336.jpg</td>\n",
       "    </tr>\n",
       "  </tbody>\n",
       "</table>\n",
       "<p>5 rows × 47 columns</p>\n",
       "</div>"
      ],
      "text/plain": [
       "                                uid                    uid_connection  \\\n",
       "0  00000763d00845d7aa8f796fa3e86e20  c8ac0f0ea2524e74a8b90c92138260a5   \n",
       "1  00001c888748454ea4ecf8997f902f1f                Not uid connection   \n",
       "2  000036a6440344f89e0f0e120e962f88                Not uid connection   \n",
       "3  000092c815b6453eb6f37ccabbc8689d                Not uid connection   \n",
       "4  0000b1a1cf3843619edb853fa03a2d5d                Not uid connection   \n",
       "\n",
       "                            cluster  index Drawer ImageNumber  \\\n",
       "0                              4041      0    61A         632   \n",
       "1  00001c888748454ea4ecf8997f902f1f      3    87A         507   \n",
       "2  000036a6440344f89e0f0e120e962f88      4     1C         484   \n",
       "3  000092c815b6453eb6f37ccabbc8689d      5    42C         694   \n",
       "4  0000b1a1cf3843619edb853fa03a2d5d      6    96A         336   \n",
       "\n",
       "               Author                 Description        AuthorOriginal  \\\n",
       "0  MARESCALCHI Pietro   Madonna in trono e Santi.  MAKESCALCHI, Pietro.   \n",
       "1   SCULTORE SEC XVII             Colonna . Part.    SCULTORE SEC. XVII   \n",
       "2    TIZIANO Vecellio  Giovane guerriero. 272x178              TIZIANO.   \n",
       "3      BOSCHINI Marco                    Pag. 664      BOSCHINI, Marco.   \n",
       "4     CATTANEO Danese                  Allegoria.     CATTANEO, Danese.   \n",
       "\n",
       "           AuthorULANLabel  ... AuthorDeathCity  \\\n",
       "0  Marascalchi, Pietro de'  ...          Feltre   \n",
       "1                      NaN  ...             NaN   \n",
       "2                   Titian  ...          Venice   \n",
       "3          Boschini, Marco  ...          Venice   \n",
       "4         Cattaneo, Danese  ...             NaN   \n",
       "\n",
       "                                        CardboardURL  \\\n",
       "0  https://dhlabsrv4.epfl.ch/iiif_cini/61A%2F61A_...   \n",
       "1  https://dhlabsrv4.epfl.ch/iiif_cini/87A%2F87A_...   \n",
       "2  https://dhlabsrv4.epfl.ch/iiif_cini/1C%2F1C_48...   \n",
       "3  https://dhlabsrv4.epfl.ch/iiif_cini/42C%2F42C_...   \n",
       "4  https://dhlabsrv4.epfl.ch/iiif_cini/96A%2F96A_...   \n",
       "\n",
       "                                            ImageURL  \\\n",
       "0  https://dhlabsrv4.epfl.ch/iiif_replica/cini%2F...   \n",
       "1  https://dhlabsrv4.epfl.ch/iiif_replica/cini%2F...   \n",
       "2  https://dhlabsrv4.epfl.ch/iiif_replica/cini%2F...   \n",
       "3  https://dhlabsrv4.epfl.ch/iiif_replica/cini%2F...   \n",
       "4  https://dhlabsrv4.epfl.ch/iiif_replica/cini%2F...   \n",
       "\n",
       "                               img1                              img2  \\\n",
       "0  00000763d00845d7aa8f796fa3e86e20  3e1be39c07bd4203848d7ebe44db3528   \n",
       "1                               NaN                               NaN   \n",
       "2                               NaN                               NaN   \n",
       "3                               NaN                               NaN   \n",
       "4                               NaN                               NaN   \n",
       "\n",
       "        type                         annotated             uid2  set  \\\n",
       "0  DUPLICATE  2018-07-19 17:17:46.960437+00:00  61A/61A_632.jpg  NaN   \n",
       "1        NaN                               NaN  87A/87A_507.jpg  NaN   \n",
       "2        NaN                               NaN    1C/1C_484.jpg  NaN   \n",
       "3        NaN                               NaN  42C/42C_694.jpg  NaN   \n",
       "4        NaN                               NaN  96A/96A_336.jpg  NaN   \n",
       "\n",
       "              path  \n",
       "0  61A/61A_632.jpg  \n",
       "1  87A/87A_507.jpg  \n",
       "2    1C/1C_484.jpg  \n",
       "3  42C/42C_694.jpg  \n",
       "4  96A/96A_336.jpg  \n",
       "\n",
       "[5 rows x 47 columns]"
      ]
     },
     "execution_count": 2,
     "metadata": {},
     "output_type": "execute_result"
    }
   ],
   "source": [
    "#metadata = pd.read_csv(path + 'Cini_20210811.csv', sep=';')\n",
    "#metadata['path'] = metadata['Drawer'].astype(str) + '/' + metadata['Drawer'].astype(str) + '_' + metadata['ImageNumber'].astype(str) + '.jpg'\n",
    "metadata = pd.read_csv(data_dir + 'dedup_data.csv').drop(columns=['Unnamed: 0', 'level_0'])\n",
    "metadata.head(5)"
   ]
  },
  {
   "cell_type": "code",
   "execution_count": 4,
   "metadata": {},
   "outputs": [],
   "source": [
    "# in jeanne's code\n",
    "# with open(path + 'save_link_data_2018_08_02.pkl', 'rb') as f:\n",
    "#     morpho_graph_complete = pickle.load(f)\n",
    "\n",
    "# # contains uid\timg1\timg2\ttype\tannotated\n",
    "# morpho_graph_complete.head()"
   ]
  },
  {
   "cell_type": "code",
   "execution_count": 3,
   "metadata": {},
   "outputs": [
    {
     "data": {
      "text/plain": [
       "(2074, 47)"
      ]
     },
     "execution_count": 3,
     "metadata": {},
     "output_type": "execute_result"
    }
   ],
   "source": [
    "madonnas = metadata[metadata['Description'].fillna('').str.contains('Madonna col Bambino')]#['Description']\n",
    "madonnas.shape"
   ]
  },
  {
   "cell_type": "code",
   "execution_count": 6,
   "metadata": {},
   "outputs": [],
   "source": [
    "# positives = get_train_test_split(madonnas, morpho_graph_complete)\n",
    "# positives = positives.groupby('uid_connection').first().reset_index()\n",
    "# print(positives.shape)\n",
    "# positives.head()"
   ]
  },
  {
   "cell_type": "code",
   "execution_count": 4,
   "metadata": {},
   "outputs": [
    {
     "data": {
      "text/plain": [
       "(274, 47)"
      ]
     },
     "execution_count": 4,
     "metadata": {},
     "output_type": "execute_result"
    }
   ],
   "source": [
    "train = madonnas[madonnas['set'].isin(['train', 'val', 'test'])]\n",
    "train.shape"
   ]
  },
  {
   "cell_type": "markdown",
   "metadata": {},
   "source": [
    "## Getting set of images to store embeddings of"
   ]
  },
  {
   "cell_type": "code",
   "execution_count": 5,
   "metadata": {},
   "outputs": [],
   "source": [
    "# embeddings = np.load(\n",
    "#                     #data_dir + 'resnext-101_avg_480' + \".npy\",\n",
    "#                     data_dir + 'embeddings/resnext-101_epoch_314-04-2022_23:25:29.npy',\n",
    "#                     allow_pickle=True,\n",
    "#                 )        "
   ]
  },
  {
   "cell_type": "code",
   "execution_count": 6,
   "metadata": {},
   "outputs": [],
   "source": [
    "# tree, reverse_map = make_tree_orig(embeddings, reverse_map=True)"
   ]
  },
  {
   "cell_type": "code",
   "execution_count": 5,
   "metadata": {},
   "outputs": [],
   "source": [
    "with open(data_dir + 'uid2path.pkl', 'rb') as outfile:\n",
    "        uid2path = pickle.load(outfile)\n"
   ]
  },
  {
   "cell_type": "code",
   "execution_count": 41,
   "metadata": {},
   "outputs": [],
   "source": [
    "# sim_arts = []\n",
    "# for i, artwork in enumerate(madonnas.iterrows()):\n",
    "#     if artwork[1]['uid'] in reverse_map.values():\n",
    "#         sim_arts.append(find_most_similar_orig(artwork[1][\"uid\"], tree, embeddings, reverse_map, n=6))\n",
    "\n",
    "            "
   ]
  },
  {
   "cell_type": "code",
   "execution_count": 7,
   "metadata": {},
   "outputs": [],
   "source": [
    "# sim_arts = list(set([x for xx in sim_arts for x in xx]))\n",
    "# print(len(sim_arts))\n",
    "# sim_arts"
   ]
  },
  {
   "cell_type": "code",
   "execution_count": 43,
   "metadata": {},
   "outputs": [
    {
     "name": "stdout",
     "output_type": "stream",
     "text": [
      "2654\n"
     ]
    }
   ],
   "source": [
    "# final = list(set(sim_arts + list(madonnas['uid'])))\n",
    "# final\n",
    "# print(len(final))"
   ]
  },
  {
   "cell_type": "code",
   "execution_count": 6,
   "metadata": {},
   "outputs": [],
   "source": [
    "# with open(data_dir + 'list_iconography.pkl', 'wb') as oufile:\n",
    "#     pickle.dump(final, oufile)\n",
    "    \n",
    "\n",
    "with open(data_dir + 'list_iconography.pkl', 'rb') as infile:\n",
    "    final = pickle.load(infile)\n"
   ]
  },
  {
   "cell_type": "code",
   "execution_count": 12,
   "metadata": {},
   "outputs": [],
   "source": [
    "#make_embds_pooled()  #store also for normal embeddings\n",
    "# make new metadata file with all madonnas (so include also the 5 most similar ones that are now in files)"
   ]
  },
  {
   "cell_type": "code",
   "execution_count": null,
   "metadata": {},
   "outputs": [],
   "source": [
    "# embeds = np.load(data_dir + 'embedding_no_pool/madonnas_pooled.npy', allow_pickle=True)\n",
    "# print(embeds.shape)"
   ]
  },
  {
   "cell_type": "code",
   "execution_count": 7,
   "metadata": {},
   "outputs": [
    {
     "name": "stdout",
     "output_type": "stream",
     "text": [
      "(2654, 2)\n"
     ]
    }
   ],
   "source": [
    "embeds = np.load(data_dir + 'embedding_no_pool/madonnas.npy', allow_pickle=True)\n",
    "print(embeds.shape)"
   ]
  },
  {
   "cell_type": "code",
   "execution_count": 19,
   "metadata": {},
   "outputs": [
    {
     "data": {
      "text/plain": [
       "0.3125"
      ]
     },
     "execution_count": 19,
     "metadata": {},
     "output_type": "execute_result"
    }
   ],
   "source": [
    "match_feature_maps_simple(embeds[4, 1], embeds[7, 1], norm=True)"
   ]
  },
  {
   "cell_type": "code",
   "execution_count": 21,
   "metadata": {},
   "outputs": [
    {
     "data": {
      "text/plain": [
       "(2654, 2)"
      ]
     },
     "execution_count": 21,
     "metadata": {},
     "output_type": "execute_result"
    }
   ],
   "source": [
    "embeds.shape"
   ]
  },
  {
   "cell_type": "code",
   "execution_count": 14,
   "metadata": {},
   "outputs": [],
   "source": [
    "# sim_mat, index = sim_matrix_rerank(embeds)\n",
    "# np.save(data_dir + 'embedding_no_pool/' 'similarities_madonnas.npy', sim_mat)"
   ]
  },
  {
   "cell_type": "code",
   "execution_count": 29,
   "metadata": {},
   "outputs": [],
   "source": [
    "sim_mat = np.load(data_dir + 'embedding_no_pool/similarities_madonnas.npy', allow_pickle=True) #"
   ]
  },
  {
   "cell_type": "code",
   "execution_count": 30,
   "metadata": {},
   "outputs": [
    {
     "data": {
      "text/plain": [
       "array([[160,  11,  19, ...,   0,   0,   0],\n",
       "       [ 11, 160,  37, ...,   0,   0,   0],\n",
       "       [ 23,  37, 160, ...,   0,   0,   0],\n",
       "       ...,\n",
       "       [ 20,  28,  28, ...,   0,   0,   0],\n",
       "       [ 16,  16,  23, ...,   0,   0,   0],\n",
       "       [ 25,  22,  23, ...,   0,   0,   0]])"
      ]
     },
     "execution_count": 30,
     "metadata": {},
     "output_type": "execute_result"
    }
   ],
   "source": [
    "sim_mat = sim_mat.astype(int)"
   ]
  },
  {
   "cell_type": "code",
   "execution_count": null,
   "metadata": {},
   "outputs": [],
   "source": []
  },
  {
   "cell_type": "code",
   "execution_count": 24,
   "metadata": {},
   "outputs": [
    {
     "ename": "ValueError",
     "evalue": "Negative values in data passed to precomputed distance matrix.",
     "output_type": "error",
     "traceback": [
      "\u001b[0;31m---------------------------------------------------------------------------\u001b[0m",
      "\u001b[0;31mValueError\u001b[0m                                Traceback (most recent call last)",
      "\u001b[0;32m/tmp/ipykernel_4089190/346840388.py\u001b[0m in \u001b[0;36m<module>\u001b[0;34m\u001b[0m\n\u001b[1;32m      1\u001b[0m \u001b[0msim_mat\u001b[0m \u001b[0;34m=\u001b[0m \u001b[0mStandardScaler\u001b[0m\u001b[0;34m(\u001b[0m\u001b[0;34m)\u001b[0m\u001b[0;34m.\u001b[0m\u001b[0mfit_transform\u001b[0m\u001b[0;34m(\u001b[0m\u001b[0msim_mat\u001b[0m\u001b[0;34m)\u001b[0m\u001b[0;34m\u001b[0m\u001b[0;34m\u001b[0m\u001b[0m\n\u001b[0;32m----> 2\u001b[0;31m \u001b[0mdb\u001b[0m \u001b[0;34m=\u001b[0m \u001b[0mDBSCAN\u001b[0m\u001b[0;34m(\u001b[0m\u001b[0meps\u001b[0m\u001b[0;34m=\u001b[0m\u001b[0;36m0.3\u001b[0m\u001b[0;34m,\u001b[0m \u001b[0mmin_samples\u001b[0m\u001b[0;34m=\u001b[0m\u001b[0;36m10\u001b[0m\u001b[0;34m,\u001b[0m \u001b[0mmetric\u001b[0m\u001b[0;34m=\u001b[0m\u001b[0;34m'precomputed'\u001b[0m\u001b[0;34m)\u001b[0m\u001b[0;34m.\u001b[0m\u001b[0mfit\u001b[0m\u001b[0;34m(\u001b[0m\u001b[0msim_mat\u001b[0m\u001b[0;34m)\u001b[0m\u001b[0;34m\u001b[0m\u001b[0;34m\u001b[0m\u001b[0m\n\u001b[0m",
      "\u001b[0;32m~/.conda/envs/thesis/lib/python3.8/site-packages/sklearn/cluster/_dbscan.py\u001b[0m in \u001b[0;36mfit\u001b[0;34m(self, X, y, sample_weight)\u001b[0m\n\u001b[1;32m    332\u001b[0m             \u001b[0mleaf_size\u001b[0m\u001b[0;34m=\u001b[0m\u001b[0mself\u001b[0m\u001b[0;34m.\u001b[0m\u001b[0mleaf_size\u001b[0m\u001b[0;34m,\u001b[0m \u001b[0mmetric\u001b[0m\u001b[0;34m=\u001b[0m\u001b[0mself\u001b[0m\u001b[0;34m.\u001b[0m\u001b[0mmetric\u001b[0m\u001b[0;34m,\u001b[0m\u001b[0;34m\u001b[0m\u001b[0;34m\u001b[0m\u001b[0m\n\u001b[1;32m    333\u001b[0m             metric_params=self.metric_params, p=self.p, n_jobs=self.n_jobs)\n\u001b[0;32m--> 334\u001b[0;31m         \u001b[0mneighbors_model\u001b[0m\u001b[0;34m.\u001b[0m\u001b[0mfit\u001b[0m\u001b[0;34m(\u001b[0m\u001b[0mX\u001b[0m\u001b[0;34m)\u001b[0m\u001b[0;34m\u001b[0m\u001b[0;34m\u001b[0m\u001b[0m\n\u001b[0m\u001b[1;32m    335\u001b[0m         \u001b[0;31m# This has worst case O(n^2) memory complexity\u001b[0m\u001b[0;34m\u001b[0m\u001b[0;34m\u001b[0m\u001b[0;34m\u001b[0m\u001b[0m\n\u001b[1;32m    336\u001b[0m         neighborhoods = neighbors_model.radius_neighbors(X,\n",
      "\u001b[0;32m~/.conda/envs/thesis/lib/python3.8/site-packages/sklearn/neighbors/_base.py\u001b[0m in \u001b[0;36mfit\u001b[0;34m(self, X, y)\u001b[0m\n\u001b[1;32m   1171\u001b[0m             \u001b[0;32mor\u001b[0m \u001b[0;34m[\u001b[0m\u001b[0mn_samples\u001b[0m\u001b[0;34m,\u001b[0m \u001b[0mn_samples\u001b[0m\u001b[0;34m]\u001b[0m \u001b[0;32mif\u001b[0m \u001b[0mmetric\u001b[0m\u001b[0;34m=\u001b[0m\u001b[0;34m'precomputed'\u001b[0m\u001b[0;34m.\u001b[0m\u001b[0;34m\u001b[0m\u001b[0;34m\u001b[0m\u001b[0m\n\u001b[1;32m   1172\u001b[0m         \"\"\"\n\u001b[0;32m-> 1173\u001b[0;31m         \u001b[0;32mreturn\u001b[0m \u001b[0mself\u001b[0m\u001b[0;34m.\u001b[0m\u001b[0m_fit\u001b[0m\u001b[0;34m(\u001b[0m\u001b[0mX\u001b[0m\u001b[0;34m)\u001b[0m\u001b[0;34m\u001b[0m\u001b[0;34m\u001b[0m\u001b[0m\n\u001b[0m",
      "\u001b[0;32m~/.conda/envs/thesis/lib/python3.8/site-packages/sklearn/neighbors/_base.py\u001b[0m in \u001b[0;36m_fit\u001b[0;34m(self, X)\u001b[0m\n\u001b[1;32m    396\u001b[0m \u001b[0;34m\u001b[0m\u001b[0m\n\u001b[1;32m    397\u001b[0m         \u001b[0;32mif\u001b[0m \u001b[0mself\u001b[0m\u001b[0;34m.\u001b[0m\u001b[0meffective_metric_\u001b[0m \u001b[0;34m==\u001b[0m \u001b[0;34m'precomputed'\u001b[0m\u001b[0;34m:\u001b[0m\u001b[0;34m\u001b[0m\u001b[0;34m\u001b[0m\u001b[0m\n\u001b[0;32m--> 398\u001b[0;31m             \u001b[0mX\u001b[0m \u001b[0;34m=\u001b[0m \u001b[0m_check_precomputed\u001b[0m\u001b[0;34m(\u001b[0m\u001b[0mX\u001b[0m\u001b[0;34m)\u001b[0m\u001b[0;34m\u001b[0m\u001b[0;34m\u001b[0m\u001b[0m\n\u001b[0m\u001b[1;32m    399\u001b[0m             \u001b[0mself\u001b[0m\u001b[0;34m.\u001b[0m\u001b[0mn_features_in_\u001b[0m \u001b[0;34m=\u001b[0m \u001b[0mX\u001b[0m\u001b[0;34m.\u001b[0m\u001b[0mshape\u001b[0m\u001b[0;34m[\u001b[0m\u001b[0;36m1\u001b[0m\u001b[0;34m]\u001b[0m\u001b[0;34m\u001b[0m\u001b[0;34m\u001b[0m\u001b[0m\n\u001b[1;32m    400\u001b[0m         \u001b[0;32melse\u001b[0m\u001b[0;34m:\u001b[0m\u001b[0;34m\u001b[0m\u001b[0;34m\u001b[0m\u001b[0m\n",
      "\u001b[0;32m~/.conda/envs/thesis/lib/python3.8/site-packages/sklearn/neighbors/_base.py\u001b[0m in \u001b[0;36m_check_precomputed\u001b[0;34m(X)\u001b[0m\n\u001b[1;32m    152\u001b[0m     \u001b[0;32mif\u001b[0m \u001b[0;32mnot\u001b[0m \u001b[0missparse\u001b[0m\u001b[0;34m(\u001b[0m\u001b[0mX\u001b[0m\u001b[0;34m)\u001b[0m\u001b[0;34m:\u001b[0m\u001b[0;34m\u001b[0m\u001b[0;34m\u001b[0m\u001b[0m\n\u001b[1;32m    153\u001b[0m         \u001b[0mX\u001b[0m \u001b[0;34m=\u001b[0m \u001b[0mcheck_array\u001b[0m\u001b[0;34m(\u001b[0m\u001b[0mX\u001b[0m\u001b[0;34m)\u001b[0m\u001b[0;34m\u001b[0m\u001b[0;34m\u001b[0m\u001b[0m\n\u001b[0;32m--> 154\u001b[0;31m         \u001b[0mcheck_non_negative\u001b[0m\u001b[0;34m(\u001b[0m\u001b[0mX\u001b[0m\u001b[0;34m,\u001b[0m \u001b[0mwhom\u001b[0m\u001b[0;34m=\u001b[0m\u001b[0;34m\"precomputed distance matrix.\"\u001b[0m\u001b[0;34m)\u001b[0m\u001b[0;34m\u001b[0m\u001b[0;34m\u001b[0m\u001b[0m\n\u001b[0m\u001b[1;32m    155\u001b[0m         \u001b[0;32mreturn\u001b[0m \u001b[0mX\u001b[0m\u001b[0;34m\u001b[0m\u001b[0;34m\u001b[0m\u001b[0m\n\u001b[1;32m    156\u001b[0m     \u001b[0;32melse\u001b[0m\u001b[0;34m:\u001b[0m\u001b[0;34m\u001b[0m\u001b[0;34m\u001b[0m\u001b[0m\n",
      "\u001b[0;32m~/.conda/envs/thesis/lib/python3.8/site-packages/sklearn/utils/validation.py\u001b[0m in \u001b[0;36mcheck_non_negative\u001b[0;34m(X, whom)\u001b[0m\n\u001b[1;32m   1044\u001b[0m \u001b[0;34m\u001b[0m\u001b[0m\n\u001b[1;32m   1045\u001b[0m     \u001b[0;32mif\u001b[0m \u001b[0mX_min\u001b[0m \u001b[0;34m<\u001b[0m \u001b[0;36m0\u001b[0m\u001b[0;34m:\u001b[0m\u001b[0;34m\u001b[0m\u001b[0;34m\u001b[0m\u001b[0m\n\u001b[0;32m-> 1046\u001b[0;31m         \u001b[0;32mraise\u001b[0m \u001b[0mValueError\u001b[0m\u001b[0;34m(\u001b[0m\u001b[0;34m\"Negative values in data passed to %s\"\u001b[0m \u001b[0;34m%\u001b[0m \u001b[0mwhom\u001b[0m\u001b[0;34m)\u001b[0m\u001b[0;34m\u001b[0m\u001b[0;34m\u001b[0m\u001b[0m\n\u001b[0m\u001b[1;32m   1047\u001b[0m \u001b[0;34m\u001b[0m\u001b[0m\n\u001b[1;32m   1048\u001b[0m \u001b[0;34m\u001b[0m\u001b[0m\n",
      "\u001b[0;31mValueError\u001b[0m: Negative values in data passed to precomputed distance matrix."
     ]
    }
   ],
   "source": [
    "sim_mat = StandardScaler().fit_transform(sim_mat)\n",
    "db = DBSCAN(eps=0.3, min_samples=10, metric='precomputed').fit(sim_mat)"
   ]
  },
  {
   "cell_type": "code",
   "execution_count": null,
   "metadata": {},
   "outputs": [],
   "source": [
    "core_samples_mask = np.zeros_like(db.labels_, dtype=bool)\n",
    "core_samples_mask[db.core_sample_indices_] = True\n",
    "labels = db.labels_\n",
    "\n",
    "# Number of clusters in labels, ignoring noise if present.\n",
    "n_clusters_ = len(set(labels)) - (1 if -1 in labels else 0)\n",
    "n_noise_ = list(labels).count(-1)\n",
    "\n",
    "print(\"Estimated number of clusters: %d\" % n_clusters_)\n",
    "print(\"Estimated number of noise points: %d\" % n_noise_)\n",
    "print(\"Silhouette Coefficient: %0.3f\" % metrics.silhouette_score(sim_mat, labels))\n",
    "\n",
    "# #############################################################################\n",
    "# Plot result\n",
    "import matplotlib.pyplot as plt\n",
    "\n",
    "# Black removed and is used for noise instead.\n",
    "unique_labels = set(labels)\n",
    "colors = [plt.cm.Spectral(each) for each in np.linspace(0, 1, len(unique_labels))]\n",
    "for k, col in zip(unique_labels, colors):\n",
    "    if k == -1:\n",
    "        # Black used for noise.\n",
    "        col = [0, 0, 0, 1]\n",
    "\n",
    "    class_member_mask = labels == k\n",
    "\n",
    "    xy = sim_mat[class_member_mask & core_samples_mask]\n",
    "    plt.plot(\n",
    "        xy[:, 0],\n",
    "        xy[:, 1],\n",
    "        \"o\",\n",
    "        markerfacecolor=tuple(col),\n",
    "        markeredgecolor=\"k\",\n",
    "        markersize=14,\n",
    "    )\n",
    "\n",
    "    xy = sim_mat[class_member_mask & ~core_samples_mask]\n",
    "    plt.plot(\n",
    "        xy[:, 0],\n",
    "        xy[:, 1],\n",
    "        \"o\",\n",
    "        markerfacecolor=tuple(col),\n",
    "        markeredgecolor=\"k\",\n",
    "        markersize=6,\n",
    "    )\n",
    "\n",
    "plt.title(\"Estimated number of clusters: %d\" % n_clusters_)\n",
    "plt.show()"
   ]
  },
  {
   "cell_type": "code",
   "execution_count": null,
   "metadata": {},
   "outputs": [],
   "source": [
    "# if done only on annotated data\n",
    "\n",
    "print(\"Homogeneity: %0.3f\" % metrics.homogeneity_score(labels_true, labels))\n",
    "print(\"Completeness: %0.3f\" % metrics.completeness_score(labels_true, labels))\n",
    "print(\"V-measure: %0.3f\" % metrics.v_measure_score(labels_true, labels))\n",
    "print(\"Adjusted Rand Index: %0.3f\" % metrics.adjusted_rand_score(labels_true, labels))\n",
    "print(\n",
    "    \"Adjusted Mutual Information: %0.3f\"\n",
    "    % metrics.adjusted_mutual_info_score(labels_true, labels)\n",
    ")"
   ]
  },
  {
   "cell_type": "code",
   "execution_count": null,
   "metadata": {},
   "outputs": [],
   "source": []
  }
 ],
 "metadata": {
  "interpreter": {
   "hash": "4f8e3478237dc9ca2ad28b1e82aec5b5eff6967ac82a3186532ba63a72b00cf6"
  },
  "kernelspec": {
   "display_name": "Python 3.8.12 ('thesis')",
   "language": "python",
   "name": "python3"
  },
  "language_info": {
   "codemirror_mode": {
    "name": "ipython",
    "version": 3
   },
   "file_extension": ".py",
   "mimetype": "text/x-python",
   "name": "python",
   "nbconvert_exporter": "python",
   "pygments_lexer": "ipython3",
   "version": "3.8.12"
  },
  "orig_nbformat": 4
 },
 "nbformat": 4,
 "nbformat_minor": 2
}
