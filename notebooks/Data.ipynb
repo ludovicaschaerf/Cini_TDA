{
    "cells": [
        {
            "cell_type": "markdown",
            "metadata": {},
            "source": [
                "# Replica project\n",
                "\n",
                "### The data\n",
                "\n",
                "Stores the final deduplicated datasets and shows how the search can be done with pretrained embeddings"
            ]
        },
        {
            "cell_type": "code",
            "execution_count": 1,
            "metadata": {},
            "outputs": [],
            "source": [
                "# loading the metadata\n",
                "%load_ext autoreload\n",
                "%autoreload 2\n",
                "\n",
                "import pandas as pd\n",
                "\n",
                "import torchvision.models as models\n",
                "from tqdm import tqdm\n",
                "import pickle\n",
                "from glob import glob\n",
                "import sys\n",
                "from os import path\n",
                "\n",
                "\n",
                "sys.path.insert(0, \"../model/\")\n",
                "from utils import *\n",
                "from model_replica import ReplicaNet\n",
                "\n",
                "\n",
                "path = '/home/guhennec/scratch/2021_Cini/TopologicalAnalysis_Cini/data/'\n",
                "data_dir = '/scratch/students/schaerf/'\n",
                "replica_dir = '/mnt/project_replica/datasets/cini/'\n",
                "wga_dir = '/mnt/project_replica/datasets/'\n",
                "\n",
                "\n",
                "path = '../data/original/'\n",
                "path_2 = '../data/'\n",
                "data_dir = '../data/'\n",
                "replica_dir = '../data/'\n",
                "wga_dir = '../data/'\n",
                "\n",
                "\n"
            ]
        },
        {
            "cell_type": "code",
            "execution_count": 2,
            "metadata": {},
            "outputs": [
                {
                    "name": "stderr",
                    "output_type": "stream",
                    "text": [
                        "C:\\Users\\ludov\\AppData\\Local\\Temp/ipykernel_13820/30539250.py:1: DtypeWarning: Columns (1) have mixed types. Specify dtype option on import or set low_memory=False.\n",
                        "  metadata = pd.read_csv(path + 'Cini_20210811.csv', sep=';')\n"
                    ]
                },
                {
                    "data": {
                        "text/html": [
                            "<div>\n",
                            "<style scoped>\n",
                            "    .dataframe tbody tr th:only-of-type {\n",
                            "        vertical-align: middle;\n",
                            "    }\n",
                            "\n",
                            "    .dataframe tbody tr th {\n",
                            "        vertical-align: top;\n",
                            "    }\n",
                            "\n",
                            "    .dataframe thead th {\n",
                            "        text-align: right;\n",
                            "    }\n",
                            "</style>\n",
                            "<table border=\"1\" class=\"dataframe\">\n",
                            "  <thead>\n",
                            "    <tr style=\"text-align: right;\">\n",
                            "      <th></th>\n",
                            "      <th>Drawer</th>\n",
                            "      <th>ImageNumber</th>\n",
                            "      <th>Author</th>\n",
                            "      <th>Description</th>\n",
                            "      <th>AuthorOriginal</th>\n",
                            "      <th>AuthorULANLabel</th>\n",
                            "      <th>AuthorULAN</th>\n",
                            "      <th>AuthorURL</th>\n",
                            "      <th>AuthorComplemented</th>\n",
                            "      <th>AuthorComplement</th>\n",
                            "      <th>...</th>\n",
                            "      <th>AuthorBirthLong</th>\n",
                            "      <th>AuthorBirthLat</th>\n",
                            "      <th>AuthorDeathLong</th>\n",
                            "      <th>AuthorDeathLat</th>\n",
                            "      <th>AuthorBirthCity</th>\n",
                            "      <th>AuthorDeathCity</th>\n",
                            "      <th>uid</th>\n",
                            "      <th>CardboardURL</th>\n",
                            "      <th>ImageURL</th>\n",
                            "      <th>path</th>\n",
                            "    </tr>\n",
                            "  </thead>\n",
                            "  <tbody>\n",
                            "    <tr>\n",
                            "      <th>0</th>\n",
                            "      <td>1A</td>\n",
                            "      <td>1</td>\n",
                            "      <td>ALLEGRINI Francesco</td>\n",
                            "      <td>tca con penna acquarellata 148 x 203 mm</td>\n",
                            "      <td>ALLEGRINI, Francesco</td>\n",
                            "      <td>Allegrini, Francesco</td>\n",
                            "      <td>ulan:500115272</td>\n",
                            "      <td>http://vocab.getty.edu/page/ulan/500115272</td>\n",
                            "      <td>0</td>\n",
                            "      <td>No complement</td>\n",
                            "      <td>...</td>\n",
                            "      <td>NaN</td>\n",
                            "      <td>NaN</td>\n",
                            "      <td>NaN</td>\n",
                            "      <td>NaN</td>\n",
                            "      <td>NaN</td>\n",
                            "      <td>NaN</td>\n",
                            "      <td>253993c139284a45be233a13121ddeeb</td>\n",
                            "      <td>https://dhlabsrv4.epfl.ch/iiif_cini/1A%2F1A_1....</td>\n",
                            "      <td>https://dhlabsrv4.epfl.ch/iiif_replica/cini%2F...</td>\n",
                            "      <td>../data/1A/1A_1.jpg</td>\n",
                            "    </tr>\n",
                            "    <tr>\n",
                            "      <th>1</th>\n",
                            "      <td>1A</td>\n",
                            "      <td>2</td>\n",
                            "      <td>BAROCCI Federico</td>\n",
                            "      <td>Studio di figura penna acquarellata (carboncin...</td>\n",
                            "      <td>BAROCCI, Federico</td>\n",
                            "      <td>Barocci, Federico</td>\n",
                            "      <td>ulan:500115210</td>\n",
                            "      <td>http://vocab.getty.edu/page/ulan/500115210</td>\n",
                            "      <td>0</td>\n",
                            "      <td>No complement</td>\n",
                            "      <td>...</td>\n",
                            "      <td>12.633333</td>\n",
                            "      <td>43.716667</td>\n",
                            "      <td>12.633333</td>\n",
                            "      <td>43.716667</td>\n",
                            "      <td>Urbino</td>\n",
                            "      <td>Urbino</td>\n",
                            "      <td>1323356994c24635a11fdcd9d5f9284a</td>\n",
                            "      <td>https://dhlabsrv4.epfl.ch/iiif_cini/1A%2F1A_2....</td>\n",
                            "      <td>https://dhlabsrv4.epfl.ch/iiif_replica/cini%2F...</td>\n",
                            "      <td>../data/1A/1A_2.jpg</td>\n",
                            "    </tr>\n",
                            "    <tr>\n",
                            "      <th>2</th>\n",
                            "      <td>1A</td>\n",
                            "      <td>3</td>\n",
                            "      <td>BASSANO Leandro</td>\n",
                            "      <td>Scene penna su carta blu 171 x 219 mm</td>\n",
                            "      <td>BASSANO, Leandro</td>\n",
                            "      <td>Bassano, Leandro</td>\n",
                            "      <td>ulan:500015945</td>\n",
                            "      <td>http://vocab.getty.edu/page/ulan/500015945</td>\n",
                            "      <td>0</td>\n",
                            "      <td>No complement</td>\n",
                            "      <td>...</td>\n",
                            "      <td>11.733333</td>\n",
                            "      <td>45.766667</td>\n",
                            "      <td>12.326667</td>\n",
                            "      <td>45.438611</td>\n",
                            "      <td>Bassano del Grappa</td>\n",
                            "      <td>Venice</td>\n",
                            "      <td>a4268385f6384e61a3dd092bc6b8c083</td>\n",
                            "      <td>https://dhlabsrv4.epfl.ch/iiif_cini/1A%2F1A_3....</td>\n",
                            "      <td>https://dhlabsrv4.epfl.ch/iiif_replica/cini%2F...</td>\n",
                            "      <td>../data/1A/1A_3.jpg</td>\n",
                            "    </tr>\n",
                            "    <tr>\n",
                            "      <th>3</th>\n",
                            "      <td>1A</td>\n",
                            "      <td>4</td>\n",
                            "      <td>CAMPIGLI Massimo</td>\n",
                            "      <td>Ragazza su una scala gessetto su carta bruna g...</td>\n",
                            "      <td>CAMPIGLI, Massimo</td>\n",
                            "      <td>Campigli, Massimo</td>\n",
                            "      <td>ulan:500029770</td>\n",
                            "      <td>http://vocab.getty.edu/page/ulan/500029770</td>\n",
                            "      <td>0</td>\n",
                            "      <td>No complement</td>\n",
                            "      <td>...</td>\n",
                            "      <td>13.400000</td>\n",
                            "      <td>52.516667</td>\n",
                            "      <td>6.639811</td>\n",
                            "      <td>43.269316</td>\n",
                            "      <td>Berlin</td>\n",
                            "      <td>Var</td>\n",
                            "      <td>550f368cdb4442aab4d5e2ada702d6ad</td>\n",
                            "      <td>https://dhlabsrv4.epfl.ch/iiif_cini/1A%2F1A_4....</td>\n",
                            "      <td>https://dhlabsrv4.epfl.ch/iiif_replica/cini%2F...</td>\n",
                            "      <td>../data/1A/1A_4.jpg</td>\n",
                            "    </tr>\n",
                            "    <tr>\n",
                            "      <th>4</th>\n",
                            "      <td>1A</td>\n",
                            "      <td>5</td>\n",
                            "      <td>CARRACCI A attr</td>\n",
                            "      <td>Madonna e Santi penna 291 x 205 mm</td>\n",
                            "      <td>CARRACCI, A. attr.</td>\n",
                            "      <td>NaN</td>\n",
                            "      <td>NaN</td>\n",
                            "      <td>NaN</td>\n",
                            "      <td>1</td>\n",
                            "      <td>attr</td>\n",
                            "      <td>...</td>\n",
                            "      <td>NaN</td>\n",
                            "      <td>NaN</td>\n",
                            "      <td>NaN</td>\n",
                            "      <td>NaN</td>\n",
                            "      <td>NaN</td>\n",
                            "      <td>NaN</td>\n",
                            "      <td>6047de5547b643cb87491be925748bee</td>\n",
                            "      <td>https://dhlabsrv4.epfl.ch/iiif_cini/1A%2F1A_5....</td>\n",
                            "      <td>https://dhlabsrv4.epfl.ch/iiif_replica/cini%2F...</td>\n",
                            "      <td>../data/1A/1A_5.jpg</td>\n",
                            "    </tr>\n",
                            "  </tbody>\n",
                            "</table>\n",
                            "<p>5 rows × 38 columns</p>\n",
                            "</div>"
                        ],
                        "text/plain": [
                            "  Drawer ImageNumber               Author  \\\n",
                            "0     1A           1  ALLEGRINI Francesco   \n",
                            "1     1A           2     BAROCCI Federico   \n",
                            "2     1A           3      BASSANO Leandro   \n",
                            "3     1A           4     CAMPIGLI Massimo   \n",
                            "4     1A           5      CARRACCI A attr   \n",
                            "\n",
                            "                                         Description        AuthorOriginal  \\\n",
                            "0            tca con penna acquarellata 148 x 203 mm  ALLEGRINI, Francesco   \n",
                            "1  Studio di figura penna acquarellata (carboncin...     BAROCCI, Federico   \n",
                            "2              Scene penna su carta blu 171 x 219 mm      BASSANO, Leandro   \n",
                            "3  Ragazza su una scala gessetto su carta bruna g...     CAMPIGLI, Massimo   \n",
                            "4                 Madonna e Santi penna 291 x 205 mm    CARRACCI, A. attr.   \n",
                            "\n",
                            "        AuthorULANLabel      AuthorULAN  \\\n",
                            "0  Allegrini, Francesco  ulan:500115272   \n",
                            "1     Barocci, Federico  ulan:500115210   \n",
                            "2      Bassano, Leandro  ulan:500015945   \n",
                            "3     Campigli, Massimo  ulan:500029770   \n",
                            "4                   NaN             NaN   \n",
                            "\n",
                            "                                    AuthorURL  AuthorComplemented  \\\n",
                            "0  http://vocab.getty.edu/page/ulan/500115272                   0   \n",
                            "1  http://vocab.getty.edu/page/ulan/500115210                   0   \n",
                            "2  http://vocab.getty.edu/page/ulan/500015945                   0   \n",
                            "3  http://vocab.getty.edu/page/ulan/500029770                   0   \n",
                            "4                                         NaN                   1   \n",
                            "\n",
                            "  AuthorComplement  ...  AuthorBirthLong AuthorBirthLat AuthorDeathLong  \\\n",
                            "0    No complement  ...              NaN            NaN             NaN   \n",
                            "1    No complement  ...        12.633333      43.716667       12.633333   \n",
                            "2    No complement  ...        11.733333      45.766667       12.326667   \n",
                            "3    No complement  ...        13.400000      52.516667        6.639811   \n",
                            "4             attr  ...              NaN            NaN             NaN   \n",
                            "\n",
                            "  AuthorDeathLat     AuthorBirthCity AuthorDeathCity  \\\n",
                            "0            NaN                 NaN             NaN   \n",
                            "1      43.716667              Urbino          Urbino   \n",
                            "2      45.438611  Bassano del Grappa          Venice   \n",
                            "3      43.269316              Berlin             Var   \n",
                            "4            NaN                 NaN             NaN   \n",
                            "\n",
                            "                                uid  \\\n",
                            "0  253993c139284a45be233a13121ddeeb   \n",
                            "1  1323356994c24635a11fdcd9d5f9284a   \n",
                            "2  a4268385f6384e61a3dd092bc6b8c083   \n",
                            "3  550f368cdb4442aab4d5e2ada702d6ad   \n",
                            "4  6047de5547b643cb87491be925748bee   \n",
                            "\n",
                            "                                        CardboardURL  \\\n",
                            "0  https://dhlabsrv4.epfl.ch/iiif_cini/1A%2F1A_1....   \n",
                            "1  https://dhlabsrv4.epfl.ch/iiif_cini/1A%2F1A_2....   \n",
                            "2  https://dhlabsrv4.epfl.ch/iiif_cini/1A%2F1A_3....   \n",
                            "3  https://dhlabsrv4.epfl.ch/iiif_cini/1A%2F1A_4....   \n",
                            "4  https://dhlabsrv4.epfl.ch/iiif_cini/1A%2F1A_5....   \n",
                            "\n",
                            "                                            ImageURL                 path  \n",
                            "0  https://dhlabsrv4.epfl.ch/iiif_replica/cini%2F...  ../data/1A/1A_1.jpg  \n",
                            "1  https://dhlabsrv4.epfl.ch/iiif_replica/cini%2F...  ../data/1A/1A_2.jpg  \n",
                            "2  https://dhlabsrv4.epfl.ch/iiif_replica/cini%2F...  ../data/1A/1A_3.jpg  \n",
                            "3  https://dhlabsrv4.epfl.ch/iiif_replica/cini%2F...  ../data/1A/1A_4.jpg  \n",
                            "4  https://dhlabsrv4.epfl.ch/iiif_replica/cini%2F...  ../data/1A/1A_5.jpg  \n",
                            "\n",
                            "[5 rows x 38 columns]"
                        ]
                    },
                    "execution_count": 2,
                    "metadata": {},
                    "output_type": "execute_result"
                }
            ],
            "source": [
                "metadata = pd.read_csv(path + 'Cini_20210811.csv', sep=';')\n",
                "metadata['path'] = replica_dir + metadata['Drawer'].astype(str) + '/' + metadata['Drawer'].astype(str) + '_' + metadata['ImageNumber'].astype(str) + '.jpg'\n",
                "metadata.head(5)"
            ]
        },
        {
            "cell_type": "code",
            "execution_count": 3,
            "metadata": {},
            "outputs": [
                {
                    "data": {
                        "text/plain": [
                            "52402"
                        ]
                    },
                    "execution_count": 3,
                    "metadata": {},
                    "output_type": "execute_result"
                }
            ],
            "source": [
                "metadata['Author'].nunique()"
            ]
        },
        {
            "cell_type": "code",
            "execution_count": 3,
            "metadata": {},
            "outputs": [
                {
                    "data": {
                        "text/plain": [
                            "Index(['Drawer', 'ImageNumber', 'Author', 'Description', 'AuthorOriginal',\n",
                            "       'AuthorULANLabel', 'AuthorULAN', 'AuthorURL', 'AuthorComplemented',\n",
                            "       'AuthorComplement', 'AuthorNeighbour', 'AuthorNeighbourhood',\n",
                            "       'SimpleCollection', 'CiniCollection', 'CiniNumber', 'CiniTime', 'City',\n",
                            "       'Country', 'FondoStamp', 'Institution', 'Reference', 'AuthorGender',\n",
                            "       'AuthorNationality', 'BeginDate', 'EndDate', 'BiographyLabel',\n",
                            "       'AuthorBirth', 'AuthorDeath', 'AuthorBirthLong', 'AuthorBirthLat',\n",
                            "       'AuthorDeathLong', 'AuthorDeathLat', 'AuthorBirthCity',\n",
                            "       'AuthorDeathCity', 'uid', 'CardboardURL', 'ImageURL', 'path'],\n",
                            "      dtype='object')"
                        ]
                    },
                    "execution_count": 3,
                    "metadata": {},
                    "output_type": "execute_result"
                }
            ],
            "source": [
                "metadata.columns"
            ]
        },
        {
            "cell_type": "code",
            "execution_count": 13,
            "metadata": {},
            "outputs": [
                {
                    "data": {
                        "text/plain": [
                            "Facciata.               1846\n",
                            "Veduta.                  749\n",
                            "Esterno.                 697\n",
                            "Veduta aerea.            689\n",
                            "Interno.                 661\n",
                            "Madonna col Bambino.     615\n",
                            "La facciata.             588\n",
                            "L'esterno.               576\n",
                            "Autoritratto.            556\n",
                            "Madonna con Bambino.     541\n",
                            "Name: Description, dtype: int64"
                        ]
                    },
                    "execution_count": 13,
                    "metadata": {},
                    "output_type": "execute_result"
                }
            ],
            "source": [
                "metadata['Description'].value_counts()[:10]"
            ]
        },
        {
            "cell_type": "markdown",
            "metadata": {},
            "source": [
                "## Full data"
            ]
        },
        {
            "cell_type": "code",
            "execution_count": 21,
            "metadata": {},
            "outputs": [
                {
                    "data": {
                        "text/html": [
                            "<div>\n",
                            "<style scoped>\n",
                            "    .dataframe tbody tr th:only-of-type {\n",
                            "        vertical-align: middle;\n",
                            "    }\n",
                            "\n",
                            "    .dataframe tbody tr th {\n",
                            "        vertical-align: top;\n",
                            "    }\n",
                            "\n",
                            "    .dataframe thead th {\n",
                            "        text-align: right;\n",
                            "    }\n",
                            "</style>\n",
                            "<table border=\"1\" class=\"dataframe\">\n",
                            "  <thead>\n",
                            "    <tr style=\"text-align: right;\">\n",
                            "      <th></th>\n",
                            "      <th>uid</th>\n",
                            "      <th>added</th>\n",
                            "      <th>source</th>\n",
                            "      <th>path</th>\n",
                            "      <th>o_uid</th>\n",
                            "      <th>o_title</th>\n",
                            "      <th>o_date_begin</th>\n",
                            "      <th>o_date_end</th>\n",
                            "      <th>o_attribution</th>\n",
                            "      <th>o_metadata</th>\n",
                            "    </tr>\n",
                            "  </thead>\n",
                            "  <tbody>\n",
                            "    <tr>\n",
                            "      <th>0</th>\n",
                            "      <td>9515070c-b367-4ee5-b7e0-4eb8cacbcae7</td>\n",
                            "      <td>2017-07-11 16:42:41.307381+00:00</td>\n",
                            "      <td>cini</td>\n",
                            "      <td>cini/2A/2A_1.jpg</td>\n",
                            "      <td>c37fd54e-be01-495c-b5ac-0ef08a58fb9f</td>\n",
                            "      <td>Veduta dell'Etna e di Taormina.\\nGuazzo: 36 x ...</td>\n",
                            "      <td>1771.0</td>\n",
                            "      <td>1794.0</td>\n",
                            "      <td>Fondazione Giorgio Cini</td>\n",
                            "      <td>{'City': 'CAEN', 'Author': 'CHATELET Claude Lo...</td>\n",
                            "    </tr>\n",
                            "    <tr>\n",
                            "      <th>1</th>\n",
                            "      <td>a91b058d-a3f4-4e14-a67a-8e710754be5d</td>\n",
                            "      <td>2017-07-11 16:42:41.445597+00:00</td>\n",
                            "      <td>cini</td>\n",
                            "      <td>cini/2A/2A_2.jpg</td>\n",
                            "      <td>2b05a698-3e3b-4be6-8aaa-c8d20b3217b5</td>\n",
                            "      <td>Veduta del teatro di Taormina.\\nGuazzo: 350 x ...</td>\n",
                            "      <td>1771.0</td>\n",
                            "      <td>1794.0</td>\n",
                            "      <td>Fondazione Giorgio Cini</td>\n",
                            "      <td>{'City': 'CAEN', 'Author': 'CHATELET Claude Lo...</td>\n",
                            "    </tr>\n",
                            "    <tr>\n",
                            "      <th>2</th>\n",
                            "      <td>1160b942-4c34-4b9c-88a8-2c1d255c5961</td>\n",
                            "      <td>2017-07-11 16:42:41.543159+00:00</td>\n",
                            "      <td>cini</td>\n",
                            "      <td>cini/2A/2A_3.jpg</td>\n",
                            "      <td>bc615e17-c55e-48f0-bc3e-e01b325b8b7e</td>\n",
                            "      <td>Nettuno e Anfitride.\\nmm. 75 x 90</td>\n",
                            "      <td>1528.0</td>\n",
                            "      <td>1563.0</td>\n",
                            "      <td>Fondazione Giorgio Cini</td>\n",
                            "      <td>{'City': 'C H A M B E RY', 'Author': 'SCHIAVON...</td>\n",
                            "    </tr>\n",
                            "    <tr>\n",
                            "      <th>3</th>\n",
                            "      <td>a003eb3f-2667-4763-b9a1-1c2daae8b5a1</td>\n",
                            "      <td>2017-07-11 16:42:41.631198+00:00</td>\n",
                            "      <td>cini</td>\n",
                            "      <td>cini/2A/2A_4.jpg</td>\n",
                            "      <td>7c1484cf-7069-4cdd-bd3d-2a00935d51a8</td>\n",
                            "      <td>Veduta di Nepi.\\nMatita: 435 x 385\\nT.to.</td>\n",
                            "      <td>1815.0</td>\n",
                            "      <td>1871.0</td>\n",
                            "      <td>Fondazione Giorgio Cini</td>\n",
                            "      <td>{'City': 'C H A RTR ES', 'Author': 'BERTIN Edo...</td>\n",
                            "    </tr>\n",
                            "    <tr>\n",
                            "      <th>4</th>\n",
                            "      <td>9903179a-30dc-4a7b-8b39-7456d480e2e2</td>\n",
                            "      <td>2017-07-11 16:42:41.742387+00:00</td>\n",
                            "      <td>cini</td>\n",
                            "      <td>cini/2A/2A_5.jpg</td>\n",
                            "      <td>d90c949f-9db1-415b-b5b8-1cb5c0f0f46d</td>\n",
                            "      <td>Madonna con Bambino in gloria d'Angeli</td>\n",
                            "      <td>1574.0</td>\n",
                            "      <td>1629.0</td>\n",
                            "      <td>Fondazione Giorgio Cini</td>\n",
                            "      <td>{'City': 'CH A N TIL L Y', 'Author': 'ALIENSE ...</td>\n",
                            "    </tr>\n",
                            "  </tbody>\n",
                            "</table>\n",
                            "</div>"
                        ],
                        "text/plain": [
                            "                                    uid                            added  \\\n",
                            "0  9515070c-b367-4ee5-b7e0-4eb8cacbcae7 2017-07-11 16:42:41.307381+00:00   \n",
                            "1  a91b058d-a3f4-4e14-a67a-8e710754be5d 2017-07-11 16:42:41.445597+00:00   \n",
                            "2  1160b942-4c34-4b9c-88a8-2c1d255c5961 2017-07-11 16:42:41.543159+00:00   \n",
                            "3  a003eb3f-2667-4763-b9a1-1c2daae8b5a1 2017-07-11 16:42:41.631198+00:00   \n",
                            "4  9903179a-30dc-4a7b-8b39-7456d480e2e2 2017-07-11 16:42:41.742387+00:00   \n",
                            "\n",
                            "  source              path                                 o_uid  \\\n",
                            "0   cini  cini/2A/2A_1.jpg  c37fd54e-be01-495c-b5ac-0ef08a58fb9f   \n",
                            "1   cini  cini/2A/2A_2.jpg  2b05a698-3e3b-4be6-8aaa-c8d20b3217b5   \n",
                            "2   cini  cini/2A/2A_3.jpg  bc615e17-c55e-48f0-bc3e-e01b325b8b7e   \n",
                            "3   cini  cini/2A/2A_4.jpg  7c1484cf-7069-4cdd-bd3d-2a00935d51a8   \n",
                            "4   cini  cini/2A/2A_5.jpg  d90c949f-9db1-415b-b5b8-1cb5c0f0f46d   \n",
                            "\n",
                            "                                             o_title  o_date_begin  \\\n",
                            "0  Veduta dell'Etna e di Taormina.\\nGuazzo: 36 x ...        1771.0   \n",
                            "1  Veduta del teatro di Taormina.\\nGuazzo: 350 x ...        1771.0   \n",
                            "2                  Nettuno e Anfitride.\\nmm. 75 x 90        1528.0   \n",
                            "3          Veduta di Nepi.\\nMatita: 435 x 385\\nT.to.        1815.0   \n",
                            "4             Madonna con Bambino in gloria d'Angeli        1574.0   \n",
                            "\n",
                            "   o_date_end            o_attribution  \\\n",
                            "0      1794.0  Fondazione Giorgio Cini   \n",
                            "1      1794.0  Fondazione Giorgio Cini   \n",
                            "2      1563.0  Fondazione Giorgio Cini   \n",
                            "3      1871.0  Fondazione Giorgio Cini   \n",
                            "4      1629.0  Fondazione Giorgio Cini   \n",
                            "\n",
                            "                                          o_metadata  \n",
                            "0  {'City': 'CAEN', 'Author': 'CHATELET Claude Lo...  \n",
                            "1  {'City': 'CAEN', 'Author': 'CHATELET Claude Lo...  \n",
                            "2  {'City': 'C H A M B E RY', 'Author': 'SCHIAVON...  \n",
                            "3  {'City': 'C H A RTR ES', 'Author': 'BERTIN Edo...  \n",
                            "4  {'City': 'CH A N TIL L Y', 'Author': 'ALIENSE ...  "
                        ]
                    },
                    "execution_count": 21,
                    "metadata": {},
                    "output_type": "execute_result"
                }
            ],
            "source": [
                "with open(data_dir + 'image_data_2022_04_28.pkl', 'rb') as infile:\n",
                "    metadata_2 = pickle.load(infile)\n",
                "\n",
                "metadata_2.head()\n"
            ]
        },
        {
            "cell_type": "code",
            "execution_count": 22,
            "metadata": {},
            "outputs": [],
            "source": [
                "# metadata_2.reset_index()['o_metadata'][0]\n",
                "metadata_2 = metadata_2[metadata_2['source'] == 'wga']   \n",
                "# metadata_2.reset_index()['o_metadata'][0]"
            ]
        },
        {
            "cell_type": "code",
            "execution_count": 23,
            "metadata": {},
            "outputs": [
                {
                    "data": {
                        "text/html": [
                            "<div>\n",
                            "<style scoped>\n",
                            "    .dataframe tbody tr th:only-of-type {\n",
                            "        vertical-align: middle;\n",
                            "    }\n",
                            "\n",
                            "    .dataframe tbody tr th {\n",
                            "        vertical-align: top;\n",
                            "    }\n",
                            "\n",
                            "    .dataframe thead th {\n",
                            "        text-align: right;\n",
                            "    }\n",
                            "</style>\n",
                            "<table border=\"1\" class=\"dataframe\">\n",
                            "  <thead>\n",
                            "    <tr style=\"text-align: right;\">\n",
                            "      <th></th>\n",
                            "      <th>AuthorOriginal</th>\n",
                            "      <th>Author</th>\n",
                            "      <th>AuthorBirth</th>\n",
                            "      <th>Description</th>\n",
                            "      <th>path</th>\n",
                            "      <th>BeginDate</th>\n",
                            "      <th>ImageURL</th>\n",
                            "      <th>Type</th>\n",
                            "      <th>Country</th>\n",
                            "      <th>uid</th>\n",
                            "    </tr>\n",
                            "  </thead>\n",
                            "  <tbody>\n",
                            "    <tr>\n",
                            "      <th>10789</th>\n",
                            "      <td>AACHEN, Hans von</td>\n",
                            "      <td>AACHEN, Hans von</td>\n",
                            "      <td>(b. 1552, Köln, d. 1615, Praha)</td>\n",
                            "      <td>Allegory</td>\n",
                            "      <td>../data/WGA/images/a/aachen/allegory.jpg</td>\n",
                            "      <td>1598.0</td>\n",
                            "      <td>http://www.wga.hu/html/a/aachen/allegory.html</td>\n",
                            "      <td>mythological</td>\n",
                            "      <td>German</td>\n",
                            "      <td>2355b564f41e41a09bf6ae2a503e152a</td>\n",
                            "    </tr>\n",
                            "    <tr>\n",
                            "      <th>10790</th>\n",
                            "      <td>AACHEN, Hans von</td>\n",
                            "      <td>AACHEN, Hans von</td>\n",
                            "      <td>(b. 1552, Köln, d. 1615, Praha)</td>\n",
                            "      <td>Bacchus, Ceres and Cupid</td>\n",
                            "      <td>../data/WGA/images/a/aachen/bacchus.jpg</td>\n",
                            "      <td>1601.0</td>\n",
                            "      <td>http://www.wga.hu/html/a/aachen/bacchus.html</td>\n",
                            "      <td>mythological</td>\n",
                            "      <td>German</td>\n",
                            "      <td>d57ed156ca104cbcb52d0ab4f76c84a1</td>\n",
                            "    </tr>\n",
                            "    <tr>\n",
                            "      <th>10791</th>\n",
                            "      <td>AACHEN, Hans von</td>\n",
                            "      <td>AACHEN, Hans von</td>\n",
                            "      <td>(b. 1552, Köln, d. 1615, Praha)</td>\n",
                            "      <td>Joking Couple</td>\n",
                            "      <td>../data/WGA/images/a/aachen/j_couple.jpg</td>\n",
                            "      <td>1601.0</td>\n",
                            "      <td>http://www.wga.hu/html/a/aachen/j_couple.html</td>\n",
                            "      <td>genre</td>\n",
                            "      <td>German</td>\n",
                            "      <td>d51bd5c5a7b1440587b437d428e270a6</td>\n",
                            "    </tr>\n",
                            "    <tr>\n",
                            "      <th>10792</th>\n",
                            "      <td>AACHEN, Hans von</td>\n",
                            "      <td>AACHEN, Hans von</td>\n",
                            "      <td>(b. 1552, Köln, d. 1615, Praha)</td>\n",
                            "      <td>Portrait of Emperor Rudolf II</td>\n",
                            "      <td>../data/WGA/images/a/aachen/rudolf2.jpg</td>\n",
                            "      <td>1590.0</td>\n",
                            "      <td>http://www.wga.hu/html/a/aachen/rudolf2.html</td>\n",
                            "      <td>portrait</td>\n",
                            "      <td>German</td>\n",
                            "      <td>5d7c0617643d4f7eb58cf38df03b8eb2</td>\n",
                            "    </tr>\n",
                            "    <tr>\n",
                            "      <th>10793</th>\n",
                            "      <td>AACHEN, Hans von</td>\n",
                            "      <td>AACHEN, Hans von</td>\n",
                            "      <td>(b. 1552, Köln, d. 1615, Praha)</td>\n",
                            "      <td>Self-Portrait with a Glass of Wine</td>\n",
                            "      <td>../data/WGA/images/a/aachen/selfport.jpg</td>\n",
                            "      <td>1591.0</td>\n",
                            "      <td>http://www.wga.hu/html/a/aachen/selfport.html</td>\n",
                            "      <td>portrait</td>\n",
                            "      <td>German</td>\n",
                            "      <td>b4de719d8ca84709a1fffafe7bb89db0</td>\n",
                            "    </tr>\n",
                            "  </tbody>\n",
                            "</table>\n",
                            "</div>"
                        ],
                        "text/plain": [
                            "         AuthorOriginal            Author                      AuthorBirth  \\\n",
                            "10789  AACHEN, Hans von  AACHEN, Hans von  (b. 1552, Köln, d. 1615, Praha)   \n",
                            "10790  AACHEN, Hans von  AACHEN, Hans von  (b. 1552, Köln, d. 1615, Praha)   \n",
                            "10791  AACHEN, Hans von  AACHEN, Hans von  (b. 1552, Köln, d. 1615, Praha)   \n",
                            "10792  AACHEN, Hans von  AACHEN, Hans von  (b. 1552, Köln, d. 1615, Praha)   \n",
                            "10793  AACHEN, Hans von  AACHEN, Hans von  (b. 1552, Köln, d. 1615, Praha)   \n",
                            "\n",
                            "                              Description  \\\n",
                            "10789                            Allegory   \n",
                            "10790            Bacchus, Ceres and Cupid   \n",
                            "10791                       Joking Couple   \n",
                            "10792       Portrait of Emperor Rudolf II   \n",
                            "10793  Self-Portrait with a Glass of Wine   \n",
                            "\n",
                            "                                           path  BeginDate  \\\n",
                            "10789  ../data/WGA/images/a/aachen/allegory.jpg     1598.0   \n",
                            "10790   ../data/WGA/images/a/aachen/bacchus.jpg     1601.0   \n",
                            "10791  ../data/WGA/images/a/aachen/j_couple.jpg     1601.0   \n",
                            "10792   ../data/WGA/images/a/aachen/rudolf2.jpg     1590.0   \n",
                            "10793  ../data/WGA/images/a/aachen/selfport.jpg     1591.0   \n",
                            "\n",
                            "                                            ImageURL          Type Country  \\\n",
                            "10789  http://www.wga.hu/html/a/aachen/allegory.html  mythological  German   \n",
                            "10790   http://www.wga.hu/html/a/aachen/bacchus.html  mythological  German   \n",
                            "10791  http://www.wga.hu/html/a/aachen/j_couple.html         genre  German   \n",
                            "10792   http://www.wga.hu/html/a/aachen/rudolf2.html      portrait  German   \n",
                            "10793  http://www.wga.hu/html/a/aachen/selfport.html      portrait  German   \n",
                            "\n",
                            "                                    uid  \n",
                            "10789  2355b564f41e41a09bf6ae2a503e152a  \n",
                            "10790  d57ed156ca104cbcb52d0ab4f76c84a1  \n",
                            "10791  d51bd5c5a7b1440587b437d428e270a6  \n",
                            "10792  5d7c0617643d4f7eb58cf38df03b8eb2  \n",
                            "10793  b4de719d8ca84709a1fffafe7bb89db0  "
                        ]
                    },
                    "execution_count": 23,
                    "metadata": {},
                    "output_type": "execute_result"
                }
            ],
            "source": [
                "metadata_2['AuthorOriginal'] = metadata_2['o_metadata'].apply(lambda x: x['AUTHOR'])\n",
                "metadata_2['Author'] = metadata_2['o_metadata'].apply(lambda x: x['AUTHOR'])\n",
                "metadata_2['AuthorBirth'] = metadata_2['o_metadata'].apply(lambda x: x['BORN-DIED'])\n",
                "metadata_2['Description'] = metadata_2['o_metadata'].apply(lambda x: x['TITLE'])\n",
                "metadata_2['BeginDate'] = metadata_2['o_date_begin']\n",
                "metadata_2['ImageURL'] = metadata_2['o_metadata'].apply(lambda x: x['URL'])\n",
                "metadata_2['Type'] = metadata_2['o_metadata'].apply(lambda x: x['TYPE'])\n",
                "metadata_2['Country'] = metadata_2['o_metadata'].apply(lambda x: x['SCHOOL'])\n",
                "\n",
                "\n",
                "metadata_2['uid'] = metadata_2['uid'].astype(str).apply(lambda x: x.replace('-', ''))\n",
                "metadata_2['path'] = wga_dir + metadata_2['path']\n",
                "\n",
                "metadata_2 = metadata_2[['AuthorOriginal', 'Author', 'AuthorBirth', 'Description', 'path', 'BeginDate', 'ImageURL', 'Type', 'Country', 'uid',]]\n",
                "metadata_2.head()\n"
            ]
        },
        {
            "cell_type": "code",
            "execution_count": 24,
            "metadata": {},
            "outputs": [
                {
                    "name": "stdout",
                    "output_type": "stream",
                    "text": [
                        "(370628, 14)\n"
                    ]
                },
                {
                    "data": {
                        "text/html": [
                            "<div>\n",
                            "<style scoped>\n",
                            "    .dataframe tbody tr th:only-of-type {\n",
                            "        vertical-align: middle;\n",
                            "    }\n",
                            "\n",
                            "    .dataframe tbody tr th {\n",
                            "        vertical-align: top;\n",
                            "    }\n",
                            "\n",
                            "    .dataframe thead th {\n",
                            "        text-align: right;\n",
                            "    }\n",
                            "</style>\n",
                            "<table border=\"1\" class=\"dataframe\">\n",
                            "  <thead>\n",
                            "    <tr style=\"text-align: right;\">\n",
                            "      <th></th>\n",
                            "      <th>AuthorOriginal</th>\n",
                            "      <th>Author</th>\n",
                            "      <th>AuthorBirth</th>\n",
                            "      <th>Description</th>\n",
                            "      <th>path</th>\n",
                            "      <th>BeginDate</th>\n",
                            "      <th>uid</th>\n",
                            "      <th>ImageURL</th>\n",
                            "      <th>City</th>\n",
                            "      <th>Country</th>\n",
                            "      <th>AuthorBirthCity</th>\n",
                            "      <th>AuthorDeathCity</th>\n",
                            "      <th>Drawer</th>\n",
                            "      <th>Type</th>\n",
                            "    </tr>\n",
                            "  </thead>\n",
                            "  <tbody>\n",
                            "    <tr>\n",
                            "      <th>0</th>\n",
                            "      <td>ALLEGRINI, Francesco</td>\n",
                            "      <td>ALLEGRINI Francesco</td>\n",
                            "      <td>1610.0</td>\n",
                            "      <td>tca con penna acquarellata 148 x 203 mm</td>\n",
                            "      <td>../data/1A/1A_1.jpg</td>\n",
                            "      <td>1628.0</td>\n",
                            "      <td>253993c139284a45be233a13121ddeeb</td>\n",
                            "      <td>https://dhlabsrv4.epfl.ch/iiif_replica/cini%2F...</td>\n",
                            "      <td>ADELAIDE</td>\n",
                            "      <td>NaN</td>\n",
                            "      <td>NaN</td>\n",
                            "      <td>NaN</td>\n",
                            "      <td>1A</td>\n",
                            "      <td>NaN</td>\n",
                            "    </tr>\n",
                            "  </tbody>\n",
                            "</table>\n",
                            "</div>"
                        ],
                        "text/plain": [
                            "         AuthorOriginal               Author AuthorBirth  \\\n",
                            "0  ALLEGRINI, Francesco  ALLEGRINI Francesco      1610.0   \n",
                            "\n",
                            "                               Description                 path  BeginDate  \\\n",
                            "0  tca con penna acquarellata 148 x 203 mm  ../data/1A/1A_1.jpg     1628.0   \n",
                            "\n",
                            "                                uid  \\\n",
                            "0  253993c139284a45be233a13121ddeeb   \n",
                            "\n",
                            "                                            ImageURL      City Country  \\\n",
                            "0  https://dhlabsrv4.epfl.ch/iiif_replica/cini%2F...  ADELAIDE     NaN   \n",
                            "\n",
                            "  AuthorBirthCity AuthorDeathCity Drawer Type  \n",
                            "0             NaN             NaN     1A  NaN  "
                        ]
                    },
                    "execution_count": 24,
                    "metadata": {},
                    "output_type": "execute_result"
                }
            ],
            "source": [
                "metadata_tot = pd.concat([metadata[['AuthorOriginal', 'Author', 'AuthorBirth', 'Description', 'path', 'BeginDate', 'uid', 'ImageURL', 'City',\n",
                "                                    'Country', 'AuthorBirthCity', 'AuthorDeathCity', 'Drawer']], \n",
                "                          metadata_2[['AuthorOriginal', 'Author', 'AuthorBirth', 'Description', 'path', 'BeginDate', 'uid', 'ImageURL', 'Country', 'Type',]]], axis=0)\n",
                "print(metadata_tot.shape)\n",
                "metadata_tot.head(1)"
            ]
        },
        {
            "cell_type": "code",
            "execution_count": 25,
            "metadata": {},
            "outputs": [],
            "source": [
                "# dropping duplicates\n",
                "metadata_tot = metadata_tot.groupby('uid').first().reset_index()"
            ]
        },
        {
            "cell_type": "markdown",
            "metadata": {},
            "source": [
                "### Morphograph"
            ]
        },
        {
            "cell_type": "code",
            "execution_count": 26,
            "metadata": {},
            "outputs": [
                {
                    "data": {
                        "text/html": [
                            "<div>\n",
                            "<style scoped>\n",
                            "    .dataframe tbody tr th:only-of-type {\n",
                            "        vertical-align: middle;\n",
                            "    }\n",
                            "\n",
                            "    .dataframe tbody tr th {\n",
                            "        vertical-align: top;\n",
                            "    }\n",
                            "\n",
                            "    .dataframe thead th {\n",
                            "        text-align: right;\n",
                            "    }\n",
                            "</style>\n",
                            "<table border=\"1\" class=\"dataframe\">\n",
                            "  <thead>\n",
                            "    <tr style=\"text-align: right;\">\n",
                            "      <th></th>\n",
                            "      <th>uid</th>\n",
                            "      <th>img1</th>\n",
                            "      <th>img2</th>\n",
                            "      <th>type</th>\n",
                            "      <th>annotated</th>\n",
                            "    </tr>\n",
                            "  </thead>\n",
                            "  <tbody>\n",
                            "    <tr>\n",
                            "      <th>0</th>\n",
                            "      <td>0f84770be893475581bebd8c0ce95704</td>\n",
                            "      <td>4b6e5a18012e4974a43f6f652c9cad78</td>\n",
                            "      <td>e3329a91a266412fb1a0975d70894178</td>\n",
                            "      <td>POSITIVE</td>\n",
                            "      <td>2017-07-19 15:02:50.997512+00:00</td>\n",
                            "    </tr>\n",
                            "    <tr>\n",
                            "      <th>1</th>\n",
                            "      <td>5ade49fc2dc649b9947496a41e2decdb</td>\n",
                            "      <td>384b9f017d5f43ba9dcfd92f2af830c4</td>\n",
                            "      <td>e3329a91a266412fb1a0975d70894178</td>\n",
                            "      <td>POSITIVE</td>\n",
                            "      <td>2017-07-19 15:02:51.238615+00:00</td>\n",
                            "    </tr>\n",
                            "    <tr>\n",
                            "      <th>2</th>\n",
                            "      <td>bf4d99eaf7da4bd486f9007c90c177a5</td>\n",
                            "      <td>94fe74bcebf9442fb5cd9a0327590a84</td>\n",
                            "      <td>726f47fb5bd94c5db8069334cc58020e</td>\n",
                            "      <td>POSITIVE</td>\n",
                            "      <td>2017-07-20 12:18:23.705228+00:00</td>\n",
                            "    </tr>\n",
                            "    <tr>\n",
                            "      <th>3</th>\n",
                            "      <td>b29ec3c83c5641f9b6afadb2409b6746</td>\n",
                            "      <td>922fe92d61e744b1a9462c848a916bcf</td>\n",
                            "      <td>726f47fb5bd94c5db8069334cc58020e</td>\n",
                            "      <td>POSITIVE</td>\n",
                            "      <td>2017-07-20 12:18:24.021703+00:00</td>\n",
                            "    </tr>\n",
                            "    <tr>\n",
                            "      <th>4</th>\n",
                            "      <td>ab27b55997b94bef9cca122829e9f64d</td>\n",
                            "      <td>94fe74bcebf9442fb5cd9a0327590a84</td>\n",
                            "      <td>922fe92d61e744b1a9462c848a916bcf</td>\n",
                            "      <td>POSITIVE</td>\n",
                            "      <td>2017-07-20 12:18:23.873097+00:00</td>\n",
                            "    </tr>\n",
                            "  </tbody>\n",
                            "</table>\n",
                            "</div>"
                        ],
                        "text/plain": [
                            "                                uid                              img1  \\\n",
                            "0  0f84770be893475581bebd8c0ce95704  4b6e5a18012e4974a43f6f652c9cad78   \n",
                            "1  5ade49fc2dc649b9947496a41e2decdb  384b9f017d5f43ba9dcfd92f2af830c4   \n",
                            "2  bf4d99eaf7da4bd486f9007c90c177a5  94fe74bcebf9442fb5cd9a0327590a84   \n",
                            "3  b29ec3c83c5641f9b6afadb2409b6746  922fe92d61e744b1a9462c848a916bcf   \n",
                            "4  ab27b55997b94bef9cca122829e9f64d  94fe74bcebf9442fb5cd9a0327590a84   \n",
                            "\n",
                            "                               img2      type                        annotated  \n",
                            "0  e3329a91a266412fb1a0975d70894178  POSITIVE 2017-07-19 15:02:50.997512+00:00  \n",
                            "1  e3329a91a266412fb1a0975d70894178  POSITIVE 2017-07-19 15:02:51.238615+00:00  \n",
                            "2  726f47fb5bd94c5db8069334cc58020e  POSITIVE 2017-07-20 12:18:23.705228+00:00  \n",
                            "3  726f47fb5bd94c5db8069334cc58020e  POSITIVE 2017-07-20 12:18:24.021703+00:00  \n",
                            "4  922fe92d61e744b1a9462c848a916bcf  POSITIVE 2017-07-20 12:18:23.873097+00:00  "
                        ]
                    },
                    "execution_count": 26,
                    "metadata": {},
                    "output_type": "execute_result"
                }
            ],
            "source": [
                "with open('../data/save_link_data_2018_08_02.pkl', 'rb') as f:\n",
                "    morpho_graph_complete = pickle.load(f)\n",
                "\n",
                "# contains uid\timg1\timg2\ttype\tannotated\n",
                "morpho_graph_complete.head()"
            ]
        },
        {
            "cell_type": "code",
            "execution_count": 27,
            "metadata": {},
            "outputs": [
                {
                    "name": "stdout",
                    "output_type": "stream",
                    "text": [
                        "(2564, 7)\n",
                        "(2564, 7)\n"
                    ]
                },
                {
                    "data": {
                        "text/html": [
                            "<div>\n",
                            "<style scoped>\n",
                            "    .dataframe tbody tr th:only-of-type {\n",
                            "        vertical-align: middle;\n",
                            "    }\n",
                            "\n",
                            "    .dataframe tbody tr th {\n",
                            "        vertical-align: top;\n",
                            "    }\n",
                            "\n",
                            "    .dataframe thead th {\n",
                            "        text-align: right;\n",
                            "    }\n",
                            "</style>\n",
                            "<table border=\"1\" class=\"dataframe\">\n",
                            "  <thead>\n",
                            "    <tr style=\"text-align: right;\">\n",
                            "      <th></th>\n",
                            "      <th>img1</th>\n",
                            "      <th>img2</th>\n",
                            "      <th>type</th>\n",
                            "      <th>uid</th>\n",
                            "      <th>annotated</th>\n",
                            "    </tr>\n",
                            "  </thead>\n",
                            "  <tbody>\n",
                            "    <tr>\n",
                            "      <th>0</th>\n",
                            "      <td>00d55aab334640cd9eaca09c33c353c1</td>\n",
                            "      <td>6d61adb6f53446b6b31adbb586df6079</td>\n",
                            "      <td>POSITIVE</td>\n",
                            "      <td>00d55aab334640cdb31adbb586df6079</td>\n",
                            "      <td>10-06-2022_14:52:40</td>\n",
                            "    </tr>\n",
                            "    <tr>\n",
                            "      <th>1</th>\n",
                            "      <td>00d55aab334640cd9eaca09c33c353c1</td>\n",
                            "      <td>7c3c9718d04f4961b258a109ffd338d9</td>\n",
                            "      <td>POSITIVE</td>\n",
                            "      <td>00d55aab334640cdb258a109ffd338d9</td>\n",
                            "      <td>10-06-2022_14:52:40</td>\n",
                            "    </tr>\n",
                            "    <tr>\n",
                            "      <th>2</th>\n",
                            "      <td>00d55aab334640cd9eaca09c33c353c1</td>\n",
                            "      <td>7f611bf9f5a244299ef2f673bb23b61e</td>\n",
                            "      <td>POSITIVE</td>\n",
                            "      <td>00d55aab334640cd9ef2f673bb23b61e</td>\n",
                            "      <td>10-06-2022_14:52:40</td>\n",
                            "    </tr>\n",
                            "    <tr>\n",
                            "      <th>3</th>\n",
                            "      <td>00d55aab334640cd9eaca09c33c353c1</td>\n",
                            "      <td>8e75362c2b8942a9988c91722c2346c9</td>\n",
                            "      <td>POSITIVE</td>\n",
                            "      <td>00d55aab334640cd988c91722c2346c9</td>\n",
                            "      <td>10-06-2022_14:52:40</td>\n",
                            "    </tr>\n",
                            "    <tr>\n",
                            "      <th>4</th>\n",
                            "      <td>00d55aab334640cd9eaca09c33c353c1</td>\n",
                            "      <td>af99b99138264aaaac311e6fa898b06a</td>\n",
                            "      <td>POSITIVE</td>\n",
                            "      <td>00d55aab334640cdac311e6fa898b06a</td>\n",
                            "      <td>10-06-2022_14:52:40</td>\n",
                            "    </tr>\n",
                            "  </tbody>\n",
                            "</table>\n",
                            "</div>"
                        ],
                        "text/plain": [
                            "                               img1                              img2  \\\n",
                            "0  00d55aab334640cd9eaca09c33c353c1  6d61adb6f53446b6b31adbb586df6079   \n",
                            "1  00d55aab334640cd9eaca09c33c353c1  7c3c9718d04f4961b258a109ffd338d9   \n",
                            "2  00d55aab334640cd9eaca09c33c353c1  7f611bf9f5a244299ef2f673bb23b61e   \n",
                            "3  00d55aab334640cd9eaca09c33c353c1  8e75362c2b8942a9988c91722c2346c9   \n",
                            "4  00d55aab334640cd9eaca09c33c353c1  af99b99138264aaaac311e6fa898b06a   \n",
                            "\n",
                            "       type                               uid            annotated  \n",
                            "0  POSITIVE  00d55aab334640cdb31adbb586df6079  10-06-2022_14:52:40  \n",
                            "1  POSITIVE  00d55aab334640cdb258a109ffd338d9  10-06-2022_14:52:40  \n",
                            "2  POSITIVE  00d55aab334640cd9ef2f673bb23b61e  10-06-2022_14:52:40  \n",
                            "3  POSITIVE  00d55aab334640cd988c91722c2346c9  10-06-2022_14:52:40  \n",
                            "4  POSITIVE  00d55aab334640cdac311e6fa898b06a  10-06-2022_14:52:40  "
                        ]
                    },
                    "execution_count": 27,
                    "metadata": {},
                    "output_type": "execute_result"
                }
            ],
            "source": [
                "morpho_graph_clusters = pd.read_csv(data_dir + 'morphograph_clusters.csv')\n",
                "print(morpho_graph_clusters.shape)\n",
                "morpho_graph_clusters = morpho_graph_clusters.groupby(['img1', 'img2', 'type']).first().reset_index()\n",
                "print(morpho_graph_clusters.shape)\n",
                "morpho_graph_clusters.to_csv(data_dir + 'morphograph_clusters.csv', index=False)\n",
                "morpho_graph_clusters['uid'] = morpho_graph_clusters['uid_connection']\n",
                "morpho_graph_clusters['annotated'] = morpho_graph_clusters['date']\n",
                "morpho_graph_clusters = morpho_graph_clusters.drop(columns=['uid_connection', 'date', 'cluster_file', 'cluster'])\n",
                "morpho_graph_clusters.head()"
            ]
        },
        {
            "cell_type": "code",
            "execution_count": 28,
            "metadata": {},
            "outputs": [
                {
                    "data": {
                        "text/plain": [
                            "(123227, 5)"
                        ]
                    },
                    "execution_count": 28,
                    "metadata": {},
                    "output_type": "execute_result"
                }
            ],
            "source": [
                "morpho_graph_complete = pd.concat([morpho_graph_complete, morpho_graph_clusters], axis=0)\n",
                "morpho_graph_complete.shape"
            ]
        },
        {
            "cell_type": "code",
            "execution_count": 29,
            "metadata": {},
            "outputs": [
                {
                    "data": {
                        "text/plain": [
                            "DUPLICATE        114431\n",
                            "POSITIVE           8611\n",
                            "SIMILAR              98\n",
                            "NON-DUPLICATE        60\n",
                            "PROPOSAL             27\n",
                            "Name: type, dtype: int64"
                        ]
                    },
                    "execution_count": 29,
                    "metadata": {},
                    "output_type": "execute_result"
                }
            ],
            "source": [
                "morpho_graph_complete['type'].value_counts()"
            ]
        },
        {
            "cell_type": "code",
            "execution_count": 30,
            "metadata": {},
            "outputs": [
                {
                    "data": {
                        "text/plain": [
                            "(123225, (123227, 5))"
                        ]
                    },
                    "execution_count": 30,
                    "metadata": {},
                    "output_type": "execute_result"
                }
            ],
            "source": [
                "morpho_graph_complete['uid'].nunique(), morpho_graph_complete.shape"
            ]
        },
        {
            "cell_type": "code",
            "execution_count": 42,
            "metadata": {},
            "outputs": [],
            "source": [
                "positives = get_train_test_split(metadata_tot, morpho_graph_complete)"
            ]
        },
        {
            "cell_type": "code",
            "execution_count": 43,
            "metadata": {},
            "outputs": [
                {
                    "data": {
                        "text/plain": [
                            "Index(['index', 'uid', 'AuthorOriginal', 'Author', 'AuthorBirth',\n",
                            "       'Description', 'path', 'BeginDate', 'ImageURL', 'City', 'Country',\n",
                            "       'AuthorBirthCity', 'AuthorDeathCity', 'Drawer', 'Type',\n",
                            "       'uid_connection', 'img1', 'img2', 'type', 'annotated', 'cluster_file',\n",
                            "       'cluster', 'set'],\n",
                            "      dtype='object')"
                        ]
                    },
                    "execution_count": 43,
                    "metadata": {},
                    "output_type": "execute_result"
                }
            ],
            "source": [
                "positives.columns"
            ]
        },
        {
            "cell_type": "code",
            "execution_count": 44,
            "metadata": {},
            "outputs": [
                {
                    "data": {
                        "text/plain": [
                            "TIZIANO Vecellio               1044\n",
                            "TIZIANO Vecellio (copia da)     322\n",
                            "BASSANO Jacopo                  316\n",
                            "CRANACH, Lucas the Elder        280\n",
                            "RAFFAELLO Sanzio                274\n",
                            "GRECO, El                       210\n",
                            "Name: Author, dtype: int64"
                        ]
                    },
                    "execution_count": 44,
                    "metadata": {},
                    "output_type": "execute_result"
                }
            ],
            "source": [
                "positives['Author'].value_counts()[:6]"
            ]
        },
        {
            "cell_type": "code",
            "execution_count": 50,
            "metadata": {},
            "outputs": [
                {
                    "data": {
                        "text/plain": [
                            "(1322, 23)"
                        ]
                    },
                    "execution_count": 50,
                    "metadata": {},
                    "output_type": "execute_result"
                }
            ],
            "source": [
                "positive = positives.groupby('uid').first().reset_index()\n",
                "positive[positive['ImageURL'].str.contains('cini')].shape"
            ]
        },
        {
            "cell_type": "code",
            "execution_count": 51,
            "metadata": {},
            "outputs": [
                {
                    "data": {
                        "text/plain": [
                            "(2175, 23)"
                        ]
                    },
                    "execution_count": 51,
                    "metadata": {},
                    "output_type": "execute_result"
                }
            ],
            "source": [
                "positive.shape"
            ]
        },
        {
            "cell_type": "code",
            "execution_count": 47,
            "metadata": {},
            "outputs": [
                {
                    "name": "stdout",
                    "output_type": "stream",
                    "text": [
                        "(7284, 23)\n"
                    ]
                }
            ],
            "source": [
                "positives = positives.groupby('uid_connection').first().reset_index()\n",
                "print(positives.shape)"
            ]
        },
        {
            "cell_type": "code",
            "execution_count": 48,
            "metadata": {},
            "outputs": [
                {
                    "data": {
                        "text/plain": [
                            "train    4513\n",
                            "val      1460\n",
                            "test     1311\n",
                            "Name: set, dtype: int64"
                        ]
                    },
                    "execution_count": 48,
                    "metadata": {},
                    "output_type": "execute_result"
                }
            ],
            "source": [
                "positive = positives.groupby('uid').last().reset_index()\n",
                "positives.set.value_counts()"
            ]
        },
        {
            "cell_type": "code",
            "execution_count": 49,
            "metadata": {},
            "outputs": [
                {
                    "data": {
                        "text/plain": [
                            "(4411, 23)"
                        ]
                    },
                    "execution_count": 49,
                    "metadata": {},
                    "output_type": "execute_result"
                }
            ],
            "source": [
                "positives[positives['ImageURL'].str.contains('cini')].shape"
            ]
        },
        {
            "cell_type": "code",
            "execution_count": 35,
            "metadata": {},
            "outputs": [],
            "source": [
                "positive.to_csv(data_dir + 'morpho_dataset.csv')"
            ]
        },
        {
            "cell_type": "code",
            "execution_count": 36,
            "metadata": {},
            "outputs": [
                {
                    "data": {
                        "text/plain": [
                            "Index(['uid', 'uid_connection', 'index', 'AuthorOriginal', 'Author',\n",
                            "       'AuthorBirth', 'Description', 'path', 'BeginDate', 'ImageURL', 'City',\n",
                            "       'Country', 'AuthorBirthCity', 'AuthorDeathCity', 'Drawer', 'Type',\n",
                            "       'img1', 'img2', 'type', 'annotated', 'cluster_file', 'cluster', 'set'],\n",
                            "      dtype='object')"
                        ]
                    },
                    "execution_count": 36,
                    "metadata": {},
                    "output_type": "execute_result"
                }
            ],
            "source": [
                "positive.columns"
            ]
        },
        {
            "cell_type": "markdown",
            "metadata": {},
            "source": [
                "## Getting a subset of the data\n",
                "\n",
                "In order to select a subset of the data, we would like to vary spatially and temporally, for it to be suitable to the data in the morphograph and to be comprehensive of what we want to study.\n"
            ]
        },
        {
            "cell_type": "code",
            "execution_count": 23,
            "metadata": {},
            "outputs": [
                {
                    "data": {
                        "text/plain": [
                            "(370106, 14)"
                        ]
                    },
                    "execution_count": 23,
                    "metadata": {},
                    "output_type": "execute_result"
                }
            ],
            "source": [
                "metadata_tot['BeginDate'] = [int(met) if (len(met) == 4) and ('/' not in met) else 0 for met in metadata_tot['BeginDate'].fillna(0).astype(str).str.strip('c. ').str[:-2].str.strip('-, ')]\n",
                "metadata_tot.shape"
            ]
        },
        {
            "cell_type": "code",
            "execution_count": 24,
            "metadata": {},
            "outputs": [
                {
                    "name": "stderr",
                    "output_type": "stream",
                    "text": [
                        "C:\\Users\\ludov\\AppData\\Local\\Temp/ipykernel_13724/2324671621.py:1: UserWarning: Boolean Series key will be reindexed to match DataFrame index.\n",
                        "  metadata_tot = metadata_tot[metadata_tot['BeginDate'] > 1400][metadata_tot['BeginDate'] < 1700]\n"
                    ]
                },
                {
                    "data": {
                        "text/plain": [
                            "(155004, 14)"
                        ]
                    },
                    "execution_count": 24,
                    "metadata": {},
                    "output_type": "execute_result"
                }
            ],
            "source": [
                "metadata_tot = metadata_tot[metadata_tot['BeginDate'] > 1400][metadata_tot['BeginDate'] < 1700]\n",
                "metadata_tot.shape"
            ]
        },
        {
            "cell_type": "code",
            "execution_count": 26,
            "metadata": {},
            "outputs": [],
            "source": [
                "morpho_graph_complete = morpho_graph_complete.drop(columns=['cluster_file'])"
            ]
        },
        {
            "cell_type": "code",
            "execution_count": 27,
            "metadata": {},
            "outputs": [
                {
                    "data": {
                        "text/plain": [
                            "(122901, 21)"
                        ]
                    },
                    "execution_count": 34,
                    "metadata": {},
                    "output_type": "execute_result"
                }
            ],
            "source": [
                "#morpho_graph_complete = morpho_graph_complete.drop(columns=['cluster_file'])\n",
                "subset_max = remove_duplicates(metadata_tot, morpho_graph_complete)\n",
                "subset_max.shape"
            ]
        },
        {
            "cell_type": "code",
            "execution_count": 35,
            "metadata": {},
            "outputs": [],
            "source": [
                "subset_max = subset_max.drop(columns=['cluster','index'])"
            ]
        },
        {
            "cell_type": "code",
            "execution_count": 36,
            "metadata": {},
            "outputs": [
                {
                    "name": "stdout",
                    "output_type": "stream",
                    "text": [
                        "(111563, 19)\n",
                        "(111563, 19)\n"
                    ]
                }
            ],
            "source": [
                "subset_max = subset_max.sort_values('uid_connection').groupby(['AuthorOriginal', 'Description']).first().reset_index()\n",
                "print(subset_max.shape)\n",
                "\n",
                "subset_max = subset_max[subset_max['path'].notnull()].groupby('uid').first().reset_index()\n",
                "subset_max = subset_max[subset_max['Description'].notnull()]\n",
                "subset_max['uid_connection'] = subset_max['uid_connection'].fillna('Not uid connection')\n",
                "print(subset_max.shape)"
            ]
        },
        {
            "cell_type": "code",
            "execution_count": 37,
            "metadata": {},
            "outputs": [
                {
                    "data": {
                        "text/plain": [
                            "(101894, 19)"
                        ]
                    },
                    "execution_count": 37,
                    "metadata": {},
                    "output_type": "execute_result"
                }
            ],
            "source": [
                "to_remove = ['tavolo', 'facciata', 'paesaggio', 'esterno', 'pag.', 'soffitto',\n",
                "             'sedia', 'veduta', 'scorcio', 'capitell', 'architettonic',\n",
                "             'fontana', 'edifici', 'libr', 'architettonic']\n",
                "subset_max = subset_max[~subset_max['Description'].str.lower().str.contains(r'|'.join(to_remove))]\n",
                "subset_max.shape"
            ]
        },
        {
            "cell_type": "code",
            "execution_count": 38,
            "metadata": {},
            "outputs": [
                {
                    "data": {
                        "text/plain": [
                            "(95671, 19)"
                        ]
                    },
                    "execution_count": 38,
                    "metadata": {},
                    "output_type": "execute_result"
                }
            ],
            "source": [
                "drawers = [str(num)+str(let) for num in range(70, 86) for let in ['A', 'B', 'C']]\n",
                "subset_max = subset_max[~subset_max['Drawer'].isin(drawers)]\n",
                "subset_max.shape"
            ]
        },
        {
            "cell_type": "code",
            "execution_count": 39,
            "metadata": {},
            "outputs": [
                {
                    "data": {
                        "text/plain": [
                            "(17675, 19)"
                        ]
                    },
                    "execution_count": 39,
                    "metadata": {},
                    "output_type": "execute_result"
                }
            ],
            "source": [
                "subset_max[subset_max['path'].str.contains('WGA')].shape"
            ]
        },
        {
            "cell_type": "code",
            "execution_count": 40,
            "metadata": {},
            "outputs": [
                {
                    "data": {
                        "text/plain": [
                            "(78010, 19)"
                        ]
                    },
                    "execution_count": 40,
                    "metadata": {},
                    "output_type": "execute_result"
                }
            ],
            "source": [
                "subset_max[subset_max['ImageURL'].str.contains('cini')].shape"
            ]
        },
        {
            "cell_type": "code",
            "execution_count": 41,
            "metadata": {},
            "outputs": [
                {
                    "name": "stdout",
                    "output_type": "stream",
                    "text": [
                        "(85294, 24)\n"
                    ]
                }
            ],
            "source": [
                "data = pd.concat([subset_max[subset_max['ImageURL'].str.contains('cini')], positives], axis=0).reset_index().groupby(['uid', 'uid_connection']).last().reset_index()\n",
                "print(data.shape)"
            ]
        },
        {
            "cell_type": "code",
            "execution_count": 34,
            "metadata": {},
            "outputs": [
                {
                    "name": "stdout",
                    "output_type": "stream",
                    "text": [
                        "(203945, 23)\n"
                    ]
                }
            ],
            "source": [
                "data = pd.concat([subset_max, positives], axis=0).reset_index().groupby(['uid', 'uid_connection']).last().reset_index()\n",
                "print(data.shape)"
            ]
        },
        {
            "cell_type": "code",
            "execution_count": 35,
            "metadata": {},
            "outputs": [
                {
                    "name": "stderr",
                    "output_type": "stream",
                    "text": [
                        "199572it [00:00, 960964.74it/s] \n"
                    ]
                }
            ],
            "source": [
                "uid2path = {}\n",
                "\n",
                "for uid, path in tqdm(zip(data['uid'].unique(), data['path'].unique())):\n",
                "    uid2path[uid] = path\n",
                "\n",
                "with open(data_dir + 'uid2path.pkl', 'wb') as outfile:\n",
                "    pickle.dump(uid2path, outfile)"
            ]
        },
        {
            "cell_type": "code",
            "execution_count": 43,
            "metadata": {},
            "outputs": [
                {
                    "data": {
                        "text/plain": [
                            "train    4513\n",
                            "val      1460\n",
                            "test     1311\n",
                            "Name: set, dtype: int64"
                        ]
                    },
                    "execution_count": 36,
                    "metadata": {},
                    "output_type": "execute_result"
                }
            ],
            "source": [
                "data.set.value_counts()"
            ]
        },
        {
            "cell_type": "code",
            "execution_count": 44,
            "metadata": {},
            "outputs": [],
            "source": [
                "data.to_csv(data_dir + 'data.csv', index=False)"
            ]
        },
        {
            "cell_type": "code",
            "execution_count": 37,
            "metadata": {},
            "outputs": [],
            "source": [
                "data.to_csv(data_dir + 'data_all.csv', index=False)"
            ]
        },
        {
            "cell_type": "markdown",
            "metadata": {},
            "source": [
                "### Subset"
            ]
        },
        {
            "cell_type": "code",
            "execution_count": 46,
            "metadata": {},
            "outputs": [
                {
                    "data": {
                        "text/html": [
                            "<div>\n",
                            "<style scoped>\n",
                            "    .dataframe tbody tr th:only-of-type {\n",
                            "        vertical-align: middle;\n",
                            "    }\n",
                            "\n",
                            "    .dataframe tbody tr th {\n",
                            "        vertical-align: top;\n",
                            "    }\n",
                            "\n",
                            "    .dataframe thead th {\n",
                            "        text-align: right;\n",
                            "    }\n",
                            "</style>\n",
                            "<table border=\"1\" class=\"dataframe\">\n",
                            "  <thead>\n",
                            "    <tr style=\"text-align: right;\">\n",
                            "      <th></th>\n",
                            "      <th>uid</th>\n",
                            "      <th>cluster</th>\n",
                            "      <th>index</th>\n",
                            "      <th>AuthorOriginal</th>\n",
                            "      <th>AuthorBirth</th>\n",
                            "      <th>Description</th>\n",
                            "      <th>path</th>\n",
                            "      <th>BeginDate</th>\n",
                            "      <th>uid_connection</th>\n",
                            "      <th>img1</th>\n",
                            "      <th>img2</th>\n",
                            "      <th>type</th>\n",
                            "      <th>annotated</th>\n",
                            "      <th>set</th>\n",
                            "    </tr>\n",
                            "  </thead>\n",
                            "  <tbody>\n",
                            "    <tr>\n",
                            "      <th>0</th>\n",
                            "      <td>ef24688d56f74848bcec4307b9b31f07</td>\n",
                            "      <td>ef24688d56f74848bcec4307b9b31f07</td>\n",
                            "      <td>115875</td>\n",
                            "      <td>SEC XVII</td>\n",
                            "      <td>NaN</td>\n",
                            "      <td>Ritratto di una Palettoni.</td>\n",
                            "      <td>/mnt/project_replica/datasets/cini/153C/153C_1...</td>\n",
                            "      <td>1600.0</td>\n",
                            "      <td>Not uid connection</td>\n",
                            "      <td>NaN</td>\n",
                            "      <td>NaN</td>\n",
                            "      <td>NaN</td>\n",
                            "      <td>NaN</td>\n",
                            "      <td>NaN</td>\n",
                            "    </tr>\n",
                            "  </tbody>\n",
                            "</table>\n",
                            "</div>"
                        ],
                        "text/plain": [
                            "                                uid                           cluster   index  \\\n",
                            "0  ef24688d56f74848bcec4307b9b31f07  ef24688d56f74848bcec4307b9b31f07  115875   \n",
                            "\n",
                            "  AuthorOriginal AuthorBirth                 Description  \\\n",
                            "0       SEC XVII         NaN  Ritratto di una Palettoni.   \n",
                            "\n",
                            "                                                path BeginDate  \\\n",
                            "0  /mnt/project_replica/datasets/cini/153C/153C_1...    1600.0   \n",
                            "\n",
                            "       uid_connection img1 img2 type annotated  set  \n",
                            "0  Not uid connection  NaN  NaN  NaN       NaN  NaN  "
                        ]
                    },
                    "execution_count": 46,
                    "metadata": {},
                    "output_type": "execute_result"
                }
            ],
            "source": [
                "sample = pd.read_csv(data_dir + 'original/dedup_data_sample_wga.csv').drop(columns=['Unnamed: 0.1', 'Unnamed: 0', 'level_0'])\n",
                "sample.head(1)"
            ]
        },
        {
            "cell_type": "code",
            "execution_count": 47,
            "metadata": {},
            "outputs": [
                {
                    "name": "stdout",
                    "output_type": "stream",
                    "text": [
                        "(14652, 23)\n"
                    ]
                },
                {
                    "data": {
                        "text/html": [
                            "<div>\n",
                            "<style scoped>\n",
                            "    .dataframe tbody tr th:only-of-type {\n",
                            "        vertical-align: middle;\n",
                            "    }\n",
                            "\n",
                            "    .dataframe tbody tr th {\n",
                            "        vertical-align: top;\n",
                            "    }\n",
                            "\n",
                            "    .dataframe thead th {\n",
                            "        text-align: right;\n",
                            "    }\n",
                            "</style>\n",
                            "<table border=\"1\" class=\"dataframe\">\n",
                            "  <thead>\n",
                            "    <tr style=\"text-align: right;\">\n",
                            "      <th></th>\n",
                            "      <th>uid</th>\n",
                            "      <th>uid_connection</th>\n",
                            "      <th>AuthorOriginal</th>\n",
                            "      <th>Description</th>\n",
                            "      <th>Author</th>\n",
                            "      <th>AuthorBirth</th>\n",
                            "      <th>path</th>\n",
                            "      <th>BeginDate</th>\n",
                            "      <th>ImageURL</th>\n",
                            "      <th>City</th>\n",
                            "      <th>...</th>\n",
                            "      <th>Drawer</th>\n",
                            "      <th>Type</th>\n",
                            "      <th>img1</th>\n",
                            "      <th>img2</th>\n",
                            "      <th>type</th>\n",
                            "      <th>annotated</th>\n",
                            "      <th>index</th>\n",
                            "      <th>cluster_file</th>\n",
                            "      <th>cluster</th>\n",
                            "      <th>set</th>\n",
                            "    </tr>\n",
                            "  </thead>\n",
                            "  <tbody>\n",
                            "    <tr>\n",
                            "      <th>11</th>\n",
                            "      <td>00046fb9752f41e8a74ab3a2b1168039</td>\n",
                            "      <td>0dde0c4734c34ad2a91e5470d8cd1295</td>\n",
                            "      <td>GARNIER, Etienne-Barthélemy</td>\n",
                            "      <td>Diana and Her Nymphs</td>\n",
                            "      <td>GARNIER, Etienne-Barthélemy</td>\n",
                            "      <td>(b. 1759, Paris, d. 1849, Paris)</td>\n",
                            "      <td>../data/WGA/images/g/garnie/diana_ny.jpg</td>\n",
                            "      <td>1751.0</td>\n",
                            "      <td>http://www.wga.hu/html/g/garnie/diana_ny.html</td>\n",
                            "      <td>None</td>\n",
                            "      <td>...</td>\n",
                            "      <td>None</td>\n",
                            "      <td>mythological</td>\n",
                            "      <td>00046fb9752f41e8a74ab3a2b1168039</td>\n",
                            "      <td>d00e4250fe934c53b065725419483521</td>\n",
                            "      <td>POSITIVE</td>\n",
                            "      <td>2016-05-17 16:24:53+00:00</td>\n",
                            "      <td>0.0</td>\n",
                            "      <td>Original</td>\n",
                            "      <td>72.0</td>\n",
                            "      <td>val</td>\n",
                            "    </tr>\n",
                            "  </tbody>\n",
                            "</table>\n",
                            "<p>1 rows × 23 columns</p>\n",
                            "</div>"
                        ],
                        "text/plain": [
                            "                                 uid                    uid_connection  \\\n",
                            "11  00046fb9752f41e8a74ab3a2b1168039  0dde0c4734c34ad2a91e5470d8cd1295   \n",
                            "\n",
                            "                 AuthorOriginal           Description  \\\n",
                            "11  GARNIER, Etienne-Barthélemy  Diana and Her Nymphs   \n",
                            "\n",
                            "                         Author                       AuthorBirth  \\\n",
                            "11  GARNIER, Etienne-Barthélemy  (b. 1759, Paris, d. 1849, Paris)   \n",
                            "\n",
                            "                                        path  BeginDate  \\\n",
                            "11  ../data/WGA/images/g/garnie/diana_ny.jpg     1751.0   \n",
                            "\n",
                            "                                         ImageURL  City  ... Drawer  \\\n",
                            "11  http://www.wga.hu/html/g/garnie/diana_ny.html  None  ...   None   \n",
                            "\n",
                            "            Type                              img1  \\\n",
                            "11  mythological  00046fb9752f41e8a74ab3a2b1168039   \n",
                            "\n",
                            "                                img2      type                  annotated  \\\n",
                            "11  d00e4250fe934c53b065725419483521  POSITIVE  2016-05-17 16:24:53+00:00   \n",
                            "\n",
                            "   index cluster_file cluster  set  \n",
                            "11   0.0     Original    72.0  val  \n",
                            "\n",
                            "[1 rows x 23 columns]"
                        ]
                    },
                    "execution_count": 47,
                    "metadata": {},
                    "output_type": "execute_result"
                }
            ],
            "source": [
                "in_sample = list(sample.uid.unique())\n",
                "\n",
                "data_sample = data[data['uid'].isin(in_sample)].drop(columns=['level_0'])\n",
                "print(data_sample.shape)\n",
                "data_sample.head(1)"
            ]
        },
        {
            "cell_type": "code",
            "execution_count": 48,
            "metadata": {},
            "outputs": [
                {
                    "data": {
                        "text/plain": [
                            "(12574, 23)"
                        ]
                    },
                    "execution_count": 48,
                    "metadata": {},
                    "output_type": "execute_result"
                }
            ],
            "source": [
                "data_sample_orig = data_sample[~data_sample['annotated'].astype(str).fillna('').str.contains('2022')]\n",
                "data_sample_orig.shape"
            ]
        },
        {
            "cell_type": "code",
            "execution_count": 49,
            "metadata": {},
            "outputs": [],
            "source": [
                "data_sample_orig.to_csv(data_dir + 'data_sample.csv', index=False)"
            ]
        },
        {
            "cell_type": "code",
            "execution_count": 50,
            "metadata": {},
            "outputs": [],
            "source": [
                "data_sample.to_csv(data_dir + 'data_sample_0.csv', index=False)"
            ]
        },
        {
            "cell_type": "code",
            "execution_count": null,
            "metadata": {},
            "outputs": [],
            "source": []
        }
    ],
    "metadata": {
        "interpreter": {
            "hash": "6bdddb31d2fb89da9078eb0011314936146baaf4f9e5c99982bea0ddf03884f8"
        },
        "kernelspec": {
            "display_name": "Python 3.8.5 ('ada')",
            "language": "python",
            "name": "python3"
        },
        "language_info": {
            "codemirror_mode": {
                "name": "ipython",
                "version": 3
            },
            "file_extension": ".py",
            "mimetype": "text/x-python",
            "name": "python",
            "nbconvert_exporter": "python",
            "pygments_lexer": "ipython3",
            "version": "3.8.5"
        },
        "orig_nbformat": 4
    },
    "nbformat": 4,
    "nbformat_minor": 2
}
