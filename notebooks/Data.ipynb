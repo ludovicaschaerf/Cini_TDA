{
 "cells": [
  {
   "cell_type": "markdown",
   "metadata": {},
   "source": [
    "# Replica project\n",
    "\n",
    "### The data\n",
    "\n",
    "Stores the final deduplicated datasets and shows how the search can be done with pretrained embeddings"
   ]
  },
  {
   "cell_type": "code",
   "execution_count": 1,
   "metadata": {},
   "outputs": [],
   "source": [
    "# loading the metadata\n",
    "%load_ext autoreload\n",
    "%autoreload 2\n",
    "\n",
    "import pandas as pd\n",
    "\n",
    "from torch import nn\n",
    "import torchvision.models as models\n",
    "from tqdm import tqdm\n",
    "import torch\n",
    "import pickle\n",
    "from glob import glob\n",
    "# from scipy import sparse\n",
    "import sys\n",
    "import os.path\n",
    "from os import path\n",
    "\n",
    "\n",
    "sys.path.insert(0, \"../model/\")\n",
    "from utils import *\n",
    "from model_replica import ReplicaNet\n",
    "\n",
    "\n",
    "path = '/home/guhennec/scratch/2021_Cini/TopologicalAnalysis_Cini/data/'\n",
    "data_dir = '/scratch/students/schaerf/'\n",
    "replica_dir = '/mnt/project_replica/datasets/cini/'\n",
    "wga_dir = '/mnt/project_replica/datasets/'\n",
    "\n"
   ]
  },
  {
   "cell_type": "code",
   "execution_count": 121,
   "metadata": {},
   "outputs": [
    {
     "name": "stderr",
     "output_type": "stream",
     "text": [
      "/tmp/ipykernel_4067631/30539250.py:1: DtypeWarning: Columns (1) have mixed types. Specify dtype option on import or set low_memory=False.\n",
      "  metadata = pd.read_csv(path + 'Cini_20210811.csv', sep=';')\n"
     ]
    },
    {
     "data": {
      "text/html": [
       "<div>\n",
       "<style scoped>\n",
       "    .dataframe tbody tr th:only-of-type {\n",
       "        vertical-align: middle;\n",
       "    }\n",
       "\n",
       "    .dataframe tbody tr th {\n",
       "        vertical-align: top;\n",
       "    }\n",
       "\n",
       "    .dataframe thead th {\n",
       "        text-align: right;\n",
       "    }\n",
       "</style>\n",
       "<table border=\"1\" class=\"dataframe\">\n",
       "  <thead>\n",
       "    <tr style=\"text-align: right;\">\n",
       "      <th></th>\n",
       "      <th>Drawer</th>\n",
       "      <th>ImageNumber</th>\n",
       "      <th>Author</th>\n",
       "      <th>Description</th>\n",
       "      <th>AuthorOriginal</th>\n",
       "      <th>AuthorULANLabel</th>\n",
       "      <th>AuthorULAN</th>\n",
       "      <th>AuthorURL</th>\n",
       "      <th>AuthorComplemented</th>\n",
       "      <th>AuthorComplement</th>\n",
       "      <th>...</th>\n",
       "      <th>AuthorBirthLong</th>\n",
       "      <th>AuthorBirthLat</th>\n",
       "      <th>AuthorDeathLong</th>\n",
       "      <th>AuthorDeathLat</th>\n",
       "      <th>AuthorBirthCity</th>\n",
       "      <th>AuthorDeathCity</th>\n",
       "      <th>uid</th>\n",
       "      <th>CardboardURL</th>\n",
       "      <th>ImageURL</th>\n",
       "      <th>path</th>\n",
       "    </tr>\n",
       "  </thead>\n",
       "  <tbody>\n",
       "    <tr>\n",
       "      <th>0</th>\n",
       "      <td>1A</td>\n",
       "      <td>1</td>\n",
       "      <td>ALLEGRINI Francesco</td>\n",
       "      <td>tca con penna acquarellata 148 x 203 mm</td>\n",
       "      <td>ALLEGRINI, Francesco</td>\n",
       "      <td>Allegrini, Francesco</td>\n",
       "      <td>ulan:500115272</td>\n",
       "      <td>http://vocab.getty.edu/page/ulan/500115272</td>\n",
       "      <td>0</td>\n",
       "      <td>No complement</td>\n",
       "      <td>...</td>\n",
       "      <td>NaN</td>\n",
       "      <td>NaN</td>\n",
       "      <td>NaN</td>\n",
       "      <td>NaN</td>\n",
       "      <td>NaN</td>\n",
       "      <td>NaN</td>\n",
       "      <td>253993c139284a45be233a13121ddeeb</td>\n",
       "      <td>https://dhlabsrv4.epfl.ch/iiif_cini/1A%2F1A_1....</td>\n",
       "      <td>https://dhlabsrv4.epfl.ch/iiif_replica/cini%2F...</td>\n",
       "      <td>/mnt/project_replica/datasets/cini/1A/1A_1.jpg</td>\n",
       "    </tr>\n",
       "    <tr>\n",
       "      <th>1</th>\n",
       "      <td>1A</td>\n",
       "      <td>2</td>\n",
       "      <td>BAROCCI Federico</td>\n",
       "      <td>Studio di figura penna acquarellata (carboncin...</td>\n",
       "      <td>BAROCCI, Federico</td>\n",
       "      <td>Barocci, Federico</td>\n",
       "      <td>ulan:500115210</td>\n",
       "      <td>http://vocab.getty.edu/page/ulan/500115210</td>\n",
       "      <td>0</td>\n",
       "      <td>No complement</td>\n",
       "      <td>...</td>\n",
       "      <td>12.633333</td>\n",
       "      <td>43.716667</td>\n",
       "      <td>12.633333</td>\n",
       "      <td>43.716667</td>\n",
       "      <td>Urbino</td>\n",
       "      <td>Urbino</td>\n",
       "      <td>1323356994c24635a11fdcd9d5f9284a</td>\n",
       "      <td>https://dhlabsrv4.epfl.ch/iiif_cini/1A%2F1A_2....</td>\n",
       "      <td>https://dhlabsrv4.epfl.ch/iiif_replica/cini%2F...</td>\n",
       "      <td>/mnt/project_replica/datasets/cini/1A/1A_2.jpg</td>\n",
       "    </tr>\n",
       "    <tr>\n",
       "      <th>2</th>\n",
       "      <td>1A</td>\n",
       "      <td>3</td>\n",
       "      <td>BASSANO Leandro</td>\n",
       "      <td>Scene penna su carta blu 171 x 219 mm</td>\n",
       "      <td>BASSANO, Leandro</td>\n",
       "      <td>Bassano, Leandro</td>\n",
       "      <td>ulan:500015945</td>\n",
       "      <td>http://vocab.getty.edu/page/ulan/500015945</td>\n",
       "      <td>0</td>\n",
       "      <td>No complement</td>\n",
       "      <td>...</td>\n",
       "      <td>11.733333</td>\n",
       "      <td>45.766667</td>\n",
       "      <td>12.326667</td>\n",
       "      <td>45.438611</td>\n",
       "      <td>Bassano del Grappa</td>\n",
       "      <td>Venice</td>\n",
       "      <td>a4268385f6384e61a3dd092bc6b8c083</td>\n",
       "      <td>https://dhlabsrv4.epfl.ch/iiif_cini/1A%2F1A_3....</td>\n",
       "      <td>https://dhlabsrv4.epfl.ch/iiif_replica/cini%2F...</td>\n",
       "      <td>/mnt/project_replica/datasets/cini/1A/1A_3.jpg</td>\n",
       "    </tr>\n",
       "    <tr>\n",
       "      <th>3</th>\n",
       "      <td>1A</td>\n",
       "      <td>4</td>\n",
       "      <td>CAMPIGLI Massimo</td>\n",
       "      <td>Ragazza su una scala gessetto su carta bruna g...</td>\n",
       "      <td>CAMPIGLI, Massimo</td>\n",
       "      <td>Campigli, Massimo</td>\n",
       "      <td>ulan:500029770</td>\n",
       "      <td>http://vocab.getty.edu/page/ulan/500029770</td>\n",
       "      <td>0</td>\n",
       "      <td>No complement</td>\n",
       "      <td>...</td>\n",
       "      <td>13.400000</td>\n",
       "      <td>52.516667</td>\n",
       "      <td>6.639811</td>\n",
       "      <td>43.269316</td>\n",
       "      <td>Berlin</td>\n",
       "      <td>Var</td>\n",
       "      <td>550f368cdb4442aab4d5e2ada702d6ad</td>\n",
       "      <td>https://dhlabsrv4.epfl.ch/iiif_cini/1A%2F1A_4....</td>\n",
       "      <td>https://dhlabsrv4.epfl.ch/iiif_replica/cini%2F...</td>\n",
       "      <td>/mnt/project_replica/datasets/cini/1A/1A_4.jpg</td>\n",
       "    </tr>\n",
       "    <tr>\n",
       "      <th>4</th>\n",
       "      <td>1A</td>\n",
       "      <td>5</td>\n",
       "      <td>CARRACCI A attr</td>\n",
       "      <td>Madonna e Santi penna 291 x 205 mm</td>\n",
       "      <td>CARRACCI, A. attr.</td>\n",
       "      <td>NaN</td>\n",
       "      <td>NaN</td>\n",
       "      <td>NaN</td>\n",
       "      <td>1</td>\n",
       "      <td>attr</td>\n",
       "      <td>...</td>\n",
       "      <td>NaN</td>\n",
       "      <td>NaN</td>\n",
       "      <td>NaN</td>\n",
       "      <td>NaN</td>\n",
       "      <td>NaN</td>\n",
       "      <td>NaN</td>\n",
       "      <td>6047de5547b643cb87491be925748bee</td>\n",
       "      <td>https://dhlabsrv4.epfl.ch/iiif_cini/1A%2F1A_5....</td>\n",
       "      <td>https://dhlabsrv4.epfl.ch/iiif_replica/cini%2F...</td>\n",
       "      <td>/mnt/project_replica/datasets/cini/1A/1A_5.jpg</td>\n",
       "    </tr>\n",
       "  </tbody>\n",
       "</table>\n",
       "<p>5 rows × 38 columns</p>\n",
       "</div>"
      ],
      "text/plain": [
       "  Drawer ImageNumber               Author  \\\n",
       "0     1A           1  ALLEGRINI Francesco   \n",
       "1     1A           2     BAROCCI Federico   \n",
       "2     1A           3      BASSANO Leandro   \n",
       "3     1A           4     CAMPIGLI Massimo   \n",
       "4     1A           5      CARRACCI A attr   \n",
       "\n",
       "                                         Description        AuthorOriginal  \\\n",
       "0            tca con penna acquarellata 148 x 203 mm  ALLEGRINI, Francesco   \n",
       "1  Studio di figura penna acquarellata (carboncin...     BAROCCI, Federico   \n",
       "2              Scene penna su carta blu 171 x 219 mm      BASSANO, Leandro   \n",
       "3  Ragazza su una scala gessetto su carta bruna g...     CAMPIGLI, Massimo   \n",
       "4                 Madonna e Santi penna 291 x 205 mm    CARRACCI, A. attr.   \n",
       "\n",
       "        AuthorULANLabel      AuthorULAN  \\\n",
       "0  Allegrini, Francesco  ulan:500115272   \n",
       "1     Barocci, Federico  ulan:500115210   \n",
       "2      Bassano, Leandro  ulan:500015945   \n",
       "3     Campigli, Massimo  ulan:500029770   \n",
       "4                   NaN             NaN   \n",
       "\n",
       "                                    AuthorURL  AuthorComplemented  \\\n",
       "0  http://vocab.getty.edu/page/ulan/500115272                   0   \n",
       "1  http://vocab.getty.edu/page/ulan/500115210                   0   \n",
       "2  http://vocab.getty.edu/page/ulan/500015945                   0   \n",
       "3  http://vocab.getty.edu/page/ulan/500029770                   0   \n",
       "4                                         NaN                   1   \n",
       "\n",
       "  AuthorComplement  ...  AuthorBirthLong AuthorBirthLat AuthorDeathLong  \\\n",
       "0    No complement  ...              NaN            NaN             NaN   \n",
       "1    No complement  ...        12.633333      43.716667       12.633333   \n",
       "2    No complement  ...        11.733333      45.766667       12.326667   \n",
       "3    No complement  ...        13.400000      52.516667        6.639811   \n",
       "4             attr  ...              NaN            NaN             NaN   \n",
       "\n",
       "  AuthorDeathLat     AuthorBirthCity AuthorDeathCity  \\\n",
       "0            NaN                 NaN             NaN   \n",
       "1      43.716667              Urbino          Urbino   \n",
       "2      45.438611  Bassano del Grappa          Venice   \n",
       "3      43.269316              Berlin             Var   \n",
       "4            NaN                 NaN             NaN   \n",
       "\n",
       "                                uid  \\\n",
       "0  253993c139284a45be233a13121ddeeb   \n",
       "1  1323356994c24635a11fdcd9d5f9284a   \n",
       "2  a4268385f6384e61a3dd092bc6b8c083   \n",
       "3  550f368cdb4442aab4d5e2ada702d6ad   \n",
       "4  6047de5547b643cb87491be925748bee   \n",
       "\n",
       "                                        CardboardURL  \\\n",
       "0  https://dhlabsrv4.epfl.ch/iiif_cini/1A%2F1A_1....   \n",
       "1  https://dhlabsrv4.epfl.ch/iiif_cini/1A%2F1A_2....   \n",
       "2  https://dhlabsrv4.epfl.ch/iiif_cini/1A%2F1A_3....   \n",
       "3  https://dhlabsrv4.epfl.ch/iiif_cini/1A%2F1A_4....   \n",
       "4  https://dhlabsrv4.epfl.ch/iiif_cini/1A%2F1A_5....   \n",
       "\n",
       "                                            ImageURL  \\\n",
       "0  https://dhlabsrv4.epfl.ch/iiif_replica/cini%2F...   \n",
       "1  https://dhlabsrv4.epfl.ch/iiif_replica/cini%2F...   \n",
       "2  https://dhlabsrv4.epfl.ch/iiif_replica/cini%2F...   \n",
       "3  https://dhlabsrv4.epfl.ch/iiif_replica/cini%2F...   \n",
       "4  https://dhlabsrv4.epfl.ch/iiif_replica/cini%2F...   \n",
       "\n",
       "                                             path  \n",
       "0  /mnt/project_replica/datasets/cini/1A/1A_1.jpg  \n",
       "1  /mnt/project_replica/datasets/cini/1A/1A_2.jpg  \n",
       "2  /mnt/project_replica/datasets/cini/1A/1A_3.jpg  \n",
       "3  /mnt/project_replica/datasets/cini/1A/1A_4.jpg  \n",
       "4  /mnt/project_replica/datasets/cini/1A/1A_5.jpg  \n",
       "\n",
       "[5 rows x 38 columns]"
      ]
     },
     "execution_count": 121,
     "metadata": {},
     "output_type": "execute_result"
    }
   ],
   "source": [
    "metadata = pd.read_csv(path + 'Cini_20210811.csv', sep=';')\n",
    "metadata['path'] = replica_dir + metadata['Drawer'].astype(str) + '/' + metadata['Drawer'].astype(str) + '_' + metadata['ImageNumber'].astype(str) + '.jpg'\n",
    "metadata.head(5)"
   ]
  },
  {
   "cell_type": "code",
   "execution_count": null,
   "metadata": {},
   "outputs": [],
   "source": [
    "metadata.columns"
   ]
  },
  {
   "cell_type": "markdown",
   "metadata": {},
   "source": [
    "## Full data"
   ]
  },
  {
   "cell_type": "code",
   "execution_count": null,
   "metadata": {},
   "outputs": [
    {
     "data": {
      "text/html": [
       "<div>\n",
       "<style scoped>\n",
       "    .dataframe tbody tr th:only-of-type {\n",
       "        vertical-align: middle;\n",
       "    }\n",
       "\n",
       "    .dataframe tbody tr th {\n",
       "        vertical-align: top;\n",
       "    }\n",
       "\n",
       "    .dataframe thead th {\n",
       "        text-align: right;\n",
       "    }\n",
       "</style>\n",
       "<table border=\"1\" class=\"dataframe\">\n",
       "  <thead>\n",
       "    <tr style=\"text-align: right;\">\n",
       "      <th></th>\n",
       "      <th>uid</th>\n",
       "      <th>added</th>\n",
       "      <th>source</th>\n",
       "      <th>path</th>\n",
       "      <th>o_uid</th>\n",
       "      <th>o_title</th>\n",
       "      <th>o_date_begin</th>\n",
       "      <th>o_date_end</th>\n",
       "      <th>o_attribution</th>\n",
       "      <th>o_metadata</th>\n",
       "    </tr>\n",
       "  </thead>\n",
       "  <tbody>\n",
       "    <tr>\n",
       "      <th>10789</th>\n",
       "      <td>2355b564-f41e-41a0-9bf6-ae2a503e152a</td>\n",
       "      <td>2017-07-14 15:34:43.288743+00:00</td>\n",
       "      <td>wga</td>\n",
       "      <td>WGA/images/a/aachen/allegory.jpg</td>\n",
       "      <td>0b6ac6d2-934d-4169-8be1-7d1e874be727</td>\n",
       "      <td>Allegory</td>\n",
       "      <td>1598.0</td>\n",
       "      <td>1598.0</td>\n",
       "      <td>Web Gallery of Art</td>\n",
       "      <td>{'URL': 'http://www.wga.hu/html/a/aachen/alleg...</td>\n",
       "    </tr>\n",
       "    <tr>\n",
       "      <th>10790</th>\n",
       "      <td>d57ed156-ca10-4cbc-b52d-0ab4f76c84a1</td>\n",
       "      <td>2017-07-14 15:34:43.432937+00:00</td>\n",
       "      <td>wga</td>\n",
       "      <td>WGA/images/a/aachen/bacchus.jpg</td>\n",
       "      <td>c5f370c3-1dcf-41f9-8a18-61e251015e1f</td>\n",
       "      <td>Bacchus, Ceres and Cupid</td>\n",
       "      <td>1601.0</td>\n",
       "      <td>1650.0</td>\n",
       "      <td>Web Gallery of Art</td>\n",
       "      <td>{'URL': 'http://www.wga.hu/html/a/aachen/bacch...</td>\n",
       "    </tr>\n",
       "    <tr>\n",
       "      <th>10791</th>\n",
       "      <td>d51bd5c5-a7b1-4405-87b4-37d428e270a6</td>\n",
       "      <td>2017-07-14 15:34:43.545463+00:00</td>\n",
       "      <td>wga</td>\n",
       "      <td>WGA/images/a/aachen/j_couple.jpg</td>\n",
       "      <td>b1f6412b-2486-48cb-9cc8-dec0d1c373fc</td>\n",
       "      <td>Joking Couple</td>\n",
       "      <td>1601.0</td>\n",
       "      <td>1650.0</td>\n",
       "      <td>Web Gallery of Art</td>\n",
       "      <td>{'URL': 'http://www.wga.hu/html/a/aachen/j_cou...</td>\n",
       "    </tr>\n",
       "    <tr>\n",
       "      <th>10792</th>\n",
       "      <td>5d7c0617-643d-4f7e-b58c-f38df03b8eb2</td>\n",
       "      <td>2017-07-14 15:34:43.643147+00:00</td>\n",
       "      <td>wga</td>\n",
       "      <td>WGA/images/a/aachen/rudolf2.jpg</td>\n",
       "      <td>2ec53e3b-d907-495a-964c-304e8b66f1c4</td>\n",
       "      <td>Portrait of Emperor Rudolf II</td>\n",
       "      <td>1590.0</td>\n",
       "      <td>1600.0</td>\n",
       "      <td>Web Gallery of Art</td>\n",
       "      <td>{'URL': 'http://www.wga.hu/html/a/aachen/rudol...</td>\n",
       "    </tr>\n",
       "    <tr>\n",
       "      <th>10793</th>\n",
       "      <td>b4de719d-8ca8-4709-a1ff-fafe7bb89db0</td>\n",
       "      <td>2017-07-14 15:34:43.719061+00:00</td>\n",
       "      <td>wga</td>\n",
       "      <td>WGA/images/a/aachen/selfport.jpg</td>\n",
       "      <td>8f58673a-bc0a-45ca-85ff-7b205a8063bf</td>\n",
       "      <td>Self-Portrait with a Glass of Wine</td>\n",
       "      <td>1591.0</td>\n",
       "      <td>1601.0</td>\n",
       "      <td>Web Gallery of Art</td>\n",
       "      <td>{'URL': 'http://www.wga.hu/html/a/aachen/selfp...</td>\n",
       "    </tr>\n",
       "  </tbody>\n",
       "</table>\n",
       "</div>"
      ],
      "text/plain": [
       "                                        uid                            added  \\\n",
       "10789  2355b564-f41e-41a0-9bf6-ae2a503e152a 2017-07-14 15:34:43.288743+00:00   \n",
       "10790  d57ed156-ca10-4cbc-b52d-0ab4f76c84a1 2017-07-14 15:34:43.432937+00:00   \n",
       "10791  d51bd5c5-a7b1-4405-87b4-37d428e270a6 2017-07-14 15:34:43.545463+00:00   \n",
       "10792  5d7c0617-643d-4f7e-b58c-f38df03b8eb2 2017-07-14 15:34:43.643147+00:00   \n",
       "10793  b4de719d-8ca8-4709-a1ff-fafe7bb89db0 2017-07-14 15:34:43.719061+00:00   \n",
       "\n",
       "      source                              path  \\\n",
       "10789    wga  WGA/images/a/aachen/allegory.jpg   \n",
       "10790    wga   WGA/images/a/aachen/bacchus.jpg   \n",
       "10791    wga  WGA/images/a/aachen/j_couple.jpg   \n",
       "10792    wga   WGA/images/a/aachen/rudolf2.jpg   \n",
       "10793    wga  WGA/images/a/aachen/selfport.jpg   \n",
       "\n",
       "                                      o_uid  \\\n",
       "10789  0b6ac6d2-934d-4169-8be1-7d1e874be727   \n",
       "10790  c5f370c3-1dcf-41f9-8a18-61e251015e1f   \n",
       "10791  b1f6412b-2486-48cb-9cc8-dec0d1c373fc   \n",
       "10792  2ec53e3b-d907-495a-964c-304e8b66f1c4   \n",
       "10793  8f58673a-bc0a-45ca-85ff-7b205a8063bf   \n",
       "\n",
       "                                  o_title  o_date_begin  o_date_end  \\\n",
       "10789                            Allegory        1598.0      1598.0   \n",
       "10790            Bacchus, Ceres and Cupid        1601.0      1650.0   \n",
       "10791                       Joking Couple        1601.0      1650.0   \n",
       "10792       Portrait of Emperor Rudolf II        1590.0      1600.0   \n",
       "10793  Self-Portrait with a Glass of Wine        1591.0      1601.0   \n",
       "\n",
       "            o_attribution                                         o_metadata  \n",
       "10789  Web Gallery of Art  {'URL': 'http://www.wga.hu/html/a/aachen/alleg...  \n",
       "10790  Web Gallery of Art  {'URL': 'http://www.wga.hu/html/a/aachen/bacch...  \n",
       "10791  Web Gallery of Art  {'URL': 'http://www.wga.hu/html/a/aachen/j_cou...  \n",
       "10792  Web Gallery of Art  {'URL': 'http://www.wga.hu/html/a/aachen/rudol...  \n",
       "10793  Web Gallery of Art  {'URL': 'http://www.wga.hu/html/a/aachen/selfp...  "
      ]
     },
     "execution_count": 123,
     "metadata": {},
     "output_type": "execute_result"
    }
   ],
   "source": [
    "#metadata_2 = pd.read_excel(wga_dir + 'catalog.xls') #no uid\n",
    "#print(metadata_2)\n",
    "\n",
    "#metadata_2 = pd.read_csv(wga_dir + 'index.csv',).drop('Unnamed: 0', axis=1)\n",
    "#metadata_2.columns = ['Author', 'AuthorBirth', 'Description', 'path', 'BeginDate', 'date_num', 'height', 'width', 'is_color', 'uid']\n",
    "\n",
    "with open(data_dir + 'image_data_2022_04_28.pkl', 'rb') as infile:\n",
    "    metadata_2 = pickle.load(infile)\n",
    "\n",
    "\n",
    "metadata_2 = metadata_2[metadata_2['source'] == 'wga']   \n",
    "metadata_2.head()\n"
   ]
  },
  {
   "cell_type": "code",
   "execution_count": null,
   "metadata": {},
   "outputs": [
    {
     "data": {
      "text/plain": [
       "{'URL': 'http://www.wga.hu/html/a/aachen/allegory.html',\n",
       " 'DATE': 1598,\n",
       " 'FORM': 'painting',\n",
       " 'TYPE': 'mythological',\n",
       " 'TITLE': 'Allegory',\n",
       " 'AUTHOR': 'AACHEN, Hans von',\n",
       " 'SCHOOL': 'German',\n",
       " 'LOCATION': 'Alte Pinakothek, Munich',\n",
       " 'TIMELINE': '1601-1650',\n",
       " 'BORN-DIED': '(b. 1552, Köln, d. 1615, Praha)',\n",
       " 'TECHNIQUE': 'Oil on copper, 56 x 47 cm'}"
      ]
     },
     "execution_count": 124,
     "metadata": {},
     "output_type": "execute_result"
    }
   ],
   "source": [
    "metadata_2.reset_index()['o_metadata'][0]"
   ]
  },
  {
   "cell_type": "code",
   "execution_count": null,
   "metadata": {},
   "outputs": [
    {
     "data": {
      "text/html": [
       "<div>\n",
       "<style scoped>\n",
       "    .dataframe tbody tr th:only-of-type {\n",
       "        vertical-align: middle;\n",
       "    }\n",
       "\n",
       "    .dataframe tbody tr th {\n",
       "        vertical-align: top;\n",
       "    }\n",
       "\n",
       "    .dataframe thead th {\n",
       "        text-align: right;\n",
       "    }\n",
       "</style>\n",
       "<table border=\"1\" class=\"dataframe\">\n",
       "  <thead>\n",
       "    <tr style=\"text-align: right;\">\n",
       "      <th></th>\n",
       "      <th>Author</th>\n",
       "      <th>AuthorBirth</th>\n",
       "      <th>Description</th>\n",
       "      <th>path</th>\n",
       "      <th>BeginDate</th>\n",
       "      <th>uid</th>\n",
       "    </tr>\n",
       "  </thead>\n",
       "  <tbody>\n",
       "    <tr>\n",
       "      <th>10789</th>\n",
       "      <td>AACHEN, Hans von</td>\n",
       "      <td>(b. 1552, Köln, d. 1615, Praha)</td>\n",
       "      <td>Allegory</td>\n",
       "      <td>/mnt/project_replica/datasets/WGA/images/a/aac...</td>\n",
       "      <td>1598</td>\n",
       "      <td>2355b564f41e41a09bf6ae2a503e152a</td>\n",
       "    </tr>\n",
       "    <tr>\n",
       "      <th>10790</th>\n",
       "      <td>AACHEN, Hans von</td>\n",
       "      <td>(b. 1552, Köln, d. 1615, Praha)</td>\n",
       "      <td>Bacchus, Ceres and Cupid</td>\n",
       "      <td>/mnt/project_replica/datasets/WGA/images/a/aac...</td>\n",
       "      <td>-</td>\n",
       "      <td>d57ed156ca104cbcb52d0ab4f76c84a1</td>\n",
       "    </tr>\n",
       "    <tr>\n",
       "      <th>10791</th>\n",
       "      <td>AACHEN, Hans von</td>\n",
       "      <td>(b. 1552, Köln, d. 1615, Praha)</td>\n",
       "      <td>Joking Couple</td>\n",
       "      <td>/mnt/project_replica/datasets/WGA/images/a/aac...</td>\n",
       "      <td>-</td>\n",
       "      <td>d51bd5c5a7b1440587b437d428e270a6</td>\n",
       "    </tr>\n",
       "    <tr>\n",
       "      <th>10792</th>\n",
       "      <td>AACHEN, Hans von</td>\n",
       "      <td>(b. 1552, Köln, d. 1615, Praha)</td>\n",
       "      <td>Portrait of Emperor Rudolf II</td>\n",
       "      <td>/mnt/project_replica/datasets/WGA/images/a/aac...</td>\n",
       "      <td>1590s</td>\n",
       "      <td>5d7c0617643d4f7eb58cf38df03b8eb2</td>\n",
       "    </tr>\n",
       "    <tr>\n",
       "      <th>10793</th>\n",
       "      <td>AACHEN, Hans von</td>\n",
       "      <td>(b. 1552, Köln, d. 1615, Praha)</td>\n",
       "      <td>Self-Portrait with a Glass of Wine</td>\n",
       "      <td>/mnt/project_replica/datasets/WGA/images/a/aac...</td>\n",
       "      <td>c. 1596</td>\n",
       "      <td>b4de719d8ca84709a1fffafe7bb89db0</td>\n",
       "    </tr>\n",
       "  </tbody>\n",
       "</table>\n",
       "</div>"
      ],
      "text/plain": [
       "                 Author                      AuthorBirth  \\\n",
       "10789  AACHEN, Hans von  (b. 1552, Köln, d. 1615, Praha)   \n",
       "10790  AACHEN, Hans von  (b. 1552, Köln, d. 1615, Praha)   \n",
       "10791  AACHEN, Hans von  (b. 1552, Köln, d. 1615, Praha)   \n",
       "10792  AACHEN, Hans von  (b. 1552, Köln, d. 1615, Praha)   \n",
       "10793  AACHEN, Hans von  (b. 1552, Köln, d. 1615, Praha)   \n",
       "\n",
       "                              Description  \\\n",
       "10789                            Allegory   \n",
       "10790            Bacchus, Ceres and Cupid   \n",
       "10791                       Joking Couple   \n",
       "10792       Portrait of Emperor Rudolf II   \n",
       "10793  Self-Portrait with a Glass of Wine   \n",
       "\n",
       "                                                    path BeginDate  \\\n",
       "10789  /mnt/project_replica/datasets/WGA/images/a/aac...      1598   \n",
       "10790  /mnt/project_replica/datasets/WGA/images/a/aac...         -   \n",
       "10791  /mnt/project_replica/datasets/WGA/images/a/aac...         -   \n",
       "10792  /mnt/project_replica/datasets/WGA/images/a/aac...     1590s   \n",
       "10793  /mnt/project_replica/datasets/WGA/images/a/aac...   c. 1596   \n",
       "\n",
       "                                    uid  \n",
       "10789  2355b564f41e41a09bf6ae2a503e152a  \n",
       "10790  d57ed156ca104cbcb52d0ab4f76c84a1  \n",
       "10791  d51bd5c5a7b1440587b437d428e270a6  \n",
       "10792  5d7c0617643d4f7eb58cf38df03b8eb2  \n",
       "10793  b4de719d8ca84709a1fffafe7bb89db0  "
      ]
     },
     "execution_count": 125,
     "metadata": {},
     "output_type": "execute_result"
    }
   ],
   "source": [
    "metadata_2['Author'] = metadata_2['o_metadata'].apply(lambda x: x['AUTHOR'])\n",
    "metadata_2['AuthorBirth'] = metadata_2['o_metadata'].apply(lambda x: x['BORN-DIED'])\n",
    "metadata_2['Description'] = metadata_2['o_metadata'].apply(lambda x: x['TITLE'])\n",
    "metadata_2['BeginDate'] = metadata_2['o_metadata'].apply(lambda x: x['DATE'])\n",
    "\n",
    "metadata_2['uid'] = metadata_2['uid'].astype(str).apply(lambda x: x.replace('-', ''))\n",
    "metadata_2['path'] = wga_dir + metadata_2['path']\n",
    "\n",
    "metadata_2 = metadata_2[['Author', 'AuthorBirth', 'Description', 'path', 'BeginDate', 'uid',]]\n",
    "metadata_2.head()\n"
   ]
  },
  {
   "cell_type": "code",
   "execution_count": null,
   "metadata": {},
   "outputs": [
    {
     "data": {
      "text/html": [
       "<div>\n",
       "<style scoped>\n",
       "    .dataframe tbody tr th:only-of-type {\n",
       "        vertical-align: middle;\n",
       "    }\n",
       "\n",
       "    .dataframe tbody tr th {\n",
       "        vertical-align: top;\n",
       "    }\n",
       "\n",
       "    .dataframe thead th {\n",
       "        text-align: right;\n",
       "    }\n",
       "</style>\n",
       "<table border=\"1\" class=\"dataframe\">\n",
       "  <thead>\n",
       "    <tr style=\"text-align: right;\">\n",
       "      <th></th>\n",
       "      <th>Author</th>\n",
       "      <th>AuthorBirth</th>\n",
       "      <th>Description</th>\n",
       "      <th>path</th>\n",
       "      <th>BeginDate</th>\n",
       "      <th>uid</th>\n",
       "    </tr>\n",
       "  </thead>\n",
       "  <tbody>\n",
       "    <tr>\n",
       "      <th>30114</th>\n",
       "      <td>LEONARDO da Vinci</td>\n",
       "      <td>(b. 1452, Vinci, d. 1519, Cloux, near Amboise)</td>\n",
       "      <td>Virgin of the Rocks</td>\n",
       "      <td>/mnt/project_replica/datasets/WGA/images/l/leo...</td>\n",
       "      <td>1495-1508</td>\n",
       "      <td>fd08dd6652684417a7809bf727111d6f</td>\n",
       "    </tr>\n",
       "  </tbody>\n",
       "</table>\n",
       "</div>"
      ],
      "text/plain": [
       "                  Author                                     AuthorBirth  \\\n",
       "30114  LEONARDO da Vinci  (b. 1452, Vinci, d. 1519, Cloux, near Amboise)   \n",
       "\n",
       "               Description                                               path  \\\n",
       "30114  Virgin of the Rocks  /mnt/project_replica/datasets/WGA/images/l/leo...   \n",
       "\n",
       "       BeginDate                               uid  \n",
       "30114  1495-1508  fd08dd6652684417a7809bf727111d6f  "
      ]
     },
     "execution_count": 126,
     "metadata": {},
     "output_type": "execute_result"
    }
   ],
   "source": [
    "metadata_2[metadata_2['uid'] == 'fd08dd6652684417a7809bf727111d6f']"
   ]
  },
  {
   "cell_type": "code",
   "execution_count": null,
   "metadata": {},
   "outputs": [
    {
     "data": {
      "text/html": [
       "<div>\n",
       "<style scoped>\n",
       "    .dataframe tbody tr th:only-of-type {\n",
       "        vertical-align: middle;\n",
       "    }\n",
       "\n",
       "    .dataframe tbody tr th {\n",
       "        vertical-align: top;\n",
       "    }\n",
       "\n",
       "    .dataframe thead th {\n",
       "        text-align: right;\n",
       "    }\n",
       "</style>\n",
       "<table border=\"1\" class=\"dataframe\">\n",
       "  <thead>\n",
       "    <tr style=\"text-align: right;\">\n",
       "      <th></th>\n",
       "      <th>Author</th>\n",
       "      <th>AuthorBirth</th>\n",
       "      <th>Description</th>\n",
       "      <th>path</th>\n",
       "      <th>BeginDate</th>\n",
       "      <th>uid</th>\n",
       "    </tr>\n",
       "  </thead>\n",
       "  <tbody>\n",
       "    <tr>\n",
       "      <th>50014</th>\n",
       "      <td>VITALI, Ivan Petrovich</td>\n",
       "      <td>(b. 1794, St. Petersburg, d. 1855, St. Petersb...</td>\n",
       "      <td>Portrait of the Painter Karl Bryullov</td>\n",
       "      <td>/mnt/project_replica/datasets/WGA/images/v/vit...</td>\n",
       "      <td>1852</td>\n",
       "      <td>f997f8df2482498f93360c9511c14b3b</td>\n",
       "    </tr>\n",
       "    <tr>\n",
       "      <th>50015</th>\n",
       "      <td>VITALI, Ivan Petrovich</td>\n",
       "      <td>(b. 1794, St. Petersburg, d. 1855, St. Petersb...</td>\n",
       "      <td>Bust of Dolgoruky</td>\n",
       "      <td>/mnt/project_replica/datasets/WGA/images/v/vit...</td>\n",
       "      <td>1844</td>\n",
       "      <td>74dc4106aa874ed3b38ac72cb31aa82c</td>\n",
       "    </tr>\n",
       "    <tr>\n",
       "      <th>50016</th>\n",
       "      <td>VITALI, Ivan Petrovich</td>\n",
       "      <td>(b. 1794, St. Petersburg, d. 1855, St. Petersb...</td>\n",
       "      <td>Bust of Pushkin</td>\n",
       "      <td>/mnt/project_replica/datasets/WGA/images/v/vit...</td>\n",
       "      <td>1837</td>\n",
       "      <td>a3f0bd614de8434c8d26b3df08d763fc</td>\n",
       "    </tr>\n",
       "    <tr>\n",
       "      <th>50017</th>\n",
       "      <td>VITALI, Ivan Petrovich</td>\n",
       "      <td>(b. 1794, St. Petersburg, d. 1855, St. Petersb...</td>\n",
       "      <td>Venus</td>\n",
       "      <td>/mnt/project_replica/datasets/WGA/images/v/vit...</td>\n",
       "      <td>1852</td>\n",
       "      <td>16612395f449440fb9d8fdb2fa617bc2</td>\n",
       "    </tr>\n",
       "    <tr>\n",
       "      <th>50018</th>\n",
       "      <td>VITALI, Ivan Petrovich</td>\n",
       "      <td>(b. 1794, St. Petersburg, d. 1855, St. Petersb...</td>\n",
       "      <td>Venus</td>\n",
       "      <td>/mnt/project_replica/datasets/WGA/images/v/vit...</td>\n",
       "      <td>1852</td>\n",
       "      <td>69d0d257aadb4c15a0defb28c6adc5f5</td>\n",
       "    </tr>\n",
       "  </tbody>\n",
       "</table>\n",
       "</div>"
      ],
      "text/plain": [
       "                       Author  \\\n",
       "50014  VITALI, Ivan Petrovich   \n",
       "50015  VITALI, Ivan Petrovich   \n",
       "50016  VITALI, Ivan Petrovich   \n",
       "50017  VITALI, Ivan Petrovich   \n",
       "50018  VITALI, Ivan Petrovich   \n",
       "\n",
       "                                             AuthorBirth  \\\n",
       "50014  (b. 1794, St. Petersburg, d. 1855, St. Petersb...   \n",
       "50015  (b. 1794, St. Petersburg, d. 1855, St. Petersb...   \n",
       "50016  (b. 1794, St. Petersburg, d. 1855, St. Petersb...   \n",
       "50017  (b. 1794, St. Petersburg, d. 1855, St. Petersb...   \n",
       "50018  (b. 1794, St. Petersburg, d. 1855, St. Petersb...   \n",
       "\n",
       "                                 Description  \\\n",
       "50014  Portrait of the Painter Karl Bryullov   \n",
       "50015                      Bust of Dolgoruky   \n",
       "50016                        Bust of Pushkin   \n",
       "50017                                  Venus   \n",
       "50018                                  Venus   \n",
       "\n",
       "                                                    path BeginDate  \\\n",
       "50014  /mnt/project_replica/datasets/WGA/images/v/vit...      1852   \n",
       "50015  /mnt/project_replica/datasets/WGA/images/v/vit...      1844   \n",
       "50016  /mnt/project_replica/datasets/WGA/images/v/vit...      1837   \n",
       "50017  /mnt/project_replica/datasets/WGA/images/v/vit...      1852   \n",
       "50018  /mnt/project_replica/datasets/WGA/images/v/vit...      1852   \n",
       "\n",
       "                                    uid  \n",
       "50014  f997f8df2482498f93360c9511c14b3b  \n",
       "50015  74dc4106aa874ed3b38ac72cb31aa82c  \n",
       "50016  a3f0bd614de8434c8d26b3df08d763fc  \n",
       "50017  16612395f449440fb9d8fdb2fa617bc2  \n",
       "50018  69d0d257aadb4c15a0defb28c6adc5f5  "
      ]
     },
     "execution_count": 127,
     "metadata": {},
     "output_type": "execute_result"
    }
   ],
   "source": [
    "metadata_2[metadata_2['AuthorBirth'] == '(b. 1794, St. Petersburg, d. 1855, St. Petersburg)']"
   ]
  },
  {
   "cell_type": "code",
   "execution_count": null,
   "metadata": {},
   "outputs": [
    {
     "name": "stdout",
     "output_type": "stream",
     "text": [
      "(370628, 6)\n"
     ]
    },
    {
     "data": {
      "text/html": [
       "<div>\n",
       "<style scoped>\n",
       "    .dataframe tbody tr th:only-of-type {\n",
       "        vertical-align: middle;\n",
       "    }\n",
       "\n",
       "    .dataframe tbody tr th {\n",
       "        vertical-align: top;\n",
       "    }\n",
       "\n",
       "    .dataframe thead th {\n",
       "        text-align: right;\n",
       "    }\n",
       "</style>\n",
       "<table border=\"1\" class=\"dataframe\">\n",
       "  <thead>\n",
       "    <tr style=\"text-align: right;\">\n",
       "      <th></th>\n",
       "      <th>Author</th>\n",
       "      <th>AuthorBirth</th>\n",
       "      <th>Description</th>\n",
       "      <th>path</th>\n",
       "      <th>BeginDate</th>\n",
       "      <th>uid</th>\n",
       "    </tr>\n",
       "  </thead>\n",
       "  <tbody>\n",
       "    <tr>\n",
       "      <th>0</th>\n",
       "      <td>ALLEGRINI Francesco</td>\n",
       "      <td>1610.0</td>\n",
       "      <td>tca con penna acquarellata 148 x 203 mm</td>\n",
       "      <td>/mnt/project_replica/datasets/cini/1A/1A_1.jpg</td>\n",
       "      <td>1628.0</td>\n",
       "      <td>253993c139284a45be233a13121ddeeb</td>\n",
       "    </tr>\n",
       "    <tr>\n",
       "      <th>1</th>\n",
       "      <td>BAROCCI Federico</td>\n",
       "      <td>1528.0</td>\n",
       "      <td>Studio di figura penna acquarellata (carboncin...</td>\n",
       "      <td>/mnt/project_replica/datasets/cini/1A/1A_2.jpg</td>\n",
       "      <td>1546.0</td>\n",
       "      <td>1323356994c24635a11fdcd9d5f9284a</td>\n",
       "    </tr>\n",
       "    <tr>\n",
       "      <th>2</th>\n",
       "      <td>BASSANO Leandro</td>\n",
       "      <td>1557.0</td>\n",
       "      <td>Scene penna su carta blu 171 x 219 mm</td>\n",
       "      <td>/mnt/project_replica/datasets/cini/1A/1A_3.jpg</td>\n",
       "      <td>1575.0</td>\n",
       "      <td>a4268385f6384e61a3dd092bc6b8c083</td>\n",
       "    </tr>\n",
       "    <tr>\n",
       "      <th>3</th>\n",
       "      <td>CAMPIGLI Massimo</td>\n",
       "      <td>1895.0</td>\n",
       "      <td>Ragazza su una scala gessetto su carta bruna g...</td>\n",
       "      <td>/mnt/project_replica/datasets/cini/1A/1A_4.jpg</td>\n",
       "      <td>1913.0</td>\n",
       "      <td>550f368cdb4442aab4d5e2ada702d6ad</td>\n",
       "    </tr>\n",
       "    <tr>\n",
       "      <th>4</th>\n",
       "      <td>CARRACCI A attr</td>\n",
       "      <td>NaN</td>\n",
       "      <td>Madonna e Santi penna 291 x 205 mm</td>\n",
       "      <td>/mnt/project_replica/datasets/cini/1A/1A_5.jpg</td>\n",
       "      <td>NaN</td>\n",
       "      <td>6047de5547b643cb87491be925748bee</td>\n",
       "    </tr>\n",
       "  </tbody>\n",
       "</table>\n",
       "</div>"
      ],
      "text/plain": [
       "                Author AuthorBirth  \\\n",
       "0  ALLEGRINI Francesco      1610.0   \n",
       "1     BAROCCI Federico      1528.0   \n",
       "2      BASSANO Leandro      1557.0   \n",
       "3     CAMPIGLI Massimo      1895.0   \n",
       "4      CARRACCI A attr         NaN   \n",
       "\n",
       "                                         Description  \\\n",
       "0            tca con penna acquarellata 148 x 203 mm   \n",
       "1  Studio di figura penna acquarellata (carboncin...   \n",
       "2              Scene penna su carta blu 171 x 219 mm   \n",
       "3  Ragazza su una scala gessetto su carta bruna g...   \n",
       "4                 Madonna e Santi penna 291 x 205 mm   \n",
       "\n",
       "                                             path BeginDate  \\\n",
       "0  /mnt/project_replica/datasets/cini/1A/1A_1.jpg    1628.0   \n",
       "1  /mnt/project_replica/datasets/cini/1A/1A_2.jpg    1546.0   \n",
       "2  /mnt/project_replica/datasets/cini/1A/1A_3.jpg    1575.0   \n",
       "3  /mnt/project_replica/datasets/cini/1A/1A_4.jpg    1913.0   \n",
       "4  /mnt/project_replica/datasets/cini/1A/1A_5.jpg       NaN   \n",
       "\n",
       "                                uid  \n",
       "0  253993c139284a45be233a13121ddeeb  \n",
       "1  1323356994c24635a11fdcd9d5f9284a  \n",
       "2  a4268385f6384e61a3dd092bc6b8c083  \n",
       "3  550f368cdb4442aab4d5e2ada702d6ad  \n",
       "4  6047de5547b643cb87491be925748bee  "
      ]
     },
     "execution_count": 128,
     "metadata": {},
     "output_type": "execute_result"
    }
   ],
   "source": [
    "metadata_tot = pd.concat([metadata[['Author', 'AuthorBirth', 'Description', 'path', 'BeginDate', 'uid']], \n",
    "                          metadata_2[['Author', 'AuthorBirth', 'Description', 'path', 'BeginDate', 'uid']]], axis=0)\n",
    "print(metadata_tot.shape)\n",
    "metadata_tot.head()"
   ]
  },
  {
   "cell_type": "code",
   "execution_count": null,
   "metadata": {},
   "outputs": [],
   "source": [
    "metadata_tot['uid'].nunique(), metadata_tot.shape"
   ]
  },
  {
   "cell_type": "code",
   "execution_count": null,
   "metadata": {},
   "outputs": [],
   "source": [
    "# dropping duplicates\n",
    "\n",
    "metadata_tot = metadata_tot.groupby('uid').first().reset_index()"
   ]
  },
  {
   "cell_type": "code",
   "execution_count": null,
   "metadata": {},
   "outputs": [],
   "source": [
    "# in jeanne's code\n",
    "with open(path + 'save_link_data_2018_08_02.pkl', 'rb') as f:\n",
    "    morpho_graph_complete = pickle.load(f)\n",
    "\n",
    "# contains uid\timg1\timg2\ttype\tannotated\n",
    "morpho_graph_complete.head()"
   ]
  },
  {
   "cell_type": "code",
   "execution_count": null,
   "metadata": {},
   "outputs": [],
   "source": [
    "morpho_graph_complete[morpho_graph_complete['img1'].str.startswith('fd08dd6652684417a7809bf727111d6f')] # virgin of the rocks"
   ]
  },
  {
   "cell_type": "code",
   "execution_count": 133,
   "metadata": {},
   "outputs": [
    {
     "data": {
      "text/plain": [
       "DUPLICATE        114283\n",
       "POSITIVE           6293\n",
       "NON-DUPLICATE        60\n",
       "PROPOSAL             27\n",
       "Name: type, dtype: int64"
      ]
     },
     "execution_count": 133,
     "metadata": {},
     "output_type": "execute_result"
    }
   ],
   "source": [
    "morpho_graph_complete['type'].value_counts() # does positive mean similar?"
   ]
  },
  {
   "cell_type": "code",
   "execution_count": 134,
   "metadata": {},
   "outputs": [
    {
     "data": {
      "text/plain": [
       "(120663, (120663, 5))"
      ]
     },
     "execution_count": 134,
     "metadata": {},
     "output_type": "execute_result"
    }
   ],
   "source": [
    "morpho_graph_complete['uid'].nunique(), morpho_graph_complete.shape"
   ]
  },
  {
   "cell_type": "code",
   "execution_count": 135,
   "metadata": {},
   "outputs": [
    {
     "name": "stdout",
     "output_type": "stream",
     "text": [
      "(8521, 12)\n"
     ]
    },
    {
     "data": {
      "text/plain": [
       "train    5152\n",
       "test     2227\n",
       "val      1142\n",
       "Name: set, dtype: int64"
      ]
     },
     "execution_count": 135,
     "metadata": {},
     "output_type": "execute_result"
    }
   ],
   "source": [
    "positives = get_train_test_split(metadata_tot, morpho_graph_complete)\n",
    "positives.set.value_counts()"
   ]
  },
  {
   "cell_type": "code",
   "execution_count": 152,
   "metadata": {},
   "outputs": [
    {
     "name": "stdout",
     "output_type": "stream",
     "text": [
      "(4966, 14)\n"
     ]
    },
    {
     "data": {
      "text/html": [
       "<div>\n",
       "<style scoped>\n",
       "    .dataframe tbody tr th:only-of-type {\n",
       "        vertical-align: middle;\n",
       "    }\n",
       "\n",
       "    .dataframe tbody tr th {\n",
       "        vertical-align: top;\n",
       "    }\n",
       "\n",
       "    .dataframe thead th {\n",
       "        text-align: right;\n",
       "    }\n",
       "</style>\n",
       "<table border=\"1\" class=\"dataframe\">\n",
       "  <thead>\n",
       "    <tr style=\"text-align: right;\">\n",
       "      <th></th>\n",
       "      <th>uid_connection</th>\n",
       "      <th>index</th>\n",
       "      <th>uid</th>\n",
       "      <th>Author</th>\n",
       "      <th>AuthorBirth</th>\n",
       "      <th>Description</th>\n",
       "      <th>path</th>\n",
       "      <th>BeginDate</th>\n",
       "      <th>img1</th>\n",
       "      <th>img2</th>\n",
       "      <th>type</th>\n",
       "      <th>annotated</th>\n",
       "      <th>cluster</th>\n",
       "      <th>set</th>\n",
       "    </tr>\n",
       "  </thead>\n",
       "  <tbody>\n",
       "    <tr>\n",
       "      <th>0</th>\n",
       "      <td>002275ab17774b55a2d88d7a773b2d93</td>\n",
       "      <td>1289</td>\n",
       "      <td>4e6e928899224c9b8e5d15e37e211fe3</td>\n",
       "      <td>YÁÑEZ DE LA ALMEDINA, Fernando</td>\n",
       "      <td>(active 1505-36)</td>\n",
       "      <td>Madonna and Child with Infant St John</td>\n",
       "      <td>/mnt/project_replica/datasets/WGA/images/y/yan...</td>\n",
       "      <td>c. 1505</td>\n",
       "      <td>a2b4fec1607143d4ad4214b48bab69d6</td>\n",
       "      <td>4e6e928899224c9b8e5d15e37e211fe3</td>\n",
       "      <td>POSITIVE</td>\n",
       "      <td>2016-05-30 13:17:33+00:00</td>\n",
       "      <td>118</td>\n",
       "      <td>train</td>\n",
       "    </tr>\n",
       "    <tr>\n",
       "      <th>1</th>\n",
       "      <td>002ca9c06a704c779e69d93cb4fadaa3</td>\n",
       "      <td>1103</td>\n",
       "      <td>45588b4e33444ed8b34c523bac808bc4</td>\n",
       "      <td>TIZIANO Vecellio (copia da)</td>\n",
       "      <td>1483.0</td>\n",
       "      <td>S.Mariá Maddalena. cm. 123 x 91</td>\n",
       "      <td>/mnt/project_replica/datasets/cini/158B/158B_5...</td>\n",
       "      <td>c. 1565</td>\n",
       "      <td>45588b4e33444ed8b34c523bac808bc4</td>\n",
       "      <td>da54c106180449d1a52993e9a5bc17fd</td>\n",
       "      <td>POSITIVE</td>\n",
       "      <td>2018-07-24 14:58:44.559049+00:00</td>\n",
       "      <td>50</td>\n",
       "      <td>train</td>\n",
       "    </tr>\n",
       "    <tr>\n",
       "      <th>2</th>\n",
       "      <td>0038ab462149452b98a4d7359a06f9f4</td>\n",
       "      <td>2937</td>\n",
       "      <td>ae828b07e4284d80b652206ffb77278a</td>\n",
       "      <td>TIZIANO Vecellio (copia da)</td>\n",
       "      <td>1483.0</td>\n",
       "      <td>Morte di S. Pietro Martire. mm. 123,8 x 84,2</td>\n",
       "      <td>/mnt/project_replica/datasets/cini/158C/158C_1...</td>\n",
       "      <td>None</td>\n",
       "      <td>ae828b07e4284d80b652206ffb77278a</td>\n",
       "      <td>ea64207684694d379579998f88b7c29a</td>\n",
       "      <td>POSITIVE</td>\n",
       "      <td>2018-07-16 09:47:57.987515+00:00</td>\n",
       "      <td>51</td>\n",
       "      <td>val</td>\n",
       "    </tr>\n",
       "    <tr>\n",
       "      <th>3</th>\n",
       "      <td>00474897de044f7fb1ef16888dc198f3</td>\n",
       "      <td>2026</td>\n",
       "      <td>76b2c4aeab404bc79768117e3ddc62b1</td>\n",
       "      <td>BELLINI Giovanni (cerchia di)</td>\n",
       "      <td>1431.0</td>\n",
       "      <td>Pietà.</td>\n",
       "      <td>/mnt/project_replica/datasets/cini/47A/47A_858...</td>\n",
       "      <td>1449.0</td>\n",
       "      <td>76b2c4aeab404bc79768117e3ddc62b1</td>\n",
       "      <td>b8dd2c0c2c7146e68e5bbb0aaf6cf803</td>\n",
       "      <td>POSITIVE</td>\n",
       "      <td>2018-03-14 10:46:45.603341+00:00</td>\n",
       "      <td>498</td>\n",
       "      <td>test</td>\n",
       "    </tr>\n",
       "    <tr>\n",
       "      <th>4</th>\n",
       "      <td>008b01e279594f0eae9419cf52f6262b</td>\n",
       "      <td>2954</td>\n",
       "      <td>b03f0d316b824923a52e79688ba7e1b7</td>\n",
       "      <td>ALBANI, Francesco</td>\n",
       "      <td>(b. 1578, Bologna, d. 1660, Bologna)</td>\n",
       "      <td>Diana and Actaeon</td>\n",
       "      <td>/mnt/project_replica/datasets/WGA/images/a/alb...</td>\n",
       "      <td>c. 1617</td>\n",
       "      <td>b03f0d316b824923a52e79688ba7e1b7</td>\n",
       "      <td>2264411f35ed4fa18a4962413c13f529</td>\n",
       "      <td>POSITIVE</td>\n",
       "      <td>2016-09-13 15:43:39+00:00</td>\n",
       "      <td>242</td>\n",
       "      <td>train</td>\n",
       "    </tr>\n",
       "  </tbody>\n",
       "</table>\n",
       "</div>"
      ],
      "text/plain": [
       "                     uid_connection  index                               uid  \\\n",
       "0  002275ab17774b55a2d88d7a773b2d93   1289  4e6e928899224c9b8e5d15e37e211fe3   \n",
       "1  002ca9c06a704c779e69d93cb4fadaa3   1103  45588b4e33444ed8b34c523bac808bc4   \n",
       "2  0038ab462149452b98a4d7359a06f9f4   2937  ae828b07e4284d80b652206ffb77278a   \n",
       "3  00474897de044f7fb1ef16888dc198f3   2026  76b2c4aeab404bc79768117e3ddc62b1   \n",
       "4  008b01e279594f0eae9419cf52f6262b   2954  b03f0d316b824923a52e79688ba7e1b7   \n",
       "\n",
       "                           Author                           AuthorBirth  \\\n",
       "0  YÁÑEZ DE LA ALMEDINA, Fernando                      (active 1505-36)   \n",
       "1     TIZIANO Vecellio (copia da)                                1483.0   \n",
       "2     TIZIANO Vecellio (copia da)                                1483.0   \n",
       "3   BELLINI Giovanni (cerchia di)                                1431.0   \n",
       "4               ALBANI, Francesco  (b. 1578, Bologna, d. 1660, Bologna)   \n",
       "\n",
       "                                    Description  \\\n",
       "0         Madonna and Child with Infant St John   \n",
       "1               S.Mariá Maddalena. cm. 123 x 91   \n",
       "2  Morte di S. Pietro Martire. mm. 123,8 x 84,2   \n",
       "3                                        Pietà.   \n",
       "4                             Diana and Actaeon   \n",
       "\n",
       "                                                path BeginDate  \\\n",
       "0  /mnt/project_replica/datasets/WGA/images/y/yan...   c. 1505   \n",
       "1  /mnt/project_replica/datasets/cini/158B/158B_5...   c. 1565   \n",
       "2  /mnt/project_replica/datasets/cini/158C/158C_1...      None   \n",
       "3  /mnt/project_replica/datasets/cini/47A/47A_858...    1449.0   \n",
       "4  /mnt/project_replica/datasets/WGA/images/a/alb...   c. 1617   \n",
       "\n",
       "                               img1                              img2  \\\n",
       "0  a2b4fec1607143d4ad4214b48bab69d6  4e6e928899224c9b8e5d15e37e211fe3   \n",
       "1  45588b4e33444ed8b34c523bac808bc4  da54c106180449d1a52993e9a5bc17fd   \n",
       "2  ae828b07e4284d80b652206ffb77278a  ea64207684694d379579998f88b7c29a   \n",
       "3  76b2c4aeab404bc79768117e3ddc62b1  b8dd2c0c2c7146e68e5bbb0aaf6cf803   \n",
       "4  b03f0d316b824923a52e79688ba7e1b7  2264411f35ed4fa18a4962413c13f529   \n",
       "\n",
       "       type                        annotated  cluster    set  \n",
       "0  POSITIVE        2016-05-30 13:17:33+00:00      118  train  \n",
       "1  POSITIVE 2018-07-24 14:58:44.559049+00:00       50  train  \n",
       "2  POSITIVE 2018-07-16 09:47:57.987515+00:00       51    val  \n",
       "3  POSITIVE 2018-03-14 10:46:45.603341+00:00      498   test  \n",
       "4  POSITIVE        2016-09-13 15:43:39+00:00      242  train  "
      ]
     },
     "execution_count": 152,
     "metadata": {},
     "output_type": "execute_result"
    }
   ],
   "source": [
    "positives = positives.groupby('uid_connection').first().reset_index()\n",
    "print(positives.shape)\n",
    "positives.head()"
   ]
  },
  {
   "cell_type": "markdown",
   "metadata": {},
   "source": [
    "## Getting a subset of the data\n",
    "\n",
    "In order to select a subset of the data, we would like to vary spatially and temporally, for it to be suitable to the data in the morphograph and to be comprehensive of what we want to study.\n"
   ]
  },
  {
   "cell_type": "code",
   "execution_count": 137,
   "metadata": {},
   "outputs": [
    {
     "data": {
      "text/plain": [
       "0         1529\n",
       "1         1600\n",
       "2         1501\n",
       "3         1444\n",
       "4         1623\n",
       "          ... \n",
       "370101        \n",
       "370102        \n",
       "370103    1659\n",
       "370104    1762\n",
       "370105    1323\n",
       "Name: BeginDate, Length: 370106, dtype: object"
      ]
     },
     "execution_count": 137,
     "metadata": {},
     "output_type": "execute_result"
    }
   ],
   "source": [
    "metadata_tot['BeginDate'].fillna(0).astype(str).str.strip('c. ').str[:-2].str.strip('-')"
   ]
  },
  {
   "cell_type": "code",
   "execution_count": 138,
   "metadata": {},
   "outputs": [
    {
     "data": {
      "text/plain": [
       "(370106, 6)"
      ]
     },
     "execution_count": 138,
     "metadata": {},
     "output_type": "execute_result"
    }
   ],
   "source": [
    "#subset_max = metadata[metadata['BeginDate'] > 1550][metadata['BeginDate'] < 1650][metadata['AuthorDeathCity'].isin(['Parma', 'Bologna', 'Ravenna', 'Verona', 'Ferrara'])].reset_index()\n",
    "\n",
    "metadata_tot['BeginDate'] = [int(met) if (len(met) == 4) and ('/' not in met) else 0 for met in metadata_tot['BeginDate'].fillna(0).astype(str).str.strip('c. ').str[:-2].str.strip('-, ')]\n",
    "metadata_tot.shape"
   ]
  },
  {
   "cell_type": "code",
   "execution_count": 139,
   "metadata": {},
   "outputs": [
    {
     "name": "stderr",
     "output_type": "stream",
     "text": [
      "/tmp/ipykernel_4067631/795626849.py:1: UserWarning: Boolean Series key will be reindexed to match DataFrame index.\n",
      "  subset_max = metadata_tot[metadata_tot['BeginDate'] > 1450][metadata_tot['BeginDate'] < 1650]#[metadata['AuthorDeathCity'].isin(['Parma', 'Bologna', 'Ravenna', 'Verona', 'Ferrara'])].reset_index()\n"
     ]
    },
    {
     "data": {
      "text/plain": [
       "(106617, 6)"
      ]
     },
     "execution_count": 139,
     "metadata": {},
     "output_type": "execute_result"
    }
   ],
   "source": [
    "subset_max = metadata_tot[metadata_tot['BeginDate'] > 1450][metadata_tot['BeginDate'] < 1650]#[metadata['AuthorDeathCity'].isin(['Parma', 'Bologna', 'Ravenna', 'Verona', 'Ferrara'])].reset_index()\n",
    "subset_max.shape"
   ]
  },
  {
   "cell_type": "code",
   "execution_count": 140,
   "metadata": {},
   "outputs": [
    {
     "data": {
      "text/plain": [
       "(84950, 13)"
      ]
     },
     "execution_count": 140,
     "metadata": {},
     "output_type": "execute_result"
    }
   ],
   "source": [
    "subset_max = remove_duplicates(subset_max, morpho_graph_complete)\n",
    "subset_max.shape"
   ]
  },
  {
   "cell_type": "code",
   "execution_count": 96,
   "metadata": {},
   "outputs": [
    {
     "data": {
      "text/plain": [
       "'74B/74B_22.jpg'"
      ]
     },
     "execution_count": 96,
     "metadata": {},
     "output_type": "execute_result"
    }
   ],
   "source": [
    "list_downloaded = ['/'.join(file.split('/')[-2:]) for file in glob('/mnt/project_replica/datasets/cini/*/*')]\n",
    "list_downloaded[0]"
   ]
  },
  {
   "cell_type": "code",
   "execution_count": 97,
   "metadata": {},
   "outputs": [
    {
     "data": {
      "text/plain": [
       "330682"
      ]
     },
     "execution_count": 97,
     "metadata": {},
     "output_type": "execute_result"
    }
   ],
   "source": [
    "len(list_downloaded)"
   ]
  },
  {
   "cell_type": "code",
   "execution_count": 99,
   "metadata": {},
   "outputs": [
    {
     "data": {
      "text/plain": [
       "'lambert/child_lo.jpg'"
      ]
     },
     "execution_count": 99,
     "metadata": {},
     "output_type": "execute_result"
    }
   ],
   "source": [
    "list_downloaded_2 = ['/'.join(file.split('/')[-2:]) for file in glob(wga_dir + 'WGA/images/*/*/*/*')]\n",
    "list_downloaded_2[0]"
   ]
  },
  {
   "cell_type": "code",
   "execution_count": 100,
   "metadata": {},
   "outputs": [
    {
     "data": {
      "text/plain": [
       "19162"
      ]
     },
     "execution_count": 100,
     "metadata": {},
     "output_type": "execute_result"
    }
   ],
   "source": [
    "len(list_downloaded_2)"
   ]
  },
  {
   "cell_type": "code",
   "execution_count": 14,
   "metadata": {},
   "outputs": [],
   "source": [
    "del morpho_graph_complete\n",
    "del metadata"
   ]
  },
  {
   "cell_type": "code",
   "execution_count": 141,
   "metadata": {},
   "outputs": [
    {
     "name": "stdout",
     "output_type": "stream",
     "text": [
      "(84950, 13)\n"
     ]
    }
   ],
   "source": [
    "#uniques = subset_max[subset_max['uid'].isin(list_downloaded)].groupby('uid').first().reset_index()\n",
    "#subset_max['uid2'] = subset_max['Drawer'].astype(str) + '/' + subset_max['Drawer'].astype(str) + '_' + subset_max['ImageNumber'].astype(str) + '.jpg'\n",
    "\n",
    "#uniques = subset_max[subset_max['uid2'].isin(list_downloaded)].groupby('uid').first().reset_index()\n",
    "uniques = subset_max[subset_max['path'].notnull()].groupby('uid').first().reset_index()\n",
    "\n",
    "print(uniques.shape)"
   ]
  },
  {
   "cell_type": "code",
   "execution_count": 142,
   "metadata": {},
   "outputs": [
    {
     "data": {
      "text/plain": [
       "84950"
      ]
     },
     "execution_count": 142,
     "metadata": {},
     "output_type": "execute_result"
    }
   ],
   "source": [
    "subset_max['path'].nunique()"
   ]
  },
  {
   "cell_type": "code",
   "execution_count": 16,
   "metadata": {},
   "outputs": [],
   "source": [
    "#uniques['Desc'] = uniques['Description'].str.lower().str.split()\n",
    "#words = uniques.explode('Desc').reset_index()['Desc'].value_counts()\n",
    "#print(words[words.index.str.len() > 4][words > 100].to_string())"
   ]
  },
  {
   "cell_type": "code",
   "execution_count": 143,
   "metadata": {},
   "outputs": [],
   "source": [
    "uniques = uniques[uniques['Description'].notnull()]"
   ]
  },
  {
   "cell_type": "code",
   "execution_count": 144,
   "metadata": {},
   "outputs": [
    {
     "name": "stderr",
     "output_type": "stream",
     "text": [
      "/tmp/ipykernel_4067631/1446786371.py:3: SettingWithCopyWarning: \n",
      "A value is trying to be set on a copy of a slice from a DataFrame.\n",
      "Try using .loc[row_indexer,col_indexer] = value instead\n",
      "\n",
      "See the caveats in the documentation: https://pandas.pydata.org/pandas-docs/stable/user_guide/indexing.html#returning-a-view-versus-a-copy\n",
      "  short['Desc'] = short['Description'].str.lower().str.strip('.').str.split()\n"
     ]
    }
   ],
   "source": [
    "short = uniques[uniques['Description'].str.split().str.len() == 1]\n",
    "#print(short['Description'])\n",
    "short['Desc'] = short['Description'].str.lower().str.strip('.').str.split()\n",
    "words = short.explode('Desc').reset_index()['Desc'].value_counts()\n",
    "for idx in words[words.index.str.len() > 4][words > 10].index:\n",
    "    #print(idx)\n",
    "    continue"
   ]
  },
  {
   "cell_type": "code",
   "execution_count": 153,
   "metadata": {},
   "outputs": [
    {
     "data": {
      "text/plain": [
       "(84436, 13)"
      ]
     },
     "execution_count": 153,
     "metadata": {},
     "output_type": "execute_result"
    }
   ],
   "source": [
    "to_remove = ['affreschi', 'tavolo', 'affresco', 'veduta', 'disegno', 'composizione', 'stucchi', 'studi', ]\n",
    "short_remove = short.explode('Desc').reset_index()\n",
    "short_remove = short_remove[short_remove['Desc'].isin(to_remove)]\n",
    "uniques = uniques[~uniques['uid'].isin(list(short_remove['uid']))]\n",
    "uniques.shape"
   ]
  },
  {
   "cell_type": "code",
   "execution_count": 154,
   "metadata": {},
   "outputs": [],
   "source": [
    "uniques['uid_connection'] = uniques['uid_connection'].fillna('Not uid connection') "
   ]
  },
  {
   "cell_type": "code",
   "execution_count": 155,
   "metadata": {},
   "outputs": [
    {
     "name": "stdout",
     "output_type": "stream",
     "text": [
      "(89402, 15)\n",
      "(14966, 15)\n"
     ]
    }
   ],
   "source": [
    "data = pd.concat([uniques, positives], axis=0).reset_index().groupby(['uid', 'uid_connection']).last().reset_index()\n",
    "data_sample = pd.concat([uniques.sample(10000), positives], axis=0).reset_index()#.groupby('uid').first().reset_index()\n",
    "print(data.shape)\n",
    "#data = data[data['Drawer'].notnull()]\n",
    "#data_sample = data_sample[data_sample['Drawer'].notnull()]\n",
    "print(data_sample.shape)\n",
    "#data['path'] = data['Drawer'].astype(str) + '/' + data['Drawer'].astype(str) + '_' + data['ImageNumber'].astype(str) + '.jpg'\n",
    "#data_sample['path'] = data_sample['Drawer'].astype(str) + '/' + data_sample['Drawer'].astype(str) + '_' + data_sample['ImageNumber'].astype(str) + '.jpg'"
   ]
  },
  {
   "cell_type": "code",
   "execution_count": 156,
   "metadata": {},
   "outputs": [
    {
     "name": "stderr",
     "output_type": "stream",
     "text": [
      "85773it [00:00, 1155630.06it/s]\n"
     ]
    }
   ],
   "source": [
    "uid2path = {}\n",
    "\n",
    "for uid, path in tqdm(zip(data['uid'].unique(), data['path'].unique())):\n",
    "    uid2path[uid] = path\n",
    "\n",
    "with open(data_dir + 'uid2path.pkl', 'wb') as outfile:\n",
    "    pickle.dump(uid2path, outfile)"
   ]
  },
  {
   "cell_type": "code",
   "execution_count": 157,
   "metadata": {},
   "outputs": [
    {
     "data": {
      "text/plain": [
       "(85773, 85773)"
      ]
     },
     "execution_count": 157,
     "metadata": {},
     "output_type": "execute_result"
    }
   ],
   "source": [
    "data['uid'].nunique(), data['path'].nunique()"
   ]
  },
  {
   "cell_type": "code",
   "execution_count": 158,
   "metadata": {},
   "outputs": [
    {
     "data": {
      "text/html": [
       "<div>\n",
       "<style scoped>\n",
       "    .dataframe tbody tr th:only-of-type {\n",
       "        vertical-align: middle;\n",
       "    }\n",
       "\n",
       "    .dataframe tbody tr th {\n",
       "        vertical-align: top;\n",
       "    }\n",
       "\n",
       "    .dataframe thead th {\n",
       "        text-align: right;\n",
       "    }\n",
       "</style>\n",
       "<table border=\"1\" class=\"dataframe\">\n",
       "  <thead>\n",
       "    <tr style=\"text-align: right;\">\n",
       "      <th></th>\n",
       "      <th>uid</th>\n",
       "      <th>uid_connection</th>\n",
       "      <th>level_0</th>\n",
       "      <th>cluster</th>\n",
       "      <th>index</th>\n",
       "      <th>Author</th>\n",
       "      <th>AuthorBirth</th>\n",
       "      <th>Description</th>\n",
       "      <th>path</th>\n",
       "      <th>BeginDate</th>\n",
       "      <th>img1</th>\n",
       "      <th>img2</th>\n",
       "      <th>type</th>\n",
       "      <th>annotated</th>\n",
       "      <th>set</th>\n",
       "    </tr>\n",
       "  </thead>\n",
       "  <tbody>\n",
       "    <tr>\n",
       "      <th>28769</th>\n",
       "      <td>47fe31663b6f4c02b3b7e7218a98bf6a</td>\n",
       "      <td>Not uid connection</td>\n",
       "      <td>27585</td>\n",
       "      <td>47fe31663b6f4c02b3b7e7218a98bf6a</td>\n",
       "      <td>35251</td>\n",
       "      <td>CARRACCI Agostino</td>\n",
       "      <td>1557.0</td>\n",
       "      <td>Tritone di profilo verso destra.</td>\n",
       "      <td>/mnt/project_replica/datasets/cini/1A/1A_196.jpg</td>\n",
       "      <td>1575.0</td>\n",
       "      <td>None</td>\n",
       "      <td>None</td>\n",
       "      <td>None</td>\n",
       "      <td>NaT</td>\n",
       "      <td>None</td>\n",
       "    </tr>\n",
       "    <tr>\n",
       "      <th>36366</th>\n",
       "      <td>5d2db105280e4ce796d8fe11456e5cb7</td>\n",
       "      <td>Not uid connection</td>\n",
       "      <td>34731</td>\n",
       "      <td>5d2db105280e4ce796d8fe11456e5cb7</td>\n",
       "      <td>45136</td>\n",
       "      <td>CiMA da CONEGLIANO (e bottega)</td>\n",
       "      <td>1455.0</td>\n",
       "      <td>L 'Arcangelo Gabriele. Part.</td>\n",
       "      <td>/mnt/project_replica/datasets/cini/71C/71C_175...</td>\n",
       "      <td>1473.0</td>\n",
       "      <td>None</td>\n",
       "      <td>None</td>\n",
       "      <td>None</td>\n",
       "      <td>NaT</td>\n",
       "      <td>None</td>\n",
       "    </tr>\n",
       "    <tr>\n",
       "      <th>49965</th>\n",
       "      <td>8396e31fa5a94162b41a7d1129d203c2</td>\n",
       "      <td>Not uid connection</td>\n",
       "      <td>47544</td>\n",
       "      <td>8396e31fa5a94162b41a7d1129d203c2</td>\n",
       "      <td>63673</td>\n",
       "      <td>BOSCHINI Marco</td>\n",
       "      <td>1605.0</td>\n",
       "      <td>Pag. 668.</td>\n",
       "      <td>/mnt/project_replica/datasets/cini/42C/42C_698...</td>\n",
       "      <td>1623.0</td>\n",
       "      <td>None</td>\n",
       "      <td>None</td>\n",
       "      <td>None</td>\n",
       "      <td>NaT</td>\n",
       "      <td>None</td>\n",
       "    </tr>\n",
       "    <tr>\n",
       "      <th>13592</th>\n",
       "      <td>20a95f4e52044455a001fed5983ebd0f</td>\n",
       "      <td>1e7d248e4bc04f268f7253a0e173d1da</td>\n",
       "      <td>13051</td>\n",
       "      <td>20312</td>\n",
       "      <td>15979</td>\n",
       "      <td>LOTTO Lorenzo</td>\n",
       "      <td>1475.0</td>\n",
       "      <td>L' Adultera. 783</td>\n",
       "      <td>/mnt/project_replica/datasets/cini/127B/127B_2...</td>\n",
       "      <td>1493.0</td>\n",
       "      <td>20a95f4e52044455a001fed5983ebd0f</td>\n",
       "      <td>580fd2beae39494a9009bde01af3a36f</td>\n",
       "      <td>DUPLICATE</td>\n",
       "      <td>2018-07-19 17:28:27.168907+00:00</td>\n",
       "      <td>None</td>\n",
       "    </tr>\n",
       "    <tr>\n",
       "      <th>77642</th>\n",
       "      <td>d94fee4819054c608f73d551e0ce637d</td>\n",
       "      <td>Not uid connection</td>\n",
       "      <td>73775</td>\n",
       "      <td>d94fee4819054c608f73d551e0ce637d</td>\n",
       "      <td>105260</td>\n",
       "      <td>ASPERTINI Amico</td>\n",
       "      <td>1474.0</td>\n",
       "      <td>Libro di schizzi. Scena. Penna, colore a corpo...</td>\n",
       "      <td>/mnt/project_replica/datasets/cini/13B/13B_125...</td>\n",
       "      <td>1492.0</td>\n",
       "      <td>None</td>\n",
       "      <td>None</td>\n",
       "      <td>None</td>\n",
       "      <td>NaT</td>\n",
       "      <td>None</td>\n",
       "    </tr>\n",
       "  </tbody>\n",
       "</table>\n",
       "</div>"
      ],
      "text/plain": [
       "                                    uid                    uid_connection  \\\n",
       "28769  47fe31663b6f4c02b3b7e7218a98bf6a                Not uid connection   \n",
       "36366  5d2db105280e4ce796d8fe11456e5cb7                Not uid connection   \n",
       "49965  8396e31fa5a94162b41a7d1129d203c2                Not uid connection   \n",
       "13592  20a95f4e52044455a001fed5983ebd0f  1e7d248e4bc04f268f7253a0e173d1da   \n",
       "77642  d94fee4819054c608f73d551e0ce637d                Not uid connection   \n",
       "\n",
       "       level_0                           cluster   index  \\\n",
       "28769    27585  47fe31663b6f4c02b3b7e7218a98bf6a   35251   \n",
       "36366    34731  5d2db105280e4ce796d8fe11456e5cb7   45136   \n",
       "49965    47544  8396e31fa5a94162b41a7d1129d203c2   63673   \n",
       "13592    13051                             20312   15979   \n",
       "77642    73775  d94fee4819054c608f73d551e0ce637d  105260   \n",
       "\n",
       "                               Author AuthorBirth  \\\n",
       "28769               CARRACCI Agostino      1557.0   \n",
       "36366  CiMA da CONEGLIANO (e bottega)      1455.0   \n",
       "49965                  BOSCHINI Marco      1605.0   \n",
       "13592                   LOTTO Lorenzo      1475.0   \n",
       "77642                 ASPERTINI Amico      1474.0   \n",
       "\n",
       "                                             Description  \\\n",
       "28769                   Tritone di profilo verso destra.   \n",
       "36366                       L 'Arcangelo Gabriele. Part.   \n",
       "49965                                          Pag. 668.   \n",
       "13592                                   L' Adultera. 783   \n",
       "77642  Libro di schizzi. Scena. Penna, colore a corpo...   \n",
       "\n",
       "                                                    path BeginDate  \\\n",
       "28769   /mnt/project_replica/datasets/cini/1A/1A_196.jpg    1575.0   \n",
       "36366  /mnt/project_replica/datasets/cini/71C/71C_175...    1473.0   \n",
       "49965  /mnt/project_replica/datasets/cini/42C/42C_698...    1623.0   \n",
       "13592  /mnt/project_replica/datasets/cini/127B/127B_2...    1493.0   \n",
       "77642  /mnt/project_replica/datasets/cini/13B/13B_125...    1492.0   \n",
       "\n",
       "                                   img1                              img2  \\\n",
       "28769                              None                              None   \n",
       "36366                              None                              None   \n",
       "49965                              None                              None   \n",
       "13592  20a95f4e52044455a001fed5983ebd0f  580fd2beae39494a9009bde01af3a36f   \n",
       "77642                              None                              None   \n",
       "\n",
       "            type                        annotated   set  \n",
       "28769       None                              NaT  None  \n",
       "36366       None                              NaT  None  \n",
       "49965       None                              NaT  None  \n",
       "13592  DUPLICATE 2018-07-19 17:28:27.168907+00:00  None  \n",
       "77642       None                              NaT  None  "
      ]
     },
     "execution_count": 158,
     "metadata": {},
     "output_type": "execute_result"
    }
   ],
   "source": [
    "data.sample(5)"
   ]
  },
  {
   "cell_type": "code",
   "execution_count": 159,
   "metadata": {},
   "outputs": [
    {
     "data": {
      "text/plain": [
       "((4966, 15), (4966, 15))"
      ]
     },
     "execution_count": 159,
     "metadata": {},
     "output_type": "execute_result"
    }
   ],
   "source": [
    "data[data['set'].isin(['train', 'test', 'val'])].shape, data_sample[data_sample['set'].isin(['train', 'test', 'val'])].shape\n"
   ]
  },
  {
   "cell_type": "code",
   "execution_count": 160,
   "metadata": {},
   "outputs": [],
   "source": [
    "# data_sample.to_csv(data_dir + 'dedup_data_sample_wga.csv')\n",
    "data.to_csv(data_dir + 'dedup_data_wga.csv')\n"
   ]
  },
  {
   "cell_type": "code",
   "execution_count": 25,
   "metadata": {},
   "outputs": [],
   "source": [
    "#data.to_csv(data_dir + 'full_data.csv')\n",
    "# data_sample.to_csv(data_dir + 'dedup_data_sample.csv')\n",
    "# data.to_csv(data_dir + 'dedup_data.csv')\n"
   ]
  },
  {
   "cell_type": "code",
   "execution_count": 2,
   "metadata": {},
   "outputs": [
    {
     "name": "stdout",
     "output_type": "stream",
     "text": [
      "train    2984\n",
      "test     1314\n",
      "val       668\n",
      "Name: set, dtype: int64\n"
     ]
    },
    {
     "data": {
      "text/plain": [
       "((4966, 16),)"
      ]
     },
     "execution_count": 2,
     "metadata": {},
     "output_type": "execute_result"
    }
   ],
   "source": [
    "data = pd.read_csv(data_dir + 'dedup_data_sample_wga.csv')\n",
    "print(data['set'].value_counts())\n",
    "data[data['set'].isin(['train', 'test', 'val'])].shape, #data_sample[data_sample['set'].isin(['train', 'test', 'val'])].shape"
   ]
  },
  {
   "cell_type": "code",
   "execution_count": 5,
   "metadata": {},
   "outputs": [
    {
     "data": {
      "text/plain": [
       "(14948, 0)"
      ]
     },
     "execution_count": 5,
     "metadata": {},
     "output_type": "execute_result"
    }
   ],
   "source": [
    "keep = []\n",
    "\n",
    "for i, path_ in enumerate(data['path']):\n",
    "    if os.path.exists(path_):\n",
    "        keep.append(i)\n",
    "\n",
    "len(keep), keep[0]"
   ]
  },
  {
   "cell_type": "code",
   "execution_count": 6,
   "metadata": {},
   "outputs": [
    {
     "data": {
      "text/plain": [
       "(14966, 16)"
      ]
     },
     "execution_count": 6,
     "metadata": {},
     "output_type": "execute_result"
    }
   ],
   "source": [
    "data.shape"
   ]
  },
  {
   "cell_type": "code",
   "execution_count": 8,
   "metadata": {},
   "outputs": [
    {
     "name": "stdout",
     "output_type": "stream",
     "text": [
      "(14948, 16)\n"
     ]
    }
   ],
   "source": [
    "data = data[data.index.isin(keep)]\n",
    "print(data.shape)\n",
    "data.to_csv(data_dir + 'dedup_data_sample_wga.csv')"
   ]
  },
  {
   "cell_type": "code",
   "execution_count": 4,
   "metadata": {},
   "outputs": [
    {
     "data": {
      "text/plain": [
       "(2862, 47)"
      ]
     },
     "execution_count": 4,
     "metadata": {},
     "output_type": "execute_result"
    }
   ],
   "source": [
    "data_old = pd.read_csv(data_dir + 'full_data.csv')\n",
    "data_old[data_old['set'].isin(['train', 'test', 'val'])].shape"
   ]
  },
  {
   "cell_type": "markdown",
   "metadata": {},
   "source": [
    "### Creating embeddings of all the images"
   ]
  },
  {
   "cell_type": "code",
   "execution_count": 6,
   "metadata": {},
   "outputs": [],
   "source": [
    "model = models.resnet50(pretrained=True)\n",
    "#print(model)\n",
    "\n",
    "model = ReplicaNet('resnext-101', 'cuda')"
   ]
  },
  {
   "cell_type": "code",
   "execution_count": 29,
   "metadata": {},
   "outputs": [],
   "source": [
    "# newmodel = torch.nn.Sequential(\n",
    "#     *(list(model.children())[:-2]), nn.AdaptiveMaxPool2d((1,1))\n",
    "# )\n",
    "#print(newmodel)\n"
   ]
  },
  {
   "cell_type": "code",
   "execution_count": 16,
   "metadata": {},
   "outputs": [
    {
     "name": "stdout",
     "output_type": "stream",
     "text": [
      "/mnt/project_replica/datasets/WGA/images/t/tiziano/03_1530s/1madonn.jpg\n"
     ]
    },
    {
     "data": {
      "text/plain": [
       "torch.Size([1, 3, 480, 480])"
      ]
     },
     "execution_count": 16,
     "metadata": {},
     "output_type": "execute_result"
    }
   ],
   "source": [
    "it = 10462\n",
    "print(data['path'][it])\n",
    "img = preprocess_image_test(data['path'][it])\n",
    "\n",
    "img.shape"
   ]
  },
  {
   "cell_type": "code",
   "execution_count": 19,
   "metadata": {},
   "outputs": [
    {
     "name": "stdout",
     "output_type": "stream",
     "text": [
      "[0.02288655 0.01400073 0.0181444  ... 0.01918198 0.02341286 0.01433349]\n"
     ]
    }
   ],
   "source": [
    "embedding = get_embedding(img, model, device='cuda')\n",
    "print(embedding)"
   ]
  },
  {
   "cell_type": "code",
   "execution_count": 35,
   "metadata": {},
   "outputs": [],
   "source": [
    "def catch(path, model, device, resolution):\n",
    "    try:\n",
    "        return get_embedding(preprocess_image_test(path, resolution=resolution), model, device=device)\n",
    "    except Exception as e:\n",
    "        print(e)\n",
    "        return 0"
   ]
  },
  {
   "cell_type": "code",
   "execution_count": 39,
   "metadata": {},
   "outputs": [
    {
     "name": "stdout",
     "output_type": "stream",
     "text": [
      "output with shape [1, 320, 320] doesn't match the broadcast shape [3, 320, 320]\n"
     ]
    },
    {
     "data": {
      "text/plain": [
       "0"
      ]
     },
     "execution_count": 39,
     "metadata": {},
     "output_type": "execute_result"
    }
   ],
   "source": [
    "catch(data['path'][460], model, 'cuda', 320)"
   ]
  },
  {
   "cell_type": "code",
   "execution_count": null,
   "metadata": {},
   "outputs": [],
   "source": [
    "embeddings = [[uid, catch(path, model, 'cuda', 320)] for uid,path in tqdm(zip(data['uid'].unique(), data['path'].unique()))]"
   ]
  },
  {
   "cell_type": "code",
   "execution_count": 32,
   "metadata": {},
   "outputs": [],
   "source": [
    "embeddings_new = get_lower_dimension(embeddings)"
   ]
  },
  {
   "cell_type": "code",
   "execution_count": 33,
   "metadata": {},
   "outputs": [
    {
     "data": {
      "text/plain": [
       "((2048,), (100,))"
      ]
     },
     "execution_count": 33,
     "metadata": {},
     "output_type": "execute_result"
    }
   ],
   "source": [
    "embeddings[0].shape, embeddings_new[0].shape "
   ]
  },
  {
   "cell_type": "markdown",
   "metadata": {},
   "source": [
    "### Finding most similar embeddings"
   ]
  },
  {
   "cell_type": "code",
   "execution_count": 34,
   "metadata": {},
   "outputs": [],
   "source": [
    "tree = make_tree_list(embeddings_new)"
   ]
  },
  {
   "cell_type": "code",
   "execution_count": 60,
   "metadata": {},
   "outputs": [
    {
     "name": "stderr",
     "output_type": "stream",
     "text": [
      "100%|██████████| 2862/2862 [00:10<00:00, 286.12it/s]\n"
     ]
    },
    {
     "data": {
      "text/plain": [
       "2862"
      ]
     },
     "execution_count": 60,
     "metadata": {},
     "output_type": "execute_result"
    }
   ],
   "source": [
    "train_test = data[data['set'].notnull()].drop(columns=['level_0']).reset_index()\n",
    "\n",
    "Cs = []\n",
    "for i in tqdm(range(train_test.shape[0])):\n",
    "    list_theo = list(train_test[train_test['img1'] == train_test['uid'][i]]['img2']) + list(train_test[train_test['img2'] == train_test['uid'][i]]['img1']) + [train_test['uid'][i]]\n",
    "    list_ = find_most_similar_list(train_test['uid'][i], tree, embeddings_new, list(data['uid'].unique()), list_theo)\n",
    "    Cs.append(list_)\n",
    "\n",
    "len(Cs)\n"
   ]
  },
  {
   "cell_type": "code",
   "execution_count": 58,
   "metadata": {},
   "outputs": [
    {
     "name": "stdout",
     "output_type": "stream",
     "text": [
      "(2299, 47)\n",
      "(2256, 47)\n"
     ]
    }
   ],
   "source": [
    "print(train_test[train_test['img1'].isin(list_downloaded)].shape)\n",
    "print(train_test[train_test['img2'].isin(list_downloaded)].shape)"
   ]
  },
  {
   "cell_type": "code",
   "execution_count": 61,
   "metadata": {},
   "outputs": [
    {
     "name": "stdout",
     "output_type": "stream",
     "text": [
      "(31709, 4)\n"
     ]
    },
    {
     "data": {
      "text/html": [
       "<div>\n",
       "<style scoped>\n",
       "    .dataframe tbody tr th:only-of-type {\n",
       "        vertical-align: middle;\n",
       "    }\n",
       "\n",
       "    .dataframe tbody tr th {\n",
       "        vertical-align: top;\n",
       "    }\n",
       "\n",
       "    .dataframe thead th {\n",
       "        text-align: right;\n",
       "    }\n",
       "</style>\n",
       "<table border=\"1\" class=\"dataframe\">\n",
       "  <thead>\n",
       "    <tr style=\"text-align: right;\">\n",
       "      <th></th>\n",
       "      <th>A</th>\n",
       "      <th>B</th>\n",
       "      <th>C</th>\n",
       "      <th>set</th>\n",
       "    </tr>\n",
       "  </thead>\n",
       "  <tbody>\n",
       "    <tr>\n",
       "      <th>1771</th>\n",
       "      <td>6fcf1af179fa47488d40564e80856a1e</td>\n",
       "      <td>e100fa4b1d1e4abab65256ac310ab543</td>\n",
       "      <td>6bf773f2e04f4c919ccd6f0b76df2b15</td>\n",
       "      <td>train</td>\n",
       "    </tr>\n",
       "    <tr>\n",
       "      <th>1539</th>\n",
       "      <td>ef25d7d6549547b59945a61ae6849d3d</td>\n",
       "      <td>272cd39493464a878264554be785e9db</td>\n",
       "      <td>92fc36e4d04743ec97e441342acd29f1</td>\n",
       "      <td>test</td>\n",
       "    </tr>\n",
       "    <tr>\n",
       "      <th>63</th>\n",
       "      <td>59fb95590dda4ff58e63dc0df43e70c3</td>\n",
       "      <td>a043a8ccb7994ef68179ad66929143af</td>\n",
       "      <td>756a2003514740448ffb37eec9351177</td>\n",
       "      <td>train</td>\n",
       "    </tr>\n",
       "    <tr>\n",
       "      <th>289</th>\n",
       "      <td>383cd750b1cc425089ff3cf3d2c81df1</td>\n",
       "      <td>8b47beb1f1a6438993f3988e880cfa9c</td>\n",
       "      <td>45d519d9ba884c948b2a0abf1a692599</td>\n",
       "      <td>test</td>\n",
       "    </tr>\n",
       "    <tr>\n",
       "      <th>581</th>\n",
       "      <td>3d7b289477ca4765a6932bd85cf51fec</td>\n",
       "      <td>246ca4d9a3324ad2aad8ec6a4e1c6769</td>\n",
       "      <td>4ced1a6287c1417db8b41e79e1a04c79</td>\n",
       "      <td>test</td>\n",
       "    </tr>\n",
       "  </tbody>\n",
       "</table>\n",
       "</div>"
      ],
      "text/plain": [
       "                                     A                                 B  \\\n",
       "1771  6fcf1af179fa47488d40564e80856a1e  e100fa4b1d1e4abab65256ac310ab543   \n",
       "1539  ef25d7d6549547b59945a61ae6849d3d  272cd39493464a878264554be785e9db   \n",
       "63    59fb95590dda4ff58e63dc0df43e70c3  a043a8ccb7994ef68179ad66929143af   \n",
       "289   383cd750b1cc425089ff3cf3d2c81df1  8b47beb1f1a6438993f3988e880cfa9c   \n",
       "581   3d7b289477ca4765a6932bd85cf51fec  246ca4d9a3324ad2aad8ec6a4e1c6769   \n",
       "\n",
       "                                     C    set  \n",
       "1771  6bf773f2e04f4c919ccd6f0b76df2b15  train  \n",
       "1539  92fc36e4d04743ec97e441342acd29f1   test  \n",
       "63    756a2003514740448ffb37eec9351177  train  \n",
       "289   45d519d9ba884c948b2a0abf1a692599   test  \n",
       "581   4ced1a6287c1417db8b41e79e1a04c79   test  "
      ]
     },
     "execution_count": 61,
     "metadata": {},
     "output_type": "execute_result"
    }
   ],
   "source": [
    "train_test['C'] = Cs\n",
    "\n",
    "train_test = train_test[train_test['img1'].isin(list_downloaded)]\n",
    "train_test = train_test[train_test['img2'].isin(list_downloaded)]\n",
    "\n",
    "final = train_test[['img1', 'img2', 'C', 'set']].explode('C')\n",
    "final.columns = ['A', 'B', 'C', 'set']\n",
    "print(final.shape)\n",
    "final.sample(5)"
   ]
  },
  {
   "cell_type": "code",
   "execution_count": 62,
   "metadata": {},
   "outputs": [
    {
     "data": {
      "text/plain": [
       "(31709, 4)"
      ]
     },
     "execution_count": 62,
     "metadata": {},
     "output_type": "execute_result"
    }
   ],
   "source": [
    "final[final['C'].isin(list_downloaded)].shape"
   ]
  },
  {
   "cell_type": "code",
   "execution_count": 63,
   "metadata": {},
   "outputs": [],
   "source": [
    "final[final['set'] == 'train'].reset_index().to_csv(data_dir + 'abc_train.csv')\n",
    "final[final['set'] == 'test'].reset_index().to_csv(data_dir + 'abc_test.csv')\n"
   ]
  },
  {
   "cell_type": "code",
   "execution_count": null,
   "metadata": {},
   "outputs": [],
   "source": []
  }
 ],
 "metadata": {
  "interpreter": {
   "hash": "31f2aee4e71d21fbe5cf8b01ff0e069b9275f58929596ceb00d14d90e3e16cd6"
  },
  "kernelspec": {
   "display_name": "Xonsh",
   "language": "python",
   "name": "python3"
  },
  "language_info": {
   "codemirror_mode": {
    "name": "ipython",
    "version": 3
   },
   "file_extension": ".py",
   "mimetype": "text/x-python",
   "name": "python",
   "nbconvert_exporter": "python",
   "pygments_lexer": "ipython3",
   "version": "3.8.5"
  },
  "orig_nbformat": 4
 },
 "nbformat": 4,
 "nbformat_minor": 2
}
