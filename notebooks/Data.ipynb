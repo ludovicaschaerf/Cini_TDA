{
 "cells": [
  {
   "cell_type": "markdown",
   "metadata": {},
   "source": [
    "# Replica project\n",
    "\n",
    "### The data\n",
    "\n",
    "Stores the final deduplicated datasets and shows how the search can be done with pretrained embeddings"
   ]
  },
  {
   "cell_type": "code",
   "execution_count": 1,
   "metadata": {},
   "outputs": [],
   "source": [
    "# loading the metadata\n",
    "%load_ext autoreload\n",
    "%autoreload 2\n",
    "\n",
    "import pandas as pd\n",
    "\n",
    "from torch import nn\n",
    "import torchvision.models as models\n",
    "from tqdm import tqdm\n",
    "import torch\n",
    "import pickle\n",
    "from glob import glob\n",
    "# from scipy import sparse\n",
    "import sys\n",
    "import os.path\n",
    "from sklearn import preprocessing\n",
    "from os import path\n",
    "\n",
    "\n",
    "sys.path.insert(0, \"../model/\")\n",
    "from utils import *\n",
    "from model_replica import ReplicaNet\n",
    "\n",
    "\n",
    "path = '/home/guhennec/scratch/2021_Cini/TopologicalAnalysis_Cini/data/'\n",
    "data_dir = '/scratch/students/schaerf/'\n",
    "replica_dir = '/mnt/project_replica/datasets/cini/'\n",
    "wga_dir = '/mnt/project_replica/datasets/'\n",
    "\n",
    "\n",
    "path = '../data/'\n",
    "data_dir = '../data/'\n",
    "replica_dir = '../data/'\n",
    "wga_dir = '../data/'\n",
    "\n",
    "\n"
   ]
  },
  {
   "cell_type": "code",
   "execution_count": 2,
   "metadata": {},
   "outputs": [
    {
     "name": "stderr",
     "output_type": "stream",
     "text": [
      "C:\\Users\\ludov\\AppData\\Local\\Temp/ipykernel_13936/30539250.py:1: DtypeWarning: Columns (1) have mixed types. Specify dtype option on import or set low_memory=False.\n",
      "  metadata = pd.read_csv(path + 'Cini_20210811.csv', sep=';')\n"
     ]
    },
    {
     "data": {
      "text/html": [
       "<div>\n",
       "<style scoped>\n",
       "    .dataframe tbody tr th:only-of-type {\n",
       "        vertical-align: middle;\n",
       "    }\n",
       "\n",
       "    .dataframe tbody tr th {\n",
       "        vertical-align: top;\n",
       "    }\n",
       "\n",
       "    .dataframe thead th {\n",
       "        text-align: right;\n",
       "    }\n",
       "</style>\n",
       "<table border=\"1\" class=\"dataframe\">\n",
       "  <thead>\n",
       "    <tr style=\"text-align: right;\">\n",
       "      <th></th>\n",
       "      <th>Drawer</th>\n",
       "      <th>ImageNumber</th>\n",
       "      <th>Author</th>\n",
       "      <th>Description</th>\n",
       "      <th>AuthorOriginal</th>\n",
       "      <th>AuthorULANLabel</th>\n",
       "      <th>AuthorULAN</th>\n",
       "      <th>AuthorURL</th>\n",
       "      <th>AuthorComplemented</th>\n",
       "      <th>AuthorComplement</th>\n",
       "      <th>...</th>\n",
       "      <th>AuthorBirthLong</th>\n",
       "      <th>AuthorBirthLat</th>\n",
       "      <th>AuthorDeathLong</th>\n",
       "      <th>AuthorDeathLat</th>\n",
       "      <th>AuthorBirthCity</th>\n",
       "      <th>AuthorDeathCity</th>\n",
       "      <th>uid</th>\n",
       "      <th>CardboardURL</th>\n",
       "      <th>ImageURL</th>\n",
       "      <th>path</th>\n",
       "    </tr>\n",
       "  </thead>\n",
       "  <tbody>\n",
       "    <tr>\n",
       "      <th>0</th>\n",
       "      <td>1A</td>\n",
       "      <td>1</td>\n",
       "      <td>ALLEGRINI Francesco</td>\n",
       "      <td>tca con penna acquarellata 148 x 203 mm</td>\n",
       "      <td>ALLEGRINI, Francesco</td>\n",
       "      <td>Allegrini, Francesco</td>\n",
       "      <td>ulan:500115272</td>\n",
       "      <td>http://vocab.getty.edu/page/ulan/500115272</td>\n",
       "      <td>0</td>\n",
       "      <td>No complement</td>\n",
       "      <td>...</td>\n",
       "      <td>NaN</td>\n",
       "      <td>NaN</td>\n",
       "      <td>NaN</td>\n",
       "      <td>NaN</td>\n",
       "      <td>NaN</td>\n",
       "      <td>NaN</td>\n",
       "      <td>253993c139284a45be233a13121ddeeb</td>\n",
       "      <td>https://dhlabsrv4.epfl.ch/iiif_cini/1A%2F1A_1....</td>\n",
       "      <td>https://dhlabsrv4.epfl.ch/iiif_replica/cini%2F...</td>\n",
       "      <td>../data/1A/1A_1.jpg</td>\n",
       "    </tr>\n",
       "    <tr>\n",
       "      <th>1</th>\n",
       "      <td>1A</td>\n",
       "      <td>2</td>\n",
       "      <td>BAROCCI Federico</td>\n",
       "      <td>Studio di figura penna acquarellata (carboncin...</td>\n",
       "      <td>BAROCCI, Federico</td>\n",
       "      <td>Barocci, Federico</td>\n",
       "      <td>ulan:500115210</td>\n",
       "      <td>http://vocab.getty.edu/page/ulan/500115210</td>\n",
       "      <td>0</td>\n",
       "      <td>No complement</td>\n",
       "      <td>...</td>\n",
       "      <td>12.633333</td>\n",
       "      <td>43.716667</td>\n",
       "      <td>12.633333</td>\n",
       "      <td>43.716667</td>\n",
       "      <td>Urbino</td>\n",
       "      <td>Urbino</td>\n",
       "      <td>1323356994c24635a11fdcd9d5f9284a</td>\n",
       "      <td>https://dhlabsrv4.epfl.ch/iiif_cini/1A%2F1A_2....</td>\n",
       "      <td>https://dhlabsrv4.epfl.ch/iiif_replica/cini%2F...</td>\n",
       "      <td>../data/1A/1A_2.jpg</td>\n",
       "    </tr>\n",
       "    <tr>\n",
       "      <th>2</th>\n",
       "      <td>1A</td>\n",
       "      <td>3</td>\n",
       "      <td>BASSANO Leandro</td>\n",
       "      <td>Scene penna su carta blu 171 x 219 mm</td>\n",
       "      <td>BASSANO, Leandro</td>\n",
       "      <td>Bassano, Leandro</td>\n",
       "      <td>ulan:500015945</td>\n",
       "      <td>http://vocab.getty.edu/page/ulan/500015945</td>\n",
       "      <td>0</td>\n",
       "      <td>No complement</td>\n",
       "      <td>...</td>\n",
       "      <td>11.733333</td>\n",
       "      <td>45.766667</td>\n",
       "      <td>12.326667</td>\n",
       "      <td>45.438611</td>\n",
       "      <td>Bassano del Grappa</td>\n",
       "      <td>Venice</td>\n",
       "      <td>a4268385f6384e61a3dd092bc6b8c083</td>\n",
       "      <td>https://dhlabsrv4.epfl.ch/iiif_cini/1A%2F1A_3....</td>\n",
       "      <td>https://dhlabsrv4.epfl.ch/iiif_replica/cini%2F...</td>\n",
       "      <td>../data/1A/1A_3.jpg</td>\n",
       "    </tr>\n",
       "    <tr>\n",
       "      <th>3</th>\n",
       "      <td>1A</td>\n",
       "      <td>4</td>\n",
       "      <td>CAMPIGLI Massimo</td>\n",
       "      <td>Ragazza su una scala gessetto su carta bruna g...</td>\n",
       "      <td>CAMPIGLI, Massimo</td>\n",
       "      <td>Campigli, Massimo</td>\n",
       "      <td>ulan:500029770</td>\n",
       "      <td>http://vocab.getty.edu/page/ulan/500029770</td>\n",
       "      <td>0</td>\n",
       "      <td>No complement</td>\n",
       "      <td>...</td>\n",
       "      <td>13.400000</td>\n",
       "      <td>52.516667</td>\n",
       "      <td>6.639811</td>\n",
       "      <td>43.269316</td>\n",
       "      <td>Berlin</td>\n",
       "      <td>Var</td>\n",
       "      <td>550f368cdb4442aab4d5e2ada702d6ad</td>\n",
       "      <td>https://dhlabsrv4.epfl.ch/iiif_cini/1A%2F1A_4....</td>\n",
       "      <td>https://dhlabsrv4.epfl.ch/iiif_replica/cini%2F...</td>\n",
       "      <td>../data/1A/1A_4.jpg</td>\n",
       "    </tr>\n",
       "    <tr>\n",
       "      <th>4</th>\n",
       "      <td>1A</td>\n",
       "      <td>5</td>\n",
       "      <td>CARRACCI A attr</td>\n",
       "      <td>Madonna e Santi penna 291 x 205 mm</td>\n",
       "      <td>CARRACCI, A. attr.</td>\n",
       "      <td>NaN</td>\n",
       "      <td>NaN</td>\n",
       "      <td>NaN</td>\n",
       "      <td>1</td>\n",
       "      <td>attr</td>\n",
       "      <td>...</td>\n",
       "      <td>NaN</td>\n",
       "      <td>NaN</td>\n",
       "      <td>NaN</td>\n",
       "      <td>NaN</td>\n",
       "      <td>NaN</td>\n",
       "      <td>NaN</td>\n",
       "      <td>6047de5547b643cb87491be925748bee</td>\n",
       "      <td>https://dhlabsrv4.epfl.ch/iiif_cini/1A%2F1A_5....</td>\n",
       "      <td>https://dhlabsrv4.epfl.ch/iiif_replica/cini%2F...</td>\n",
       "      <td>../data/1A/1A_5.jpg</td>\n",
       "    </tr>\n",
       "  </tbody>\n",
       "</table>\n",
       "<p>5 rows × 38 columns</p>\n",
       "</div>"
      ],
      "text/plain": [
       "  Drawer ImageNumber               Author  \\\n",
       "0     1A           1  ALLEGRINI Francesco   \n",
       "1     1A           2     BAROCCI Federico   \n",
       "2     1A           3      BASSANO Leandro   \n",
       "3     1A           4     CAMPIGLI Massimo   \n",
       "4     1A           5      CARRACCI A attr   \n",
       "\n",
       "                                         Description        AuthorOriginal  \\\n",
       "0            tca con penna acquarellata 148 x 203 mm  ALLEGRINI, Francesco   \n",
       "1  Studio di figura penna acquarellata (carboncin...     BAROCCI, Federico   \n",
       "2              Scene penna su carta blu 171 x 219 mm      BASSANO, Leandro   \n",
       "3  Ragazza su una scala gessetto su carta bruna g...     CAMPIGLI, Massimo   \n",
       "4                 Madonna e Santi penna 291 x 205 mm    CARRACCI, A. attr.   \n",
       "\n",
       "        AuthorULANLabel      AuthorULAN  \\\n",
       "0  Allegrini, Francesco  ulan:500115272   \n",
       "1     Barocci, Federico  ulan:500115210   \n",
       "2      Bassano, Leandro  ulan:500015945   \n",
       "3     Campigli, Massimo  ulan:500029770   \n",
       "4                   NaN             NaN   \n",
       "\n",
       "                                    AuthorURL  AuthorComplemented  \\\n",
       "0  http://vocab.getty.edu/page/ulan/500115272                   0   \n",
       "1  http://vocab.getty.edu/page/ulan/500115210                   0   \n",
       "2  http://vocab.getty.edu/page/ulan/500015945                   0   \n",
       "3  http://vocab.getty.edu/page/ulan/500029770                   0   \n",
       "4                                         NaN                   1   \n",
       "\n",
       "  AuthorComplement  ...  AuthorBirthLong AuthorBirthLat AuthorDeathLong  \\\n",
       "0    No complement  ...              NaN            NaN             NaN   \n",
       "1    No complement  ...        12.633333      43.716667       12.633333   \n",
       "2    No complement  ...        11.733333      45.766667       12.326667   \n",
       "3    No complement  ...        13.400000      52.516667        6.639811   \n",
       "4             attr  ...              NaN            NaN             NaN   \n",
       "\n",
       "  AuthorDeathLat     AuthorBirthCity AuthorDeathCity  \\\n",
       "0            NaN                 NaN             NaN   \n",
       "1      43.716667              Urbino          Urbino   \n",
       "2      45.438611  Bassano del Grappa          Venice   \n",
       "3      43.269316              Berlin             Var   \n",
       "4            NaN                 NaN             NaN   \n",
       "\n",
       "                                uid  \\\n",
       "0  253993c139284a45be233a13121ddeeb   \n",
       "1  1323356994c24635a11fdcd9d5f9284a   \n",
       "2  a4268385f6384e61a3dd092bc6b8c083   \n",
       "3  550f368cdb4442aab4d5e2ada702d6ad   \n",
       "4  6047de5547b643cb87491be925748bee   \n",
       "\n",
       "                                        CardboardURL  \\\n",
       "0  https://dhlabsrv4.epfl.ch/iiif_cini/1A%2F1A_1....   \n",
       "1  https://dhlabsrv4.epfl.ch/iiif_cini/1A%2F1A_2....   \n",
       "2  https://dhlabsrv4.epfl.ch/iiif_cini/1A%2F1A_3....   \n",
       "3  https://dhlabsrv4.epfl.ch/iiif_cini/1A%2F1A_4....   \n",
       "4  https://dhlabsrv4.epfl.ch/iiif_cini/1A%2F1A_5....   \n",
       "\n",
       "                                            ImageURL                 path  \n",
       "0  https://dhlabsrv4.epfl.ch/iiif_replica/cini%2F...  ../data/1A/1A_1.jpg  \n",
       "1  https://dhlabsrv4.epfl.ch/iiif_replica/cini%2F...  ../data/1A/1A_2.jpg  \n",
       "2  https://dhlabsrv4.epfl.ch/iiif_replica/cini%2F...  ../data/1A/1A_3.jpg  \n",
       "3  https://dhlabsrv4.epfl.ch/iiif_replica/cini%2F...  ../data/1A/1A_4.jpg  \n",
       "4  https://dhlabsrv4.epfl.ch/iiif_replica/cini%2F...  ../data/1A/1A_5.jpg  \n",
       "\n",
       "[5 rows x 38 columns]"
      ]
     },
     "execution_count": 2,
     "metadata": {},
     "output_type": "execute_result"
    }
   ],
   "source": [
    "metadata = pd.read_csv(path + 'Cini_20210811.csv', sep=';')\n",
    "metadata['path'] = replica_dir + metadata['Drawer'].astype(str) + '/' + metadata['Drawer'].astype(str) + '_' + metadata['ImageNumber'].astype(str) + '.jpg'\n",
    "metadata.head(5)"
   ]
  },
  {
   "cell_type": "code",
   "execution_count": 3,
   "metadata": {},
   "outputs": [
    {
     "data": {
      "text/plain": [
       "Index(['Drawer', 'ImageNumber', 'Author', 'Description', 'AuthorOriginal',\n",
       "       'AuthorULANLabel', 'AuthorULAN', 'AuthorURL', 'AuthorComplemented',\n",
       "       'AuthorComplement', 'AuthorNeighbour', 'AuthorNeighbourhood',\n",
       "       'SimpleCollection', 'CiniCollection', 'CiniNumber', 'CiniTime', 'City',\n",
       "       'Country', 'FondoStamp', 'Institution', 'Reference', 'AuthorGender',\n",
       "       'AuthorNationality', 'BeginDate', 'EndDate', 'BiographyLabel',\n",
       "       'AuthorBirth', 'AuthorDeath', 'AuthorBirthLong', 'AuthorBirthLat',\n",
       "       'AuthorDeathLong', 'AuthorDeathLat', 'AuthorBirthCity',\n",
       "       'AuthorDeathCity', 'uid', 'CardboardURL', 'ImageURL', 'path'],\n",
       "      dtype='object')"
      ]
     },
     "execution_count": 3,
     "metadata": {},
     "output_type": "execute_result"
    }
   ],
   "source": [
    "metadata.columns"
   ]
  },
  {
   "cell_type": "markdown",
   "metadata": {},
   "source": [
    "## Full data"
   ]
  },
  {
   "cell_type": "code",
   "execution_count": 4,
   "metadata": {},
   "outputs": [
    {
     "data": {
      "text/html": [
       "<div>\n",
       "<style scoped>\n",
       "    .dataframe tbody tr th:only-of-type {\n",
       "        vertical-align: middle;\n",
       "    }\n",
       "\n",
       "    .dataframe tbody tr th {\n",
       "        vertical-align: top;\n",
       "    }\n",
       "\n",
       "    .dataframe thead th {\n",
       "        text-align: right;\n",
       "    }\n",
       "</style>\n",
       "<table border=\"1\" class=\"dataframe\">\n",
       "  <thead>\n",
       "    <tr style=\"text-align: right;\">\n",
       "      <th></th>\n",
       "      <th>uid</th>\n",
       "      <th>added</th>\n",
       "      <th>source</th>\n",
       "      <th>path</th>\n",
       "      <th>o_uid</th>\n",
       "      <th>o_title</th>\n",
       "      <th>o_date_begin</th>\n",
       "      <th>o_date_end</th>\n",
       "      <th>o_attribution</th>\n",
       "      <th>o_metadata</th>\n",
       "    </tr>\n",
       "  </thead>\n",
       "  <tbody>\n",
       "    <tr>\n",
       "      <th>0</th>\n",
       "      <td>9515070c-b367-4ee5-b7e0-4eb8cacbcae7</td>\n",
       "      <td>2017-07-11 16:42:41.307381+00:00</td>\n",
       "      <td>cini</td>\n",
       "      <td>cini/2A/2A_1.jpg</td>\n",
       "      <td>c37fd54e-be01-495c-b5ac-0ef08a58fb9f</td>\n",
       "      <td>Veduta dell'Etna e di Taormina.\\nGuazzo: 36 x ...</td>\n",
       "      <td>1771.0</td>\n",
       "      <td>1794.0</td>\n",
       "      <td>Fondazione Giorgio Cini</td>\n",
       "      <td>{'City': 'CAEN', 'Author': 'CHATELET Claude Lo...</td>\n",
       "    </tr>\n",
       "    <tr>\n",
       "      <th>1</th>\n",
       "      <td>a91b058d-a3f4-4e14-a67a-8e710754be5d</td>\n",
       "      <td>2017-07-11 16:42:41.445597+00:00</td>\n",
       "      <td>cini</td>\n",
       "      <td>cini/2A/2A_2.jpg</td>\n",
       "      <td>2b05a698-3e3b-4be6-8aaa-c8d20b3217b5</td>\n",
       "      <td>Veduta del teatro di Taormina.\\nGuazzo: 350 x ...</td>\n",
       "      <td>1771.0</td>\n",
       "      <td>1794.0</td>\n",
       "      <td>Fondazione Giorgio Cini</td>\n",
       "      <td>{'City': 'CAEN', 'Author': 'CHATELET Claude Lo...</td>\n",
       "    </tr>\n",
       "    <tr>\n",
       "      <th>2</th>\n",
       "      <td>1160b942-4c34-4b9c-88a8-2c1d255c5961</td>\n",
       "      <td>2017-07-11 16:42:41.543159+00:00</td>\n",
       "      <td>cini</td>\n",
       "      <td>cini/2A/2A_3.jpg</td>\n",
       "      <td>bc615e17-c55e-48f0-bc3e-e01b325b8b7e</td>\n",
       "      <td>Nettuno e Anfitride.\\nmm. 75 x 90</td>\n",
       "      <td>1528.0</td>\n",
       "      <td>1563.0</td>\n",
       "      <td>Fondazione Giorgio Cini</td>\n",
       "      <td>{'City': 'C H A M B E RY', 'Author': 'SCHIAVON...</td>\n",
       "    </tr>\n",
       "    <tr>\n",
       "      <th>3</th>\n",
       "      <td>a003eb3f-2667-4763-b9a1-1c2daae8b5a1</td>\n",
       "      <td>2017-07-11 16:42:41.631198+00:00</td>\n",
       "      <td>cini</td>\n",
       "      <td>cini/2A/2A_4.jpg</td>\n",
       "      <td>7c1484cf-7069-4cdd-bd3d-2a00935d51a8</td>\n",
       "      <td>Veduta di Nepi.\\nMatita: 435 x 385\\nT.to.</td>\n",
       "      <td>1815.0</td>\n",
       "      <td>1871.0</td>\n",
       "      <td>Fondazione Giorgio Cini</td>\n",
       "      <td>{'City': 'C H A RTR ES', 'Author': 'BERTIN Edo...</td>\n",
       "    </tr>\n",
       "    <tr>\n",
       "      <th>4</th>\n",
       "      <td>9903179a-30dc-4a7b-8b39-7456d480e2e2</td>\n",
       "      <td>2017-07-11 16:42:41.742387+00:00</td>\n",
       "      <td>cini</td>\n",
       "      <td>cini/2A/2A_5.jpg</td>\n",
       "      <td>d90c949f-9db1-415b-b5b8-1cb5c0f0f46d</td>\n",
       "      <td>Madonna con Bambino in gloria d'Angeli</td>\n",
       "      <td>1574.0</td>\n",
       "      <td>1629.0</td>\n",
       "      <td>Fondazione Giorgio Cini</td>\n",
       "      <td>{'City': 'CH A N TIL L Y', 'Author': 'ALIENSE ...</td>\n",
       "    </tr>\n",
       "  </tbody>\n",
       "</table>\n",
       "</div>"
      ],
      "text/plain": [
       "                                    uid                            added  \\\n",
       "0  9515070c-b367-4ee5-b7e0-4eb8cacbcae7 2017-07-11 16:42:41.307381+00:00   \n",
       "1  a91b058d-a3f4-4e14-a67a-8e710754be5d 2017-07-11 16:42:41.445597+00:00   \n",
       "2  1160b942-4c34-4b9c-88a8-2c1d255c5961 2017-07-11 16:42:41.543159+00:00   \n",
       "3  a003eb3f-2667-4763-b9a1-1c2daae8b5a1 2017-07-11 16:42:41.631198+00:00   \n",
       "4  9903179a-30dc-4a7b-8b39-7456d480e2e2 2017-07-11 16:42:41.742387+00:00   \n",
       "\n",
       "  source              path                                 o_uid  \\\n",
       "0   cini  cini/2A/2A_1.jpg  c37fd54e-be01-495c-b5ac-0ef08a58fb9f   \n",
       "1   cini  cini/2A/2A_2.jpg  2b05a698-3e3b-4be6-8aaa-c8d20b3217b5   \n",
       "2   cini  cini/2A/2A_3.jpg  bc615e17-c55e-48f0-bc3e-e01b325b8b7e   \n",
       "3   cini  cini/2A/2A_4.jpg  7c1484cf-7069-4cdd-bd3d-2a00935d51a8   \n",
       "4   cini  cini/2A/2A_5.jpg  d90c949f-9db1-415b-b5b8-1cb5c0f0f46d   \n",
       "\n",
       "                                             o_title  o_date_begin  \\\n",
       "0  Veduta dell'Etna e di Taormina.\\nGuazzo: 36 x ...        1771.0   \n",
       "1  Veduta del teatro di Taormina.\\nGuazzo: 350 x ...        1771.0   \n",
       "2                  Nettuno e Anfitride.\\nmm. 75 x 90        1528.0   \n",
       "3          Veduta di Nepi.\\nMatita: 435 x 385\\nT.to.        1815.0   \n",
       "4             Madonna con Bambino in gloria d'Angeli        1574.0   \n",
       "\n",
       "   o_date_end            o_attribution  \\\n",
       "0      1794.0  Fondazione Giorgio Cini   \n",
       "1      1794.0  Fondazione Giorgio Cini   \n",
       "2      1563.0  Fondazione Giorgio Cini   \n",
       "3      1871.0  Fondazione Giorgio Cini   \n",
       "4      1629.0  Fondazione Giorgio Cini   \n",
       "\n",
       "                                          o_metadata  \n",
       "0  {'City': 'CAEN', 'Author': 'CHATELET Claude Lo...  \n",
       "1  {'City': 'CAEN', 'Author': 'CHATELET Claude Lo...  \n",
       "2  {'City': 'C H A M B E RY', 'Author': 'SCHIAVON...  \n",
       "3  {'City': 'C H A RTR ES', 'Author': 'BERTIN Edo...  \n",
       "4  {'City': 'CH A N TIL L Y', 'Author': 'ALIENSE ...  "
      ]
     },
     "execution_count": 4,
     "metadata": {},
     "output_type": "execute_result"
    }
   ],
   "source": [
    "#metadata_2 = pd.read_excel(wga_dir + 'catalog.xls') #no uid\n",
    "#print(metadata_2)\n",
    "\n",
    "#metadata_2 = pd.read_csv(wga_dir + 'index.csv',).drop('Unnamed: 0', axis=1)\n",
    "#metadata_2.columns = ['Author', 'AuthorBirth', 'Description', 'path', 'BeginDate', 'date_num', 'height', 'width', 'is_color', 'uid']\n",
    "\n",
    "with open(data_dir + 'image_data_2022_04_28.pkl', 'rb') as infile:\n",
    "    metadata_2 = pickle.load(infile)\n",
    "\n",
    "\n",
    "metadata_2.head()\n"
   ]
  },
  {
   "cell_type": "code",
   "execution_count": 5,
   "metadata": {},
   "outputs": [
    {
     "data": {
      "text/plain": [
       "{'City': 'CAEN',\n",
       " 'Author': 'CHATELET Claude Louis',\n",
       " 'AuthorId': '<a href=\"http://vocab.getty.edu/page/ulan/500013578\">ulan:500013578</a>',\n",
       " 'CiniTime': '1961',\n",
       " 'AuthorRaw': 'CHATELET, Claude Louis',\n",
       " 'DateRange': '1771-1794',\n",
       " 'Reference': \"M. L'Italia vista dai pittori francesi del XVIII e XIX secolo, (1961), Cat. n. 63\",\n",
       " 'CiniNumber': 'N 2104',\n",
       " 'Description': \"Veduta dell'Etna e di Taormina.\\nGuazzo: 36 x 51.\\n1780.\",\n",
       " 'Institution': 'MUSEE DES BEAUX ARTS'}"
      ]
     },
     "execution_count": 5,
     "metadata": {},
     "output_type": "execute_result"
    }
   ],
   "source": [
    "metadata_2.reset_index()['o_metadata'][0]"
   ]
  },
  {
   "cell_type": "code",
   "execution_count": 6,
   "metadata": {},
   "outputs": [
    {
     "data": {
      "text/plain": [
       "{'URL': 'http://www.wga.hu/html/a/aachen/allegory.html',\n",
       " 'DATE': 1598,\n",
       " 'FORM': 'painting',\n",
       " 'TYPE': 'mythological',\n",
       " 'TITLE': 'Allegory',\n",
       " 'AUTHOR': 'AACHEN, Hans von',\n",
       " 'SCHOOL': 'German',\n",
       " 'LOCATION': 'Alte Pinakothek, Munich',\n",
       " 'TIMELINE': '1601-1650',\n",
       " 'BORN-DIED': '(b. 1552, Köln, d. 1615, Praha)',\n",
       " 'TECHNIQUE': 'Oil on copper, 56 x 47 cm'}"
      ]
     },
     "execution_count": 6,
     "metadata": {},
     "output_type": "execute_result"
    }
   ],
   "source": [
    "metadata_2 = metadata_2[metadata_2['source'] == 'wga']   \n",
    "metadata_2.reset_index()['o_metadata'][0]"
   ]
  },
  {
   "cell_type": "code",
   "execution_count": 7,
   "metadata": {},
   "outputs": [
    {
     "data": {
      "text/html": [
       "<div>\n",
       "<style scoped>\n",
       "    .dataframe tbody tr th:only-of-type {\n",
       "        vertical-align: middle;\n",
       "    }\n",
       "\n",
       "    .dataframe tbody tr th {\n",
       "        vertical-align: top;\n",
       "    }\n",
       "\n",
       "    .dataframe thead th {\n",
       "        text-align: right;\n",
       "    }\n",
       "</style>\n",
       "<table border=\"1\" class=\"dataframe\">\n",
       "  <thead>\n",
       "    <tr style=\"text-align: right;\">\n",
       "      <th></th>\n",
       "      <th>AuthorOriginal</th>\n",
       "      <th>AuthorBirth</th>\n",
       "      <th>Description</th>\n",
       "      <th>path</th>\n",
       "      <th>BeginDate</th>\n",
       "      <th>ImageURL</th>\n",
       "      <th>Type</th>\n",
       "      <th>uid</th>\n",
       "    </tr>\n",
       "  </thead>\n",
       "  <tbody>\n",
       "    <tr>\n",
       "      <th>10789</th>\n",
       "      <td>AACHEN, Hans von</td>\n",
       "      <td>(b. 1552, Köln, d. 1615, Praha)</td>\n",
       "      <td>Allegory</td>\n",
       "      <td>../data/WGA/images/a/aachen/allegory.jpg</td>\n",
       "      <td>1598.0</td>\n",
       "      <td>http://www.wga.hu/html/a/aachen/allegory.html</td>\n",
       "      <td>mythological</td>\n",
       "      <td>2355b564f41e41a09bf6ae2a503e152a</td>\n",
       "    </tr>\n",
       "    <tr>\n",
       "      <th>10790</th>\n",
       "      <td>AACHEN, Hans von</td>\n",
       "      <td>(b. 1552, Köln, d. 1615, Praha)</td>\n",
       "      <td>Bacchus, Ceres and Cupid</td>\n",
       "      <td>../data/WGA/images/a/aachen/bacchus.jpg</td>\n",
       "      <td>1601.0</td>\n",
       "      <td>http://www.wga.hu/html/a/aachen/bacchus.html</td>\n",
       "      <td>mythological</td>\n",
       "      <td>d57ed156ca104cbcb52d0ab4f76c84a1</td>\n",
       "    </tr>\n",
       "    <tr>\n",
       "      <th>10791</th>\n",
       "      <td>AACHEN, Hans von</td>\n",
       "      <td>(b. 1552, Köln, d. 1615, Praha)</td>\n",
       "      <td>Joking Couple</td>\n",
       "      <td>../data/WGA/images/a/aachen/j_couple.jpg</td>\n",
       "      <td>1601.0</td>\n",
       "      <td>http://www.wga.hu/html/a/aachen/j_couple.html</td>\n",
       "      <td>genre</td>\n",
       "      <td>d51bd5c5a7b1440587b437d428e270a6</td>\n",
       "    </tr>\n",
       "    <tr>\n",
       "      <th>10792</th>\n",
       "      <td>AACHEN, Hans von</td>\n",
       "      <td>(b. 1552, Köln, d. 1615, Praha)</td>\n",
       "      <td>Portrait of Emperor Rudolf II</td>\n",
       "      <td>../data/WGA/images/a/aachen/rudolf2.jpg</td>\n",
       "      <td>1590.0</td>\n",
       "      <td>http://www.wga.hu/html/a/aachen/rudolf2.html</td>\n",
       "      <td>portrait</td>\n",
       "      <td>5d7c0617643d4f7eb58cf38df03b8eb2</td>\n",
       "    </tr>\n",
       "    <tr>\n",
       "      <th>10793</th>\n",
       "      <td>AACHEN, Hans von</td>\n",
       "      <td>(b. 1552, Köln, d. 1615, Praha)</td>\n",
       "      <td>Self-Portrait with a Glass of Wine</td>\n",
       "      <td>../data/WGA/images/a/aachen/selfport.jpg</td>\n",
       "      <td>1591.0</td>\n",
       "      <td>http://www.wga.hu/html/a/aachen/selfport.html</td>\n",
       "      <td>portrait</td>\n",
       "      <td>b4de719d8ca84709a1fffafe7bb89db0</td>\n",
       "    </tr>\n",
       "  </tbody>\n",
       "</table>\n",
       "</div>"
      ],
      "text/plain": [
       "         AuthorOriginal                      AuthorBirth  \\\n",
       "10789  AACHEN, Hans von  (b. 1552, Köln, d. 1615, Praha)   \n",
       "10790  AACHEN, Hans von  (b. 1552, Köln, d. 1615, Praha)   \n",
       "10791  AACHEN, Hans von  (b. 1552, Köln, d. 1615, Praha)   \n",
       "10792  AACHEN, Hans von  (b. 1552, Köln, d. 1615, Praha)   \n",
       "10793  AACHEN, Hans von  (b. 1552, Köln, d. 1615, Praha)   \n",
       "\n",
       "                              Description  \\\n",
       "10789                            Allegory   \n",
       "10790            Bacchus, Ceres and Cupid   \n",
       "10791                       Joking Couple   \n",
       "10792       Portrait of Emperor Rudolf II   \n",
       "10793  Self-Portrait with a Glass of Wine   \n",
       "\n",
       "                                           path  BeginDate  \\\n",
       "10789  ../data/WGA/images/a/aachen/allegory.jpg     1598.0   \n",
       "10790   ../data/WGA/images/a/aachen/bacchus.jpg     1601.0   \n",
       "10791  ../data/WGA/images/a/aachen/j_couple.jpg     1601.0   \n",
       "10792   ../data/WGA/images/a/aachen/rudolf2.jpg     1590.0   \n",
       "10793  ../data/WGA/images/a/aachen/selfport.jpg     1591.0   \n",
       "\n",
       "                                            ImageURL          Type  \\\n",
       "10789  http://www.wga.hu/html/a/aachen/allegory.html  mythological   \n",
       "10790   http://www.wga.hu/html/a/aachen/bacchus.html  mythological   \n",
       "10791  http://www.wga.hu/html/a/aachen/j_couple.html         genre   \n",
       "10792   http://www.wga.hu/html/a/aachen/rudolf2.html      portrait   \n",
       "10793  http://www.wga.hu/html/a/aachen/selfport.html      portrait   \n",
       "\n",
       "                                    uid  \n",
       "10789  2355b564f41e41a09bf6ae2a503e152a  \n",
       "10790  d57ed156ca104cbcb52d0ab4f76c84a1  \n",
       "10791  d51bd5c5a7b1440587b437d428e270a6  \n",
       "10792  5d7c0617643d4f7eb58cf38df03b8eb2  \n",
       "10793  b4de719d8ca84709a1fffafe7bb89db0  "
      ]
     },
     "execution_count": 7,
     "metadata": {},
     "output_type": "execute_result"
    }
   ],
   "source": [
    "metadata_2['AuthorOriginal'] = metadata_2['o_metadata'].apply(lambda x: x['AUTHOR'])\n",
    "metadata_2['AuthorBirth'] = metadata_2['o_metadata'].apply(lambda x: x['BORN-DIED'])\n",
    "metadata_2['Description'] = metadata_2['o_metadata'].apply(lambda x: x['TITLE'])\n",
    "metadata_2['BeginDate'] = metadata_2['o_date_begin']\n",
    "metadata_2['ImageURL'] = metadata_2['o_metadata'].apply(lambda x: x['URL'])\n",
    "metadata_2['Type'] = metadata_2['o_metadata'].apply(lambda x: x['TYPE'])\n",
    "\n",
    "\n",
    "metadata_2['uid'] = metadata_2['uid'].astype(str).apply(lambda x: x.replace('-', ''))\n",
    "metadata_2['path'] = wga_dir + metadata_2['path']\n",
    "\n",
    "metadata_2 = metadata_2[['AuthorOriginal', 'AuthorBirth', 'Description', 'path', 'BeginDate', 'ImageURL', 'Type', 'uid',]]\n",
    "metadata_2.head()\n"
   ]
  },
  {
   "cell_type": "code",
   "execution_count": 8,
   "metadata": {},
   "outputs": [
    {
     "data": {
      "text/plain": [
       "religious       16935\n",
       "portrait         5619\n",
       "landscape        4335\n",
       "mythological     4033\n",
       "genre            2860\n",
       "other            2349\n",
       "still-life       1402\n",
       "study            1283\n",
       "historical       1161\n",
       "interior          649\n",
       "Name: Type, dtype: int64"
      ]
     },
     "execution_count": 8,
     "metadata": {},
     "output_type": "execute_result"
    }
   ],
   "source": [
    "metadata_2['Type'].value_counts()"
   ]
  },
  {
   "cell_type": "code",
   "execution_count": 9,
   "metadata": {},
   "outputs": [
    {
     "data": {
      "text/html": [
       "<div>\n",
       "<style scoped>\n",
       "    .dataframe tbody tr th:only-of-type {\n",
       "        vertical-align: middle;\n",
       "    }\n",
       "\n",
       "    .dataframe tbody tr th {\n",
       "        vertical-align: top;\n",
       "    }\n",
       "\n",
       "    .dataframe thead th {\n",
       "        text-align: right;\n",
       "    }\n",
       "</style>\n",
       "<table border=\"1\" class=\"dataframe\">\n",
       "  <thead>\n",
       "    <tr style=\"text-align: right;\">\n",
       "      <th></th>\n",
       "      <th>AuthorOriginal</th>\n",
       "      <th>AuthorBirth</th>\n",
       "      <th>Description</th>\n",
       "      <th>path</th>\n",
       "      <th>BeginDate</th>\n",
       "      <th>ImageURL</th>\n",
       "      <th>Type</th>\n",
       "      <th>uid</th>\n",
       "      <th>TypeN</th>\n",
       "    </tr>\n",
       "  </thead>\n",
       "  <tbody>\n",
       "    <tr>\n",
       "      <th>10789</th>\n",
       "      <td>AACHEN, Hans von</td>\n",
       "      <td>(b. 1552, Köln, d. 1615, Praha)</td>\n",
       "      <td>Allegory</td>\n",
       "      <td>../data/WGA/images/a/aachen/allegory.jpg</td>\n",
       "      <td>1598.0</td>\n",
       "      <td>http://www.wga.hu/html/a/aachen/allegory.html</td>\n",
       "      <td>mythological</td>\n",
       "      <td>2355b564f41e41a09bf6ae2a503e152a</td>\n",
       "      <td>4</td>\n",
       "    </tr>\n",
       "    <tr>\n",
       "      <th>10790</th>\n",
       "      <td>AACHEN, Hans von</td>\n",
       "      <td>(b. 1552, Köln, d. 1615, Praha)</td>\n",
       "      <td>Bacchus, Ceres and Cupid</td>\n",
       "      <td>../data/WGA/images/a/aachen/bacchus.jpg</td>\n",
       "      <td>1601.0</td>\n",
       "      <td>http://www.wga.hu/html/a/aachen/bacchus.html</td>\n",
       "      <td>mythological</td>\n",
       "      <td>d57ed156ca104cbcb52d0ab4f76c84a1</td>\n",
       "      <td>4</td>\n",
       "    </tr>\n",
       "    <tr>\n",
       "      <th>10791</th>\n",
       "      <td>AACHEN, Hans von</td>\n",
       "      <td>(b. 1552, Köln, d. 1615, Praha)</td>\n",
       "      <td>Joking Couple</td>\n",
       "      <td>../data/WGA/images/a/aachen/j_couple.jpg</td>\n",
       "      <td>1601.0</td>\n",
       "      <td>http://www.wga.hu/html/a/aachen/j_couple.html</td>\n",
       "      <td>genre</td>\n",
       "      <td>d51bd5c5a7b1440587b437d428e270a6</td>\n",
       "      <td>0</td>\n",
       "    </tr>\n",
       "    <tr>\n",
       "      <th>10792</th>\n",
       "      <td>AACHEN, Hans von</td>\n",
       "      <td>(b. 1552, Köln, d. 1615, Praha)</td>\n",
       "      <td>Portrait of Emperor Rudolf II</td>\n",
       "      <td>../data/WGA/images/a/aachen/rudolf2.jpg</td>\n",
       "      <td>1590.0</td>\n",
       "      <td>http://www.wga.hu/html/a/aachen/rudolf2.html</td>\n",
       "      <td>portrait</td>\n",
       "      <td>5d7c0617643d4f7eb58cf38df03b8eb2</td>\n",
       "      <td>6</td>\n",
       "    </tr>\n",
       "    <tr>\n",
       "      <th>10793</th>\n",
       "      <td>AACHEN, Hans von</td>\n",
       "      <td>(b. 1552, Köln, d. 1615, Praha)</td>\n",
       "      <td>Self-Portrait with a Glass of Wine</td>\n",
       "      <td>../data/WGA/images/a/aachen/selfport.jpg</td>\n",
       "      <td>1591.0</td>\n",
       "      <td>http://www.wga.hu/html/a/aachen/selfport.html</td>\n",
       "      <td>portrait</td>\n",
       "      <td>b4de719d8ca84709a1fffafe7bb89db0</td>\n",
       "      <td>6</td>\n",
       "    </tr>\n",
       "  </tbody>\n",
       "</table>\n",
       "</div>"
      ],
      "text/plain": [
       "         AuthorOriginal                      AuthorBirth  \\\n",
       "10789  AACHEN, Hans von  (b. 1552, Köln, d. 1615, Praha)   \n",
       "10790  AACHEN, Hans von  (b. 1552, Köln, d. 1615, Praha)   \n",
       "10791  AACHEN, Hans von  (b. 1552, Köln, d. 1615, Praha)   \n",
       "10792  AACHEN, Hans von  (b. 1552, Köln, d. 1615, Praha)   \n",
       "10793  AACHEN, Hans von  (b. 1552, Köln, d. 1615, Praha)   \n",
       "\n",
       "                              Description  \\\n",
       "10789                            Allegory   \n",
       "10790            Bacchus, Ceres and Cupid   \n",
       "10791                       Joking Couple   \n",
       "10792       Portrait of Emperor Rudolf II   \n",
       "10793  Self-Portrait with a Glass of Wine   \n",
       "\n",
       "                                           path  BeginDate  \\\n",
       "10789  ../data/WGA/images/a/aachen/allegory.jpg     1598.0   \n",
       "10790   ../data/WGA/images/a/aachen/bacchus.jpg     1601.0   \n",
       "10791  ../data/WGA/images/a/aachen/j_couple.jpg     1601.0   \n",
       "10792   ../data/WGA/images/a/aachen/rudolf2.jpg     1590.0   \n",
       "10793  ../data/WGA/images/a/aachen/selfport.jpg     1591.0   \n",
       "\n",
       "                                            ImageURL          Type  \\\n",
       "10789  http://www.wga.hu/html/a/aachen/allegory.html  mythological   \n",
       "10790   http://www.wga.hu/html/a/aachen/bacchus.html  mythological   \n",
       "10791  http://www.wga.hu/html/a/aachen/j_couple.html         genre   \n",
       "10792   http://www.wga.hu/html/a/aachen/rudolf2.html      portrait   \n",
       "10793  http://www.wga.hu/html/a/aachen/selfport.html      portrait   \n",
       "\n",
       "                                    uid  TypeN  \n",
       "10789  2355b564f41e41a09bf6ae2a503e152a      4  \n",
       "10790  d57ed156ca104cbcb52d0ab4f76c84a1      4  \n",
       "10791  d51bd5c5a7b1440587b437d428e270a6      0  \n",
       "10792  5d7c0617643d4f7eb58cf38df03b8eb2      6  \n",
       "10793  b4de719d8ca84709a1fffafe7bb89db0      6  "
      ]
     },
     "execution_count": 9,
     "metadata": {},
     "output_type": "execute_result"
    }
   ],
   "source": [
    "le = preprocessing.LabelEncoder()\n",
    "\n",
    "metadata_2['TypeN'] = le.fit_transform(metadata_2['Type'])\n",
    "metadata_2.head()"
   ]
  },
  {
   "cell_type": "code",
   "execution_count": 10,
   "metadata": {},
   "outputs": [],
   "source": [
    "metadata_2 = metadata_2[metadata_2['path'].notnull()]"
   ]
  },
  {
   "cell_type": "code",
   "execution_count": 11,
   "metadata": {},
   "outputs": [],
   "source": [
    "# metadata_2.to_csv(data_dir + 'train_type.csv')"
   ]
  },
  {
   "cell_type": "code",
   "execution_count": 12,
   "metadata": {},
   "outputs": [
    {
     "data": {
      "text/html": [
       "<div>\n",
       "<style scoped>\n",
       "    .dataframe tbody tr th:only-of-type {\n",
       "        vertical-align: middle;\n",
       "    }\n",
       "\n",
       "    .dataframe tbody tr th {\n",
       "        vertical-align: top;\n",
       "    }\n",
       "\n",
       "    .dataframe thead th {\n",
       "        text-align: right;\n",
       "    }\n",
       "</style>\n",
       "<table border=\"1\" class=\"dataframe\">\n",
       "  <thead>\n",
       "    <tr style=\"text-align: right;\">\n",
       "      <th></th>\n",
       "      <th>AuthorOriginal</th>\n",
       "      <th>AuthorBirth</th>\n",
       "      <th>Description</th>\n",
       "      <th>path</th>\n",
       "      <th>BeginDate</th>\n",
       "      <th>ImageURL</th>\n",
       "      <th>Type</th>\n",
       "      <th>uid</th>\n",
       "      <th>TypeN</th>\n",
       "    </tr>\n",
       "  </thead>\n",
       "  <tbody>\n",
       "    <tr>\n",
       "      <th>30114</th>\n",
       "      <td>LEONARDO da Vinci</td>\n",
       "      <td>(b. 1452, Vinci, d. 1519, Cloux, near Amboise)</td>\n",
       "      <td>Virgin of the Rocks</td>\n",
       "      <td>../data/WGA/images/l/leonardo/02/3virg_l.jpg</td>\n",
       "      <td>1495.0</td>\n",
       "      <td>http://www.wga.hu/html/l/leonardo/02/3virg_l.html</td>\n",
       "      <td>religious</td>\n",
       "      <td>fd08dd6652684417a7809bf727111d6f</td>\n",
       "      <td>7</td>\n",
       "    </tr>\n",
       "  </tbody>\n",
       "</table>\n",
       "</div>"
      ],
      "text/plain": [
       "          AuthorOriginal                                     AuthorBirth  \\\n",
       "30114  LEONARDO da Vinci  (b. 1452, Vinci, d. 1519, Cloux, near Amboise)   \n",
       "\n",
       "               Description                                          path  \\\n",
       "30114  Virgin of the Rocks  ../data/WGA/images/l/leonardo/02/3virg_l.jpg   \n",
       "\n",
       "       BeginDate                                           ImageURL  \\\n",
       "30114     1495.0  http://www.wga.hu/html/l/leonardo/02/3virg_l.html   \n",
       "\n",
       "            Type                               uid  TypeN  \n",
       "30114  religious  fd08dd6652684417a7809bf727111d6f      7  "
      ]
     },
     "execution_count": 12,
     "metadata": {},
     "output_type": "execute_result"
    }
   ],
   "source": [
    "metadata_2[metadata_2['uid'] == 'fd08dd6652684417a7809bf727111d6f']"
   ]
  },
  {
   "cell_type": "code",
   "execution_count": 13,
   "metadata": {},
   "outputs": [],
   "source": [
    "#metadata_2[metadata_2['AuthorBirth'] == '(b. 1794, St. Petersburg, d. 1855, St. Petersburg)']"
   ]
  },
  {
   "cell_type": "code",
   "execution_count": 14,
   "metadata": {},
   "outputs": [
    {
     "name": "stdout",
     "output_type": "stream",
     "text": [
      "(370628, 8)\n"
     ]
    },
    {
     "data": {
      "text/html": [
       "<div>\n",
       "<style scoped>\n",
       "    .dataframe tbody tr th:only-of-type {\n",
       "        vertical-align: middle;\n",
       "    }\n",
       "\n",
       "    .dataframe tbody tr th {\n",
       "        vertical-align: top;\n",
       "    }\n",
       "\n",
       "    .dataframe thead th {\n",
       "        text-align: right;\n",
       "    }\n",
       "</style>\n",
       "<table border=\"1\" class=\"dataframe\">\n",
       "  <thead>\n",
       "    <tr style=\"text-align: right;\">\n",
       "      <th></th>\n",
       "      <th>AuthorOriginal</th>\n",
       "      <th>AuthorBirth</th>\n",
       "      <th>Description</th>\n",
       "      <th>path</th>\n",
       "      <th>BeginDate</th>\n",
       "      <th>uid</th>\n",
       "      <th>ImageURL</th>\n",
       "      <th>Type</th>\n",
       "    </tr>\n",
       "  </thead>\n",
       "  <tbody>\n",
       "    <tr>\n",
       "      <th>0</th>\n",
       "      <td>ALLEGRINI, Francesco</td>\n",
       "      <td>1610.0</td>\n",
       "      <td>tca con penna acquarellata 148 x 203 mm</td>\n",
       "      <td>../data/1A/1A_1.jpg</td>\n",
       "      <td>1628.0</td>\n",
       "      <td>253993c139284a45be233a13121ddeeb</td>\n",
       "      <td>https://dhlabsrv4.epfl.ch/iiif_replica/cini%2F...</td>\n",
       "      <td>NaN</td>\n",
       "    </tr>\n",
       "    <tr>\n",
       "      <th>1</th>\n",
       "      <td>BAROCCI, Federico</td>\n",
       "      <td>1528.0</td>\n",
       "      <td>Studio di figura penna acquarellata (carboncin...</td>\n",
       "      <td>../data/1A/1A_2.jpg</td>\n",
       "      <td>1546.0</td>\n",
       "      <td>1323356994c24635a11fdcd9d5f9284a</td>\n",
       "      <td>https://dhlabsrv4.epfl.ch/iiif_replica/cini%2F...</td>\n",
       "      <td>NaN</td>\n",
       "    </tr>\n",
       "    <tr>\n",
       "      <th>2</th>\n",
       "      <td>BASSANO, Leandro</td>\n",
       "      <td>1557.0</td>\n",
       "      <td>Scene penna su carta blu 171 x 219 mm</td>\n",
       "      <td>../data/1A/1A_3.jpg</td>\n",
       "      <td>1575.0</td>\n",
       "      <td>a4268385f6384e61a3dd092bc6b8c083</td>\n",
       "      <td>https://dhlabsrv4.epfl.ch/iiif_replica/cini%2F...</td>\n",
       "      <td>NaN</td>\n",
       "    </tr>\n",
       "    <tr>\n",
       "      <th>3</th>\n",
       "      <td>CAMPIGLI, Massimo</td>\n",
       "      <td>1895.0</td>\n",
       "      <td>Ragazza su una scala gessetto su carta bruna g...</td>\n",
       "      <td>../data/1A/1A_4.jpg</td>\n",
       "      <td>1913.0</td>\n",
       "      <td>550f368cdb4442aab4d5e2ada702d6ad</td>\n",
       "      <td>https://dhlabsrv4.epfl.ch/iiif_replica/cini%2F...</td>\n",
       "      <td>NaN</td>\n",
       "    </tr>\n",
       "    <tr>\n",
       "      <th>4</th>\n",
       "      <td>CARRACCI, A. attr.</td>\n",
       "      <td>NaN</td>\n",
       "      <td>Madonna e Santi penna 291 x 205 mm</td>\n",
       "      <td>../data/1A/1A_5.jpg</td>\n",
       "      <td>NaN</td>\n",
       "      <td>6047de5547b643cb87491be925748bee</td>\n",
       "      <td>https://dhlabsrv4.epfl.ch/iiif_replica/cini%2F...</td>\n",
       "      <td>NaN</td>\n",
       "    </tr>\n",
       "  </tbody>\n",
       "</table>\n",
       "</div>"
      ],
      "text/plain": [
       "         AuthorOriginal AuthorBirth  \\\n",
       "0  ALLEGRINI, Francesco      1610.0   \n",
       "1     BAROCCI, Federico      1528.0   \n",
       "2      BASSANO, Leandro      1557.0   \n",
       "3     CAMPIGLI, Massimo      1895.0   \n",
       "4    CARRACCI, A. attr.         NaN   \n",
       "\n",
       "                                         Description                 path  \\\n",
       "0            tca con penna acquarellata 148 x 203 mm  ../data/1A/1A_1.jpg   \n",
       "1  Studio di figura penna acquarellata (carboncin...  ../data/1A/1A_2.jpg   \n",
       "2              Scene penna su carta blu 171 x 219 mm  ../data/1A/1A_3.jpg   \n",
       "3  Ragazza su una scala gessetto su carta bruna g...  ../data/1A/1A_4.jpg   \n",
       "4                 Madonna e Santi penna 291 x 205 mm  ../data/1A/1A_5.jpg   \n",
       "\n",
       "   BeginDate                               uid  \\\n",
       "0     1628.0  253993c139284a45be233a13121ddeeb   \n",
       "1     1546.0  1323356994c24635a11fdcd9d5f9284a   \n",
       "2     1575.0  a4268385f6384e61a3dd092bc6b8c083   \n",
       "3     1913.0  550f368cdb4442aab4d5e2ada702d6ad   \n",
       "4        NaN  6047de5547b643cb87491be925748bee   \n",
       "\n",
       "                                            ImageURL Type  \n",
       "0  https://dhlabsrv4.epfl.ch/iiif_replica/cini%2F...  NaN  \n",
       "1  https://dhlabsrv4.epfl.ch/iiif_replica/cini%2F...  NaN  \n",
       "2  https://dhlabsrv4.epfl.ch/iiif_replica/cini%2F...  NaN  \n",
       "3  https://dhlabsrv4.epfl.ch/iiif_replica/cini%2F...  NaN  \n",
       "4  https://dhlabsrv4.epfl.ch/iiif_replica/cini%2F...  NaN  "
      ]
     },
     "execution_count": 14,
     "metadata": {},
     "output_type": "execute_result"
    }
   ],
   "source": [
    "metadata_tot = pd.concat([metadata[['AuthorOriginal', 'AuthorBirth', 'Description', 'path', 'BeginDate', 'uid', 'ImageURL', ]], \n",
    "                          metadata_2[['AuthorOriginal', 'AuthorBirth', 'Description', 'path', 'BeginDate', 'uid', 'ImageURL', 'Type',]]], axis=0)\n",
    "print(metadata_tot.shape)\n",
    "metadata_tot.head()"
   ]
  },
  {
   "cell_type": "code",
   "execution_count": 15,
   "metadata": {},
   "outputs": [
    {
     "data": {
      "text/plain": [
       "(370106, (370628, 8))"
      ]
     },
     "execution_count": 15,
     "metadata": {},
     "output_type": "execute_result"
    }
   ],
   "source": [
    "metadata_tot['uid'].nunique(), metadata_tot.shape"
   ]
  },
  {
   "cell_type": "code",
   "execution_count": 16,
   "metadata": {},
   "outputs": [],
   "source": [
    "# dropping duplicates\n",
    "\n",
    "metadata_tot = metadata_tot.groupby('uid').first().reset_index()"
   ]
  },
  {
   "cell_type": "code",
   "execution_count": 17,
   "metadata": {},
   "outputs": [
    {
     "data": {
      "text/html": [
       "<div>\n",
       "<style scoped>\n",
       "    .dataframe tbody tr th:only-of-type {\n",
       "        vertical-align: middle;\n",
       "    }\n",
       "\n",
       "    .dataframe tbody tr th {\n",
       "        vertical-align: top;\n",
       "    }\n",
       "\n",
       "    .dataframe thead th {\n",
       "        text-align: right;\n",
       "    }\n",
       "</style>\n",
       "<table border=\"1\" class=\"dataframe\">\n",
       "  <thead>\n",
       "    <tr style=\"text-align: right;\">\n",
       "      <th></th>\n",
       "      <th>uid</th>\n",
       "      <th>img1</th>\n",
       "      <th>img2</th>\n",
       "      <th>type</th>\n",
       "      <th>annotated</th>\n",
       "    </tr>\n",
       "  </thead>\n",
       "  <tbody>\n",
       "    <tr>\n",
       "      <th>0</th>\n",
       "      <td>0f84770be893475581bebd8c0ce95704</td>\n",
       "      <td>4b6e5a18012e4974a43f6f652c9cad78</td>\n",
       "      <td>e3329a91a266412fb1a0975d70894178</td>\n",
       "      <td>POSITIVE</td>\n",
       "      <td>2017-07-19 15:02:50.997512+00:00</td>\n",
       "    </tr>\n",
       "    <tr>\n",
       "      <th>1</th>\n",
       "      <td>5ade49fc2dc649b9947496a41e2decdb</td>\n",
       "      <td>384b9f017d5f43ba9dcfd92f2af830c4</td>\n",
       "      <td>e3329a91a266412fb1a0975d70894178</td>\n",
       "      <td>POSITIVE</td>\n",
       "      <td>2017-07-19 15:02:51.238615+00:00</td>\n",
       "    </tr>\n",
       "    <tr>\n",
       "      <th>2</th>\n",
       "      <td>bf4d99eaf7da4bd486f9007c90c177a5</td>\n",
       "      <td>94fe74bcebf9442fb5cd9a0327590a84</td>\n",
       "      <td>726f47fb5bd94c5db8069334cc58020e</td>\n",
       "      <td>POSITIVE</td>\n",
       "      <td>2017-07-20 12:18:23.705228+00:00</td>\n",
       "    </tr>\n",
       "    <tr>\n",
       "      <th>3</th>\n",
       "      <td>b29ec3c83c5641f9b6afadb2409b6746</td>\n",
       "      <td>922fe92d61e744b1a9462c848a916bcf</td>\n",
       "      <td>726f47fb5bd94c5db8069334cc58020e</td>\n",
       "      <td>POSITIVE</td>\n",
       "      <td>2017-07-20 12:18:24.021703+00:00</td>\n",
       "    </tr>\n",
       "    <tr>\n",
       "      <th>4</th>\n",
       "      <td>ab27b55997b94bef9cca122829e9f64d</td>\n",
       "      <td>94fe74bcebf9442fb5cd9a0327590a84</td>\n",
       "      <td>922fe92d61e744b1a9462c848a916bcf</td>\n",
       "      <td>POSITIVE</td>\n",
       "      <td>2017-07-20 12:18:23.873097+00:00</td>\n",
       "    </tr>\n",
       "  </tbody>\n",
       "</table>\n",
       "</div>"
      ],
      "text/plain": [
       "                                uid                              img1  \\\n",
       "0  0f84770be893475581bebd8c0ce95704  4b6e5a18012e4974a43f6f652c9cad78   \n",
       "1  5ade49fc2dc649b9947496a41e2decdb  384b9f017d5f43ba9dcfd92f2af830c4   \n",
       "2  bf4d99eaf7da4bd486f9007c90c177a5  94fe74bcebf9442fb5cd9a0327590a84   \n",
       "3  b29ec3c83c5641f9b6afadb2409b6746  922fe92d61e744b1a9462c848a916bcf   \n",
       "4  ab27b55997b94bef9cca122829e9f64d  94fe74bcebf9442fb5cd9a0327590a84   \n",
       "\n",
       "                               img2      type                        annotated  \n",
       "0  e3329a91a266412fb1a0975d70894178  POSITIVE 2017-07-19 15:02:50.997512+00:00  \n",
       "1  e3329a91a266412fb1a0975d70894178  POSITIVE 2017-07-19 15:02:51.238615+00:00  \n",
       "2  726f47fb5bd94c5db8069334cc58020e  POSITIVE 2017-07-20 12:18:23.705228+00:00  \n",
       "3  726f47fb5bd94c5db8069334cc58020e  POSITIVE 2017-07-20 12:18:24.021703+00:00  \n",
       "4  922fe92d61e744b1a9462c848a916bcf  POSITIVE 2017-07-20 12:18:23.873097+00:00  "
      ]
     },
     "execution_count": 17,
     "metadata": {},
     "output_type": "execute_result"
    }
   ],
   "source": [
    "with open(path + 'save_link_data_2018_08_02.pkl', 'rb') as f:\n",
    "    morpho_graph_complete = pickle.load(f)\n",
    "\n",
    "# contains uid\timg1\timg2\ttype\tannotated\n",
    "morpho_graph_complete.head()"
   ]
  },
  {
   "cell_type": "code",
   "execution_count": 18,
   "metadata": {},
   "outputs": [
    {
     "data": {
      "text/html": [
       "<div>\n",
       "<style scoped>\n",
       "    .dataframe tbody tr th:only-of-type {\n",
       "        vertical-align: middle;\n",
       "    }\n",
       "\n",
       "    .dataframe tbody tr th {\n",
       "        vertical-align: top;\n",
       "    }\n",
       "\n",
       "    .dataframe thead th {\n",
       "        text-align: right;\n",
       "    }\n",
       "</style>\n",
       "<table border=\"1\" class=\"dataframe\">\n",
       "  <thead>\n",
       "    <tr style=\"text-align: right;\">\n",
       "      <th></th>\n",
       "      <th>uid</th>\n",
       "      <th>img1</th>\n",
       "      <th>img2</th>\n",
       "      <th>type</th>\n",
       "      <th>annotated</th>\n",
       "    </tr>\n",
       "  </thead>\n",
       "  <tbody>\n",
       "    <tr>\n",
       "      <th>0</th>\n",
       "      <td>af99c7f1401e4288bacca135ad916c2c</td>\n",
       "      <td>af99c7f1401e42889d36614b50f48fcd</td>\n",
       "      <td>d1c5eedffa3c42eabacca135ad916c2c</td>\n",
       "      <td>POSITIVE</td>\n",
       "      <td>08-04-2022_16:50:31</td>\n",
       "    </tr>\n",
       "    <tr>\n",
       "      <th>0</th>\n",
       "      <td>e348cd2149fd4fb18b79415e1dea8630</td>\n",
       "      <td>e348cd2149fd4fb1be2fee761d616c42</td>\n",
       "      <td>8286397109c440f48b79415e1dea8630</td>\n",
       "      <td>POSITIVE</td>\n",
       "      <td>08-04-2022_18:30:49</td>\n",
       "    </tr>\n",
       "    <tr>\n",
       "      <th>0</th>\n",
       "      <td>d50f7a340d7148ec8a3aaba293ba7ed9</td>\n",
       "      <td>d50f7a340d7148ec807ce12bc35da523</td>\n",
       "      <td>faa0c51a85ff406c8a3aaba293ba7ed9</td>\n",
       "      <td>POSITIVE</td>\n",
       "      <td>08-04-2022_18:31:07</td>\n",
       "    </tr>\n",
       "    <tr>\n",
       "      <th>0</th>\n",
       "      <td>df27d9eff7a74e34bf04bf87c65d128d</td>\n",
       "      <td>df27d9eff7a74e3499359c4b00883d5e</td>\n",
       "      <td>1db9c995dd594309bf04bf87c65d128d</td>\n",
       "      <td>POSITIVE</td>\n",
       "      <td>08-04-2022_18:53:58</td>\n",
       "    </tr>\n",
       "    <tr>\n",
       "      <th>0</th>\n",
       "      <td>bb7283d826784f74a52095f2f8496379</td>\n",
       "      <td>bb7283d826784f74b29fe4a855c9b16c</td>\n",
       "      <td>e186ba530c7149c7a52095f2f8496379</td>\n",
       "      <td>POSITIVE</td>\n",
       "      <td>08-04-2022_18:54:32</td>\n",
       "    </tr>\n",
       "  </tbody>\n",
       "</table>\n",
       "</div>"
      ],
      "text/plain": [
       "                                uid                              img1  \\\n",
       "0  af99c7f1401e4288bacca135ad916c2c  af99c7f1401e42889d36614b50f48fcd   \n",
       "0  e348cd2149fd4fb18b79415e1dea8630  e348cd2149fd4fb1be2fee761d616c42   \n",
       "0  d50f7a340d7148ec8a3aaba293ba7ed9  d50f7a340d7148ec807ce12bc35da523   \n",
       "0  df27d9eff7a74e34bf04bf87c65d128d  df27d9eff7a74e3499359c4b00883d5e   \n",
       "0  bb7283d826784f74a52095f2f8496379  bb7283d826784f74b29fe4a855c9b16c   \n",
       "\n",
       "                               img2      type            annotated  \n",
       "0  d1c5eedffa3c42eabacca135ad916c2c  POSITIVE  08-04-2022_16:50:31  \n",
       "0  8286397109c440f48b79415e1dea8630  POSITIVE  08-04-2022_18:30:49  \n",
       "0  faa0c51a85ff406c8a3aaba293ba7ed9  POSITIVE  08-04-2022_18:31:07  \n",
       "0  1db9c995dd594309bf04bf87c65d128d  POSITIVE  08-04-2022_18:53:58  \n",
       "0  e186ba530c7149c7a52095f2f8496379  POSITIVE  08-04-2022_18:54:32  "
      ]
     },
     "execution_count": 18,
     "metadata": {},
     "output_type": "execute_result"
    }
   ],
   "source": [
    "with open(data_dir + 'morphograph_update.pkl', 'rb') as f:\n",
    "    morpho_graph_update = pickle.load(f)\n",
    "\n",
    "# contains uid\timg1\timg2\ttype\tannotated\n",
    "morpho_graph_update.head()"
   ]
  },
  {
   "cell_type": "code",
   "execution_count": 20,
   "metadata": {},
   "outputs": [
    {
     "data": {
      "text/html": [
       "<div>\n",
       "<style scoped>\n",
       "    .dataframe tbody tr th:only-of-type {\n",
       "        vertical-align: middle;\n",
       "    }\n",
       "\n",
       "    .dataframe tbody tr th {\n",
       "        vertical-align: top;\n",
       "    }\n",
       "\n",
       "    .dataframe thead th {\n",
       "        text-align: right;\n",
       "    }\n",
       "</style>\n",
       "<table border=\"1\" class=\"dataframe\">\n",
       "  <thead>\n",
       "    <tr style=\"text-align: right;\">\n",
       "      <th></th>\n",
       "      <th>img1</th>\n",
       "      <th>img2</th>\n",
       "      <th>type</th>\n",
       "      <th>uid</th>\n",
       "      <th>annotated</th>\n",
       "    </tr>\n",
       "  </thead>\n",
       "  <tbody>\n",
       "    <tr>\n",
       "      <th>0</th>\n",
       "      <td>810270aed30c4843a5c637c8f74ce640</td>\n",
       "      <td>2557e969c9d644dba3dd15f4508c3e84</td>\n",
       "      <td>POSITIVE</td>\n",
       "      <td>810270aed30c4843a3dd15f4508c3e84</td>\n",
       "      <td>06-05-2022_19:24:28</td>\n",
       "    </tr>\n",
       "    <tr>\n",
       "      <th>1</th>\n",
       "      <td>2557e969c9d644dba3dd15f4508c3e84</td>\n",
       "      <td>810270aed30c4843a5c637c8f74ce640</td>\n",
       "      <td>POSITIVE</td>\n",
       "      <td>2557e969c9d644dba5c637c8f74ce640</td>\n",
       "      <td>06-05-2022_19:24:28</td>\n",
       "    </tr>\n",
       "    <tr>\n",
       "      <th>2</th>\n",
       "      <td>788e9f6a64f4432ba09da66bbb60bf93</td>\n",
       "      <td>d6e13eefc497491ca8d76cb92f0ad745</td>\n",
       "      <td>POSITIVE</td>\n",
       "      <td>788e9f6a64f4432ba8d76cb92f0ad745</td>\n",
       "      <td>06-05-2022_19:29:13</td>\n",
       "    </tr>\n",
       "    <tr>\n",
       "      <th>3</th>\n",
       "      <td>d6e13eefc497491ca8d76cb92f0ad745</td>\n",
       "      <td>788e9f6a64f4432ba09da66bbb60bf93</td>\n",
       "      <td>POSITIVE</td>\n",
       "      <td>d6e13eefc497491ca09da66bbb60bf93</td>\n",
       "      <td>06-05-2022_19:29:13</td>\n",
       "    </tr>\n",
       "    <tr>\n",
       "      <th>4</th>\n",
       "      <td>14a738ba9b91454a997738105ccf5c9b</td>\n",
       "      <td>05f5c4e0325f40019eeb0bb542c1f692</td>\n",
       "      <td>POSITIVE</td>\n",
       "      <td>14a738ba9b91454a9eeb0bb542c1f692</td>\n",
       "      <td>06-05-2022_19:29:43</td>\n",
       "    </tr>\n",
       "  </tbody>\n",
       "</table>\n",
       "</div>"
      ],
      "text/plain": [
       "                               img1                              img2  \\\n",
       "0  810270aed30c4843a5c637c8f74ce640  2557e969c9d644dba3dd15f4508c3e84   \n",
       "1  2557e969c9d644dba3dd15f4508c3e84  810270aed30c4843a5c637c8f74ce640   \n",
       "2  788e9f6a64f4432ba09da66bbb60bf93  d6e13eefc497491ca8d76cb92f0ad745   \n",
       "3  d6e13eefc497491ca8d76cb92f0ad745  788e9f6a64f4432ba09da66bbb60bf93   \n",
       "4  14a738ba9b91454a997738105ccf5c9b  05f5c4e0325f40019eeb0bb542c1f692   \n",
       "\n",
       "       type                               uid            annotated  \n",
       "0  POSITIVE  810270aed30c4843a3dd15f4508c3e84  06-05-2022_19:24:28  \n",
       "1  POSITIVE  2557e969c9d644dba5c637c8f74ce640  06-05-2022_19:24:28  \n",
       "2  POSITIVE  788e9f6a64f4432ba8d76cb92f0ad745  06-05-2022_19:29:13  \n",
       "3  POSITIVE  d6e13eefc497491ca09da66bbb60bf93  06-05-2022_19:29:13  \n",
       "4  POSITIVE  14a738ba9b91454a9eeb0bb542c1f692  06-05-2022_19:29:43  "
      ]
     },
     "execution_count": 20,
     "metadata": {},
     "output_type": "execute_result"
    }
   ],
   "source": [
    "morpho_graph_clusters = pd.read_csv(data_dir + 'morphograph_clusters.csv')\n",
    "morpho_graph_clusters['uid'] = morpho_graph_clusters['uid_connection']\n",
    "morpho_graph_clusters['annotated'] = morpho_graph_clusters['date']\n",
    "morpho_graph_clusters = morpho_graph_clusters.drop(columns=['uid_connection', 'date','cluster_file', 'cluster'])\n",
    "morpho_graph_clusters.head()"
   ]
  },
  {
   "cell_type": "code",
   "execution_count": 21,
   "metadata": {},
   "outputs": [
    {
     "data": {
      "text/plain": [
       "(120922, 5)"
      ]
     },
     "execution_count": 21,
     "metadata": {},
     "output_type": "execute_result"
    }
   ],
   "source": [
    "morpho_graph_complete = pd.concat([morpho_graph_complete, morpho_graph_update, morpho_graph_clusters], axis=0)\n",
    "morpho_graph_complete.shape"
   ]
  },
  {
   "cell_type": "code",
   "execution_count": 22,
   "metadata": {},
   "outputs": [
    {
     "data": {
      "text/html": [
       "<div>\n",
       "<style scoped>\n",
       "    .dataframe tbody tr th:only-of-type {\n",
       "        vertical-align: middle;\n",
       "    }\n",
       "\n",
       "    .dataframe tbody tr th {\n",
       "        vertical-align: top;\n",
       "    }\n",
       "\n",
       "    .dataframe thead th {\n",
       "        text-align: right;\n",
       "    }\n",
       "</style>\n",
       "<table border=\"1\" class=\"dataframe\">\n",
       "  <thead>\n",
       "    <tr style=\"text-align: right;\">\n",
       "      <th></th>\n",
       "      <th>uid</th>\n",
       "      <th>img1</th>\n",
       "      <th>img2</th>\n",
       "      <th>type</th>\n",
       "      <th>annotated</th>\n",
       "    </tr>\n",
       "  </thead>\n",
       "  <tbody>\n",
       "    <tr>\n",
       "      <th>1550</th>\n",
       "      <td>7c638674ef92402b9334047c3c55ab75</td>\n",
       "      <td>fd08dd6652684417a7809bf727111d6f</td>\n",
       "      <td>7723291f006c47439fbe9f44053f79de</td>\n",
       "      <td>POSITIVE</td>\n",
       "      <td>2016-05-31 09:50:44+00:00</td>\n",
       "    </tr>\n",
       "    <tr>\n",
       "      <th>1551</th>\n",
       "      <td>352a26b9de3142c89f8e3a1f8f1fa743</td>\n",
       "      <td>fd08dd6652684417a7809bf727111d6f</td>\n",
       "      <td>56cde7613a5044a9bf57af9d80691c5b</td>\n",
       "      <td>POSITIVE</td>\n",
       "      <td>2016-05-31 09:50:44+00:00</td>\n",
       "    </tr>\n",
       "    <tr>\n",
       "      <th>1553</th>\n",
       "      <td>d47ac9d7b80b43c6a9d7ba45e8cb6db1</td>\n",
       "      <td>fd08dd6652684417a7809bf727111d6f</td>\n",
       "      <td>8bd5300d3a69411b9c799b439d7ce8fa</td>\n",
       "      <td>POSITIVE</td>\n",
       "      <td>2016-09-13 14:22:55+00:00</td>\n",
       "    </tr>\n",
       "    <tr>\n",
       "      <th>1568</th>\n",
       "      <td>b2003df6d9074acdb041457f311cbd0b</td>\n",
       "      <td>fd08dd6652684417a7809bf727111d6f</td>\n",
       "      <td>a3f1b0cbcbc54682a8f393d5cc48c85f</td>\n",
       "      <td>POSITIVE</td>\n",
       "      <td>2016-05-31 09:50:44+00:00</td>\n",
       "    </tr>\n",
       "    <tr>\n",
       "      <th>1576</th>\n",
       "      <td>097ef90463ae4530a734a8b3f4d28c0f</td>\n",
       "      <td>fd08dd6652684417a7809bf727111d6f</td>\n",
       "      <td>8070848b55034bb5a010c420540b93ab</td>\n",
       "      <td>POSITIVE</td>\n",
       "      <td>2016-05-31 09:50:44+00:00</td>\n",
       "    </tr>\n",
       "    <tr>\n",
       "      <th>2721</th>\n",
       "      <td>905213dd0c7a485abd73308db2dae838</td>\n",
       "      <td>fd08dd6652684417a7809bf727111d6f</td>\n",
       "      <td>0e5f69c372a742778f0e6fb84df884be</td>\n",
       "      <td>POSITIVE</td>\n",
       "      <td>2016-09-13 14:22:55+00:00</td>\n",
       "    </tr>\n",
       "    <tr>\n",
       "      <th>2724</th>\n",
       "      <td>7dafd1f5537d4a329bda39e0736b70ed</td>\n",
       "      <td>fd08dd6652684417a7809bf727111d6f</td>\n",
       "      <td>380a3dd4f16447ce8d7dc422bba2f191</td>\n",
       "      <td>POSITIVE</td>\n",
       "      <td>2016-09-13 14:22:55+00:00</td>\n",
       "    </tr>\n",
       "    <tr>\n",
       "      <th>7805</th>\n",
       "      <td>3746c2e181244adeac8f53cc7c28a807</td>\n",
       "      <td>fd08dd6652684417a7809bf727111d6f</td>\n",
       "      <td>c0d9011fda40474485acb7a6a46bf070</td>\n",
       "      <td>DUPLICATE</td>\n",
       "      <td>2018-05-05 17:48:45.407263+00:00</td>\n",
       "    </tr>\n",
       "    <tr>\n",
       "      <th>8049</th>\n",
       "      <td>44d1891e335343a6b8f6ac5b4abfcc69</td>\n",
       "      <td>fd08dd6652684417a7809bf727111d6f</td>\n",
       "      <td>ff57569da2134eec861c70f4ac081db9</td>\n",
       "      <td>POSITIVE</td>\n",
       "      <td>2018-05-08 08:52:19.793174+00:00</td>\n",
       "    </tr>\n",
       "  </tbody>\n",
       "</table>\n",
       "</div>"
      ],
      "text/plain": [
       "                                   uid                              img1  \\\n",
       "1550  7c638674ef92402b9334047c3c55ab75  fd08dd6652684417a7809bf727111d6f   \n",
       "1551  352a26b9de3142c89f8e3a1f8f1fa743  fd08dd6652684417a7809bf727111d6f   \n",
       "1553  d47ac9d7b80b43c6a9d7ba45e8cb6db1  fd08dd6652684417a7809bf727111d6f   \n",
       "1568  b2003df6d9074acdb041457f311cbd0b  fd08dd6652684417a7809bf727111d6f   \n",
       "1576  097ef90463ae4530a734a8b3f4d28c0f  fd08dd6652684417a7809bf727111d6f   \n",
       "2721  905213dd0c7a485abd73308db2dae838  fd08dd6652684417a7809bf727111d6f   \n",
       "2724  7dafd1f5537d4a329bda39e0736b70ed  fd08dd6652684417a7809bf727111d6f   \n",
       "7805  3746c2e181244adeac8f53cc7c28a807  fd08dd6652684417a7809bf727111d6f   \n",
       "8049  44d1891e335343a6b8f6ac5b4abfcc69  fd08dd6652684417a7809bf727111d6f   \n",
       "\n",
       "                                  img2       type  \\\n",
       "1550  7723291f006c47439fbe9f44053f79de   POSITIVE   \n",
       "1551  56cde7613a5044a9bf57af9d80691c5b   POSITIVE   \n",
       "1553  8bd5300d3a69411b9c799b439d7ce8fa   POSITIVE   \n",
       "1568  a3f1b0cbcbc54682a8f393d5cc48c85f   POSITIVE   \n",
       "1576  8070848b55034bb5a010c420540b93ab   POSITIVE   \n",
       "2721  0e5f69c372a742778f0e6fb84df884be   POSITIVE   \n",
       "2724  380a3dd4f16447ce8d7dc422bba2f191   POSITIVE   \n",
       "7805  c0d9011fda40474485acb7a6a46bf070  DUPLICATE   \n",
       "8049  ff57569da2134eec861c70f4ac081db9   POSITIVE   \n",
       "\n",
       "                             annotated  \n",
       "1550         2016-05-31 09:50:44+00:00  \n",
       "1551         2016-05-31 09:50:44+00:00  \n",
       "1553         2016-09-13 14:22:55+00:00  \n",
       "1568         2016-05-31 09:50:44+00:00  \n",
       "1576         2016-05-31 09:50:44+00:00  \n",
       "2721         2016-09-13 14:22:55+00:00  \n",
       "2724         2016-09-13 14:22:55+00:00  \n",
       "7805  2018-05-05 17:48:45.407263+00:00  \n",
       "8049  2018-05-08 08:52:19.793174+00:00  "
      ]
     },
     "execution_count": 22,
     "metadata": {},
     "output_type": "execute_result"
    }
   ],
   "source": [
    "morpho_graph_complete[morpho_graph_complete['img1'].str.startswith('fd08dd6652684417a7809bf727111d6f')] # virgin of the rocks"
   ]
  },
  {
   "cell_type": "code",
   "execution_count": 23,
   "metadata": {},
   "outputs": [
    {
     "data": {
      "text/plain": [
       "DUPLICATE        114283\n",
       "POSITIVE           6466\n",
       "NEGATIVE             86\n",
       "NON-DUPLICATE        60\n",
       "PROPOSAL             27\n",
       "Name: type, dtype: int64"
      ]
     },
     "execution_count": 23,
     "metadata": {},
     "output_type": "execute_result"
    }
   ],
   "source": [
    "morpho_graph_complete['type'].value_counts() # does positive mean similar?"
   ]
  },
  {
   "cell_type": "code",
   "execution_count": 24,
   "metadata": {},
   "outputs": [
    {
     "data": {
      "text/plain": [
       "(120916, (120922, 5))"
      ]
     },
     "execution_count": 24,
     "metadata": {},
     "output_type": "execute_result"
    }
   ],
   "source": [
    "morpho_graph_complete['uid'].nunique(), morpho_graph_complete.shape"
   ]
  },
  {
   "cell_type": "code",
   "execution_count": 25,
   "metadata": {},
   "outputs": [
    {
     "name": "stdout",
     "output_type": "stream",
     "text": [
      "(8867, 14)\n"
     ]
    },
    {
     "data": {
      "text/plain": [
       "train    5418\n",
       "val      2021\n",
       "test     1428\n",
       "Name: set, dtype: int64"
      ]
     },
     "execution_count": 25,
     "metadata": {},
     "output_type": "execute_result"
    }
   ],
   "source": [
    "positives = get_train_test_split(metadata_tot, morpho_graph_complete)\n",
    "positives.set.value_counts()"
   ]
  },
  {
   "cell_type": "code",
   "execution_count": 26,
   "metadata": {},
   "outputs": [
    {
     "data": {
      "text/plain": [
       "Index(['index', 'uid', 'AuthorOriginal', 'AuthorBirth', 'Description', 'path',\n",
       "       'BeginDate', 'ImageURL', 'Type', 'uid_connection', 'img1', 'img2',\n",
       "       'type', 'annotated', 'cluster', 'set'],\n",
       "      dtype='object')"
      ]
     },
     "execution_count": 26,
     "metadata": {},
     "output_type": "execute_result"
    }
   ],
   "source": [
    "positives.columns"
   ]
  },
  {
   "cell_type": "code",
   "execution_count": 27,
   "metadata": {},
   "outputs": [
    {
     "name": "stdout",
     "output_type": "stream",
     "text": [
      "(5133, 16)\n"
     ]
    }
   ],
   "source": [
    "positives = positives.groupby('uid_connection').first().reset_index()\n",
    "print(positives.shape)"
   ]
  },
  {
   "cell_type": "code",
   "execution_count": 28,
   "metadata": {},
   "outputs": [],
   "source": [
    "positive = positives.groupby('uid').last().reset_index()"
   ]
  },
  {
   "cell_type": "code",
   "execution_count": 29,
   "metadata": {},
   "outputs": [],
   "source": [
    "positive.to_csv(data_dir + 'morpho_dataset.csv')"
   ]
  },
  {
   "cell_type": "code",
   "execution_count": 29,
   "metadata": {},
   "outputs": [],
   "source": [
    "# positives[positives['Description'].fillna('').str.contains(\"L' Adultera.\")]"
   ]
  },
  {
   "cell_type": "code",
   "execution_count": 30,
   "metadata": {},
   "outputs": [],
   "source": [
    "# positives[positives['Author'].fillna('').str.contains('SPAGNA Giovanni')]"
   ]
  },
  {
   "cell_type": "markdown",
   "metadata": {},
   "source": [
    "## Getting a subset of the data\n",
    "\n",
    "In order to select a subset of the data, we would like to vary spatially and temporally, for it to be suitable to the data in the morphograph and to be comprehensive of what we want to study.\n"
   ]
  },
  {
   "cell_type": "code",
   "execution_count": 31,
   "metadata": {},
   "outputs": [
    {
     "data": {
      "text/plain": [
       "0         1529\n",
       "1         1600\n",
       "2         1501\n",
       "3         1444\n",
       "4         1623\n",
       "          ... \n",
       "370101       0\n",
       "370102       0\n",
       "370103    1659\n",
       "370104    1762\n",
       "370105    1323\n",
       "Name: BeginDate, Length: 370106, dtype: object"
      ]
     },
     "execution_count": 31,
     "metadata": {},
     "output_type": "execute_result"
    }
   ],
   "source": [
    "metadata_tot['BeginDate'].fillna(0).astype(str).str.strip('c. ').str[:-2].str.strip('-')"
   ]
  },
  {
   "cell_type": "code",
   "execution_count": 32,
   "metadata": {},
   "outputs": [
    {
     "data": {
      "text/plain": [
       "(370106, 8)"
      ]
     },
     "execution_count": 32,
     "metadata": {},
     "output_type": "execute_result"
    }
   ],
   "source": [
    "#subset_max = metadata[metadata['BeginDate'] > 1550][metadata['BeginDate'] < 1650][metadata['AuthorDeathCity'].isin(['Parma', 'Bologna', 'Ravenna', 'Verona', 'Ferrara'])].reset_index()\n",
    "\n",
    "metadata_tot['BeginDate'] = [int(met) if (len(met) == 4) and ('/' not in met) else 0 for met in metadata_tot['BeginDate'].fillna(0).astype(str).str.strip('c. ').str[:-2].str.strip('-, ')]\n",
    "metadata_tot.shape"
   ]
  },
  {
   "cell_type": "code",
   "execution_count": 33,
   "metadata": {},
   "outputs": [
    {
     "name": "stderr",
     "output_type": "stream",
     "text": [
      "/tmp/ipykernel_570055/830820037.py:1: UserWarning: Boolean Series key will be reindexed to match DataFrame index.\n",
      "  subset_max = metadata_tot[metadata_tot['BeginDate'] > 1400][metadata_tot['BeginDate'] < 1700]#[metadata['AuthorDeathCity'].isin(['Parma', 'Bologna', 'Ravenna', 'Verona', 'Ferrara'])].reset_index()\n"
     ]
    },
    {
     "data": {
      "text/plain": [
       "(155004, 8)"
      ]
     },
     "execution_count": 33,
     "metadata": {},
     "output_type": "execute_result"
    }
   ],
   "source": [
    "subset_max = metadata_tot[metadata_tot['BeginDate'] > 1400][metadata_tot['BeginDate'] < 1700]#[metadata['AuthorDeathCity'].isin(['Parma', 'Bologna', 'Ravenna', 'Verona', 'Ferrara'])].reset_index()\n",
    "subset_max.shape"
   ]
  },
  {
   "cell_type": "code",
   "execution_count": 34,
   "metadata": {},
   "outputs": [
    {
     "data": {
      "text/plain": [
       "(122969, 15)"
      ]
     },
     "execution_count": 34,
     "metadata": {},
     "output_type": "execute_result"
    }
   ],
   "source": [
    "subset_max = remove_duplicates(subset_max, morpho_graph_complete)\n",
    "subset_max.shape"
   ]
  },
  {
   "cell_type": "code",
   "execution_count": 35,
   "metadata": {},
   "outputs": [],
   "source": [
    "subset_max = subset_max.sort_values('uid_connection').groupby(['Author', 'Description']).first().reset_index()"
   ]
  },
  {
   "cell_type": "code",
   "execution_count": 36,
   "metadata": {},
   "outputs": [
    {
     "name": "stderr",
     "output_type": "stream",
     "text": [
      "/tmp/ipykernel_570055/686436682.py:1: UserWarning: Boolean Series key will be reindexed to match DataFrame index.\n",
      "  subset_max[subset_max['Author'] == 'BASSANO (bottega di)'][subset_max['Description'].str.contains('Presepio')]\n"
     ]
    },
    {
     "data": {
      "text/html": [
       "<div>\n",
       "<style scoped>\n",
       "    .dataframe tbody tr th:only-of-type {\n",
       "        vertical-align: middle;\n",
       "    }\n",
       "\n",
       "    .dataframe tbody tr th {\n",
       "        vertical-align: top;\n",
       "    }\n",
       "\n",
       "    .dataframe thead th {\n",
       "        text-align: right;\n",
       "    }\n",
       "</style>\n",
       "<table border=\"1\" class=\"dataframe\">\n",
       "  <thead>\n",
       "    <tr style=\"text-align: right;\">\n",
       "      <th></th>\n",
       "      <th>Author</th>\n",
       "      <th>Description</th>\n",
       "      <th>cluster</th>\n",
       "      <th>index</th>\n",
       "      <th>uid</th>\n",
       "      <th>AuthorBirth</th>\n",
       "      <th>path</th>\n",
       "      <th>BeginDate</th>\n",
       "      <th>ImageURL</th>\n",
       "      <th>Type</th>\n",
       "      <th>uid_connection</th>\n",
       "      <th>img1</th>\n",
       "      <th>img2</th>\n",
       "      <th>type</th>\n",
       "      <th>annotated</th>\n",
       "    </tr>\n",
       "  </thead>\n",
       "  <tbody>\n",
       "    <tr>\n",
       "      <th>7616</th>\n",
       "      <td>BASSANO (bottega di)</td>\n",
       "      <td>Presepio.</td>\n",
       "      <td>cb61e9056bbf45c8b3d95dedb8ceafca</td>\n",
       "      <td>143417</td>\n",
       "      <td>cb61e9056bbf45c8b3d95dedb8ceafca</td>\n",
       "      <td>1505.0</td>\n",
       "      <td>/mnt/project_replica/datasets/cini/100A/100A_8...</td>\n",
       "      <td>1523.0</td>\n",
       "      <td>https://dhlabsrv4.epfl.ch/iiif_replica/cini%2F...</td>\n",
       "      <td>None</td>\n",
       "      <td>None</td>\n",
       "      <td>None</td>\n",
       "      <td>None</td>\n",
       "      <td>None</td>\n",
       "      <td>NaT</td>\n",
       "    </tr>\n",
       "  </tbody>\n",
       "</table>\n",
       "</div>"
      ],
      "text/plain": [
       "                    Author Description                           cluster  \\\n",
       "7616  BASSANO (bottega di)   Presepio.  cb61e9056bbf45c8b3d95dedb8ceafca   \n",
       "\n",
       "       index                               uid AuthorBirth  \\\n",
       "7616  143417  cb61e9056bbf45c8b3d95dedb8ceafca      1505.0   \n",
       "\n",
       "                                                   path  BeginDate  \\\n",
       "7616  /mnt/project_replica/datasets/cini/100A/100A_8...     1523.0   \n",
       "\n",
       "                                               ImageURL  Type uid_connection  \\\n",
       "7616  https://dhlabsrv4.epfl.ch/iiif_replica/cini%2F...  None           None   \n",
       "\n",
       "      img1  img2  type annotated  \n",
       "7616  None  None  None       NaT  "
      ]
     },
     "execution_count": 36,
     "metadata": {},
     "output_type": "execute_result"
    }
   ],
   "source": [
    "subset_max[subset_max['Author'] == 'BASSANO (bottega di)'][subset_max['Description'].str.contains('Presepio')]"
   ]
  },
  {
   "cell_type": "code",
   "execution_count": 37,
   "metadata": {},
   "outputs": [],
   "source": [
    "#subset_max['Description'].value_counts().head(30)"
   ]
  },
  {
   "cell_type": "code",
   "execution_count": 38,
   "metadata": {},
   "outputs": [],
   "source": [
    "# list_downloaded = ['/'.join(file.split('/')[-2:]) for file in glob('/mnt/project_replica/datasets/cini/*/*')]\n",
    "# list_downloaded[0]"
   ]
  },
  {
   "cell_type": "code",
   "execution_count": 39,
   "metadata": {},
   "outputs": [],
   "source": [
    "# len(list_downloaded)"
   ]
  },
  {
   "cell_type": "code",
   "execution_count": 40,
   "metadata": {},
   "outputs": [],
   "source": [
    "# list_downloaded_2 = ['/'.join(file.split('/')[-2:]) for file in glob(wga_dir + 'WGA/images/*/*/*/*')]\n",
    "# list_downloaded_2[0]"
   ]
  },
  {
   "cell_type": "code",
   "execution_count": 41,
   "metadata": {},
   "outputs": [],
   "source": [
    "# len(list_downloaded_2)"
   ]
  },
  {
   "cell_type": "code",
   "execution_count": 42,
   "metadata": {},
   "outputs": [
    {
     "name": "stdout",
     "output_type": "stream",
     "text": [
      "(108706, 15)\n"
     ]
    }
   ],
   "source": [
    "#uniques = subset_max[subset_max['uid'].isin(list_downloaded)].groupby('uid').first().reset_index()\n",
    "#subset_max['uid2'] = subset_max['Drawer'].astype(str) + '/' + subset_max['Drawer'].astype(str) + '_' + subset_max['ImageNumber'].astype(str) + '.jpg'\n",
    "\n",
    "#uniques = subset_max[subset_max['uid2'].isin(list_downloaded)].groupby('uid').first().reset_index()\n",
    "uniques = subset_max[subset_max['path'].notnull()].groupby('uid').first().reset_index()\n",
    "\n",
    "print(uniques.shape)"
   ]
  },
  {
   "cell_type": "code",
   "execution_count": 43,
   "metadata": {},
   "outputs": [
    {
     "data": {
      "text/plain": [
       "108706"
      ]
     },
     "execution_count": 43,
     "metadata": {},
     "output_type": "execute_result"
    }
   ],
   "source": [
    "subset_max['path'].nunique()"
   ]
  },
  {
   "cell_type": "code",
   "execution_count": 44,
   "metadata": {},
   "outputs": [],
   "source": [
    "#uniques['Desc'] = uniques['Description'].str.lower().str.split()\n",
    "#words = uniques.explode('Desc').reset_index()['Desc'].value_counts()\n",
    "#print(words[words.index.str.len() > 4][words > 100].to_string())"
   ]
  },
  {
   "cell_type": "code",
   "execution_count": 45,
   "metadata": {},
   "outputs": [],
   "source": [
    "uniques = uniques[uniques['Description'].notnull()]"
   ]
  },
  {
   "cell_type": "code",
   "execution_count": 46,
   "metadata": {},
   "outputs": [
    {
     "data": {
      "text/plain": [
       "(99464, 15)"
      ]
     },
     "execution_count": 46,
     "metadata": {},
     "output_type": "execute_result"
    }
   ],
   "source": [
    "to_remove = ['tavolo', 'facciata', 'paesaggio', 'esterno', 'pag.', 'soffitto',\n",
    "             'sedia', 'veduta', 'scorcio', 'capitell', 'architettonic',\n",
    "             'fontana', 'edifici', 'libr', 'architettonic']\n",
    "uniques = uniques[~uniques['Description'].str.lower().str.contains(r'|'.join(to_remove))]\n",
    "uniques.shape"
   ]
  },
  {
   "cell_type": "code",
   "execution_count": 47,
   "metadata": {},
   "outputs": [],
   "source": [
    "uniques['uid_connection'] = uniques['uid_connection'].fillna('Not uid connection') "
   ]
  },
  {
   "cell_type": "code",
   "execution_count": 48,
   "metadata": {},
   "outputs": [
    {
     "data": {
      "text/plain": [
       "(17754, 15)"
      ]
     },
     "execution_count": 48,
     "metadata": {},
     "output_type": "execute_result"
    }
   ],
   "source": [
    "uniques[uniques['path'].str.contains('WGA')].shape"
   ]
  },
  {
   "cell_type": "code",
   "execution_count": 49,
   "metadata": {},
   "outputs": [
    {
     "data": {
      "text/plain": [
       "(81724, 15)"
      ]
     },
     "execution_count": 49,
     "metadata": {},
     "output_type": "execute_result"
    }
   ],
   "source": [
    "uniques[uniques['ImageURL'].str.contains('cini')].shape"
   ]
  },
  {
   "cell_type": "code",
   "execution_count": 50,
   "metadata": {},
   "outputs": [
    {
     "name": "stdout",
     "output_type": "stream",
     "text": [
      "(86820, 17)\n"
     ]
    }
   ],
   "source": [
    "data = pd.concat([uniques[uniques['ImageURL'].str.contains('cini')], positives], axis=0).reset_index().groupby(['uid', 'uid_connection']).last().reset_index()\n",
    "# data_sample = pd.concat([uniques.sample(10000), positives], axis=0).reset_index()#.groupby('uid').first().reset_index()\n",
    "print(data.shape)"
   ]
  },
  {
   "cell_type": "code",
   "execution_count": 90,
   "metadata": {},
   "outputs": [],
   "source": [
    "# data_type = pd.concat([uniques[uniques['Type'].isin(['religious', 'portrait', 'mythological', 'genre'])], positives], axis=0).reset_index()\n",
    "# print(data_type.shape)\n",
    "# data_type.to_csv(data_dir + 'wga_data_type.csv')\n"
   ]
  },
  {
   "cell_type": "code",
   "execution_count": 91,
   "metadata": {},
   "outputs": [],
   "source": [
    "# data_sample = pd.concat([uniques[uniques['Type'].isna()].sample(20000), data_type], axis=0).drop(columns='level_0').reset_index()#.groupby('uid').first().reset_index()\n",
    "# data_sample.shape\n",
    "# data_type.to_csv(data_dir + 'data_wga_cini_45000.csv')\n"
   ]
  },
  {
   "cell_type": "code",
   "execution_count": 51,
   "metadata": {},
   "outputs": [
    {
     "name": "stderr",
     "output_type": "stream",
     "text": [
      "83190it [00:00, 1072616.06it/s]\n"
     ]
    }
   ],
   "source": [
    "uid2path = {}\n",
    "\n",
    "for uid, path in tqdm(zip(data['uid'].unique(), data['path'].unique())):\n",
    "    uid2path[uid] = path\n",
    "\n",
    "with open(data_dir + 'uid2path.pkl', 'wb') as outfile:\n",
    "    pickle.dump(uid2path, outfile)"
   ]
  },
  {
   "cell_type": "code",
   "execution_count": 52,
   "metadata": {},
   "outputs": [
    {
     "data": {
      "text/plain": [
       "(83190, 83190)"
      ]
     },
     "execution_count": 52,
     "metadata": {},
     "output_type": "execute_result"
    }
   ],
   "source": [
    "data['uid'].nunique(), data['path'].nunique()"
   ]
  },
  {
   "cell_type": "code",
   "execution_count": 56,
   "metadata": {},
   "outputs": [
    {
     "data": {
      "text/html": [
       "<div>\n",
       "<style scoped>\n",
       "    .dataframe tbody tr th:only-of-type {\n",
       "        vertical-align: middle;\n",
       "    }\n",
       "\n",
       "    .dataframe tbody tr th {\n",
       "        vertical-align: top;\n",
       "    }\n",
       "\n",
       "    .dataframe thead th {\n",
       "        text-align: right;\n",
       "    }\n",
       "</style>\n",
       "<table border=\"1\" class=\"dataframe\">\n",
       "  <thead>\n",
       "    <tr style=\"text-align: right;\">\n",
       "      <th></th>\n",
       "      <th>uid</th>\n",
       "      <th>uid_connection</th>\n",
       "      <th>level_0</th>\n",
       "      <th>Author</th>\n",
       "      <th>Description</th>\n",
       "      <th>cluster</th>\n",
       "      <th>index</th>\n",
       "      <th>AuthorBirth</th>\n",
       "      <th>path</th>\n",
       "      <th>BeginDate</th>\n",
       "      <th>ImageURL</th>\n",
       "      <th>Type</th>\n",
       "      <th>img1</th>\n",
       "      <th>img2</th>\n",
       "      <th>type</th>\n",
       "      <th>annotated</th>\n",
       "      <th>set</th>\n",
       "    </tr>\n",
       "  </thead>\n",
       "  <tbody>\n",
       "    <tr>\n",
       "      <th>76076</th>\n",
       "      <td>d93fc67e945144e29d5150b148e16193</td>\n",
       "      <td>024bfea419b64c00b73034e69ddbb07a</td>\n",
       "      <td>42</td>\n",
       "      <td>OGGIONO, Marco d'</td>\n",
       "      <td>Virgin and Child Enthroned with Saints</td>\n",
       "      <td>173</td>\n",
       "      <td>3799</td>\n",
       "      <td>(b. ca. 1467, Milano, d. 1524, Milano)</td>\n",
       "      <td>/mnt/project_replica/datasets/WGA/images/o/ogg...</td>\n",
       "      <td>1519.0</td>\n",
       "      <td>http://www.wga.hu/html/o/oggiono/virgin_c.html</td>\n",
       "      <td>religious</td>\n",
       "      <td>d93fc67e945144e29d5150b148e16193</td>\n",
       "      <td>e832838713ce4549a45936560edb3187</td>\n",
       "      <td>POSITIVE</td>\n",
       "      <td>2016-06-16 14:37:21+00:00</td>\n",
       "      <td>train</td>\n",
       "    </tr>\n",
       "    <tr>\n",
       "      <th>408</th>\n",
       "      <td>00daa61de7c94200a7c2a3ba4a331caf</td>\n",
       "      <td>f4a352043fa940a09a69e5a59a9982be</td>\n",
       "      <td>524</td>\n",
       "      <td>SEBASTIAN DEL PIOMBO (attr)</td>\n",
       "      <td>La Sacra Famiglia, donatore e i Ss. Caterina e...</td>\n",
       "      <td>16181</td>\n",
       "      <td>650</td>\n",
       "      <td>1480.0</td>\n",
       "      <td>/mnt/project_replica/datasets/cini/157A/157A_2...</td>\n",
       "      <td>1498.0</td>\n",
       "      <td>https://dhlabsrv4.epfl.ch/iiif_replica/cini%2F...</td>\n",
       "      <td>None</td>\n",
       "      <td>00daa61de7c94200a7c2a3ba4a331caf</td>\n",
       "      <td>2c09b8b59e504081b730a795463c7a00</td>\n",
       "      <td>DUPLICATE</td>\n",
       "      <td>2018-07-19 17:22:58.620949+00:00</td>\n",
       "      <td>None</td>\n",
       "    </tr>\n",
       "    <tr>\n",
       "      <th>2987</th>\n",
       "      <td>06963fbb80914abe8187bae58fe64807</td>\n",
       "      <td>a2de135a5b7f43c58483de07365c07b7</td>\n",
       "      <td>3839</td>\n",
       "      <td>GHIRLANDAIO Domenico</td>\n",
       "      <td>Natività</td>\n",
       "      <td>19328</td>\n",
       "      <td>4725</td>\n",
       "      <td>1449.0</td>\n",
       "      <td>/mnt/project_replica/datasets/cini/50C/50C_835...</td>\n",
       "      <td>1467.0</td>\n",
       "      <td>https://dhlabsrv4.epfl.ch/iiif_replica/cini%2F...</td>\n",
       "      <td>None</td>\n",
       "      <td>06963fbb80914abe8187bae58fe64807</td>\n",
       "      <td>b1409de4c370480fb8143737fd304c2a</td>\n",
       "      <td>DUPLICATE</td>\n",
       "      <td>2018-07-19 17:27:05.770597+00:00</td>\n",
       "      <td>None</td>\n",
       "    </tr>\n",
       "    <tr>\n",
       "      <th>67182</th>\n",
       "      <td>bab253b84134466692fa5325627d62e1</td>\n",
       "      <td>30cdf8d3adb743c3b89ac30250c8e511</td>\n",
       "      <td>84137</td>\n",
       "      <td>RAFFAELLO Sanzio</td>\n",
       "      <td>Il Parnaso. Part.</td>\n",
       "      <td>9233</td>\n",
       "      <td>131866</td>\n",
       "      <td>1483.0</td>\n",
       "      <td>/mnt/project_replica/datasets/cini/120C/120C_3...</td>\n",
       "      <td>1501.0</td>\n",
       "      <td>https://dhlabsrv4.epfl.ch/iiif_replica/cini%2F...</td>\n",
       "      <td>None</td>\n",
       "      <td>bab253b84134466692fa5325627d62e1</td>\n",
       "      <td>debd5cacdb494fa3b9c35c8475400b98</td>\n",
       "      <td>DUPLICATE</td>\n",
       "      <td>2018-07-19 17:15:38.504996+00:00</td>\n",
       "      <td>None</td>\n",
       "    </tr>\n",
       "    <tr>\n",
       "      <th>30358</th>\n",
       "      <td>4aad5fa8c61a41febbb8e9380f85091d</td>\n",
       "      <td>770ae869723c4f39aa6be7e5e53f3077</td>\n",
       "      <td>38251</td>\n",
       "      <td>RAFFAELLO Sanzio</td>\n",
       "      <td>Ritratto di Angelo Doni.</td>\n",
       "      <td>2055</td>\n",
       "      <td>53167</td>\n",
       "      <td>1483.0</td>\n",
       "      <td>/mnt/project_replica/datasets/cini/137A/137A_8...</td>\n",
       "      <td>1501.0</td>\n",
       "      <td>https://dhlabsrv4.epfl.ch/iiif_replica/cini%2F...</td>\n",
       "      <td>portrait</td>\n",
       "      <td>4aad5fa8c61a41febbb8e9380f85091d</td>\n",
       "      <td>8ea0cb34bda04454916b5a162c48b17c</td>\n",
       "      <td>DUPLICATE</td>\n",
       "      <td>2018-07-19 17:10:17.773477+00:00</td>\n",
       "      <td>None</td>\n",
       "    </tr>\n",
       "  </tbody>\n",
       "</table>\n",
       "</div>"
      ],
      "text/plain": [
       "                                    uid                    uid_connection  \\\n",
       "76076  d93fc67e945144e29d5150b148e16193  024bfea419b64c00b73034e69ddbb07a   \n",
       "408    00daa61de7c94200a7c2a3ba4a331caf  f4a352043fa940a09a69e5a59a9982be   \n",
       "2987   06963fbb80914abe8187bae58fe64807  a2de135a5b7f43c58483de07365c07b7   \n",
       "67182  bab253b84134466692fa5325627d62e1  30cdf8d3adb743c3b89ac30250c8e511   \n",
       "30358  4aad5fa8c61a41febbb8e9380f85091d  770ae869723c4f39aa6be7e5e53f3077   \n",
       "\n",
       "       level_0                       Author  \\\n",
       "76076       42            OGGIONO, Marco d'   \n",
       "408        524  SEBASTIAN DEL PIOMBO (attr)   \n",
       "2987      3839         GHIRLANDAIO Domenico   \n",
       "67182    84137             RAFFAELLO Sanzio   \n",
       "30358    38251             RAFFAELLO Sanzio   \n",
       "\n",
       "                                             Description cluster   index  \\\n",
       "76076             Virgin and Child Enthroned with Saints     173    3799   \n",
       "408    La Sacra Famiglia, donatore e i Ss. Caterina e...   16181     650   \n",
       "2987                                            Natività   19328    4725   \n",
       "67182                                  Il Parnaso. Part.    9233  131866   \n",
       "30358                           Ritratto di Angelo Doni.    2055   53167   \n",
       "\n",
       "                                  AuthorBirth  \\\n",
       "76076  (b. ca. 1467, Milano, d. 1524, Milano)   \n",
       "408                                    1480.0   \n",
       "2987                                   1449.0   \n",
       "67182                                  1483.0   \n",
       "30358                                  1483.0   \n",
       "\n",
       "                                                    path  BeginDate  \\\n",
       "76076  /mnt/project_replica/datasets/WGA/images/o/ogg...     1519.0   \n",
       "408    /mnt/project_replica/datasets/cini/157A/157A_2...     1498.0   \n",
       "2987   /mnt/project_replica/datasets/cini/50C/50C_835...     1467.0   \n",
       "67182  /mnt/project_replica/datasets/cini/120C/120C_3...     1501.0   \n",
       "30358  /mnt/project_replica/datasets/cini/137A/137A_8...     1501.0   \n",
       "\n",
       "                                                ImageURL       Type  \\\n",
       "76076     http://www.wga.hu/html/o/oggiono/virgin_c.html  religious   \n",
       "408    https://dhlabsrv4.epfl.ch/iiif_replica/cini%2F...       None   \n",
       "2987   https://dhlabsrv4.epfl.ch/iiif_replica/cini%2F...       None   \n",
       "67182  https://dhlabsrv4.epfl.ch/iiif_replica/cini%2F...       None   \n",
       "30358  https://dhlabsrv4.epfl.ch/iiif_replica/cini%2F...   portrait   \n",
       "\n",
       "                                   img1                              img2  \\\n",
       "76076  d93fc67e945144e29d5150b148e16193  e832838713ce4549a45936560edb3187   \n",
       "408    00daa61de7c94200a7c2a3ba4a331caf  2c09b8b59e504081b730a795463c7a00   \n",
       "2987   06963fbb80914abe8187bae58fe64807  b1409de4c370480fb8143737fd304c2a   \n",
       "67182  bab253b84134466692fa5325627d62e1  debd5cacdb494fa3b9c35c8475400b98   \n",
       "30358  4aad5fa8c61a41febbb8e9380f85091d  8ea0cb34bda04454916b5a162c48b17c   \n",
       "\n",
       "            type                         annotated    set  \n",
       "76076   POSITIVE         2016-06-16 14:37:21+00:00  train  \n",
       "408    DUPLICATE  2018-07-19 17:22:58.620949+00:00   None  \n",
       "2987   DUPLICATE  2018-07-19 17:27:05.770597+00:00   None  \n",
       "67182  DUPLICATE  2018-07-19 17:15:38.504996+00:00   None  \n",
       "30358  DUPLICATE  2018-07-19 17:10:17.773477+00:00   None  "
      ]
     },
     "execution_count": 56,
     "metadata": {},
     "output_type": "execute_result"
    }
   ],
   "source": [
    "data[data['type'].notnull()].sample(5)"
   ]
  },
  {
   "cell_type": "code",
   "execution_count": 54,
   "metadata": {},
   "outputs": [
    {
     "data": {
      "text/plain": [
       "((5096, 17),)"
      ]
     },
     "execution_count": 54,
     "metadata": {},
     "output_type": "execute_result"
    }
   ],
   "source": [
    "data[data['set'].isin(['train', 'test', 'val'])].shape, #data_sample[data_sample['set'].isin(['train', 'test', 'val'])].shape\n"
   ]
  },
  {
   "cell_type": "code",
   "execution_count": 55,
   "metadata": {},
   "outputs": [],
   "source": [
    "# data_sample.to_csv(data_dir + 'dedup_data_sample_wga.csv')\n",
    "data.to_csv(data_dir + 'data.csv')\n"
   ]
  },
  {
   "cell_type": "code",
   "execution_count": 25,
   "metadata": {},
   "outputs": [],
   "source": [
    "#data.to_csv(data_dir + 'full_data.csv')\n",
    "# data_sample.to_csv(data_dir + 'dedup_data_sample.csv')\n",
    "# data.to_csv(data_dir + 'dedup_data.csv')\n"
   ]
  },
  {
   "cell_type": "markdown",
   "metadata": {},
   "source": [
    "### Creating embeddings of all the images"
   ]
  },
  {
   "cell_type": "code",
   "execution_count": 6,
   "metadata": {},
   "outputs": [],
   "source": [
    "model = models.resnet50(pretrained=True)\n",
    "#print(model)\n",
    "\n",
    "model = ReplicaNet('resnext-101', 'cuda')"
   ]
  },
  {
   "cell_type": "code",
   "execution_count": 29,
   "metadata": {},
   "outputs": [],
   "source": [
    "# newmodel = torch.nn.Sequential(\n",
    "#     *(list(model.children())[:-2]), nn.AdaptiveMaxPool2d((1,1))\n",
    "# )\n",
    "#print(newmodel)\n"
   ]
  },
  {
   "cell_type": "code",
   "execution_count": 16,
   "metadata": {},
   "outputs": [
    {
     "name": "stdout",
     "output_type": "stream",
     "text": [
      "/mnt/project_replica/datasets/WGA/images/t/tiziano/03_1530s/1madonn.jpg\n"
     ]
    },
    {
     "data": {
      "text/plain": [
       "torch.Size([1, 3, 480, 480])"
      ]
     },
     "execution_count": 16,
     "metadata": {},
     "output_type": "execute_result"
    }
   ],
   "source": [
    "it = 10462\n",
    "print(data['path'][it])\n",
    "img = preprocess_image_test(data['path'][it])\n",
    "\n",
    "img.shape"
   ]
  },
  {
   "cell_type": "code",
   "execution_count": 19,
   "metadata": {},
   "outputs": [
    {
     "name": "stdout",
     "output_type": "stream",
     "text": [
      "[0.02288655 0.01400073 0.0181444  ... 0.01918198 0.02341286 0.01433349]\n"
     ]
    }
   ],
   "source": [
    "embedding = get_embedding(img, model, device='cuda')\n",
    "print(embedding)"
   ]
  },
  {
   "cell_type": "code",
   "execution_count": 35,
   "metadata": {},
   "outputs": [],
   "source": [
    "def catch(path, model, device, resolution):\n",
    "    try:\n",
    "        return get_embedding(preprocess_image_test(path, resolution=resolution), model, device=device)\n",
    "    except Exception as e:\n",
    "        print(e)\n",
    "        return 0"
   ]
  },
  {
   "cell_type": "code",
   "execution_count": 39,
   "metadata": {},
   "outputs": [
    {
     "name": "stdout",
     "output_type": "stream",
     "text": [
      "output with shape [1, 320, 320] doesn't match the broadcast shape [3, 320, 320]\n"
     ]
    },
    {
     "data": {
      "text/plain": [
       "0"
      ]
     },
     "execution_count": 39,
     "metadata": {},
     "output_type": "execute_result"
    }
   ],
   "source": [
    "catch(data['path'][460], model, 'cuda', 320)"
   ]
  },
  {
   "cell_type": "code",
   "execution_count": null,
   "metadata": {},
   "outputs": [],
   "source": [
    "embeddings = [[uid, catch(path, model, 'cuda', 320)] for uid,path in tqdm(zip(data['uid'].unique(), data['path'].unique()))]"
   ]
  },
  {
   "cell_type": "code",
   "execution_count": 32,
   "metadata": {},
   "outputs": [],
   "source": [
    "embeddings_new = get_lower_dimension(embeddings)"
   ]
  },
  {
   "cell_type": "code",
   "execution_count": 33,
   "metadata": {},
   "outputs": [
    {
     "data": {
      "text/plain": [
       "((2048,), (100,))"
      ]
     },
     "execution_count": 33,
     "metadata": {},
     "output_type": "execute_result"
    }
   ],
   "source": [
    "embeddings[0].shape, embeddings_new[0].shape "
   ]
  },
  {
   "cell_type": "markdown",
   "metadata": {},
   "source": [
    "### Finding most similar embeddings"
   ]
  },
  {
   "cell_type": "code",
   "execution_count": 34,
   "metadata": {},
   "outputs": [],
   "source": [
    "tree = make_tree_list(embeddings_new)"
   ]
  },
  {
   "cell_type": "code",
   "execution_count": 60,
   "metadata": {},
   "outputs": [
    {
     "name": "stderr",
     "output_type": "stream",
     "text": [
      "100%|██████████| 2862/2862 [00:10<00:00, 286.12it/s]\n"
     ]
    },
    {
     "data": {
      "text/plain": [
       "2862"
      ]
     },
     "execution_count": 60,
     "metadata": {},
     "output_type": "execute_result"
    }
   ],
   "source": [
    "train_test = data[data['set'].notnull()].drop(columns=['level_0']).reset_index()\n",
    "\n",
    "Cs = []\n",
    "for i in tqdm(range(train_test.shape[0])):\n",
    "    list_theo = list(train_test[train_test['img1'] == train_test['uid'][i]]['img2']) + list(train_test[train_test['img2'] == train_test['uid'][i]]['img1']) + [train_test['uid'][i]]\n",
    "    list_ = find_most_similar_list(train_test['uid'][i], tree, embeddings_new, list(data['uid'].unique()), list_theo)\n",
    "    Cs.append(list_)\n",
    "\n",
    "len(Cs)\n"
   ]
  },
  {
   "cell_type": "code",
   "execution_count": 58,
   "metadata": {},
   "outputs": [
    {
     "name": "stdout",
     "output_type": "stream",
     "text": [
      "(2299, 47)\n",
      "(2256, 47)\n"
     ]
    }
   ],
   "source": [
    "print(train_test[train_test['img1'].isin(list_downloaded)].shape)\n",
    "print(train_test[train_test['img2'].isin(list_downloaded)].shape)"
   ]
  },
  {
   "cell_type": "code",
   "execution_count": 61,
   "metadata": {},
   "outputs": [
    {
     "name": "stdout",
     "output_type": "stream",
     "text": [
      "(31709, 4)\n"
     ]
    },
    {
     "data": {
      "text/html": [
       "<div>\n",
       "<style scoped>\n",
       "    .dataframe tbody tr th:only-of-type {\n",
       "        vertical-align: middle;\n",
       "    }\n",
       "\n",
       "    .dataframe tbody tr th {\n",
       "        vertical-align: top;\n",
       "    }\n",
       "\n",
       "    .dataframe thead th {\n",
       "        text-align: right;\n",
       "    }\n",
       "</style>\n",
       "<table border=\"1\" class=\"dataframe\">\n",
       "  <thead>\n",
       "    <tr style=\"text-align: right;\">\n",
       "      <th></th>\n",
       "      <th>A</th>\n",
       "      <th>B</th>\n",
       "      <th>C</th>\n",
       "      <th>set</th>\n",
       "    </tr>\n",
       "  </thead>\n",
       "  <tbody>\n",
       "    <tr>\n",
       "      <th>1771</th>\n",
       "      <td>6fcf1af179fa47488d40564e80856a1e</td>\n",
       "      <td>e100fa4b1d1e4abab65256ac310ab543</td>\n",
       "      <td>6bf773f2e04f4c919ccd6f0b76df2b15</td>\n",
       "      <td>train</td>\n",
       "    </tr>\n",
       "    <tr>\n",
       "      <th>1539</th>\n",
       "      <td>ef25d7d6549547b59945a61ae6849d3d</td>\n",
       "      <td>272cd39493464a878264554be785e9db</td>\n",
       "      <td>92fc36e4d04743ec97e441342acd29f1</td>\n",
       "      <td>test</td>\n",
       "    </tr>\n",
       "    <tr>\n",
       "      <th>63</th>\n",
       "      <td>59fb95590dda4ff58e63dc0df43e70c3</td>\n",
       "      <td>a043a8ccb7994ef68179ad66929143af</td>\n",
       "      <td>756a2003514740448ffb37eec9351177</td>\n",
       "      <td>train</td>\n",
       "    </tr>\n",
       "    <tr>\n",
       "      <th>289</th>\n",
       "      <td>383cd750b1cc425089ff3cf3d2c81df1</td>\n",
       "      <td>8b47beb1f1a6438993f3988e880cfa9c</td>\n",
       "      <td>45d519d9ba884c948b2a0abf1a692599</td>\n",
       "      <td>test</td>\n",
       "    </tr>\n",
       "    <tr>\n",
       "      <th>581</th>\n",
       "      <td>3d7b289477ca4765a6932bd85cf51fec</td>\n",
       "      <td>246ca4d9a3324ad2aad8ec6a4e1c6769</td>\n",
       "      <td>4ced1a6287c1417db8b41e79e1a04c79</td>\n",
       "      <td>test</td>\n",
       "    </tr>\n",
       "  </tbody>\n",
       "</table>\n",
       "</div>"
      ],
      "text/plain": [
       "                                     A                                 B  \\\n",
       "1771  6fcf1af179fa47488d40564e80856a1e  e100fa4b1d1e4abab65256ac310ab543   \n",
       "1539  ef25d7d6549547b59945a61ae6849d3d  272cd39493464a878264554be785e9db   \n",
       "63    59fb95590dda4ff58e63dc0df43e70c3  a043a8ccb7994ef68179ad66929143af   \n",
       "289   383cd750b1cc425089ff3cf3d2c81df1  8b47beb1f1a6438993f3988e880cfa9c   \n",
       "581   3d7b289477ca4765a6932bd85cf51fec  246ca4d9a3324ad2aad8ec6a4e1c6769   \n",
       "\n",
       "                                     C    set  \n",
       "1771  6bf773f2e04f4c919ccd6f0b76df2b15  train  \n",
       "1539  92fc36e4d04743ec97e441342acd29f1   test  \n",
       "63    756a2003514740448ffb37eec9351177  train  \n",
       "289   45d519d9ba884c948b2a0abf1a692599   test  \n",
       "581   4ced1a6287c1417db8b41e79e1a04c79   test  "
      ]
     },
     "execution_count": 61,
     "metadata": {},
     "output_type": "execute_result"
    }
   ],
   "source": [
    "train_test['C'] = Cs\n",
    "\n",
    "train_test = train_test[train_test['img1'].isin(list_downloaded)]\n",
    "train_test = train_test[train_test['img2'].isin(list_downloaded)]\n",
    "\n",
    "final = train_test[['img1', 'img2', 'C', 'set']].explode('C')\n",
    "final.columns = ['A', 'B', 'C', 'set']\n",
    "print(final.shape)\n",
    "final.sample(5)"
   ]
  },
  {
   "cell_type": "code",
   "execution_count": 62,
   "metadata": {},
   "outputs": [
    {
     "data": {
      "text/plain": [
       "(31709, 4)"
      ]
     },
     "execution_count": 62,
     "metadata": {},
     "output_type": "execute_result"
    }
   ],
   "source": [
    "final[final['C'].isin(list_downloaded)].shape"
   ]
  },
  {
   "cell_type": "code",
   "execution_count": 63,
   "metadata": {},
   "outputs": [],
   "source": [
    "final[final['set'] == 'train'].reset_index().to_csv(data_dir + 'abc_train.csv')\n",
    "final[final['set'] == 'test'].reset_index().to_csv(data_dir + 'abc_test.csv')\n"
   ]
  },
  {
   "cell_type": "code",
   "execution_count": null,
   "metadata": {},
   "outputs": [],
   "source": []
  }
 ],
 "metadata": {
  "interpreter": {
   "hash": "6bdddb31d2fb89da9078eb0011314936146baaf4f9e5c99982bea0ddf03884f8"
  },
  "kernelspec": {
   "display_name": "Python 3.8.5 ('ada')",
   "language": "python",
   "name": "python3"
  },
  "language_info": {
   "codemirror_mode": {
    "name": "ipython",
    "version": 3
   },
   "file_extension": ".py",
   "mimetype": "text/x-python",
   "name": "python",
   "nbconvert_exporter": "python",
   "pygments_lexer": "ipython3",
   "version": "3.8.5"
  },
  "orig_nbformat": 4
 },
 "nbformat": 4,
 "nbformat_minor": 2
}
