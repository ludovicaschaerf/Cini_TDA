{
    "cells": [
        {
            "cell_type": "markdown",
            "metadata": {},
            "source": [
                "# Replica project\n",
                "\n",
                "### Plotting model results\n"
            ]
        },
        {
            "cell_type": "code",
            "execution_count": 1,
            "metadata": {},
            "outputs": [],
            "source": [
                "# loading the metadata\n",
                "%load_ext autoreload\n",
                "%autoreload 2\n",
                "\n",
                "import pandas as pd\n",
                "import numpy as np\n",
                "import sys\n",
                "import seaborn as sns\n",
                "import matplotlib.pyplot as plt\n",
                "import pickle\n",
                "\n",
                "sys.path.insert(0, \"../model/\")\n",
                "from utils import *\n",
                "\n",
                "sys.path.insert(0, \"../web_annotation/\")\n",
                "from utils_clusters import *\n",
                "from metrics_clusters import * \n",
                "\n",
                "\n",
                "data_dir = '/scratch/students/schaerf/'\n",
                "data_dir = '../data/'"
            ]
        },
        {
            "cell_type": "markdown",
            "metadata": {},
            "source": [
                "### Compatibility for Pixplot"
            ]
        },
        {
            "cell_type": "code",
            "execution_count": 2,
            "metadata": {},
            "outputs": [
                {
                    "data": {
                        "text/plain": [
                            "Index(['uid', 'uid_connection', 'AuthorOriginal', 'Description', 'Author',\n",
                            "       'AuthorBirth', 'path', 'BeginDate', 'ImageURL', 'City', 'Country',\n",
                            "       'AuthorBirthCity', 'AuthorDeathCity', 'Drawer', 'Type', 'img1', 'img2',\n",
                            "       'type', 'annotated', 'index', 'cluster_file', 'cluster', 'set'],\n",
                            "      dtype='object')"
                        ]
                    },
                    "execution_count": 2,
                    "metadata": {},
                    "output_type": "execute_result"
                }
            ],
            "source": [
                "subfolder_dir = '01-06-2022'\n",
                "embeds_file = subfolder_dir + '/resnext-101_'+subfolder_dir+'.npy'\n",
                "data = pd.read_csv(data_dir + 'data_sample.csv')\n",
                "embeds = np.load(data_dir + embeds_file, allow_pickle=True) \n",
                "    \n",
                "with open(data_dir + 'uid2path.pkl', 'rb') as infile:\n",
                "    uid2path = pickle.load(infile)\n",
                "data.columns"
            ]
        },
        {
            "cell_type": "code",
            "execution_count": 4,
            "metadata": {},
            "outputs": [
                {
                    "data": {
                        "text/plain": [
                            "array(['http://www.wga.hu/art/g/garnie/diana_ny.jpg',\n",
                            "       'http://www.wga.hu/art/g/garnie/diana_ny.jpg',\n",
                            "       'http://www.wga.hu/art/g/garnie/diana_ny.jpg',\n",
                            "       'http://www.wga.hu/art/g/garnie/diana_ny.jpg',\n",
                            "       'http://www.wga.hu/art/g/garnie/diana_ny.jpg',\n",
                            "       'http://www.wga.hu/art/g/garnie/diana_ny.jpg',\n",
                            "       'http://www.wga.hu/art/g/garnie/diana_ny.jpg',\n",
                            "       'http://www.wga.hu/art/g/garnie/diana_ny.jpg',\n",
                            "       'http://www.wga.hu/art/g/garnie/diana_ny.jpg',\n",
                            "       'http://www.wga.hu/art/g/garnie/diana_ny.jpg',\n",
                            "       'http://www.wga.hu/art/g/garnie/diana_ny.jpg',\n",
                            "       'http://www.wga.hu/art/g/garnie/diana_ny.jpg',\n",
                            "       'http://www.wga.hu/art/g/garnie/diana_ny.jpg',\n",
                            "       'http://www.wga.hu/art/g/garnie/diana_ny.jpg',\n",
                            "       'http://www.wga.hu/art/g/garnie/diana_ny.jpg',\n",
                            "       'http://www.wga.hu/art/g/garnie/diana_ny.jpg',\n",
                            "       'http://www.wga.hu/art/g/garnie/diana_ny.jpg',\n",
                            "       'http://www.wga.hu/art/g/garnie/diana_ny.jpg',\n",
                            "       'https://dhlabsrv4.epfl.ch/iiif_replica/cini%2F112B%2F112B_571.jpg/full/full/0/default.jpg',\n",
                            "       'http://www.wga.hu/art/s/strozzi/2/berenice.jpg',\n",
                            "       'https://dhlabsrv4.epfl.ch/iiif_replica/cini%2F29B%2F29B_659.jpg/full/full/0/default.jpg',\n",
                            "       'https://dhlabsrv4.epfl.ch/iiif_replica/cini%2F147A%2F147A_683.jpg/full/full/0/default.jpg',\n",
                            "       'http://www.wga.hu/art/g/greco_el/02/0201grec.jpg',\n",
                            "       'https://dhlabsrv4.epfl.ch/iiif_replica/cini%2F2A%2F2A_268.jpg/full/full/0/default.jpg',\n",
                            "       'https://dhlabsrv4.epfl.ch/iiif_replica/cini%2F14A%2F14A_300.jpg/full/full/0/default.jpg',\n",
                            "       'https://dhlabsrv4.epfl.ch/iiif_replica/cini%2F15B%2F15B_13.jpg/full/full/0/default.jpg',\n",
                            "       'https://dhlabsrv4.epfl.ch/iiif_replica/cini%2F147A%2F147A_433.jpg/full/full/0/default.jpg',\n",
                            "       'https://dhlabsrv4.epfl.ch/iiif_replica/cini%2F150B%2F150B_308.jpg/full/full/0/default.jpg',\n",
                            "       'https://dhlabsrv4.epfl.ch/iiif_replica/cini%2F55A%2F55A_326.jpg/full/full/0/default.jpg',\n",
                            "       'https://dhlabsrv4.epfl.ch/iiif_replica/cini%2F16B%2F16B_33.jpg/full/full/0/default.jpg'],\n",
                            "      dtype=object)"
                        ]
                    },
                    "execution_count": 4,
                    "metadata": {},
                    "output_type": "execute_result"
                }
            ],
            "source": [
                "data['path'] = data['uid'].apply(lambda x: uid2path[x])\n",
                "data['IIIF image'] = data['ImageURL'].apply(lambda x: get_drawer(x, x))\n",
                "data['filename'] = data['path'].str.split('/').apply(lambda x: x[-1])\n",
                "\n",
                "data['IIIF image'].values[:30]"
            ]
        },
        {
            "cell_type": "code",
            "execution_count": 5,
            "metadata": {},
            "outputs": [
                {
                    "name": "stdout",
                    "output_type": "stream",
                    "text": [
                        "(10167, 25)\n"
                    ]
                }
            ],
            "source": [
                "manifest = data[data['IIIF image'].str.contains('iiif')]\n",
                "print(manifest.shape)\n",
                "\n",
                "lines = list(manifest['IIIF image'])\n",
                "with open(data_dir + 'manifest.txt', 'w', encoding='utf8') as f:\n",
                "    f.write('\\n'.join(lines))"
            ]
        },
        {
            "cell_type": "code",
            "execution_count": 6,
            "metadata": {},
            "outputs": [
                {
                    "name": "stderr",
                    "output_type": "stream",
                    "text": [
                        "C:\\Users\\ludov\\AppData\\Local\\Temp/ipykernel_26504/1850614335.py:1: SettingWithCopyWarning: \n",
                        "A value is trying to be set on a copy of a slice from a DataFrame.\n",
                        "Try using .loc[row_indexer,col_indexer] = value instead\n",
                        "\n",
                        "See the caveats in the documentation: https://pandas.pydata.org/pandas-docs/stable/user_guide/indexing.html#returning-a-view-versus-a-copy\n",
                        "  manifest['filename'] = manifest['path'].str.split('/').apply(lambda x: x[-1])\n",
                        "C:\\Users\\ludov\\AppData\\Local\\Temp/ipykernel_26504/1850614335.py:2: SettingWithCopyWarning: \n",
                        "A value is trying to be set on a copy of a slice from a DataFrame.\n",
                        "Try using .loc[row_indexer,col_indexer] = value instead\n",
                        "\n",
                        "See the caveats in the documentation: https://pandas.pydata.org/pandas-docs/stable/user_guide/indexing.html#returning-a-view-versus-a-copy\n",
                        "  manifest['category'] = manifest['cluster']\n",
                        "C:\\Users\\ludov\\AppData\\Local\\Temp/ipykernel_26504/1850614335.py:3: SettingWithCopyWarning: \n",
                        "A value is trying to be set on a copy of a slice from a DataFrame.\n",
                        "Try using .loc[row_indexer,col_indexer] = value instead\n",
                        "\n",
                        "See the caveats in the documentation: https://pandas.pydata.org/pandas-docs/stable/user_guide/indexing.html#returning-a-view-versus-a-copy\n",
                        "  manifest['tags'] = np.nan\n",
                        "C:\\Users\\ludov\\AppData\\Local\\Temp/ipykernel_26504/1850614335.py:4: SettingWithCopyWarning: \n",
                        "A value is trying to be set on a copy of a slice from a DataFrame.\n",
                        "Try using .loc[row_indexer,col_indexer] = value instead\n",
                        "\n",
                        "See the caveats in the documentation: https://pandas.pydata.org/pandas-docs/stable/user_guide/indexing.html#returning-a-view-versus-a-copy\n",
                        "  manifest['description'] = manifest['Author'] + ': ' + manifest['Description']\n",
                        "C:\\Users\\ludov\\AppData\\Local\\Temp/ipykernel_26504/1850614335.py:5: SettingWithCopyWarning: \n",
                        "A value is trying to be set on a copy of a slice from a DataFrame.\n",
                        "Try using .loc[row_indexer,col_indexer] = value instead\n",
                        "\n",
                        "See the caveats in the documentation: https://pandas.pydata.org/pandas-docs/stable/user_guide/indexing.html#returning-a-view-versus-a-copy\n",
                        "  manifest['permalink'] = manifest['IIIF image']\n",
                        "C:\\Users\\ludov\\AppData\\Local\\Temp/ipykernel_26504/1850614335.py:6: SettingWithCopyWarning: \n",
                        "A value is trying to be set on a copy of a slice from a DataFrame.\n",
                        "Try using .loc[row_indexer,col_indexer] = value instead\n",
                        "\n",
                        "See the caveats in the documentation: https://pandas.pydata.org/pandas-docs/stable/user_guide/indexing.html#returning-a-view-versus-a-copy\n",
                        "  manifest['year'] = manifest['BeginDate']\n"
                    ]
                }
            ],
            "source": [
                "manifest['filename'] = manifest['path'].str.split('/').apply(lambda x: x[-1])\n",
                "manifest['category'] = manifest['cluster']\n",
                "manifest['tags'] = np.nan\n",
                "manifest['description'] = manifest['Author'] + ': ' + manifest['Description']\n",
                "manifest['permalink'] = manifest['IIIF image']\n",
                "manifest['year'] = manifest['BeginDate']"
            ]
        },
        {
            "cell_type": "code",
            "execution_count": 7,
            "metadata": {},
            "outputs": [
                {
                    "data": {
                        "text/html": [
                            "<div>\n",
                            "<style scoped>\n",
                            "    .dataframe tbody tr th:only-of-type {\n",
                            "        vertical-align: middle;\n",
                            "    }\n",
                            "\n",
                            "    .dataframe tbody tr th {\n",
                            "        vertical-align: top;\n",
                            "    }\n",
                            "\n",
                            "    .dataframe thead th {\n",
                            "        text-align: right;\n",
                            "    }\n",
                            "</style>\n",
                            "<table border=\"1\" class=\"dataframe\">\n",
                            "  <thead>\n",
                            "    <tr style=\"text-align: right;\">\n",
                            "      <th></th>\n",
                            "      <th>filename</th>\n",
                            "      <th>category</th>\n",
                            "      <th>tags</th>\n",
                            "      <th>description</th>\n",
                            "      <th>permalink</th>\n",
                            "      <th>year</th>\n",
                            "    </tr>\n",
                            "  </thead>\n",
                            "  <tbody>\n",
                            "    <tr>\n",
                            "      <th>18</th>\n",
                            "      <td>112B_571.jpg</td>\n",
                            "      <td>NaN</td>\n",
                            "      <td>NaN</td>\n",
                            "      <td>WEENIX Jan-Baptiste: Venditrice di erbaggi.</td>\n",
                            "      <td>https://dhlabsrv4.epfl.ch/iiif_replica/cini%2F...</td>\n",
                            "      <td>1639.0</td>\n",
                            "    </tr>\n",
                            "    <tr>\n",
                            "      <th>20</th>\n",
                            "      <td>29B_659.jpg</td>\n",
                            "      <td>NaN</td>\n",
                            "      <td>NaN</td>\n",
                            "      <td>ALLORI Cristoforo: Uomo inginocchiato. Carbonc...</td>\n",
                            "      <td>https://dhlabsrv4.epfl.ch/iiif_replica/cini%2F...</td>\n",
                            "      <td>1595.0</td>\n",
                            "    </tr>\n",
                            "    <tr>\n",
                            "      <th>21</th>\n",
                            "      <td>147A_683.jpg</td>\n",
                            "      <td>NaN</td>\n",
                            "      <td>NaN</td>\n",
                            "      <td>SEC XVI: Armadio in noce intagliato.</td>\n",
                            "      <td>https://dhlabsrv4.epfl.ch/iiif_replica/cini%2F...</td>\n",
                            "      <td>1500.0</td>\n",
                            "    </tr>\n",
                            "    <tr>\n",
                            "      <th>23</th>\n",
                            "      <td>2A_268.jpg</td>\n",
                            "      <td>NaN</td>\n",
                            "      <td>NaN</td>\n",
                            "      <td>CAMPAGNOLA Domenico: L 'Adorazione dei lagi. P...</td>\n",
                            "      <td>https://dhlabsrv4.epfl.ch/iiif_replica/cini%2F...</td>\n",
                            "      <td>1518.0</td>\n",
                            "    </tr>\n",
                            "    <tr>\n",
                            "      <th>24</th>\n",
                            "      <td>14A_300.jpg</td>\n",
                            "      <td>NaN</td>\n",
                            "      <td>NaN</td>\n",
                            "      <td>BURGKMAIR Hans (?): Carro con musici. Penna lu...</td>\n",
                            "      <td>https://dhlabsrv4.epfl.ch/iiif_replica/cini%2F...</td>\n",
                            "      <td>1491.0</td>\n",
                            "    </tr>\n",
                            "  </tbody>\n",
                            "</table>\n",
                            "</div>"
                        ],
                        "text/plain": [
                            "        filename  category  tags  \\\n",
                            "18  112B_571.jpg       NaN   NaN   \n",
                            "20   29B_659.jpg       NaN   NaN   \n",
                            "21  147A_683.jpg       NaN   NaN   \n",
                            "23    2A_268.jpg       NaN   NaN   \n",
                            "24   14A_300.jpg       NaN   NaN   \n",
                            "\n",
                            "                                          description  \\\n",
                            "18        WEENIX Jan-Baptiste: Venditrice di erbaggi.   \n",
                            "20  ALLORI Cristoforo: Uomo inginocchiato. Carbonc...   \n",
                            "21               SEC XVI: Armadio in noce intagliato.   \n",
                            "23  CAMPAGNOLA Domenico: L 'Adorazione dei lagi. P...   \n",
                            "24  BURGKMAIR Hans (?): Carro con musici. Penna lu...   \n",
                            "\n",
                            "                                            permalink    year  \n",
                            "18  https://dhlabsrv4.epfl.ch/iiif_replica/cini%2F...  1639.0  \n",
                            "20  https://dhlabsrv4.epfl.ch/iiif_replica/cini%2F...  1595.0  \n",
                            "21  https://dhlabsrv4.epfl.ch/iiif_replica/cini%2F...  1500.0  \n",
                            "23  https://dhlabsrv4.epfl.ch/iiif_replica/cini%2F...  1518.0  \n",
                            "24  https://dhlabsrv4.epfl.ch/iiif_replica/cini%2F...  1491.0  "
                        ]
                    },
                    "execution_count": 7,
                    "metadata": {},
                    "output_type": "execute_result"
                }
            ],
            "source": [
                "manifest2 = manifest[['filename', 'category', 'tags', 'description', 'permalink', 'year']]\n",
                "manifest2.head()"
            ]
        },
        {
            "cell_type": "code",
            "execution_count": 8,
            "metadata": {},
            "outputs": [],
            "source": [
                "manifest2.to_csv(data_dir + 'metadata.csv', encoding='utf8')"
            ]
        },
        {
            "cell_type": "code",
            "execution_count": 9,
            "metadata": {},
            "outputs": [
                {
                    "data": {
                        "text/plain": [
                            "array([['diana_ny.jpg',\n",
                            "        array([0.02669414, 0.01063903, 0.01577589, ..., 0.02917384, 0.01784928,\n",
                            "       0.02706564], dtype=float32)],\n",
                            "       ['112B_571.jpg',\n",
                            "        array([0.01176713, 0.00649136, 0.00810071, ..., 0.0160761 , 0.01098835,\n",
                            "       0.02134623], dtype=float32)],\n",
                            "       ['berenice.jpg',\n",
                            "        array([0.04015105, 0.0246291 , 0.01989905, ..., 0.01684402, 0.01566825,\n",
                            "       0.00978398], dtype=float32)],\n",
                            "       ...,\n",
                            "       ['cleopatr.jpg',\n",
                            "        array([0.03623779, 0.00738333, 0.02136839, ..., 0.04073193, 0.0239862 ,\n",
                            "       0.01873499], dtype=float32)],\n",
                            "       ['90A_173.jpg',\n",
                            "        array([0.00879891, 0.00309545, 0.0331305 , ..., 0.00737908, 0.009536  ,\n",
                            "       0.00992465], dtype=float32)],\n",
                            "       ['63C_44.jpg',\n",
                            "        array([0.0348242 , 0.0098505 , 0.03602742, ..., 0.01236406, 0.01548924,\n",
                            "       0.0203557 ], dtype=float32)]], dtype=object)"
                        ]
                    },
                    "execution_count": 9,
                    "metadata": {},
                    "output_type": "execute_result"
                }
            ],
            "source": [
                "uid2name = {uid:name for uid, name in zip(data['uid'], data['filename'])}\n",
                "\n",
                "embeds[:, 0] = [catch(x, uid2name) for x in embeds[:, 0]]\n",
                "embeds\n"
            ]
        },
        {
            "cell_type": "code",
            "execution_count": 10,
            "metadata": {},
            "outputs": [
                {
                    "data": {
                        "text/plain": [
                            "('diana_ny.jpg',\n",
                            " array([0.02669414, 0.01063903, 0.01577589, ..., 0.02917384, 0.01784928,\n",
                            "        0.02706564], dtype=float32))"
                        ]
                    },
                    "execution_count": 10,
                    "metadata": {},
                    "output_type": "execute_result"
                }
            ],
            "source": [
                "iiif2vec = {}\n",
                "\n",
                "for emb in embeds:\n",
                "    iiif2vec[emb[0]] = emb[1]\n",
                "\n",
                "list(iiif2vec.items())[0]"
            ]
        },
        {
            "cell_type": "code",
            "execution_count": 11,
            "metadata": {},
            "outputs": [],
            "source": [
                "with open(data_dir + 'iiif2vec.pkl', 'wb') as outfile:\n",
                "    pickle.dump(iiif2vec, outfile)"
            ]
        },
        {
            "cell_type": "code",
            "execution_count": null,
            "metadata": {},
            "outputs": [],
            "source": [
                "def get_inception_vectors(**kwargs):\n",
                "  '''Create and return Inception vector representation of Image() instances'''\n",
                "  print(timestamp(), 'Creating Inception vectors for {} images'.format(len(kwargs['image_paths'])))\n",
                "  vector_dir = os.path.join(kwargs['out_dir'], 'image-vectors', 'inception')\n",
                "  if not os.path.exists(vector_dir): os.makedirs(vector_dir)\n",
                "  #base = InceptionV3(include_top=True, weights='imagenet',)\n",
                "  #model = Model(inputs=base.input, outputs=base.get_layer('avg_pool').output)\n",
                "  with open(data_dir + 'iiif2vec.pkl', 'rb') as infile:\n",
                "    iiif2vec = pickle.load(infile)\n",
                "  print(timestamp(), 'Creating image array')\n",
                "  vecs = []\n",
                "  with tqdm(total=len(kwargs['image_paths'])) as progress_bar:\n",
                "    for idx, i in enumerate(stream_images(**kwargs)):\n",
                "      filename = clean_filename(i.path)\n",
                "\n",
                "      vector_path = os.path.join(vector_dir, clean_filename(i.path) + '.npy')\n",
                "      #if os.path.exists(vector_path) and kwargs['use_cache']:\n",
                "      #  vec = np.load(vector_path)\n",
                "      #else:\n",
                "      #  im = preprocess_input( img_to_array( i.original.resize((299,299)) ) )\n",
                "      #vec = model.predict(np.expand_dims(im, 0)).squeeze()\n",
                "      vec = iiif2vec[filename]\n",
                "      np.save(vector_path, vec)\n",
                "      vecs.append(vec)\n",
                "      progress_bar.update(1)\n",
                "  return np.array(vecs)"
            ]
        },
        {
            "cell_type": "code",
            "execution_count": null,
            "metadata": {},
            "outputs": [],
            "source": []
        }
    ],
    "metadata": {
        "kernelspec": {
            "display_name": "Python 3.8.5 ('ada')",
            "language": "python",
            "name": "python3"
        },
        "language_info": {
            "codemirror_mode": {
                "name": "ipython",
                "version": 3
            },
            "file_extension": ".py",
            "mimetype": "text/x-python",
            "name": "python",
            "nbconvert_exporter": "python",
            "pygments_lexer": "ipython3",
            "version": "3.8.5"
        },
        "orig_nbformat": 4,
        "vscode": {
            "interpreter": {
                "hash": "6bdddb31d2fb89da9078eb0011314936146baaf4f9e5c99982bea0ddf03884f8"
            }
        }
    },
    "nbformat": 4,
    "nbformat_minor": 2
}
