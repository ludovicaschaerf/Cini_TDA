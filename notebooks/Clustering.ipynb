{
 "cells": [
  {
   "cell_type": "markdown",
   "metadata": {},
   "source": [
    "# Replica project\n",
    "\n",
    "### Clustering efforts\n",
    "\n"
   ]
  },
  {
   "cell_type": "code",
   "execution_count": 16,
   "metadata": {},
   "outputs": [
    {
     "name": "stdout",
     "output_type": "stream",
     "text": [
      "The autoreload extension is already loaded. To reload it, use:\n",
      "  %reload_ext autoreload\n"
     ]
    }
   ],
   "source": [
    "# loading the metadata\n",
    "%load_ext autoreload\n",
    "%autoreload 2\n",
    "\n",
    "import pandas as pd\n",
    "import numpy as np\n",
    "import pickle\n",
    "import sys\n",
    "import sklearn\n",
    "\n",
    "\n",
    "sys.path.insert(0, \"../model/\")\n",
    "from utils import *\n",
    "\n",
    "sys.path.insert(0, \"../web_annotation/\")\n",
    "from utils_clusters import *\n",
    "from metrics_clusters import * \n",
    "\n",
    "\n",
    "data_dir = '/scratch/students/schaerf/'\n",
    "data_dir = '../data/'"
   ]
  },
  {
   "cell_type": "code",
   "execution_count": 2,
   "metadata": {},
   "outputs": [],
   "source": [
    "type_clustering = 'mix'\n",
    "subfolder_dir = '25-05-2022'\n",
    "dist = 2000\n",
    "dist2 = 0.12\n",
    "\n",
    "data_file = 'data_sample.csv'\n",
    "\n",
    "embeds_file = subfolder_dir + '/resnext-101_'+subfolder_dir+'.npy'\n",
    "map_file = subfolder_dir + '/map2pos.pkl'\n",
    "cluster_file = subfolder_dir + '/clusters_'+type_clustering+'_'+str(dist)+'_'+subfolder_dir+'_19.pkl'"
   ]
  },
  {
   "cell_type": "code",
   "execution_count": 3,
   "metadata": {},
   "outputs": [
    {
     "data": {
      "text/html": [
       "<div>\n",
       "<style scoped>\n",
       "    .dataframe tbody tr th:only-of-type {\n",
       "        vertical-align: middle;\n",
       "    }\n",
       "\n",
       "    .dataframe tbody tr th {\n",
       "        vertical-align: top;\n",
       "    }\n",
       "\n",
       "    .dataframe thead th {\n",
       "        text-align: right;\n",
       "    }\n",
       "</style>\n",
       "<table border=\"1\" class=\"dataframe\">\n",
       "  <thead>\n",
       "    <tr style=\"text-align: right;\">\n",
       "      <th></th>\n",
       "      <th>img1</th>\n",
       "      <th>img2</th>\n",
       "      <th>type</th>\n",
       "      <th>uid_connection</th>\n",
       "      <th>date</th>\n",
       "      <th>cluster_file</th>\n",
       "      <th>cluster</th>\n",
       "    </tr>\n",
       "  </thead>\n",
       "  <tbody>\n",
       "    <tr>\n",
       "      <th>3169</th>\n",
       "      <td>ff57569da2134eec861c70f4ac081db9</td>\n",
       "      <td>3a0213bf8ec54fea8deb92d1fa9543f8</td>\n",
       "      <td>NEGATIVE</td>\n",
       "      <td>ff57569da2134eec8deb92d1fa9543f8</td>\n",
       "      <td>26-05-2022_13:01:33</td>\n",
       "      <td>25-05-2022/clusters_mix_2000_25-05-2022_19</td>\n",
       "      <td>257</td>\n",
       "    </tr>\n",
       "  </tbody>\n",
       "</table>\n",
       "</div>"
      ],
      "text/plain": [
       "                                  img1                              img2  \\\n",
       "3169  ff57569da2134eec861c70f4ac081db9  3a0213bf8ec54fea8deb92d1fa9543f8   \n",
       "\n",
       "          type                    uid_connection                 date  \\\n",
       "3169  NEGATIVE  ff57569da2134eec8deb92d1fa9543f8  26-05-2022_13:01:33   \n",
       "\n",
       "                                    cluster_file  cluster  \n",
       "3169  25-05-2022/clusters_mix_2000_25-05-2022_19      257  "
      ]
     },
     "execution_count": 3,
     "metadata": {},
     "output_type": "execute_result"
    }
   ],
   "source": [
    "morpho = pd.read_csv(data_dir + 'morphograph_clusters.csv')\n",
    "embeds = np.load(data_dir + embeds_file, allow_pickle=True) \n",
    "\n",
    "morpho[morpho['type'].isin(['POSITIVE', 'NEGATIVE'])].tail(1)"
   ]
  },
  {
   "cell_type": "code",
   "execution_count": 4,
   "metadata": {},
   "outputs": [
    {
     "data": {
      "text/plain": [
       "(array([[0.08652782]], dtype=float32), array([[0.09683412]], dtype=float32))"
      ]
     },
     "execution_count": 4,
     "metadata": {},
     "output_type": "execute_result"
    }
   ],
   "source": [
    "img1 = '05f5c4e0325f40019eeb0bb542c1f692'\n",
    "img2 = '14a738ba9b91454a997738105ccf5c9b'\n",
    "img3 = '5a889994248f4f67ad62057ceab2297d'\n",
    "\n",
    "img0 = '279e34aca7474483a424b5c154719d51'\n",
    "img2 = '359c34d1017e46be9f17a3b6a8a4dfb9'\n",
    "\n",
    "# img1 = '03831e0f677d4c43ae34185065b93191'\n",
    "# img2 = '5b18e18dfb5b49ceb98e0c36b1a8cec5'\n",
    "# img3 = '683def2a2a19429799a6514bc7bd4156'\n",
    "\n",
    "sklearn.metrics.pairwise.cosine_distances(embeds[embeds[:,0] == img0][0][1].reshape(1, -1), embeds[embeds[:,0] == img2][0][1].reshape(1, -1)), sklearn.metrics.pairwise.cosine_distances(embeds[embeds[:,0] == img1][0][1].reshape(1, -1), embeds[embeds[:,0] == img3][0][1].reshape(1, -1))"
   ]
  },
  {
   "cell_type": "code",
   "execution_count": null,
   "metadata": {},
   "outputs": [],
   "source": [
    "clusters = make_clusters_embeddings(data_dir, dist=dist, data_file=data_file, embed_file=embeds_file, type_clustering=type_clustering, dist2=dist2)"
   ]
  },
  {
   "cell_type": "code",
   "execution_count": 37,
   "metadata": {},
   "outputs": [],
   "source": [
    "with open(data_dir + cluster_file, 'wb') as outfile:\n",
    "    pickle.dump(clusters, outfile)"
   ]
  },
  {
   "cell_type": "code",
   "execution_count": null,
   "metadata": {},
   "outputs": [],
   "source": [
    "map2pos = get_2d_pos(data_dir, embed_file=embeds_file)\n",
    "with open(data_dir + map_file, 'wb') as outfile:\n",
    "    pickle.dump(map2pos, outfile)"
   ]
  },
  {
   "cell_type": "code",
   "execution_count": 11,
   "metadata": {},
   "outputs": [
    {
     "name": "stdout",
     "output_type": "stream",
     "text": [
      "(39983, 20)\n",
      "(39983, 22)\n",
      "(6517, 6)\n"
     ]
    },
    {
     "data": {
      "text/plain": [
       "{'original size': 4966,\n",
       " 'newly added': 224,\n",
       " 'additions to existing clusters': 136,\n",
       " 'number of clusters with new elements': 46,\n",
       " 'new clusters': 36,\n",
       " 'new clusters elements': 88,\n",
       " 'progress': '4.51%'}"
      ]
     },
     "execution_count": 11,
     "metadata": {},
     "output_type": "execute_result"
    }
   ],
   "source": [
    "positives = update_morph(data_dir, subfolder_dir)\n",
    "novelty_scores = novelty_score(positives, subfolder_dir)\n",
    "novelty_scores"
   ]
  },
  {
   "cell_type": "code",
   "execution_count": 12,
   "metadata": {},
   "outputs": [],
   "source": [
    "metadata = pd.read_csv(data_dir + 'data_sample.csv')"
   ]
  },
  {
   "cell_type": "code",
   "execution_count": 13,
   "metadata": {},
   "outputs": [
    {
     "name": "stdout",
     "output_type": "stream",
     "text": [
      "(12811, 26)\n"
     ]
    }
   ],
   "source": [
    "data = pd.concat([metadata, positives], axis=0).reset_index().groupby(['uid', 'uid_connection']).last().reset_index()\n",
    "print(data.shape)"
   ]
  },
  {
   "cell_type": "code",
   "execution_count": 14,
   "metadata": {},
   "outputs": [],
   "source": [
    "data.to_csv(data_dir + 'data_retrain_1.csv', index=False)"
   ]
  },
  {
   "cell_type": "code",
   "execution_count": 9,
   "metadata": {},
   "outputs": [],
   "source": [
    "metadata = metadata.drop(columns=['img1', 'img2', 'type', 'annotated', 'index', 'cluster', 'set', 'uid_connection'])\n",
    "embeddings = np.load(data_dir + embeds_file, allow_pickle=True) \n",
    "morpho_graph_clusters = pd.read_csv(data_dir + 'morphograph_clusters.csv')\n",
    "morpho_graph_clusters = morpho_graph_clusters[morpho_graph_clusters['cluster_file'].str.contains(subfolder_dir)]\n",
    "\n",
    "\n",
    "with open(data_dir + 'uid2path.pkl', 'rb') as infile:\n",
    "    uid2path = pickle.load(infile)"
   ]
  },
  {
   "cell_type": "code",
   "execution_count": 18,
   "metadata": {},
   "outputs": [
    {
     "name": "stdout",
     "output_type": "stream",
     "text": [
      "(3174, 7)\n"
     ]
    },
    {
     "name": "stderr",
     "output_type": "stream",
     "text": [
      " 12%|█▏        | 635/5190 [00:18<02:13, 34.08it/s]"
     ]
    }
   ],
   "source": [
    "sets = make_new_train_set(embeddings, positives, morpho_graph_clusters, subfolder_dir, uid2path)\n",
    "sets"
   ]
  },
  {
   "cell_type": "code",
   "execution_count": 57,
   "metadata": {},
   "outputs": [],
   "source": [
    "train_set = sets[sets['set'] == 'train']\n",
    "val_set = sets[sets['set'] == 'val']\n",
    "\n",
    "train_set.to_csv(data_dir + 'retrain_1_train.csv')\n",
    "val_set.to_csv(data_dir + 'retrain_1_val.csv')"
   ]
  },
  {
   "cell_type": "code",
   "execution_count": 15,
   "metadata": {},
   "outputs": [
    {
     "data": {
      "text/plain": [
       "0.75"
      ]
     },
     "execution_count": 15,
     "metadata": {},
     "output_type": "execute_result"
    }
   ],
   "source": [
    "scores_clusters = cluster_accuracy(morpho_graph_clusters)\n",
    "scores_clusters"
   ]
  },
  {
   "cell_type": "code",
   "execution_count": null,
   "metadata": {},
   "outputs": [],
   "source": []
  }
 ],
 "metadata": {
  "interpreter": {
   "hash": "6bdddb31d2fb89da9078eb0011314936146baaf4f9e5c99982bea0ddf03884f8"
  },
  "kernelspec": {
   "display_name": "Python 3.8.5 ('ada')",
   "language": "python",
   "name": "python3"
  },
  "language_info": {
   "codemirror_mode": {
    "name": "ipython",
    "version": 3
   },
   "file_extension": ".py",
   "mimetype": "text/x-python",
   "name": "python",
   "nbconvert_exporter": "python",
   "pygments_lexer": "ipython3",
   "version": "3.8.5"
  },
  "orig_nbformat": 4
 },
 "nbformat": 4,
 "nbformat_minor": 2
}
