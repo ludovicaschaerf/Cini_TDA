{
 "cells": [
  {
   "cell_type": "markdown",
   "metadata": {},
   "source": [
    "# Replica project\n",
    "\n",
    "### Clustering efforts\n",
    "\n"
   ]
  },
  {
   "cell_type": "code",
   "execution_count": 38,
   "metadata": {},
   "outputs": [
    {
     "name": "stdout",
     "output_type": "stream",
     "text": [
      "The autoreload extension is already loaded. To reload it, use:\n",
      "  %reload_ext autoreload\n"
     ]
    }
   ],
   "source": [
    "# loading the metadata\n",
    "%load_ext autoreload\n",
    "%autoreload 2\n",
    "\n",
    "import pandas as pd\n",
    "import numpy as np\n",
    "\n",
    "from scipy import sparse\n",
    "import pickle\n",
    "import sys\n",
    "\n",
    "import seaborn as sns\n",
    "\n",
    "import sklearn\n",
    "\n",
    "%matplotlib inline\n",
    "sns.set_context('poster')\n",
    "sns.set_style('white')\n",
    "sns.set_color_codes()\n",
    "plot_kwds = {'alpha' : 0.5, 's' : 80, 'linewidths':0}\n",
    "\n",
    "\n",
    "sys.path.insert(0, \"../model/\")\n",
    "from utils import *\n",
    "from spatial_reranking import sim_matrix_rerank, make_embds_pooled, match_feature_maps_simple\n",
    "\n",
    "sys.path.insert(0, \"../web_annotation/\")\n",
    "from utils_clusters import *\n",
    "from metrics_clusters import * \n",
    "\n",
    "\n",
    "\n",
    "path = '/home/guhennec/scratch/2021_Cini/TopologicalAnalysis_Cini/data/'\n",
    "data_dir = '/scratch/students/schaerf/'\n",
    "replica_dir = '/mnt/project_replica/datasets/cini/'\n",
    "wga_dir = '/mnt/project_replica/datasets/WGA/'\n",
    "\n",
    "path = '../data/'\n",
    "data_dir = '../data/'\n",
    "replica_dir = '../data/'\n",
    "wga_dir = '../data/'\n"
   ]
  },
  {
   "cell_type": "code",
   "execution_count": 39,
   "metadata": {},
   "outputs": [],
   "source": [
    "type_clustering = 'gaussian_mixture'\n",
    "type_clustering = 'kmeans'\n",
    "type_clustering = 'mix'\n",
    "\n",
    "dist = 1700\n",
    "dist = 2000\n",
    "dist2 = 0.12\n",
    "\n",
    "data_file = 'original/dedup_data_sample_wga.csv' \n",
    "data_file = 'data_sample_0.csv'\n",
    "data_file = 'data_sample.csv'\n",
    "\n",
    "embeds_file = '01-05-2022/resnext-101_epoch_901-05-2022_19%3A45%3A03.npy'\n",
    "embeds_file = '25-05-2022/resnext-101_epoch_2225-05-2022_23%3A44%3A19.npy'\n",
    "\n",
    "map_file = '01-05-2022/map2pos.pkl'\n",
    "map_file = '25-05-2022/map2pos.pkl'\n",
    "\n",
    "cluster_file = '01-05-2022/clusters_'+type_clustering+'_'+str(dist)+'_01-05-2022_19.pkl'\n",
    "cluster_file = '25-05-2022/clusters_'+type_clustering+'_'+str(dist)+'_25-05-2022_19.pkl'\n"
   ]
  },
  {
   "cell_type": "code",
   "execution_count": 40,
   "metadata": {},
   "outputs": [
    {
     "data": {
      "text/html": [
       "<div>\n",
       "<style scoped>\n",
       "    .dataframe tbody tr th:only-of-type {\n",
       "        vertical-align: middle;\n",
       "    }\n",
       "\n",
       "    .dataframe tbody tr th {\n",
       "        vertical-align: top;\n",
       "    }\n",
       "\n",
       "    .dataframe thead th {\n",
       "        text-align: right;\n",
       "    }\n",
       "</style>\n",
       "<table border=\"1\" class=\"dataframe\">\n",
       "  <thead>\n",
       "    <tr style=\"text-align: right;\">\n",
       "      <th></th>\n",
       "      <th>img1</th>\n",
       "      <th>img2</th>\n",
       "      <th>type</th>\n",
       "      <th>uid_connection</th>\n",
       "      <th>date</th>\n",
       "      <th>cluster_file</th>\n",
       "      <th>cluster</th>\n",
       "    </tr>\n",
       "  </thead>\n",
       "  <tbody>\n",
       "    <tr>\n",
       "      <th>9102</th>\n",
       "      <td>1176b2b049e446c28e67e1f6ae42a7a2</td>\n",
       "      <td>d8532c4ccd484c349a5c7c1b3ca4a8af</td>\n",
       "      <td>NEGATIVE</td>\n",
       "      <td>1176b2b049e446c29a5c7c1b3ca4a8af</td>\n",
       "      <td>26-05-2022_18:18:54</td>\n",
       "      <td>25-05-2022/clusters_mix_2000_25-05-2022_19</td>\n",
       "      <td>1941</td>\n",
       "    </tr>\n",
       "  </tbody>\n",
       "</table>\n",
       "</div>"
      ],
      "text/plain": [
       "                                  img1                              img2  \\\n",
       "9102  1176b2b049e446c28e67e1f6ae42a7a2  d8532c4ccd484c349a5c7c1b3ca4a8af   \n",
       "\n",
       "          type                    uid_connection                 date  \\\n",
       "9102  NEGATIVE  1176b2b049e446c29a5c7c1b3ca4a8af  26-05-2022_18:18:54   \n",
       "\n",
       "                                    cluster_file  cluster  \n",
       "9102  25-05-2022/clusters_mix_2000_25-05-2022_19     1941  "
      ]
     },
     "execution_count": 40,
     "metadata": {},
     "output_type": "execute_result"
    }
   ],
   "source": [
    "morpho = pd.read_csv(data_dir + 'morphograph_clusters.csv')\n",
    "embeds = np.load(data_dir + embeds_file, allow_pickle=True) \n",
    "\n",
    "morpho[morpho['type'].isin(['POSITIVE', 'NEGATIVE'])].tail(1)"
   ]
  },
  {
   "cell_type": "code",
   "execution_count": 41,
   "metadata": {},
   "outputs": [
    {
     "data": {
      "text/plain": [
       "(array([[0.08652782]], dtype=float32), array([[0.09683412]], dtype=float32))"
      ]
     },
     "execution_count": 41,
     "metadata": {},
     "output_type": "execute_result"
    }
   ],
   "source": [
    "img1 = '05f5c4e0325f40019eeb0bb542c1f692'\n",
    "img2 = '14a738ba9b91454a997738105ccf5c9b'\n",
    "img3 = '5a889994248f4f67ad62057ceab2297d'\n",
    "\n",
    "img0 = '279e34aca7474483a424b5c154719d51'\n",
    "img2 = '359c34d1017e46be9f17a3b6a8a4dfb9'\n",
    "\n",
    "# img1 = '03831e0f677d4c43ae34185065b93191'\n",
    "# img2 = '5b18e18dfb5b49ceb98e0c36b1a8cec5'\n",
    "# img3 = '683def2a2a19429799a6514bc7bd4156'\n",
    "\n",
    "sklearn.metrics.pairwise.cosine_distances(embeds[embeds[:,0] == img0][0][1].reshape(1, -1), embeds[embeds[:,0] == img2][0][1].reshape(1, -1)), sklearn.metrics.pairwise.cosine_distances(embeds[embeds[:,0] == img1][0][1].reshape(1, -1), embeds[embeds[:,0] == img3][0][1].reshape(1, -1))"
   ]
  },
  {
   "cell_type": "code",
   "execution_count": 36,
   "metadata": {},
   "outputs": [
    {
     "name": "stdout",
     "output_type": "stream",
     "text": [
      "remove outliers with dbscan and cluster with kmeans\n",
      "0.12\n",
      "3898\n",
      "(5171, 2)\n",
      "422     17\n",
      "221     16\n",
      "1153    15\n",
      "82      13\n",
      "409     12\n",
      "        ..\n",
      "1655     1\n",
      "1151     1\n",
      "450      1\n",
      "1615     1\n",
      "492      1\n",
      "Name: cluster, Length: 1700, dtype: int64 1700\n",
      "(5171, 3)\n",
      "(5171, 5)\n"
     ]
    }
   ],
   "source": [
    "clusters = make_clusters_embeddings(data_dir, dist=dist, data_file=data_file, embed_file=embeds_file, type_clustering=type_clustering, dist2=dist2)"
   ]
  },
  {
   "cell_type": "code",
   "execution_count": 37,
   "metadata": {},
   "outputs": [],
   "source": [
    "with open(data_dir + cluster_file, 'wb') as outfile:\n",
    "    pickle.dump(clusters, outfile)"
   ]
  },
  {
   "cell_type": "code",
   "execution_count": 42,
   "metadata": {},
   "outputs": [
    {
     "name": "stdout",
     "output_type": "stream",
     "text": [
      "(39983, 20)\n",
      "(39983, 22)\n",
      "(6899, 6)\n"
     ]
    },
    {
     "data": {
      "text/plain": [
       "{'original size': 1873,\n",
       " 'newly added': 119,\n",
       " 'additions to existing clusters': 46,\n",
       " 'number of clusters with new elements': 37,\n",
       " 'new clusters': 36,\n",
       " 'new clusters elements': 73,\n",
       " 'progress': '6.35%'}"
      ]
     },
     "execution_count": 42,
     "metadata": {},
     "output_type": "execute_result"
    }
   ],
   "source": [
    "positives = update_morph(data_dir)\n",
    "novelty_scores = novelty_score(positives, '25-05')\n",
    "novelty_scores"
   ]
  },
  {
   "cell_type": "code",
   "execution_count": 43,
   "metadata": {},
   "outputs": [],
   "source": [
    "metadata = pd.read_csv(data_dir + 'data_sample.csv')\n",
    "metadata = metadata.drop(columns=['img1', 'img2', 'type', 'annotated', 'index', 'cluster', 'set', 'uid_connection'])\n"
   ]
  },
  {
   "cell_type": "code",
   "execution_count": 44,
   "metadata": {},
   "outputs": [
    {
     "data": {
      "text/html": [
       "<div>\n",
       "<style scoped>\n",
       "    .dataframe tbody tr th:only-of-type {\n",
       "        vertical-align: middle;\n",
       "    }\n",
       "\n",
       "    .dataframe tbody tr th {\n",
       "        vertical-align: top;\n",
       "    }\n",
       "\n",
       "    .dataframe thead th {\n",
       "        text-align: right;\n",
       "    }\n",
       "</style>\n",
       "<table border=\"1\" class=\"dataframe\">\n",
       "  <thead>\n",
       "    <tr style=\"text-align: right;\">\n",
       "      <th></th>\n",
       "      <th>uid</th>\n",
       "      <th>uid_connection</th>\n",
       "      <th>index</th>\n",
       "      <th>AuthorOriginal</th>\n",
       "      <th>Description</th>\n",
       "      <th>AuthorBirth</th>\n",
       "      <th>path</th>\n",
       "      <th>BeginDate</th>\n",
       "      <th>ImageURL</th>\n",
       "      <th>City</th>\n",
       "      <th>...</th>\n",
       "      <th>img1</th>\n",
       "      <th>img2</th>\n",
       "      <th>type</th>\n",
       "      <th>annotated</th>\n",
       "      <th>cluster_file</th>\n",
       "      <th>cluster</th>\n",
       "      <th>set</th>\n",
       "      <th>new_cluster</th>\n",
       "      <th>new set</th>\n",
       "      <th>old_cluster old</th>\n",
       "    </tr>\n",
       "  </thead>\n",
       "  <tbody>\n",
       "    <tr>\n",
       "      <th>795</th>\n",
       "      <td>5d93cc78096840909ff14698e2a6cf07</td>\n",
       "      <td>f1279f5488fc4b50baf5d7574b8a35fa</td>\n",
       "      <td>8687.0</td>\n",
       "      <td>VERONESE, Paolo. (maniera di-).</td>\n",
       "      <td>Il Matrimonio di S. Caterina.</td>\n",
       "      <td>1528.0</td>\n",
       "      <td>../data/34A/34A_122.jpg</td>\n",
       "      <td>1546.0</td>\n",
       "      <td>https://dhlabsrv4.epfl.ch/iiif_replica/cini%2F...</td>\n",
       "      <td>FIRENZE</td>\n",
       "      <td>...</td>\n",
       "      <td>5d93cc78096840909ff14698e2a6cf07</td>\n",
       "      <td>314e7d5377b147bd993a76d0b70a8d5b</td>\n",
       "      <td>POSITIVE</td>\n",
       "      <td>2018-05-10 12:39:38.538140+00:00</td>\n",
       "      <td>Original</td>\n",
       "      <td>740</td>\n",
       "      <td>train</td>\n",
       "      <td>740</td>\n",
       "      <td>train</td>\n",
       "      <td>751.0</td>\n",
       "    </tr>\n",
       "  </tbody>\n",
       "</table>\n",
       "<p>1 rows × 25 columns</p>\n",
       "</div>"
      ],
      "text/plain": [
       "                                  uid                    uid_connection  \\\n",
       "795  5d93cc78096840909ff14698e2a6cf07  f1279f5488fc4b50baf5d7574b8a35fa   \n",
       "\n",
       "      index                   AuthorOriginal                    Description  \\\n",
       "795  8687.0  VERONESE, Paolo. (maniera di-).  Il Matrimonio di S. Caterina.   \n",
       "\n",
       "    AuthorBirth                     path  BeginDate  \\\n",
       "795      1528.0  ../data/34A/34A_122.jpg     1546.0   \n",
       "\n",
       "                                              ImageURL     City  ...  \\\n",
       "795  https://dhlabsrv4.epfl.ch/iiif_replica/cini%2F...  FIRENZE  ...   \n",
       "\n",
       "                                 img1                              img2  \\\n",
       "795  5d93cc78096840909ff14698e2a6cf07  314e7d5377b147bd993a76d0b70a8d5b   \n",
       "\n",
       "         type                         annotated cluster_file cluster    set  \\\n",
       "795  POSITIVE  2018-05-10 12:39:38.538140+00:00     Original     740  train   \n",
       "\n",
       "    new_cluster new set old_cluster old  \n",
       "795         740   train           751.0  \n",
       "\n",
       "[1 rows x 25 columns]"
      ]
     },
     "execution_count": 44,
     "metadata": {},
     "output_type": "execute_result"
    }
   ],
   "source": [
    "positives.sample()"
   ]
  },
  {
   "cell_type": "code",
   "execution_count": 47,
   "metadata": {},
   "outputs": [],
   "source": [
    "embeddings = np.load(data_dir + embeds_file, allow_pickle=True) \n",
    "morpho_graph_clusters = pd.read_csv(data_dir + 'morphograph_clusters.csv')\n",
    "morpho_graph_clusters = morpho_graph_clusters[morpho_graph_clusters['cluster_file'].str.contains('25-05')]\n",
    "uid2path = {}\n",
    "for i, row in metadata.iterrows():\n",
    "    uid2path[row['uid']] = str(row['path'])\n"
   ]
  },
  {
   "cell_type": "code",
   "execution_count": 46,
   "metadata": {},
   "outputs": [
    {
     "name": "stdout",
     "output_type": "stream",
     "text": [
      "(3174, 7)\n"
     ]
    },
    {
     "name": "stderr",
     "output_type": "stream",
     "text": [
      "100%|██████████| 2118/2118 [00:48<00:00, 43.34it/s]"
     ]
    },
    {
     "name": "stdout",
     "output_type": "stream",
     "text": [
      "(3427, 7)\n",
      "(1542, 7)\n",
      "                                     A                                 B  \\\n",
      "2104  fea21cc9ad2f4436b46f03776fab5733  62067f864e1544fdb22f651e5b06d800   \n",
      "2106  ff05a46c168b4b2cb7cacef2ec4ef48c  04297a08316c4e1aa3ff512ea44d0fc7   \n",
      "2106  ff05a46c168b4b2cb7cacef2ec4ef48c  04297a08316c4e1aa3ff512ea44d0fc7   \n",
      "2111  ff4befb0d4704a4bafb4c7e0ac7c9769  aba59a4dab044d5cada4a0a3dbc3acf3   \n",
      "2115  ff7c7f6e16d645869e828e016234db4d  cf9937275cdf43b7bfab48034686c950   \n",
      "\n",
      "                                     C     set  \\\n",
      "2104  a84c7d526eaf4dce9c25b88789b0f649     val   \n",
      "2106  75cbde4ef4534f309bc760ca362790fc  no set   \n",
      "2106  90aa26ad5e8948f29848f11d69fe0a7a  no set   \n",
      "2111  46dfbdfd0584490c887ad0105300e820  no set   \n",
      "2115  55604d8ed8464619bb7d3b580650648e  no set   \n",
      "\n",
      "                                                 A_path  \\\n",
      "2104  ../data/WGA/images/g/girolamo/treviso/sleeping...   \n",
      "2106                              ../data/2A/2A_381.jpg   \n",
      "2106                              ../data/2A/2A_381.jpg   \n",
      "2111                            ../data/25B/25B_192.jpg   \n",
      "2115                            ../data/38C/38C_251.jpg   \n",
      "\n",
      "                                           B_path                   C_path  \n",
      "2104  ../data/WGA/images/t/tiziano/09/09venus.jpg  ../data/54A/54A_673.jpg  \n",
      "2106                      ../data/36B/36B_512.jpg  ../data/31B/31B_625.jpg  \n",
      "2106                      ../data/36B/36B_512.jpg   ../data/17A/17A_26.jpg  \n",
      "2111                         ../data/6C/6C_36.jpg  ../data/47A/47A_563.jpg  \n",
      "2115                      ../data/38C/38C_257.jpg  ../data/29B/29B_408.jpg  \n"
     ]
    },
    {
     "name": "stderr",
     "output_type": "stream",
     "text": [
      "\n"
     ]
    },
    {
     "data": {
      "text/html": [
       "<div>\n",
       "<style scoped>\n",
       "    .dataframe tbody tr th:only-of-type {\n",
       "        vertical-align: middle;\n",
       "    }\n",
       "\n",
       "    .dataframe tbody tr th {\n",
       "        vertical-align: top;\n",
       "    }\n",
       "\n",
       "    .dataframe thead th {\n",
       "        text-align: right;\n",
       "    }\n",
       "</style>\n",
       "<table border=\"1\" class=\"dataframe\">\n",
       "  <thead>\n",
       "    <tr style=\"text-align: right;\">\n",
       "      <th></th>\n",
       "      <th>A</th>\n",
       "      <th>B</th>\n",
       "      <th>C</th>\n",
       "      <th>set</th>\n",
       "      <th>A_path</th>\n",
       "      <th>B_path</th>\n",
       "      <th>C_path</th>\n",
       "    </tr>\n",
       "  </thead>\n",
       "  <tbody>\n",
       "    <tr>\n",
       "      <th>14</th>\n",
       "      <td>01c9d15bc859434fa72380dae01ae476</td>\n",
       "      <td>8a16f89c2fe44bcbbcc1db5a5b946080</td>\n",
       "      <td>20f74a05cd7f41de884bf6e74eb0ea3d</td>\n",
       "      <td>train</td>\n",
       "      <td>../data/46A/46A_138.jpg</td>\n",
       "      <td>../data/67A/67A_70.jpg</td>\n",
       "      <td>../data/156C/156C_495.jpg</td>\n",
       "    </tr>\n",
       "    <tr>\n",
       "      <th>14</th>\n",
       "      <td>01c9d15bc859434fa72380dae01ae476</td>\n",
       "      <td>8a16f89c2fe44bcbbcc1db5a5b946080</td>\n",
       "      <td>2659b86f49284c7aa6fb276524c584fb</td>\n",
       "      <td>train</td>\n",
       "      <td>../data/46A/46A_138.jpg</td>\n",
       "      <td>../data/67A/67A_70.jpg</td>\n",
       "      <td>../data/15B/15B_192.jpg</td>\n",
       "    </tr>\n",
       "    <tr>\n",
       "      <th>18</th>\n",
       "      <td>023bd457b23f4752bdeaafafc9faee98</td>\n",
       "      <td>bf71d636f40b42b88cb2f3b5463e1cbe</td>\n",
       "      <td>7dbc2b881f2b49ca91b568a303983832</td>\n",
       "      <td>train</td>\n",
       "      <td>../data/121C/121C_101.jpg</td>\n",
       "      <td>../data/59C/59C_376.jpg</td>\n",
       "      <td>../data/46B/46B_523.jpg</td>\n",
       "    </tr>\n",
       "    <tr>\n",
       "      <th>19</th>\n",
       "      <td>026322746340445a8efe82e4ede8e7c7</td>\n",
       "      <td>8e60fecec01a4ed6a30c2f52595991f7</td>\n",
       "      <td>512f8c52936e4ac28b466199dcdfd0f6</td>\n",
       "      <td>train</td>\n",
       "      <td>../data/WGA/images/t/tironi/piazzett.jpg</td>\n",
       "      <td>../data/WGA/images/c/canalett/4/canal403.jpg</td>\n",
       "      <td>../data/WGA/images/m/mariesch/molobaci.jpg</td>\n",
       "    </tr>\n",
       "    <tr>\n",
       "      <th>19</th>\n",
       "      <td>026322746340445a8efe82e4ede8e7c7</td>\n",
       "      <td>8e60fecec01a4ed6a30c2f52595991f7</td>\n",
       "      <td>c896179193dc4b18be6ca9e11458fea5</td>\n",
       "      <td>train</td>\n",
       "      <td>../data/WGA/images/t/tironi/piazzett.jpg</td>\n",
       "      <td>../data/WGA/images/c/canalett/4/canal403.jpg</td>\n",
       "      <td>../data/WGA/images/c/canalett/8/canal801.jpg</td>\n",
       "    </tr>\n",
       "    <tr>\n",
       "      <th>...</th>\n",
       "      <td>...</td>\n",
       "      <td>...</td>\n",
       "      <td>...</td>\n",
       "      <td>...</td>\n",
       "      <td>...</td>\n",
       "      <td>...</td>\n",
       "      <td>...</td>\n",
       "    </tr>\n",
       "    <tr>\n",
       "      <th>2065</th>\n",
       "      <td>fa10a736b0804917b958334d82b05374</td>\n",
       "      <td>e577523a7fc74e1b8141404d3639e97b</td>\n",
       "      <td>2878b71b9a9240238b4ea330a00573bf</td>\n",
       "      <td>train</td>\n",
       "      <td>../data/88C/88C_423.jpg</td>\n",
       "      <td>../data/158A/158A_360.jpg</td>\n",
       "      <td>../data/57A/57A_742.jpg</td>\n",
       "    </tr>\n",
       "    <tr>\n",
       "      <th>2071</th>\n",
       "      <td>fb030ef7fe4c4cc793fa86167fb1ddc7</td>\n",
       "      <td>17942f6b8f7b4431b47b4c7dd13230ce</td>\n",
       "      <td>7e5347fa9eeb42558c6d622909e248d8</td>\n",
       "      <td>train</td>\n",
       "      <td>../data/58A/58A_69.jpg</td>\n",
       "      <td>../data/WGA/images/t/tiziano/08b/4dian_c.jpg</td>\n",
       "      <td>../data/WGA/images/c/cort/2titian.jpg</td>\n",
       "    </tr>\n",
       "    <tr>\n",
       "      <th>2093</th>\n",
       "      <td>fd76f1957cb24051b7381cb4e0ba7e4a</td>\n",
       "      <td>69f5f3b2a30e4e0dbe394c758682e380</td>\n",
       "      <td>843194f9208f43b6a13a9ae802285749</td>\n",
       "      <td>train</td>\n",
       "      <td>../data/WGA/images/d/duccio/maesta/verso_2/ver...</td>\n",
       "      <td>../data/WGA/images/p/pietro/rimini/depositi.jpg</td>\n",
       "      <td>../data/WGA/images/d/duccio/maesta/verso_2/ver...</td>\n",
       "    </tr>\n",
       "    <tr>\n",
       "      <th>2095</th>\n",
       "      <td>fde0c792bbff45e080ada7bba810c08d</td>\n",
       "      <td>dfcc2fdc21ab4b9390da20853d48794c</td>\n",
       "      <td>67f486eccaf84b5ba5f16b8d0202cc35</td>\n",
       "      <td>train</td>\n",
       "      <td>../data/44B/44B_501.jpg</td>\n",
       "      <td>../data/41A/41A_791.jpg</td>\n",
       "      <td>../data/160A/160A_370.jpg</td>\n",
       "    </tr>\n",
       "    <tr>\n",
       "      <th>2099</th>\n",
       "      <td>fe3d4b09d8944288bbd46bb653a9dbc0</td>\n",
       "      <td>bf50177af16c4a1bb4d1ac0d540e7d4a</td>\n",
       "      <td>820b39646c8c440c87609a72cbb92c12</td>\n",
       "      <td>train</td>\n",
       "      <td>../data/4C/4C_453.jpg</td>\n",
       "      <td>../data/19C/19C_37.jpg</td>\n",
       "      <td>../data/8B/8B_175.jpg</td>\n",
       "    </tr>\n",
       "  </tbody>\n",
       "</table>\n",
       "<p>678 rows × 7 columns</p>\n",
       "</div>"
      ],
      "text/plain": [
       "                                     A                                 B  \\\n",
       "14    01c9d15bc859434fa72380dae01ae476  8a16f89c2fe44bcbbcc1db5a5b946080   \n",
       "14    01c9d15bc859434fa72380dae01ae476  8a16f89c2fe44bcbbcc1db5a5b946080   \n",
       "18    023bd457b23f4752bdeaafafc9faee98  bf71d636f40b42b88cb2f3b5463e1cbe   \n",
       "19    026322746340445a8efe82e4ede8e7c7  8e60fecec01a4ed6a30c2f52595991f7   \n",
       "19    026322746340445a8efe82e4ede8e7c7  8e60fecec01a4ed6a30c2f52595991f7   \n",
       "...                                ...                               ...   \n",
       "2065  fa10a736b0804917b958334d82b05374  e577523a7fc74e1b8141404d3639e97b   \n",
       "2071  fb030ef7fe4c4cc793fa86167fb1ddc7  17942f6b8f7b4431b47b4c7dd13230ce   \n",
       "2093  fd76f1957cb24051b7381cb4e0ba7e4a  69f5f3b2a30e4e0dbe394c758682e380   \n",
       "2095  fde0c792bbff45e080ada7bba810c08d  dfcc2fdc21ab4b9390da20853d48794c   \n",
       "2099  fe3d4b09d8944288bbd46bb653a9dbc0  bf50177af16c4a1bb4d1ac0d540e7d4a   \n",
       "\n",
       "                                     C    set  \\\n",
       "14    20f74a05cd7f41de884bf6e74eb0ea3d  train   \n",
       "14    2659b86f49284c7aa6fb276524c584fb  train   \n",
       "18    7dbc2b881f2b49ca91b568a303983832  train   \n",
       "19    512f8c52936e4ac28b466199dcdfd0f6  train   \n",
       "19    c896179193dc4b18be6ca9e11458fea5  train   \n",
       "...                                ...    ...   \n",
       "2065  2878b71b9a9240238b4ea330a00573bf  train   \n",
       "2071  7e5347fa9eeb42558c6d622909e248d8  train   \n",
       "2093  843194f9208f43b6a13a9ae802285749  train   \n",
       "2095  67f486eccaf84b5ba5f16b8d0202cc35  train   \n",
       "2099  820b39646c8c440c87609a72cbb92c12  train   \n",
       "\n",
       "                                                 A_path  \\\n",
       "14                              ../data/46A/46A_138.jpg   \n",
       "14                              ../data/46A/46A_138.jpg   \n",
       "18                            ../data/121C/121C_101.jpg   \n",
       "19             ../data/WGA/images/t/tironi/piazzett.jpg   \n",
       "19             ../data/WGA/images/t/tironi/piazzett.jpg   \n",
       "...                                                 ...   \n",
       "2065                            ../data/88C/88C_423.jpg   \n",
       "2071                             ../data/58A/58A_69.jpg   \n",
       "2093  ../data/WGA/images/d/duccio/maesta/verso_2/ver...   \n",
       "2095                            ../data/44B/44B_501.jpg   \n",
       "2099                              ../data/4C/4C_453.jpg   \n",
       "\n",
       "                                               B_path  \\\n",
       "14                             ../data/67A/67A_70.jpg   \n",
       "14                             ../data/67A/67A_70.jpg   \n",
       "18                            ../data/59C/59C_376.jpg   \n",
       "19       ../data/WGA/images/c/canalett/4/canal403.jpg   \n",
       "19       ../data/WGA/images/c/canalett/4/canal403.jpg   \n",
       "...                                               ...   \n",
       "2065                        ../data/158A/158A_360.jpg   \n",
       "2071     ../data/WGA/images/t/tiziano/08b/4dian_c.jpg   \n",
       "2093  ../data/WGA/images/p/pietro/rimini/depositi.jpg   \n",
       "2095                          ../data/41A/41A_791.jpg   \n",
       "2099                           ../data/19C/19C_37.jpg   \n",
       "\n",
       "                                                 C_path  \n",
       "14                            ../data/156C/156C_495.jpg  \n",
       "14                              ../data/15B/15B_192.jpg  \n",
       "18                              ../data/46B/46B_523.jpg  \n",
       "19           ../data/WGA/images/m/mariesch/molobaci.jpg  \n",
       "19         ../data/WGA/images/c/canalett/8/canal801.jpg  \n",
       "...                                                 ...  \n",
       "2065                            ../data/57A/57A_742.jpg  \n",
       "2071              ../data/WGA/images/c/cort/2titian.jpg  \n",
       "2093  ../data/WGA/images/d/duccio/maesta/verso_2/ver...  \n",
       "2095                          ../data/160A/160A_370.jpg  \n",
       "2099                              ../data/8B/8B_175.jpg  \n",
       "\n",
       "[678 rows x 7 columns]"
      ]
     },
     "execution_count": 46,
     "metadata": {},
     "output_type": "execute_result"
    }
   ],
   "source": [
    "train_set = make_new_train_set(embeddings, positives, morpho_graph_clusters, '25-05', uid2path)\n",
    "train_set"
   ]
  },
  {
   "cell_type": "code",
   "execution_count": 48,
   "metadata": {},
   "outputs": [
    {
     "data": {
      "text/html": [
       "<div>\n",
       "<style scoped>\n",
       "    .dataframe tbody tr th:only-of-type {\n",
       "        vertical-align: middle;\n",
       "    }\n",
       "\n",
       "    .dataframe tbody tr th {\n",
       "        vertical-align: top;\n",
       "    }\n",
       "\n",
       "    .dataframe thead th {\n",
       "        text-align: right;\n",
       "    }\n",
       "</style>\n",
       "<table border=\"1\" class=\"dataframe\">\n",
       "  <thead>\n",
       "    <tr style=\"text-align: right;\">\n",
       "      <th></th>\n",
       "      <th>A</th>\n",
       "      <th>B</th>\n",
       "      <th>C</th>\n",
       "      <th>set</th>\n",
       "      <th>A_path</th>\n",
       "      <th>B_path</th>\n",
       "      <th>C_path</th>\n",
       "    </tr>\n",
       "  </thead>\n",
       "  <tbody>\n",
       "    <tr>\n",
       "      <th>990</th>\n",
       "      <td>7699bd54fb9a479d887437bb9b67a2f7</td>\n",
       "      <td>d5234e261fd549ba9539377d1e58f7d8</td>\n",
       "      <td>5e87d1dfceaf4ad48ea732333275e692</td>\n",
       "      <td>train</td>\n",
       "      <td>../data/WGA/images/h/heyden/townhal.jpg</td>\n",
       "      <td>../data/WGA/images/b/berckhey/gerrit/damsquax.jpg</td>\n",
       "      <td>../data/WGA/images/b/berckhey/gerrit/dam_squa.jpg</td>\n",
       "    </tr>\n",
       "    <tr>\n",
       "      <th>659</th>\n",
       "      <td>4d02860f58f2443ba4d1ef088756f854</td>\n",
       "      <td>cea37d0506e04d45b41f37bf0681ceca</td>\n",
       "      <td>ee14b8cfd1a84ffd9a7135ca3c5ba7ac</td>\n",
       "      <td>train</td>\n",
       "      <td>../data/21C/21C_228.jpg</td>\n",
       "      <td>../data/147B/147B_491.jpg</td>\n",
       "      <td>../data/61C/61C_274.jpg</td>\n",
       "    </tr>\n",
       "    <tr>\n",
       "      <th>1134</th>\n",
       "      <td>84aeef3b00a9410ea3552ee4f7231e70</td>\n",
       "      <td>47162a24caae4bb8bddde262f0b51ed3</td>\n",
       "      <td>52a0d09c77144e8d82367f0a2e8e7e56</td>\n",
       "      <td>train</td>\n",
       "      <td>../data/161B/161B_285.jpg</td>\n",
       "      <td>../data/112B/112B_218.jpg</td>\n",
       "      <td>../data/106A/106A_350.jpg</td>\n",
       "    </tr>\n",
       "    <tr>\n",
       "      <th>645</th>\n",
       "      <td>4b7e97d3847a4097b651790f6631cdb8</td>\n",
       "      <td>22bdccea9d214520b9844dde658b70b2</td>\n",
       "      <td>9c7162950d594840b6c21fba2d2145b9</td>\n",
       "      <td>train</td>\n",
       "      <td>../data/47A/47A_803.jpg</td>\n",
       "      <td>../data/47A/47A_857.jpg</td>\n",
       "      <td>../data/125B/125B_206.jpg</td>\n",
       "    </tr>\n",
       "    <tr>\n",
       "      <th>1249</th>\n",
       "      <td>9362d35d5c9b41339d289e305a913f1a</td>\n",
       "      <td>7c0da260dbb44199b45f6e97524f78be</td>\n",
       "      <td>233627b31c71433b83f397812b338420</td>\n",
       "      <td>train</td>\n",
       "      <td>../data/102B/102B_454.jpg</td>\n",
       "      <td>../data/121B/121B_577.jpg</td>\n",
       "      <td>../data/WGA/images/s/sadeler/aegidiu2/sebasti1...</td>\n",
       "    </tr>\n",
       "  </tbody>\n",
       "</table>\n",
       "</div>"
      ],
      "text/plain": [
       "                                     A                                 B  \\\n",
       "990   7699bd54fb9a479d887437bb9b67a2f7  d5234e261fd549ba9539377d1e58f7d8   \n",
       "659   4d02860f58f2443ba4d1ef088756f854  cea37d0506e04d45b41f37bf0681ceca   \n",
       "1134  84aeef3b00a9410ea3552ee4f7231e70  47162a24caae4bb8bddde262f0b51ed3   \n",
       "645   4b7e97d3847a4097b651790f6631cdb8  22bdccea9d214520b9844dde658b70b2   \n",
       "1249  9362d35d5c9b41339d289e305a913f1a  7c0da260dbb44199b45f6e97524f78be   \n",
       "\n",
       "                                     C    set  \\\n",
       "990   5e87d1dfceaf4ad48ea732333275e692  train   \n",
       "659   ee14b8cfd1a84ffd9a7135ca3c5ba7ac  train   \n",
       "1134  52a0d09c77144e8d82367f0a2e8e7e56  train   \n",
       "645   9c7162950d594840b6c21fba2d2145b9  train   \n",
       "1249  233627b31c71433b83f397812b338420  train   \n",
       "\n",
       "                                       A_path  \\\n",
       "990   ../data/WGA/images/h/heyden/townhal.jpg   \n",
       "659                   ../data/21C/21C_228.jpg   \n",
       "1134                ../data/161B/161B_285.jpg   \n",
       "645                   ../data/47A/47A_803.jpg   \n",
       "1249                ../data/102B/102B_454.jpg   \n",
       "\n",
       "                                                 B_path  \\\n",
       "990   ../data/WGA/images/b/berckhey/gerrit/damsquax.jpg   \n",
       "659                           ../data/147B/147B_491.jpg   \n",
       "1134                          ../data/112B/112B_218.jpg   \n",
       "645                             ../data/47A/47A_857.jpg   \n",
       "1249                          ../data/121B/121B_577.jpg   \n",
       "\n",
       "                                                 C_path  \n",
       "990   ../data/WGA/images/b/berckhey/gerrit/dam_squa.jpg  \n",
       "659                             ../data/61C/61C_274.jpg  \n",
       "1134                          ../data/106A/106A_350.jpg  \n",
       "645                           ../data/125B/125B_206.jpg  \n",
       "1249  ../data/WGA/images/s/sadeler/aegidiu2/sebasti1...  "
      ]
     },
     "execution_count": 48,
     "metadata": {},
     "output_type": "execute_result"
    }
   ],
   "source": [
    "train_set.sample(5)"
   ]
  },
  {
   "cell_type": "code",
   "execution_count": 49,
   "metadata": {},
   "outputs": [
    {
     "data": {
      "text/plain": [
       "0.75"
      ]
     },
     "execution_count": 49,
     "metadata": {},
     "output_type": "execute_result"
    }
   ],
   "source": [
    "scores_clusters = cluster_accuracy(morpho_graph_clusters)\n",
    "scores_clusters"
   ]
  },
  {
   "cell_type": "code",
   "execution_count": 34,
   "metadata": {},
   "outputs": [],
   "source": [
    "map2pos = get_2d_pos(data_dir, embed_file=embeds_file)\n",
    "with open(data_dir + map_file, 'wb') as outfile:\n",
    "    pickle.dump(map2pos, outfile)"
   ]
  },
  {
   "cell_type": "code",
   "execution_count": 3,
   "metadata": {},
   "outputs": [],
   "source": [
    "# clusterer = hdbscan.HDBSCAN(min_cluster_size=2, gen_min_span_tree=True)\n",
    "# cluster_labels = clusterer.fit_predict(np.vstack(embeds[:,1]))"
   ]
  },
  {
   "cell_type": "code",
   "execution_count": 5,
   "metadata": {},
   "outputs": [],
   "source": [
    "# clusterer.minimum_spanning_tree_.plot(edge_cmap='viridis', \n",
    "#                                       edge_alpha=0.6, \n",
    "#                                       node_size=80, \n",
    "#                                       edge_linewidth=2)"
   ]
  },
  {
   "cell_type": "code",
   "execution_count": 6,
   "metadata": {},
   "outputs": [],
   "source": [
    "# clusterer.single_linkage_tree_.plot(cmap='viridis', colorbar=True)"
   ]
  },
  {
   "cell_type": "code",
   "execution_count": null,
   "metadata": {},
   "outputs": [],
   "source": []
  },
  {
   "cell_type": "code",
   "execution_count": 8,
   "metadata": {},
   "outputs": [
    {
     "data": {
      "text/plain": [
       "<AxesSubplot:ylabel='$\\\\lambda$ value'>"
      ]
     },
     "execution_count": 8,
     "metadata": {},
     "output_type": "execute_result"
    },
    {
     "data": {
      "image/png": "[encoded data removed]",
      "text/plain": [
       "<Figure size 432x288 with 2 Axes>"
      ]
     },
     "metadata": {},
     "output_type": "display_data"
    }
   ],
   "source": [
    "# clusterer.condensed_tree_.plot(select_clusters=True)"
   ]
  },
  {
   "cell_type": "code",
   "execution_count": 9,
   "metadata": {},
   "outputs": [
    {
     "data": {
      "text/plain": [
       "13022"
      ]
     },
     "execution_count": 9,
     "metadata": {},
     "output_type": "execute_result"
    }
   ],
   "source": [
    "# g = clusterer.condensed_tree_.to_networkx()\n",
    "# g.number_of_nodes()\n"
   ]
  },
  {
   "cell_type": "code",
   "execution_count": 10,
   "metadata": {},
   "outputs": [
    {
     "data": {
      "text/html": [
       "<div>\n",
       "<style scoped>\n",
       "    .dataframe tbody tr th:only-of-type {\n",
       "        vertical-align: middle;\n",
       "    }\n",
       "\n",
       "    .dataframe tbody tr th {\n",
       "        vertical-align: top;\n",
       "    }\n",
       "\n",
       "    .dataframe thead th {\n",
       "        text-align: right;\n",
       "    }\n",
       "</style>\n",
       "<table border=\"1\" class=\"dataframe\">\n",
       "  <thead>\n",
       "    <tr style=\"text-align: right;\">\n",
       "      <th></th>\n",
       "      <th>parent</th>\n",
       "      <th>child</th>\n",
       "      <th>lambda_val</th>\n",
       "      <th>child_size</th>\n",
       "    </tr>\n",
       "  </thead>\n",
       "  <tbody>\n",
       "    <tr>\n",
       "      <th>0</th>\n",
       "      <td>11791</td>\n",
       "      <td>5789</td>\n",
       "      <td>1.359745</td>\n",
       "      <td>1</td>\n",
       "    </tr>\n",
       "    <tr>\n",
       "      <th>1</th>\n",
       "      <td>11791</td>\n",
       "      <td>7986</td>\n",
       "      <td>1.433397</td>\n",
       "      <td>1</td>\n",
       "    </tr>\n",
       "    <tr>\n",
       "      <th>2</th>\n",
       "      <td>11791</td>\n",
       "      <td>8699</td>\n",
       "      <td>1.458763</td>\n",
       "      <td>1</td>\n",
       "    </tr>\n",
       "    <tr>\n",
       "      <th>3</th>\n",
       "      <td>11791</td>\n",
       "      <td>613</td>\n",
       "      <td>1.460748</td>\n",
       "      <td>1</td>\n",
       "    </tr>\n",
       "    <tr>\n",
       "      <th>4</th>\n",
       "      <td>11791</td>\n",
       "      <td>5019</td>\n",
       "      <td>1.461480</td>\n",
       "      <td>1</td>\n",
       "    </tr>\n",
       "  </tbody>\n",
       "</table>\n",
       "</div>"
      ],
      "text/plain": [
       "   parent  child  lambda_val  child_size\n",
       "0   11791   5789    1.359745           1\n",
       "1   11791   7986    1.433397           1\n",
       "2   11791   8699    1.458763           1\n",
       "3   11791    613    1.460748           1\n",
       "4   11791   5019    1.461480           1"
      ]
     },
     "execution_count": 10,
     "metadata": {},
     "output_type": "execute_result"
    }
   ],
   "source": [
    "# clusterer.condensed_tree_.to_pandas().head()"
   ]
  },
  {
   "cell_type": "code",
   "execution_count": 12,
   "metadata": {},
   "outputs": [
    {
     "data": {
      "text/html": [
       "<div>\n",
       "<style scoped>\n",
       "    .dataframe tbody tr th:only-of-type {\n",
       "        vertical-align: middle;\n",
       "    }\n",
       "\n",
       "    .dataframe tbody tr th {\n",
       "        vertical-align: top;\n",
       "    }\n",
       "\n",
       "    .dataframe thead th {\n",
       "        text-align: right;\n",
       "    }\n",
       "</style>\n",
       "<table border=\"1\" class=\"dataframe\">\n",
       "  <thead>\n",
       "    <tr style=\"text-align: right;\">\n",
       "      <th></th>\n",
       "      <th>parent</th>\n",
       "      <th>child</th>\n",
       "      <th>lambda_val</th>\n",
       "      <th>child_size</th>\n",
       "    </tr>\n",
       "  </thead>\n",
       "  <tbody>\n",
       "    <tr>\n",
       "      <th>166</th>\n",
       "      <td>11791</td>\n",
       "      <td>11792</td>\n",
       "      <td>1.607527</td>\n",
       "      <td>11623</td>\n",
       "    </tr>\n",
       "    <tr>\n",
       "      <th>167</th>\n",
       "      <td>11791</td>\n",
       "      <td>11793</td>\n",
       "      <td>1.607527</td>\n",
       "      <td>2</td>\n",
       "    </tr>\n",
       "    <tr>\n",
       "      <th>715</th>\n",
       "      <td>11792</td>\n",
       "      <td>11794</td>\n",
       "      <td>1.660716</td>\n",
       "      <td>11074</td>\n",
       "    </tr>\n",
       "    <tr>\n",
       "      <th>716</th>\n",
       "      <td>11792</td>\n",
       "      <td>11795</td>\n",
       "      <td>1.660716</td>\n",
       "      <td>4</td>\n",
       "    </tr>\n",
       "    <tr>\n",
       "      <th>1071</th>\n",
       "      <td>11794</td>\n",
       "      <td>11796</td>\n",
       "      <td>1.677872</td>\n",
       "      <td>10721</td>\n",
       "    </tr>\n",
       "  </tbody>\n",
       "</table>\n",
       "</div>"
      ],
      "text/plain": [
       "      parent  child  lambda_val  child_size\n",
       "166    11791  11792    1.607527       11623\n",
       "167    11791  11793    1.607527           2\n",
       "715    11792  11794    1.660716       11074\n",
       "716    11792  11795    1.660716           4\n",
       "1071   11794  11796    1.677872       10721"
      ]
     },
     "execution_count": 12,
     "metadata": {},
     "output_type": "execute_result"
    }
   ],
   "source": [
    "# tree = clusterer.condensed_tree_.to_pandas()\n",
    "# tree[tree.child_size > 1].head()"
   ]
  },
  {
   "cell_type": "code",
   "execution_count": null,
   "metadata": {},
   "outputs": [],
   "source": []
  }
 ],
 "metadata": {
  "interpreter": {
   "hash": "6bdddb31d2fb89da9078eb0011314936146baaf4f9e5c99982bea0ddf03884f8"
  },
  "kernelspec": {
   "display_name": "Python 3.8.5 ('ada')",
   "language": "python",
   "name": "python3"
  },
  "language_info": {
   "codemirror_mode": {
    "name": "ipython",
    "version": 3
   },
   "file_extension": ".py",
   "mimetype": "text/x-python",
   "name": "python",
   "nbconvert_exporter": "python",
   "pygments_lexer": "ipython3",
   "version": "3.8.5"
  },
  "orig_nbformat": 4
 },
 "nbformat": 4,
 "nbformat_minor": 2
}
