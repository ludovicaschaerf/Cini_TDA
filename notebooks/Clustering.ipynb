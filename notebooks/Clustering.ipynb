{
 "cells": [
  {
   "cell_type": "markdown",
   "metadata": {},
   "source": [
    "# Replica project\n",
    "\n",
    "### Clustering efforts\n",
    "\n"
   ]
  },
  {
   "cell_type": "code",
   "execution_count": 67,
   "metadata": {},
   "outputs": [
    {
     "name": "stdout",
     "output_type": "stream",
     "text": [
      "The autoreload extension is already loaded. To reload it, use:\n",
      "  %reload_ext autoreload\n"
     ]
    }
   ],
   "source": [
    "# loading the metadata\n",
    "%load_ext autoreload\n",
    "%autoreload 2\n",
    "\n",
    "import pandas as pd\n",
    "import numpy as np\n",
    "\n",
    "from scipy import sparse\n",
    "import pickle\n",
    "import sys\n",
    "\n",
    "import seaborn as sns\n",
    "\n",
    "import sklearn\n",
    "\n",
    "%matplotlib inline\n",
    "sns.set_context('poster')\n",
    "sns.set_style('white')\n",
    "sns.set_color_codes()\n",
    "plot_kwds = {'alpha' : 0.5, 's' : 80, 'linewidths':0}\n",
    "\n",
    "\n",
    "sys.path.insert(0, \"../model/\")\n",
    "from utils import *\n",
    "from spatial_reranking import sim_matrix_rerank, make_embds_pooled, match_feature_maps_simple\n",
    "\n",
    "sys.path.insert(0, \"../web_annotation/\")\n",
    "from utils_clusters import *\n",
    "from metrics_clusters import * \n",
    "\n",
    "\n",
    "\n",
    "path = '/home/guhennec/scratch/2021_Cini/TopologicalAnalysis_Cini/data/'\n",
    "data_dir = '/scratch/students/schaerf/'\n",
    "replica_dir = '/mnt/project_replica/datasets/cini/'\n",
    "wga_dir = '/mnt/project_replica/datasets/WGA/'\n",
    "\n",
    "path = '../data/'\n",
    "data_dir = '../data/'\n",
    "replica_dir = '../data/'\n",
    "wga_dir = '../data/'\n"
   ]
  },
  {
   "cell_type": "code",
   "execution_count": 68,
   "metadata": {},
   "outputs": [],
   "source": [
    "type_clustering = 'gaussian_mixture'\n",
    "type_clustering = 'kmeans'\n",
    "dist = 2500\n",
    "data_file = 'original/dedup_data_sample_wga.csv' \n",
    "data_file = 'data_sample_0.csv'\n",
    "embeds_file = '01-05-2022/resnext-101_epoch_901-05-2022_19%3A45%3A03.npy' \n",
    "map_file = '01-05-2022/map2pos.pkl'\n",
    "cluster_file = '01-05-2022/clusters_'+type_clustering+'_'+str(dist)+'_01-05-2022_19.pkl'\n"
   ]
  },
  {
   "cell_type": "code",
   "execution_count": 57,
   "metadata": {},
   "outputs": [
    {
     "data": {
      "text/html": [
       "<div>\n",
       "<style scoped>\n",
       "    .dataframe tbody tr th:only-of-type {\n",
       "        vertical-align: middle;\n",
       "    }\n",
       "\n",
       "    .dataframe tbody tr th {\n",
       "        vertical-align: top;\n",
       "    }\n",
       "\n",
       "    .dataframe thead th {\n",
       "        text-align: right;\n",
       "    }\n",
       "</style>\n",
       "<table border=\"1\" class=\"dataframe\">\n",
       "  <thead>\n",
       "    <tr style=\"text-align: right;\">\n",
       "      <th></th>\n",
       "      <th>img1</th>\n",
       "      <th>img2</th>\n",
       "      <th>type</th>\n",
       "      <th>uid_connection</th>\n",
       "      <th>date</th>\n",
       "      <th>cluster_file</th>\n",
       "      <th>cluster</th>\n",
       "    </tr>\n",
       "  </thead>\n",
       "  <tbody>\n",
       "    <tr>\n",
       "      <th>0</th>\n",
       "      <td>003f7ad028e64a49ad69e9c2401a6c1f</td>\n",
       "      <td>5a78eec9e32944da871a1c71c22d66c8</td>\n",
       "      <td>DIFFERENT</td>\n",
       "      <td>003f7ad028e64a49871a1c71c22d66c8</td>\n",
       "      <td>18-05-2022_13:15:41</td>\n",
       "      <td>01-05-2022/clusters_kmeans_2500_01-05-2022_19</td>\n",
       "      <td>2079</td>\n",
       "    </tr>\n",
       "    <tr>\n",
       "      <th>1</th>\n",
       "      <td>003f7ad028e64a49ad69e9c2401a6c1f</td>\n",
       "      <td>9a91f28d71ba4b3485e7c16d7c578964</td>\n",
       "      <td>SIMILAR</td>\n",
       "      <td>003f7ad028e64a4985e7c16d7c578964</td>\n",
       "      <td>18-05-2022_13:15:41</td>\n",
       "      <td>01-05-2022/clusters_kmeans_2500_01-05-2022_19</td>\n",
       "      <td>2079</td>\n",
       "    </tr>\n",
       "    <tr>\n",
       "      <th>13</th>\n",
       "      <td>0134bf4b8e874f62909cb68626dc6a6f</td>\n",
       "      <td>6e5cb52df477455f8260223b391ee367</td>\n",
       "      <td>DIFFERENT</td>\n",
       "      <td>0134bf4b8e874f628260223b391ee367</td>\n",
       "      <td>17-05-2022_18:10:03</td>\n",
       "      <td>01-05-2022/clusters_kmeans_2000_01-05-2022_19</td>\n",
       "      <td>1540</td>\n",
       "    </tr>\n",
       "    <tr>\n",
       "      <th>14</th>\n",
       "      <td>0134bf4b8e874f62909cb68626dc6a6f</td>\n",
       "      <td>a78911ceb80d4ac981387bfe7c3e9c40</td>\n",
       "      <td>SIMILAR</td>\n",
       "      <td>0134bf4b8e874f6281387bfe7c3e9c40</td>\n",
       "      <td>17-05-2022_18:10:03</td>\n",
       "      <td>01-05-2022/clusters_kmeans_2000_01-05-2022_19</td>\n",
       "      <td>1540</td>\n",
       "    </tr>\n",
       "    <tr>\n",
       "      <th>15</th>\n",
       "      <td>0134bf4b8e874f62909cb68626dc6a6f</td>\n",
       "      <td>af391a7125a24d19996a37f351fc39de</td>\n",
       "      <td>SIMILAR</td>\n",
       "      <td>0134bf4b8e874f62996a37f351fc39de</td>\n",
       "      <td>17-05-2022_18:10:03</td>\n",
       "      <td>01-05-2022/clusters_kmeans_2000_01-05-2022_19</td>\n",
       "      <td>1540</td>\n",
       "    </tr>\n",
       "    <tr>\n",
       "      <th>16</th>\n",
       "      <td>0134bf4b8e874f62909cb68626dc6a6f</td>\n",
       "      <td>d085444ad7994cc0a7a1ebc101466dbc</td>\n",
       "      <td>DIFFERENT</td>\n",
       "      <td>0134bf4b8e874f62a7a1ebc101466dbc</td>\n",
       "      <td>17-05-2022_18:10:03</td>\n",
       "      <td>01-05-2022/clusters_kmeans_2000_01-05-2022_19</td>\n",
       "      <td>1540</td>\n",
       "    </tr>\n",
       "    <tr>\n",
       "      <th>17</th>\n",
       "      <td>03831e0f677d4c43ae34185065b93191</td>\n",
       "      <td>0565da9292cf4988a444168e4553b1a9</td>\n",
       "      <td>SIMILAR</td>\n",
       "      <td>03831e0f677d4c43a444168e4553b1a9</td>\n",
       "      <td>17-05-2022_18:23:34</td>\n",
       "      <td>01-05-2022/clusters_kmeans_2000_01-05-2022_19</td>\n",
       "      <td>1455</td>\n",
       "    </tr>\n",
       "    <tr>\n",
       "      <th>18</th>\n",
       "      <td>03831e0f677d4c43ae34185065b93191</td>\n",
       "      <td>56c696064bc6467f919d01de28f89b75</td>\n",
       "      <td>SIMILAR</td>\n",
       "      <td>03831e0f677d4c43919d01de28f89b75</td>\n",
       "      <td>17-05-2022_18:23:34</td>\n",
       "      <td>01-05-2022/clusters_kmeans_2000_01-05-2022_19</td>\n",
       "      <td>1455</td>\n",
       "    </tr>\n",
       "    <tr>\n",
       "      <th>19</th>\n",
       "      <td>03831e0f677d4c43ae34185065b93191</td>\n",
       "      <td>5b18e18dfb5b49ceb98e0c36b1a8cec5</td>\n",
       "      <td>SIMILAR</td>\n",
       "      <td>03831e0f677d4c43b98e0c36b1a8cec5</td>\n",
       "      <td>17-05-2022_18:23:34</td>\n",
       "      <td>01-05-2022/clusters_kmeans_2000_01-05-2022_19</td>\n",
       "      <td>1455</td>\n",
       "    </tr>\n",
       "    <tr>\n",
       "      <th>20</th>\n",
       "      <td>03831e0f677d4c43ae34185065b93191</td>\n",
       "      <td>683def2a2a19429799a6514bc7bd4156</td>\n",
       "      <td>DIFFERENT</td>\n",
       "      <td>03831e0f677d4c4399a6514bc7bd4156</td>\n",
       "      <td>17-05-2022_18:23:34</td>\n",
       "      <td>01-05-2022/clusters_kmeans_2000_01-05-2022_19</td>\n",
       "      <td>1455</td>\n",
       "    </tr>\n",
       "  </tbody>\n",
       "</table>\n",
       "</div>"
      ],
      "text/plain": [
       "                                img1                              img2  \\\n",
       "0   003f7ad028e64a49ad69e9c2401a6c1f  5a78eec9e32944da871a1c71c22d66c8   \n",
       "1   003f7ad028e64a49ad69e9c2401a6c1f  9a91f28d71ba4b3485e7c16d7c578964   \n",
       "13  0134bf4b8e874f62909cb68626dc6a6f  6e5cb52df477455f8260223b391ee367   \n",
       "14  0134bf4b8e874f62909cb68626dc6a6f  a78911ceb80d4ac981387bfe7c3e9c40   \n",
       "15  0134bf4b8e874f62909cb68626dc6a6f  af391a7125a24d19996a37f351fc39de   \n",
       "16  0134bf4b8e874f62909cb68626dc6a6f  d085444ad7994cc0a7a1ebc101466dbc   \n",
       "17  03831e0f677d4c43ae34185065b93191  0565da9292cf4988a444168e4553b1a9   \n",
       "18  03831e0f677d4c43ae34185065b93191  56c696064bc6467f919d01de28f89b75   \n",
       "19  03831e0f677d4c43ae34185065b93191  5b18e18dfb5b49ceb98e0c36b1a8cec5   \n",
       "20  03831e0f677d4c43ae34185065b93191  683def2a2a19429799a6514bc7bd4156   \n",
       "\n",
       "         type                    uid_connection                 date  \\\n",
       "0   DIFFERENT  003f7ad028e64a49871a1c71c22d66c8  18-05-2022_13:15:41   \n",
       "1     SIMILAR  003f7ad028e64a4985e7c16d7c578964  18-05-2022_13:15:41   \n",
       "13  DIFFERENT  0134bf4b8e874f628260223b391ee367  17-05-2022_18:10:03   \n",
       "14    SIMILAR  0134bf4b8e874f6281387bfe7c3e9c40  17-05-2022_18:10:03   \n",
       "15    SIMILAR  0134bf4b8e874f62996a37f351fc39de  17-05-2022_18:10:03   \n",
       "16  DIFFERENT  0134bf4b8e874f62a7a1ebc101466dbc  17-05-2022_18:10:03   \n",
       "17    SIMILAR  03831e0f677d4c43a444168e4553b1a9  17-05-2022_18:23:34   \n",
       "18    SIMILAR  03831e0f677d4c43919d01de28f89b75  17-05-2022_18:23:34   \n",
       "19    SIMILAR  03831e0f677d4c43b98e0c36b1a8cec5  17-05-2022_18:23:34   \n",
       "20  DIFFERENT  03831e0f677d4c4399a6514bc7bd4156  17-05-2022_18:23:34   \n",
       "\n",
       "                                     cluster_file  cluster  \n",
       "0   01-05-2022/clusters_kmeans_2500_01-05-2022_19     2079  \n",
       "1   01-05-2022/clusters_kmeans_2500_01-05-2022_19     2079  \n",
       "13  01-05-2022/clusters_kmeans_2000_01-05-2022_19     1540  \n",
       "14  01-05-2022/clusters_kmeans_2000_01-05-2022_19     1540  \n",
       "15  01-05-2022/clusters_kmeans_2000_01-05-2022_19     1540  \n",
       "16  01-05-2022/clusters_kmeans_2000_01-05-2022_19     1540  \n",
       "17  01-05-2022/clusters_kmeans_2000_01-05-2022_19     1455  \n",
       "18  01-05-2022/clusters_kmeans_2000_01-05-2022_19     1455  \n",
       "19  01-05-2022/clusters_kmeans_2000_01-05-2022_19     1455  \n",
       "20  01-05-2022/clusters_kmeans_2000_01-05-2022_19     1455  "
      ]
     },
     "execution_count": 57,
     "metadata": {},
     "output_type": "execute_result"
    }
   ],
   "source": [
    "morpho = pd.read_csv(data_dir + 'morphograph_clusters.csv')\n",
    "embeds = np.load(data_dir + embeds_file, allow_pickle=True) \n",
    "\n",
    "morpho[morpho['type'].isin(['SIMILAR', 'DIFFERENT'])].head(10)"
   ]
  },
  {
   "cell_type": "code",
   "execution_count": 58,
   "metadata": {},
   "outputs": [
    {
     "data": {
      "text/plain": [
       "array([[0.17532176]], dtype=float32)"
      ]
     },
     "execution_count": 58,
     "metadata": {},
     "output_type": "execute_result"
    }
   ],
   "source": [
    "img1 = '05f5c4e0325f40019eeb0bb542c1f692'\n",
    "img2 = '14a738ba9b91454a997738105ccf5c9b'\n",
    "img3 = '5a889994248f4f67ad62057ceab2297d'\n",
    "\n",
    "img1 = '03831e0f677d4c43ae34185065b93191'\n",
    "img2 = '5b18e18dfb5b49ceb98e0c36b1a8cec5'\n",
    "img3 = '683def2a2a19429799a6514bc7bd4156'\n",
    "\n",
    "sklearn.metrics.pairwise.cosine_distances(embeds[embeds[:,0] == img1][0][1].reshape(1, -1), embeds[embeds[:,0] == img3][0][1].reshape(1, -1))"
   ]
  },
  {
   "cell_type": "code",
   "execution_count": 105,
   "metadata": {},
   "outputs": [],
   "source": [
    "type_clustering = 'gaussian_mixture'\n",
    "type_clustering = 'kmeans'\n",
    "#type_clustering = 'dbscan'\n",
    "dist = 0.117\n",
    "dist = 2000\n",
    "data_file = 'original/dedup_data_sample_wga.csv' \n",
    "data_file = 'data_sample_0.csv'\n",
    "data_file = 'data_sample.csv'\n",
    "\n",
    "embeds_file = '01-05-2022/resnext-101_epoch_901-05-2022_19%3A45%3A03.npy' \n",
    "map_file = '01-05-2022/map2pos.pkl'\n",
    "cluster_file = '01-05-2022/clusters_'+type_clustering+'_'+str(dist)+'_19-05-2022_19.pkl'\n",
    "\n",
    "embeds_file = '19-05-2022/resnext-101_epoch_419-05-2022_10%3A33%3A39.npy' \n",
    "map_file = '19-05-2022/map2pos.pkl'\n",
    "cluster_file = '19-05-2022/clusters_'+type_clustering+'_'+str(dist)+'_19-05-2022_19.pkl'\n"
   ]
  },
  {
   "cell_type": "code",
   "execution_count": 106,
   "metadata": {},
   "outputs": [
    {
     "name": "stdout",
     "output_type": "stream",
     "text": [
      "(9069, 2)\n",
      "1417    29\n",
      "316     27\n",
      "96      27\n",
      "1       24\n",
      "708     24\n",
      "        ..\n",
      "1488     1\n",
      "1901     1\n",
      "657      1\n",
      "1974     1\n",
      "1741     1\n",
      "Name: cluster, Length: 2000, dtype: int64 2000\n",
      "(9069, 3)\n",
      "(9069, 5)\n"
     ]
    }
   ],
   "source": [
    "clusters = make_clusters_embeddings(data_dir, dist=dist, data_file=data_file, embed_file=embeds_file, type_clustering=type_clustering)"
   ]
  },
  {
   "cell_type": "code",
   "execution_count": 107,
   "metadata": {},
   "outputs": [],
   "source": [
    "with open(data_dir + cluster_file, 'wb') as outfile:\n",
    "    pickle.dump(clusters, outfile)"
   ]
  },
  {
   "cell_type": "code",
   "execution_count": 108,
   "metadata": {},
   "outputs": [
    {
     "name": "stdout",
     "output_type": "stream",
     "text": [
      "(41313, 20)\n",
      "(41313, 22)\n"
     ]
    },
    {
     "data": {
      "text/plain": [
       "{'original size': 1877,\n",
       " 'newly added': 100,\n",
       " 'additions to existing clusters': 33,\n",
       " 'number of clusters with new elements': 25,\n",
       " 'new clusters': 35,\n",
       " 'new clusters elements': 67,\n",
       " 'progress': '5.33%'}"
      ]
     },
     "execution_count": 108,
     "metadata": {},
     "output_type": "execute_result"
    }
   ],
   "source": [
    "positives = update_morph(data_dir)\n",
    "novelty_scores = novelty_score(positives, 'clusters')\n",
    "novelty_scores"
   ]
  },
  {
   "cell_type": "code",
   "execution_count": 109,
   "metadata": {},
   "outputs": [
    {
     "data": {
      "text/plain": [
       "0.54"
      ]
     },
     "execution_count": 109,
     "metadata": {},
     "output_type": "execute_result"
    }
   ],
   "source": [
    "morpho_graph_clusters = pd.read_csv(data_dir + 'morphograph_clusters.csv')\n",
    "scores_clusters = cluster_accuracy(morpho_graph_clusters)\n",
    "scores_clusters"
   ]
  },
  {
   "cell_type": "code",
   "execution_count": 104,
   "metadata": {},
   "outputs": [],
   "source": [
    "map2pos = get_2d_pos(data_dir, embed_file=embeds_file)\n",
    "with open(data_dir + map_file, 'wb') as outfile:\n",
    "    pickle.dump(map2pos, outfile)"
   ]
  },
  {
   "cell_type": "code",
   "execution_count": 3,
   "metadata": {},
   "outputs": [],
   "source": [
    "# clusterer = hdbscan.HDBSCAN(min_cluster_size=2, gen_min_span_tree=True)\n",
    "# cluster_labels = clusterer.fit_predict(np.vstack(embeds[:,1]))"
   ]
  },
  {
   "cell_type": "code",
   "execution_count": 5,
   "metadata": {},
   "outputs": [],
   "source": [
    "# clusterer.minimum_spanning_tree_.plot(edge_cmap='viridis', \n",
    "#                                       edge_alpha=0.6, \n",
    "#                                       node_size=80, \n",
    "#                                       edge_linewidth=2)"
   ]
  },
  {
   "cell_type": "code",
   "execution_count": 6,
   "metadata": {},
   "outputs": [],
   "source": [
    "# clusterer.single_linkage_tree_.plot(cmap='viridis', colorbar=True)"
   ]
  },
  {
   "cell_type": "code",
   "execution_count": null,
   "metadata": {},
   "outputs": [],
   "source": []
  },
  {
   "cell_type": "code",
   "execution_count": 8,
   "metadata": {},
   "outputs": [
    {
     "data": {
      "text/plain": [
       "<AxesSubplot:ylabel='$\\\\lambda$ value'>"
      ]
     },
     "execution_count": 8,
     "metadata": {},
     "output_type": "execute_result"
    },
    {
     "data": {
      "image/png": "[encoded data removed]",
      "text/plain": [
       "<Figure size 432x288 with 2 Axes>"
      ]
     },
     "metadata": {},
     "output_type": "display_data"
    }
   ],
   "source": [
    "# clusterer.condensed_tree_.plot(select_clusters=True)"
   ]
  },
  {
   "cell_type": "code",
   "execution_count": 9,
   "metadata": {},
   "outputs": [
    {
     "data": {
      "text/plain": [
       "13022"
      ]
     },
     "execution_count": 9,
     "metadata": {},
     "output_type": "execute_result"
    }
   ],
   "source": [
    "# g = clusterer.condensed_tree_.to_networkx()\n",
    "# g.number_of_nodes()\n"
   ]
  },
  {
   "cell_type": "code",
   "execution_count": 10,
   "metadata": {},
   "outputs": [
    {
     "data": {
      "text/html": [
       "<div>\n",
       "<style scoped>\n",
       "    .dataframe tbody tr th:only-of-type {\n",
       "        vertical-align: middle;\n",
       "    }\n",
       "\n",
       "    .dataframe tbody tr th {\n",
       "        vertical-align: top;\n",
       "    }\n",
       "\n",
       "    .dataframe thead th {\n",
       "        text-align: right;\n",
       "    }\n",
       "</style>\n",
       "<table border=\"1\" class=\"dataframe\">\n",
       "  <thead>\n",
       "    <tr style=\"text-align: right;\">\n",
       "      <th></th>\n",
       "      <th>parent</th>\n",
       "      <th>child</th>\n",
       "      <th>lambda_val</th>\n",
       "      <th>child_size</th>\n",
       "    </tr>\n",
       "  </thead>\n",
       "  <tbody>\n",
       "    <tr>\n",
       "      <th>0</th>\n",
       "      <td>11791</td>\n",
       "      <td>5789</td>\n",
       "      <td>1.359745</td>\n",
       "      <td>1</td>\n",
       "    </tr>\n",
       "    <tr>\n",
       "      <th>1</th>\n",
       "      <td>11791</td>\n",
       "      <td>7986</td>\n",
       "      <td>1.433397</td>\n",
       "      <td>1</td>\n",
       "    </tr>\n",
       "    <tr>\n",
       "      <th>2</th>\n",
       "      <td>11791</td>\n",
       "      <td>8699</td>\n",
       "      <td>1.458763</td>\n",
       "      <td>1</td>\n",
       "    </tr>\n",
       "    <tr>\n",
       "      <th>3</th>\n",
       "      <td>11791</td>\n",
       "      <td>613</td>\n",
       "      <td>1.460748</td>\n",
       "      <td>1</td>\n",
       "    </tr>\n",
       "    <tr>\n",
       "      <th>4</th>\n",
       "      <td>11791</td>\n",
       "      <td>5019</td>\n",
       "      <td>1.461480</td>\n",
       "      <td>1</td>\n",
       "    </tr>\n",
       "  </tbody>\n",
       "</table>\n",
       "</div>"
      ],
      "text/plain": [
       "   parent  child  lambda_val  child_size\n",
       "0   11791   5789    1.359745           1\n",
       "1   11791   7986    1.433397           1\n",
       "2   11791   8699    1.458763           1\n",
       "3   11791    613    1.460748           1\n",
       "4   11791   5019    1.461480           1"
      ]
     },
     "execution_count": 10,
     "metadata": {},
     "output_type": "execute_result"
    }
   ],
   "source": [
    "# clusterer.condensed_tree_.to_pandas().head()"
   ]
  },
  {
   "cell_type": "code",
   "execution_count": 12,
   "metadata": {},
   "outputs": [
    {
     "data": {
      "text/html": [
       "<div>\n",
       "<style scoped>\n",
       "    .dataframe tbody tr th:only-of-type {\n",
       "        vertical-align: middle;\n",
       "    }\n",
       "\n",
       "    .dataframe tbody tr th {\n",
       "        vertical-align: top;\n",
       "    }\n",
       "\n",
       "    .dataframe thead th {\n",
       "        text-align: right;\n",
       "    }\n",
       "</style>\n",
       "<table border=\"1\" class=\"dataframe\">\n",
       "  <thead>\n",
       "    <tr style=\"text-align: right;\">\n",
       "      <th></th>\n",
       "      <th>parent</th>\n",
       "      <th>child</th>\n",
       "      <th>lambda_val</th>\n",
       "      <th>child_size</th>\n",
       "    </tr>\n",
       "  </thead>\n",
       "  <tbody>\n",
       "    <tr>\n",
       "      <th>166</th>\n",
       "      <td>11791</td>\n",
       "      <td>11792</td>\n",
       "      <td>1.607527</td>\n",
       "      <td>11623</td>\n",
       "    </tr>\n",
       "    <tr>\n",
       "      <th>167</th>\n",
       "      <td>11791</td>\n",
       "      <td>11793</td>\n",
       "      <td>1.607527</td>\n",
       "      <td>2</td>\n",
       "    </tr>\n",
       "    <tr>\n",
       "      <th>715</th>\n",
       "      <td>11792</td>\n",
       "      <td>11794</td>\n",
       "      <td>1.660716</td>\n",
       "      <td>11074</td>\n",
       "    </tr>\n",
       "    <tr>\n",
       "      <th>716</th>\n",
       "      <td>11792</td>\n",
       "      <td>11795</td>\n",
       "      <td>1.660716</td>\n",
       "      <td>4</td>\n",
       "    </tr>\n",
       "    <tr>\n",
       "      <th>1071</th>\n",
       "      <td>11794</td>\n",
       "      <td>11796</td>\n",
       "      <td>1.677872</td>\n",
       "      <td>10721</td>\n",
       "    </tr>\n",
       "  </tbody>\n",
       "</table>\n",
       "</div>"
      ],
      "text/plain": [
       "      parent  child  lambda_val  child_size\n",
       "166    11791  11792    1.607527       11623\n",
       "167    11791  11793    1.607527           2\n",
       "715    11792  11794    1.660716       11074\n",
       "716    11792  11795    1.660716           4\n",
       "1071   11794  11796    1.677872       10721"
      ]
     },
     "execution_count": 12,
     "metadata": {},
     "output_type": "execute_result"
    }
   ],
   "source": [
    "# tree = clusterer.condensed_tree_.to_pandas()\n",
    "# tree[tree.child_size > 1].head()"
   ]
  },
  {
   "cell_type": "code",
   "execution_count": null,
   "metadata": {},
   "outputs": [],
   "source": []
  }
 ],
 "metadata": {
  "interpreter": {
   "hash": "6bdddb31d2fb89da9078eb0011314936146baaf4f9e5c99982bea0ddf03884f8"
  },
  "kernelspec": {
   "display_name": "Python 3.8.5 ('ada')",
   "language": "python",
   "name": "python3"
  },
  "language_info": {
   "codemirror_mode": {
    "name": "ipython",
    "version": 3
   },
   "file_extension": ".py",
   "mimetype": "text/x-python",
   "name": "python",
   "nbconvert_exporter": "python",
   "pygments_lexer": "ipython3",
   "version": "3.8.5"
  },
  "orig_nbformat": 4
 },
 "nbformat": 4,
 "nbformat_minor": 2
}
