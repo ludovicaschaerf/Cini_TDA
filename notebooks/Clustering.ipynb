{
 "cells": [
  {
   "cell_type": "markdown",
   "metadata": {},
   "source": [
    "# Replica project\n",
    "\n",
    "### Clustering efforts\n",
    "\n"
   ]
  },
  {
   "cell_type": "code",
   "execution_count": 16,
   "metadata": {},
   "outputs": [
    {
     "name": "stdout",
     "output_type": "stream",
     "text": [
      "The autoreload extension is already loaded. To reload it, use:\n",
      "  %reload_ext autoreload\n"
     ]
    }
   ],
   "source": [
    "# loading the metadata\n",
    "%load_ext autoreload\n",
    "%autoreload 2\n",
    "\n",
    "import pandas as pd\n",
    "import numpy as np\n",
    "import pickle\n",
    "import sys\n",
    "import sklearn\n",
    "\n",
    "\n",
    "sys.path.insert(0, \"../model/\")\n",
    "from utils import *\n",
    "\n",
    "sys.path.insert(0, \"../web_annotation/\")\n",
    "from utils_clusters import *\n",
    "from metrics_clusters import * \n",
    "\n",
    "\n",
    "data_dir = '/scratch/students/schaerf/'\n",
    "data_dir = '../data/'"
   ]
  },
  {
   "cell_type": "code",
   "execution_count": 2,
   "metadata": {},
   "outputs": [],
   "source": [
    "type_clustering = 'mix'\n",
    "subfolder_dir = '25-05-2022'\n",
    "dist = 2000\n",
    "dist2 = 0.12\n",
    "\n",
    "data_file = 'data_sample.csv'\n",
    "\n",
    "embeds_file = subfolder_dir + '/resnext-101_'+subfolder_dir+'.npy'\n",
    "map_file = subfolder_dir + '/map2pos.pkl'\n",
    "cluster_file = subfolder_dir + '/clusters_'+type_clustering+'_'+str(dist)+'_'+subfolder_dir+'_19.pkl'"
   ]
  },
  {
   "cell_type": "code",
   "execution_count": 3,
   "metadata": {},
   "outputs": [
    {
     "data": {
      "text/html": [
       "<div>\n",
       "<style scoped>\n",
       "    .dataframe tbody tr th:only-of-type {\n",
       "        vertical-align: middle;\n",
       "    }\n",
       "\n",
       "    .dataframe tbody tr th {\n",
       "        vertical-align: top;\n",
       "    }\n",
       "\n",
       "    .dataframe thead th {\n",
       "        text-align: right;\n",
       "    }\n",
       "</style>\n",
       "<table border=\"1\" class=\"dataframe\">\n",
       "  <thead>\n",
       "    <tr style=\"text-align: right;\">\n",
       "      <th></th>\n",
       "      <th>img1</th>\n",
       "      <th>img2</th>\n",
       "      <th>type</th>\n",
       "      <th>uid_connection</th>\n",
       "      <th>date</th>\n",
       "      <th>cluster_file</th>\n",
       "      <th>cluster</th>\n",
       "    </tr>\n",
       "  </thead>\n",
       "  <tbody>\n",
       "    <tr>\n",
       "      <th>3169</th>\n",
       "      <td>ff57569da2134eec861c70f4ac081db9</td>\n",
       "      <td>3a0213bf8ec54fea8deb92d1fa9543f8</td>\n",
       "      <td>NEGATIVE</td>\n",
       "      <td>ff57569da2134eec8deb92d1fa9543f8</td>\n",
       "      <td>26-05-2022_13:01:33</td>\n",
       "      <td>25-05-2022/clusters_mix_2000_25-05-2022_19</td>\n",
       "      <td>257</td>\n",
       "    </tr>\n",
       "  </tbody>\n",
       "</table>\n",
       "</div>"
      ],
      "text/plain": [
       "                                  img1                              img2  \\\n",
       "3169  ff57569da2134eec861c70f4ac081db9  3a0213bf8ec54fea8deb92d1fa9543f8   \n",
       "\n",
       "          type                    uid_connection                 date  \\\n",
       "3169  NEGATIVE  ff57569da2134eec8deb92d1fa9543f8  26-05-2022_13:01:33   \n",
       "\n",
       "                                    cluster_file  cluster  \n",
       "3169  25-05-2022/clusters_mix_2000_25-05-2022_19      257  "
      ]
     },
     "execution_count": 3,
     "metadata": {},
     "output_type": "execute_result"
    }
   ],
   "source": [
    "morpho = pd.read_csv(data_dir + 'morphograph_clusters.csv')\n",
    "embeds = np.load(data_dir + embeds_file, allow_pickle=True) \n",
    "\n",
    "morpho[morpho['type'].isin(['POSITIVE', 'NEGATIVE'])].tail(1)"
   ]
  },
  {
   "cell_type": "code",
   "execution_count": 4,
   "metadata": {},
   "outputs": [
    {
     "data": {
      "text/plain": [
       "(array([[0.08652782]], dtype=float32), array([[0.09683412]], dtype=float32))"
      ]
     },
     "execution_count": 4,
     "metadata": {},
     "output_type": "execute_result"
    }
   ],
   "source": [
    "img1 = '05f5c4e0325f40019eeb0bb542c1f692'\n",
    "img2 = '14a738ba9b91454a997738105ccf5c9b'\n",
    "img3 = '5a889994248f4f67ad62057ceab2297d'\n",
    "\n",
    "img0 = '279e34aca7474483a424b5c154719d51'\n",
    "img2 = '359c34d1017e46be9f17a3b6a8a4dfb9'\n",
    "\n",
    "# img1 = '03831e0f677d4c43ae34185065b93191'\n",
    "# img2 = '5b18e18dfb5b49ceb98e0c36b1a8cec5'\n",
    "# img3 = '683def2a2a19429799a6514bc7bd4156'\n",
    "\n",
    "sklearn.metrics.pairwise.cosine_distances(embeds[embeds[:,0] == img0][0][1].reshape(1, -1), embeds[embeds[:,0] == img2][0][1].reshape(1, -1)), sklearn.metrics.pairwise.cosine_distances(embeds[embeds[:,0] == img1][0][1].reshape(1, -1), embeds[embeds[:,0] == img3][0][1].reshape(1, -1))"
   ]
  },
  {
   "cell_type": "code",
   "execution_count": null,
   "metadata": {},
   "outputs": [],
   "source": [
    "clusters = make_clusters_embeddings(data_dir, dist=dist, data_file=data_file, embed_file=embeds_file, type_clustering=type_clustering, dist2=dist2)"
   ]
  },
  {
   "cell_type": "code",
   "execution_count": 37,
   "metadata": {},
   "outputs": [],
   "source": [
    "with open(data_dir + cluster_file, 'wb') as outfile:\n",
    "    pickle.dump(clusters, outfile)"
   ]
  },
  {
   "cell_type": "code",
   "execution_count": null,
   "metadata": {},
   "outputs": [],
   "source": [
    "map2pos = get_2d_pos(data_dir, embed_file=embeds_file)\n",
    "with open(data_dir + map_file, 'wb') as outfile:\n",
    "    pickle.dump(map2pos, outfile)"
   ]
  },
  {
   "cell_type": "code",
   "execution_count": 11,
   "metadata": {},
   "outputs": [
    {
     "name": "stdout",
     "output_type": "stream",
     "text": [
      "(39983, 20)\n",
      "(39983, 22)\n",
      "(6517, 6)\n"
     ]
    },
    {
     "data": {
      "text/plain": [
       "{'original size': 4966,\n",
       " 'newly added': 224,\n",
       " 'additions to existing clusters': 136,\n",
       " 'number of clusters with new elements': 46,\n",
       " 'new clusters': 36,\n",
       " 'new clusters elements': 88,\n",
       " 'progress': '4.51%'}"
      ]
     },
     "execution_count": 11,
     "metadata": {},
     "output_type": "execute_result"
    }
   ],
   "source": [
    "positives = update_morph(data_dir, subfolder_dir)\n",
    "novelty_scores = novelty_score(positives, subfolder_dir)\n",
    "novelty_scores"
   ]
  },
  {
   "cell_type": "code",
   "execution_count": 12,
   "metadata": {},
   "outputs": [],
   "source": [
    "metadata = pd.read_csv(data_dir + 'data_sample.csv')"
   ]
  },
  {
   "cell_type": "code",
   "execution_count": 13,
   "metadata": {},
   "outputs": [
    {
     "name": "stdout",
     "output_type": "stream",
     "text": [
      "(12811, 26)\n"
     ]
    }
   ],
   "source": [
    "data = pd.concat([metadata, positives], axis=0).reset_index().groupby(['uid', 'uid_connection']).last().reset_index()\n",
    "print(data.shape)"
   ]
  },
  {
   "cell_type": "code",
   "execution_count": 14,
   "metadata": {},
   "outputs": [],
   "source": [
    "data.to_csv(data_dir + 'data_retrain_1.csv', index=False)"
   ]
  },
  {
   "cell_type": "code",
   "execution_count": 9,
   "metadata": {},
   "outputs": [],
   "source": [
    "metadata = metadata.drop(columns=['img1', 'img2', 'type', 'annotated', 'index', 'cluster', 'set', 'uid_connection'])\n",
    "embeddings = np.load(data_dir + embeds_file, allow_pickle=True) \n",
    "morpho_graph_clusters = pd.read_csv(data_dir + 'morphograph_clusters.csv')\n",
    "morpho_graph_clusters = morpho_graph_clusters[morpho_graph_clusters['cluster_file'].str.contains(subfolder_dir)]\n",
    "\n",
    "\n",
    "with open(data_dir + 'uid2path.pkl', 'rb') as infile:\n",
    "    uid2path = pickle.load(infile)"
   ]
  },
  {
   "cell_type": "code",
   "execution_count": 20,
   "metadata": {},
   "outputs": [
    {
     "data": {
      "text/plain": [
       "Index(['uid_connection', 'index', 'uid', 'AuthorOriginal', 'Description',\n",
       "       'AuthorBirth', 'path', 'BeginDate', 'ImageURL', 'City', 'Country',\n",
       "       'AuthorBirthCity', 'AuthorDeathCity', 'Drawer', 'Type', 'img1', 'img2',\n",
       "       'type', 'annotated', 'cluster_file', 'cluster', 'set', 'new_cluster',\n",
       "       'new set', 'old_cluster', 'C'],\n",
       "      dtype='object')"
      ]
     },
     "execution_count": 20,
     "metadata": {},
     "output_type": "execute_result"
    }
   ],
   "source": [
    "positives.columns"
   ]
  },
  {
   "cell_type": "code",
   "execution_count": 21,
   "metadata": {},
   "outputs": [
    {
     "name": "stdout",
     "output_type": "stream",
     "text": [
      "(3174, 7)\n"
     ]
    },
    {
     "name": "stderr",
     "output_type": "stream",
     "text": [
      "100%|██████████| 5190/5190 [05:01<00:00, 17.22it/s]\n"
     ]
    },
    {
     "name": "stdout",
     "output_type": "stream",
     "text": [
      "(11178, 7)\n",
      "(4966, 7)\n",
      "                                     A                                 B  \\\n",
      "5185  a7d5691e942b4f439f4fbe15679a95a8  111f79c1ec1f4bfeb70b209d98204b4d   \n",
      "5185  a7d5691e942b4f439f4fbe15679a95a8  111f79c1ec1f4bfeb70b209d98204b4d   \n",
      "5186  1a4ecebdd379406bb7c686121022caf5  7cafbc0aa8bf4311b87967339b46aa99   \n",
      "5189  879d9e32714748b29ba97eb712ca2dfb  0c59e402e28e44848d0592dba5204d63   \n",
      "5189  879d9e32714748b29ba97eb712ca2dfb  0c59e402e28e44848d0592dba5204d63   \n",
      "\n",
      "                                     C    set  \\\n",
      "5185  c97fd0b8be4648a186d07469f330c6a0  train   \n",
      "5185  41adde25779c412e8edcbd8caa987293  train   \n",
      "5186  96f1701981d84f30ad0ddc3bd758a3ce    val   \n",
      "5189  9be205855c7944918e96a93fa405e603    val   \n",
      "5189  8ef7657c35d44938870e30a4e46a96a4    val   \n",
      "\n",
      "                                                 A_path  \\\n",
      "5185  /mnt/project_replica/datasets/cini/53C/53C_256...   \n",
      "5185  /mnt/project_replica/datasets/cini/53C/53C_256...   \n",
      "5186  /mnt/project_replica/datasets/cini/58A/58A_475...   \n",
      "5189  /mnt/project_replica/datasets/cini/57A/57A_795...   \n",
      "5189  /mnt/project_replica/datasets/cini/57A/57A_795...   \n",
      "\n",
      "                                                 B_path  \\\n",
      "5185  /mnt/project_replica/datasets/cini/47A/47A_824...   \n",
      "5185  /mnt/project_replica/datasets/cini/47A/47A_824...   \n",
      "5186  /mnt/project_replica/datasets/cini/58A/58A_30.jpg   \n",
      "5189  /mnt/project_replica/datasets/cini/122A/122A_4...   \n",
      "5189  /mnt/project_replica/datasets/cini/122A/122A_4...   \n",
      "\n",
      "                                                 C_path  \n",
      "5185  /mnt/project_replica/datasets/cini/115A/115A_7...  \n",
      "5185  /mnt/project_replica/datasets/cini/31A/31A_643...  \n",
      "5186  /mnt/project_replica/datasets/cini/58A/58A_555...  \n",
      "5189  /mnt/project_replica/datasets/cini/46B/46B_243...  \n",
      "5189  /mnt/project_replica/datasets/cini/48A/48A_123...  \n"
     ]
    },
    {
     "data": {
      "text/html": [
       "<div>\n",
       "<style scoped>\n",
       "    .dataframe tbody tr th:only-of-type {\n",
       "        vertical-align: middle;\n",
       "    }\n",
       "\n",
       "    .dataframe tbody tr th {\n",
       "        vertical-align: top;\n",
       "    }\n",
       "\n",
       "    .dataframe thead th {\n",
       "        text-align: right;\n",
       "    }\n",
       "</style>\n",
       "<table border=\"1\" class=\"dataframe\">\n",
       "  <thead>\n",
       "    <tr style=\"text-align: right;\">\n",
       "      <th></th>\n",
       "      <th>A</th>\n",
       "      <th>B</th>\n",
       "      <th>C</th>\n",
       "      <th>set</th>\n",
       "      <th>A_path</th>\n",
       "      <th>B_path</th>\n",
       "      <th>C_path</th>\n",
       "    </tr>\n",
       "  </thead>\n",
       "  <tbody>\n",
       "    <tr>\n",
       "      <th>2</th>\n",
       "      <td>ae828b07e4284d80b652206ffb77278a</td>\n",
       "      <td>ea64207684694d379579998f88b7c29a</td>\n",
       "      <td>29bec596297940aeb911cb399ede86ee</td>\n",
       "      <td>test</td>\n",
       "      <td>/mnt/project_replica/datasets/cini/158C/158C_1...</td>\n",
       "      <td>/mnt/project_replica/datasets/cini/44B/44B_109...</td>\n",
       "      <td>/mnt/project_replica/datasets/cini/137B/137B_2...</td>\n",
       "    </tr>\n",
       "    <tr>\n",
       "      <th>3</th>\n",
       "      <td>76b2c4aeab404bc79768117e3ddc62b1</td>\n",
       "      <td>b8dd2c0c2c7146e68e5bbb0aaf6cf803</td>\n",
       "      <td>65ef07edfc9b48b49e701d169358cbd1</td>\n",
       "      <td>val</td>\n",
       "      <td>/mnt/project_replica/datasets/cini/47A/47A_858...</td>\n",
       "      <td>/mnt/project_replica/datasets/cini/61C/61C_348...</td>\n",
       "      <td>/mnt/project_replica/datasets/cini/97B/97B_341...</td>\n",
       "    </tr>\n",
       "    <tr>\n",
       "      <th>8</th>\n",
       "      <td>58908f6a22dd4e9cace587fb7b4ba56a</td>\n",
       "      <td>5d8f20bce78042758a75931c70aaa615</td>\n",
       "      <td>1f436fa96c154841aa0db425cbec2dad</td>\n",
       "      <td>val</td>\n",
       "      <td>/mnt/project_replica/datasets/WGA/images/c/cou...</td>\n",
       "      <td>/mnt/project_replica/datasets/WGA/images/g/gio...</td>\n",
       "      <td>/mnt/project_replica/datasets/WGA/images/c/cra...</td>\n",
       "    </tr>\n",
       "    <tr>\n",
       "      <th>9</th>\n",
       "      <td>406a36c78eb24b289871c117e61cdafb</td>\n",
       "      <td>3b929f6ff1ef4c5d9c5bf4b2251591c8</td>\n",
       "      <td>3ee4fc34fcd04f10aa635e8b3fbb9557</td>\n",
       "      <td>val</td>\n",
       "      <td>/mnt/project_replica/datasets/WGA/images/c/can...</td>\n",
       "      <td>/mnt/project_replica/datasets/WGA/images/c/can...</td>\n",
       "      <td>/mnt/project_replica/datasets/WGA/images/c/can...</td>\n",
       "    </tr>\n",
       "    <tr>\n",
       "      <th>9</th>\n",
       "      <td>406a36c78eb24b289871c117e61cdafb</td>\n",
       "      <td>3b929f6ff1ef4c5d9c5bf4b2251591c8</td>\n",
       "      <td>eff9aed3780b4fc28b35c35d30f9a5f7</td>\n",
       "      <td>val</td>\n",
       "      <td>/mnt/project_replica/datasets/WGA/images/c/can...</td>\n",
       "      <td>/mnt/project_replica/datasets/WGA/images/c/can...</td>\n",
       "      <td>/mnt/project_replica/datasets/WGA/images/c/can...</td>\n",
       "    </tr>\n",
       "    <tr>\n",
       "      <th>...</th>\n",
       "      <td>...</td>\n",
       "      <td>...</td>\n",
       "      <td>...</td>\n",
       "      <td>...</td>\n",
       "      <td>...</td>\n",
       "      <td>...</td>\n",
       "      <td>...</td>\n",
       "    </tr>\n",
       "    <tr>\n",
       "      <th>5185</th>\n",
       "      <td>a7d5691e942b4f439f4fbe15679a95a8</td>\n",
       "      <td>111f79c1ec1f4bfeb70b209d98204b4d</td>\n",
       "      <td>c97fd0b8be4648a186d07469f330c6a0</td>\n",
       "      <td>train</td>\n",
       "      <td>/mnt/project_replica/datasets/cini/53C/53C_256...</td>\n",
       "      <td>/mnt/project_replica/datasets/cini/47A/47A_824...</td>\n",
       "      <td>/mnt/project_replica/datasets/cini/115A/115A_7...</td>\n",
       "    </tr>\n",
       "    <tr>\n",
       "      <th>5185</th>\n",
       "      <td>a7d5691e942b4f439f4fbe15679a95a8</td>\n",
       "      <td>111f79c1ec1f4bfeb70b209d98204b4d</td>\n",
       "      <td>41adde25779c412e8edcbd8caa987293</td>\n",
       "      <td>train</td>\n",
       "      <td>/mnt/project_replica/datasets/cini/53C/53C_256...</td>\n",
       "      <td>/mnt/project_replica/datasets/cini/47A/47A_824...</td>\n",
       "      <td>/mnt/project_replica/datasets/cini/31A/31A_643...</td>\n",
       "    </tr>\n",
       "    <tr>\n",
       "      <th>5186</th>\n",
       "      <td>1a4ecebdd379406bb7c686121022caf5</td>\n",
       "      <td>7cafbc0aa8bf4311b87967339b46aa99</td>\n",
       "      <td>96f1701981d84f30ad0ddc3bd758a3ce</td>\n",
       "      <td>val</td>\n",
       "      <td>/mnt/project_replica/datasets/cini/58A/58A_475...</td>\n",
       "      <td>/mnt/project_replica/datasets/cini/58A/58A_30.jpg</td>\n",
       "      <td>/mnt/project_replica/datasets/cini/58A/58A_555...</td>\n",
       "    </tr>\n",
       "    <tr>\n",
       "      <th>5189</th>\n",
       "      <td>879d9e32714748b29ba97eb712ca2dfb</td>\n",
       "      <td>0c59e402e28e44848d0592dba5204d63</td>\n",
       "      <td>9be205855c7944918e96a93fa405e603</td>\n",
       "      <td>val</td>\n",
       "      <td>/mnt/project_replica/datasets/cini/57A/57A_795...</td>\n",
       "      <td>/mnt/project_replica/datasets/cini/122A/122A_4...</td>\n",
       "      <td>/mnt/project_replica/datasets/cini/46B/46B_243...</td>\n",
       "    </tr>\n",
       "    <tr>\n",
       "      <th>5189</th>\n",
       "      <td>879d9e32714748b29ba97eb712ca2dfb</td>\n",
       "      <td>0c59e402e28e44848d0592dba5204d63</td>\n",
       "      <td>8ef7657c35d44938870e30a4e46a96a4</td>\n",
       "      <td>val</td>\n",
       "      <td>/mnt/project_replica/datasets/cini/57A/57A_795...</td>\n",
       "      <td>/mnt/project_replica/datasets/cini/122A/122A_4...</td>\n",
       "      <td>/mnt/project_replica/datasets/cini/48A/48A_123...</td>\n",
       "    </tr>\n",
       "  </tbody>\n",
       "</table>\n",
       "<p>4966 rows × 7 columns</p>\n",
       "</div>"
      ],
      "text/plain": [
       "                                     A                                 B  \\\n",
       "2     ae828b07e4284d80b652206ffb77278a  ea64207684694d379579998f88b7c29a   \n",
       "3     76b2c4aeab404bc79768117e3ddc62b1  b8dd2c0c2c7146e68e5bbb0aaf6cf803   \n",
       "8     58908f6a22dd4e9cace587fb7b4ba56a  5d8f20bce78042758a75931c70aaa615   \n",
       "9     406a36c78eb24b289871c117e61cdafb  3b929f6ff1ef4c5d9c5bf4b2251591c8   \n",
       "9     406a36c78eb24b289871c117e61cdafb  3b929f6ff1ef4c5d9c5bf4b2251591c8   \n",
       "...                                ...                               ...   \n",
       "5185  a7d5691e942b4f439f4fbe15679a95a8  111f79c1ec1f4bfeb70b209d98204b4d   \n",
       "5185  a7d5691e942b4f439f4fbe15679a95a8  111f79c1ec1f4bfeb70b209d98204b4d   \n",
       "5186  1a4ecebdd379406bb7c686121022caf5  7cafbc0aa8bf4311b87967339b46aa99   \n",
       "5189  879d9e32714748b29ba97eb712ca2dfb  0c59e402e28e44848d0592dba5204d63   \n",
       "5189  879d9e32714748b29ba97eb712ca2dfb  0c59e402e28e44848d0592dba5204d63   \n",
       "\n",
       "                                     C    set  \\\n",
       "2     29bec596297940aeb911cb399ede86ee   test   \n",
       "3     65ef07edfc9b48b49e701d169358cbd1    val   \n",
       "8     1f436fa96c154841aa0db425cbec2dad    val   \n",
       "9     3ee4fc34fcd04f10aa635e8b3fbb9557    val   \n",
       "9     eff9aed3780b4fc28b35c35d30f9a5f7    val   \n",
       "...                                ...    ...   \n",
       "5185  c97fd0b8be4648a186d07469f330c6a0  train   \n",
       "5185  41adde25779c412e8edcbd8caa987293  train   \n",
       "5186  96f1701981d84f30ad0ddc3bd758a3ce    val   \n",
       "5189  9be205855c7944918e96a93fa405e603    val   \n",
       "5189  8ef7657c35d44938870e30a4e46a96a4    val   \n",
       "\n",
       "                                                 A_path  \\\n",
       "2     /mnt/project_replica/datasets/cini/158C/158C_1...   \n",
       "3     /mnt/project_replica/datasets/cini/47A/47A_858...   \n",
       "8     /mnt/project_replica/datasets/WGA/images/c/cou...   \n",
       "9     /mnt/project_replica/datasets/WGA/images/c/can...   \n",
       "9     /mnt/project_replica/datasets/WGA/images/c/can...   \n",
       "...                                                 ...   \n",
       "5185  /mnt/project_replica/datasets/cini/53C/53C_256...   \n",
       "5185  /mnt/project_replica/datasets/cini/53C/53C_256...   \n",
       "5186  /mnt/project_replica/datasets/cini/58A/58A_475...   \n",
       "5189  /mnt/project_replica/datasets/cini/57A/57A_795...   \n",
       "5189  /mnt/project_replica/datasets/cini/57A/57A_795...   \n",
       "\n",
       "                                                 B_path  \\\n",
       "2     /mnt/project_replica/datasets/cini/44B/44B_109...   \n",
       "3     /mnt/project_replica/datasets/cini/61C/61C_348...   \n",
       "8     /mnt/project_replica/datasets/WGA/images/g/gio...   \n",
       "9     /mnt/project_replica/datasets/WGA/images/c/can...   \n",
       "9     /mnt/project_replica/datasets/WGA/images/c/can...   \n",
       "...                                                 ...   \n",
       "5185  /mnt/project_replica/datasets/cini/47A/47A_824...   \n",
       "5185  /mnt/project_replica/datasets/cini/47A/47A_824...   \n",
       "5186  /mnt/project_replica/datasets/cini/58A/58A_30.jpg   \n",
       "5189  /mnt/project_replica/datasets/cini/122A/122A_4...   \n",
       "5189  /mnt/project_replica/datasets/cini/122A/122A_4...   \n",
       "\n",
       "                                                 C_path  \n",
       "2     /mnt/project_replica/datasets/cini/137B/137B_2...  \n",
       "3     /mnt/project_replica/datasets/cini/97B/97B_341...  \n",
       "8     /mnt/project_replica/datasets/WGA/images/c/cra...  \n",
       "9     /mnt/project_replica/datasets/WGA/images/c/can...  \n",
       "9     /mnt/project_replica/datasets/WGA/images/c/can...  \n",
       "...                                                 ...  \n",
       "5185  /mnt/project_replica/datasets/cini/115A/115A_7...  \n",
       "5185  /mnt/project_replica/datasets/cini/31A/31A_643...  \n",
       "5186  /mnt/project_replica/datasets/cini/58A/58A_555...  \n",
       "5189  /mnt/project_replica/datasets/cini/46B/46B_243...  \n",
       "5189  /mnt/project_replica/datasets/cini/48A/48A_123...  \n",
       "\n",
       "[4966 rows x 7 columns]"
      ]
     },
     "execution_count": 21,
     "metadata": {},
     "output_type": "execute_result"
    }
   ],
   "source": [
    "sets = make_new_train_set(embeddings, positives, morpho_graph_clusters, subfolder_dir, uid2path)\n",
    "sets"
   ]
  },
  {
   "cell_type": "code",
   "execution_count": 22,
   "metadata": {},
   "outputs": [],
   "source": [
    "train_set = sets[sets['set'] == 'train']\n",
    "val_set = sets[sets['set'] == 'val']\n",
    "\n",
    "train_set.to_csv(data_dir + 'retrain_1_train.csv')\n",
    "val_set.to_csv(data_dir + 'retrain_1_val.csv')"
   ]
  },
  {
   "cell_type": "code",
   "execution_count": 23,
   "metadata": {},
   "outputs": [
    {
     "data": {
      "text/plain": [
       "0.75"
      ]
     },
     "execution_count": 23,
     "metadata": {},
     "output_type": "execute_result"
    }
   ],
   "source": [
    "scores_clusters = cluster_accuracy(morpho_graph_clusters)\n",
    "scores_clusters"
   ]
  },
  {
   "cell_type": "code",
   "execution_count": null,
   "metadata": {},
   "outputs": [],
   "source": []
  },
  {
   "cell_type": "code",
   "execution_count": null,
   "metadata": {},
   "outputs": [],
   "source": []
  }
 ],
 "metadata": {
  "interpreter": {
   "hash": "6bdddb31d2fb89da9078eb0011314936146baaf4f9e5c99982bea0ddf03884f8"
  },
  "kernelspec": {
   "display_name": "Python 3.8.5 ('ada')",
   "language": "python",
   "name": "python3"
  },
  "language_info": {
   "codemirror_mode": {
    "name": "ipython",
    "version": 3
   },
   "file_extension": ".py",
   "mimetype": "text/x-python",
   "name": "python",
   "nbconvert_exporter": "python",
   "pygments_lexer": "ipython3",
   "version": "3.8.5"
  },
  "orig_nbformat": 4
 },
 "nbformat": 4,
 "nbformat_minor": 2
}
