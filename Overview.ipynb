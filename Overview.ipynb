{
 "cells": [
  {
   "cell_type": "markdown",
   "metadata": {},
   "source": [
    "# Replica project\n",
    "\n",
    "## Creating a topology of artworks from the Cini Foundation Fototeca\n",
    "\n",
    "### The data\n",
    "\n",
    "The Cini Foundation possesses 300,000 cardboards containing the photograph of artworks and some metadata. These have been digitized as part of the Replica project and are now available in IIIF format.\n",
    "\n",
    "The artworks span 12th-20th century, with most artworks being between 1400-1699. The artworks are mostly from Venician artists and most are Italian/European."
   ]
  },
  {
   "cell_type": "code",
   "execution_count": 11,
   "metadata": {},
   "outputs": [
    {
     "name": "stdout",
     "output_type": "stream",
     "text": [
      "The autoreload extension is already loaded. To reload it, use:\n",
      "  %reload_ext autoreload\n"
     ]
    }
   ],
   "source": [
    "# loading the metadata\n",
    "%load_ext autoreload\n",
    "%autoreload 2\n",
    "\n",
    "import pandas as pd\n",
    "from IPython.display import Image\n",
    "import numpy as np"
   ]
  },
  {
   "cell_type": "code",
   "execution_count": 12,
   "metadata": {},
   "outputs": [
    {
     "name": "stderr",
     "output_type": "stream",
     "text": [
      "/tmp/ipykernel_876110/3894140588.py:2: DtypeWarning: Columns (1) have mixed types. Specify dtype option on import or set low_memory=False.\n",
      "  metadata = pd.read_csv(path + 'Cini_20210811.csv', sep=';')\n"
     ]
    },
    {
     "data": {
      "text/html": [
       "<div>\n",
       "<style scoped>\n",
       "    .dataframe tbody tr th:only-of-type {\n",
       "        vertical-align: middle;\n",
       "    }\n",
       "\n",
       "    .dataframe tbody tr th {\n",
       "        vertical-align: top;\n",
       "    }\n",
       "\n",
       "    .dataframe thead th {\n",
       "        text-align: right;\n",
       "    }\n",
       "</style>\n",
       "<table border=\"1\" class=\"dataframe\">\n",
       "  <thead>\n",
       "    <tr style=\"text-align: right;\">\n",
       "      <th></th>\n",
       "      <th>Drawer</th>\n",
       "      <th>ImageNumber</th>\n",
       "      <th>Author</th>\n",
       "      <th>Description</th>\n",
       "      <th>AuthorOriginal</th>\n",
       "      <th>AuthorULANLabel</th>\n",
       "      <th>AuthorULAN</th>\n",
       "      <th>AuthorURL</th>\n",
       "      <th>AuthorComplemented</th>\n",
       "      <th>AuthorComplement</th>\n",
       "      <th>...</th>\n",
       "      <th>AuthorDeath</th>\n",
       "      <th>AuthorBirthLong</th>\n",
       "      <th>AuthorBirthLat</th>\n",
       "      <th>AuthorDeathLong</th>\n",
       "      <th>AuthorDeathLat</th>\n",
       "      <th>AuthorBirthCity</th>\n",
       "      <th>AuthorDeathCity</th>\n",
       "      <th>uid</th>\n",
       "      <th>CardboardURL</th>\n",
       "      <th>ImageURL</th>\n",
       "    </tr>\n",
       "  </thead>\n",
       "  <tbody>\n",
       "    <tr>\n",
       "      <th>0</th>\n",
       "      <td>1A</td>\n",
       "      <td>1</td>\n",
       "      <td>ALLEGRINI Francesco</td>\n",
       "      <td>tca con penna acquarellata 148 x 203 mm</td>\n",
       "      <td>ALLEGRINI, Francesco</td>\n",
       "      <td>Allegrini, Francesco</td>\n",
       "      <td>ulan:500115272</td>\n",
       "      <td>http://vocab.getty.edu/page/ulan/500115272</td>\n",
       "      <td>0</td>\n",
       "      <td>No complement</td>\n",
       "      <td>...</td>\n",
       "      <td>1690.0</td>\n",
       "      <td>NaN</td>\n",
       "      <td>NaN</td>\n",
       "      <td>NaN</td>\n",
       "      <td>NaN</td>\n",
       "      <td>NaN</td>\n",
       "      <td>NaN</td>\n",
       "      <td>253993c139284a45be233a13121ddeeb</td>\n",
       "      <td>https://dhlabsrv4.epfl.ch/iiif_cini/1A%2F1A_1....</td>\n",
       "      <td>https://dhlabsrv4.epfl.ch/iiif_replica/cini%2F...</td>\n",
       "    </tr>\n",
       "    <tr>\n",
       "      <th>1</th>\n",
       "      <td>1A</td>\n",
       "      <td>2</td>\n",
       "      <td>BAROCCI Federico</td>\n",
       "      <td>Studio di figura penna acquarellata (carboncin...</td>\n",
       "      <td>BAROCCI, Federico</td>\n",
       "      <td>Barocci, Federico</td>\n",
       "      <td>ulan:500115210</td>\n",
       "      <td>http://vocab.getty.edu/page/ulan/500115210</td>\n",
       "      <td>0</td>\n",
       "      <td>No complement</td>\n",
       "      <td>...</td>\n",
       "      <td>1612.0</td>\n",
       "      <td>12.633333</td>\n",
       "      <td>43.716667</td>\n",
       "      <td>12.633333</td>\n",
       "      <td>43.716667</td>\n",
       "      <td>Urbino</td>\n",
       "      <td>Urbino</td>\n",
       "      <td>1323356994c24635a11fdcd9d5f9284a</td>\n",
       "      <td>https://dhlabsrv4.epfl.ch/iiif_cini/1A%2F1A_2....</td>\n",
       "      <td>https://dhlabsrv4.epfl.ch/iiif_replica/cini%2F...</td>\n",
       "    </tr>\n",
       "    <tr>\n",
       "      <th>2</th>\n",
       "      <td>1A</td>\n",
       "      <td>3</td>\n",
       "      <td>BASSANO Leandro</td>\n",
       "      <td>Scene penna su carta blu 171 x 219 mm</td>\n",
       "      <td>BASSANO, Leandro</td>\n",
       "      <td>Bassano, Leandro</td>\n",
       "      <td>ulan:500015945</td>\n",
       "      <td>http://vocab.getty.edu/page/ulan/500015945</td>\n",
       "      <td>0</td>\n",
       "      <td>No complement</td>\n",
       "      <td>...</td>\n",
       "      <td>1622.0</td>\n",
       "      <td>11.733333</td>\n",
       "      <td>45.766667</td>\n",
       "      <td>12.326667</td>\n",
       "      <td>45.438611</td>\n",
       "      <td>Bassano del Grappa</td>\n",
       "      <td>Venice</td>\n",
       "      <td>a4268385f6384e61a3dd092bc6b8c083</td>\n",
       "      <td>https://dhlabsrv4.epfl.ch/iiif_cini/1A%2F1A_3....</td>\n",
       "      <td>https://dhlabsrv4.epfl.ch/iiif_replica/cini%2F...</td>\n",
       "    </tr>\n",
       "    <tr>\n",
       "      <th>3</th>\n",
       "      <td>1A</td>\n",
       "      <td>4</td>\n",
       "      <td>CAMPIGLI Massimo</td>\n",
       "      <td>Ragazza su una scala gessetto su carta bruna g...</td>\n",
       "      <td>CAMPIGLI, Massimo</td>\n",
       "      <td>Campigli, Massimo</td>\n",
       "      <td>ulan:500029770</td>\n",
       "      <td>http://vocab.getty.edu/page/ulan/500029770</td>\n",
       "      <td>0</td>\n",
       "      <td>No complement</td>\n",
       "      <td>...</td>\n",
       "      <td>1971.0</td>\n",
       "      <td>13.400000</td>\n",
       "      <td>52.516667</td>\n",
       "      <td>6.639811</td>\n",
       "      <td>43.269316</td>\n",
       "      <td>Berlin</td>\n",
       "      <td>Var</td>\n",
       "      <td>550f368cdb4442aab4d5e2ada702d6ad</td>\n",
       "      <td>https://dhlabsrv4.epfl.ch/iiif_cini/1A%2F1A_4....</td>\n",
       "      <td>https://dhlabsrv4.epfl.ch/iiif_replica/cini%2F...</td>\n",
       "    </tr>\n",
       "    <tr>\n",
       "      <th>4</th>\n",
       "      <td>1A</td>\n",
       "      <td>5</td>\n",
       "      <td>CARRACCI A attr</td>\n",
       "      <td>Madonna e Santi penna 291 x 205 mm</td>\n",
       "      <td>CARRACCI, A. attr.</td>\n",
       "      <td>NaN</td>\n",
       "      <td>NaN</td>\n",
       "      <td>NaN</td>\n",
       "      <td>1</td>\n",
       "      <td>attr</td>\n",
       "      <td>...</td>\n",
       "      <td>NaN</td>\n",
       "      <td>NaN</td>\n",
       "      <td>NaN</td>\n",
       "      <td>NaN</td>\n",
       "      <td>NaN</td>\n",
       "      <td>NaN</td>\n",
       "      <td>NaN</td>\n",
       "      <td>6047de5547b643cb87491be925748bee</td>\n",
       "      <td>https://dhlabsrv4.epfl.ch/iiif_cini/1A%2F1A_5....</td>\n",
       "      <td>https://dhlabsrv4.epfl.ch/iiif_replica/cini%2F...</td>\n",
       "    </tr>\n",
       "  </tbody>\n",
       "</table>\n",
       "<p>5 rows × 37 columns</p>\n",
       "</div>"
      ],
      "text/plain": [
       "  Drawer ImageNumber               Author  \\\n",
       "0     1A           1  ALLEGRINI Francesco   \n",
       "1     1A           2     BAROCCI Federico   \n",
       "2     1A           3      BASSANO Leandro   \n",
       "3     1A           4     CAMPIGLI Massimo   \n",
       "4     1A           5      CARRACCI A attr   \n",
       "\n",
       "                                         Description        AuthorOriginal  \\\n",
       "0            tca con penna acquarellata 148 x 203 mm  ALLEGRINI, Francesco   \n",
       "1  Studio di figura penna acquarellata (carboncin...     BAROCCI, Federico   \n",
       "2              Scene penna su carta blu 171 x 219 mm      BASSANO, Leandro   \n",
       "3  Ragazza su una scala gessetto su carta bruna g...     CAMPIGLI, Massimo   \n",
       "4                 Madonna e Santi penna 291 x 205 mm    CARRACCI, A. attr.   \n",
       "\n",
       "        AuthorULANLabel      AuthorULAN  \\\n",
       "0  Allegrini, Francesco  ulan:500115272   \n",
       "1     Barocci, Federico  ulan:500115210   \n",
       "2      Bassano, Leandro  ulan:500015945   \n",
       "3     Campigli, Massimo  ulan:500029770   \n",
       "4                   NaN             NaN   \n",
       "\n",
       "                                    AuthorURL  AuthorComplemented  \\\n",
       "0  http://vocab.getty.edu/page/ulan/500115272                   0   \n",
       "1  http://vocab.getty.edu/page/ulan/500115210                   0   \n",
       "2  http://vocab.getty.edu/page/ulan/500015945                   0   \n",
       "3  http://vocab.getty.edu/page/ulan/500029770                   0   \n",
       "4                                         NaN                   1   \n",
       "\n",
       "  AuthorComplement  ...  AuthorDeath AuthorBirthLong AuthorBirthLat  \\\n",
       "0    No complement  ...       1690.0             NaN            NaN   \n",
       "1    No complement  ...       1612.0       12.633333      43.716667   \n",
       "2    No complement  ...       1622.0       11.733333      45.766667   \n",
       "3    No complement  ...       1971.0       13.400000      52.516667   \n",
       "4             attr  ...          NaN             NaN            NaN   \n",
       "\n",
       "  AuthorDeathLong AuthorDeathLat     AuthorBirthCity AuthorDeathCity  \\\n",
       "0             NaN            NaN                 NaN             NaN   \n",
       "1       12.633333      43.716667              Urbino          Urbino   \n",
       "2       12.326667      45.438611  Bassano del Grappa          Venice   \n",
       "3        6.639811      43.269316              Berlin             Var   \n",
       "4             NaN            NaN                 NaN             NaN   \n",
       "\n",
       "                                uid  \\\n",
       "0  253993c139284a45be233a13121ddeeb   \n",
       "1  1323356994c24635a11fdcd9d5f9284a   \n",
       "2  a4268385f6384e61a3dd092bc6b8c083   \n",
       "3  550f368cdb4442aab4d5e2ada702d6ad   \n",
       "4  6047de5547b643cb87491be925748bee   \n",
       "\n",
       "                                        CardboardURL  \\\n",
       "0  https://dhlabsrv4.epfl.ch/iiif_cini/1A%2F1A_1....   \n",
       "1  https://dhlabsrv4.epfl.ch/iiif_cini/1A%2F1A_2....   \n",
       "2  https://dhlabsrv4.epfl.ch/iiif_cini/1A%2F1A_3....   \n",
       "3  https://dhlabsrv4.epfl.ch/iiif_cini/1A%2F1A_4....   \n",
       "4  https://dhlabsrv4.epfl.ch/iiif_cini/1A%2F1A_5....   \n",
       "\n",
       "                                            ImageURL  \n",
       "0  https://dhlabsrv4.epfl.ch/iiif_replica/cini%2F...  \n",
       "1  https://dhlabsrv4.epfl.ch/iiif_replica/cini%2F...  \n",
       "2  https://dhlabsrv4.epfl.ch/iiif_replica/cini%2F...  \n",
       "3  https://dhlabsrv4.epfl.ch/iiif_replica/cini%2F...  \n",
       "4  https://dhlabsrv4.epfl.ch/iiif_replica/cini%2F...  \n",
       "\n",
       "[5 rows x 37 columns]"
      ]
     },
     "execution_count": 12,
     "metadata": {},
     "output_type": "execute_result"
    }
   ],
   "source": [
    "path = '/home/guhennec/scratch/2021_Cini/TopologicalAnalysis_Cini/data/'\n",
    "metadata = pd.read_csv(path + 'Cini_20210811.csv', sep=';')\n",
    "metadata.head(5)"
   ]
  },
  {
   "cell_type": "code",
   "execution_count": 6,
   "metadata": {},
   "outputs": [
    {
     "data": {
      "text/plain": [
       "(2265, 37)"
      ]
     },
     "execution_count": 6,
     "metadata": {},
     "output_type": "execute_result"
    }
   ],
   "source": [
    "# taking, for example, a subset of the data\n",
    "titian_data = metadata[metadata['AuthorOriginal'].fillna('').str.startswith('TIZIANO')]\n",
    "titian_data.shape"
   ]
  },
  {
   "cell_type": "markdown",
   "metadata": {},
   "source": [
    "The image url allows to retrieve the image from the IIIF source."
   ]
  },
  {
   "cell_type": "code",
   "execution_count": 7,
   "metadata": {},
   "outputs": [
    {
     "name": "stdout",
     "output_type": "stream",
     "text": [
      "https://dhlabsrv4.epfl.ch/iiif_replica/cini%2F1A%2F1A_583.jpg/full/full/0/default.jpg\n"
     ]
    },
    {
     "data": {
      "text/html": [
       "<img src=\"https://dhlabsrv4.epfl.ch/iiif_replica/cini%2F1A%2F1A_583.jpg/full/full/0/default.jpg\" width=\"200\" height=\"200\"/>"
      ],
      "text/plain": [
       "<IPython.core.display.Image object>"
      ]
     },
     "metadata": {},
     "output_type": "display_data"
    }
   ],
   "source": [
    "example_url = titian_data.reset_index()['ImageURL'][0]\n",
    "\n",
    "print(example_url)\n",
    "display(Image(url=example_url, width=200, height=200))"
   ]
  },
  {
   "cell_type": "markdown",
   "metadata": {},
   "source": [
    "#### Data loader for model?\n",
    "\n",
    "### The morphograph\n",
    "\n",
    "The morphograph is an annotated graph containing sets of two images that are considered similar according to the definition that they share a similar visual or physical trait. Where is this set stored? \n",
    "\n",
    "#### Data loader for this set?"
   ]
  },
  {
   "cell_type": "code",
   "execution_count": 10,
   "metadata": {},
   "outputs": [
    {
     "data": {
      "text/html": [
       "<div>\n",
       "<style scoped>\n",
       "    .dataframe tbody tr th:only-of-type {\n",
       "        vertical-align: middle;\n",
       "    }\n",
       "\n",
       "    .dataframe tbody tr th {\n",
       "        vertical-align: top;\n",
       "    }\n",
       "\n",
       "    .dataframe thead th {\n",
       "        text-align: right;\n",
       "    }\n",
       "</style>\n",
       "<table border=\"1\" class=\"dataframe\">\n",
       "  <thead>\n",
       "    <tr style=\"text-align: right;\">\n",
       "      <th></th>\n",
       "      <th>uid</th>\n",
       "      <th>img1</th>\n",
       "      <th>img2</th>\n",
       "      <th>type</th>\n",
       "      <th>annotated</th>\n",
       "    </tr>\n",
       "  </thead>\n",
       "  <tbody>\n",
       "    <tr>\n",
       "      <th>0</th>\n",
       "      <td>0f84770be893475581bebd8c0ce95704</td>\n",
       "      <td>4b6e5a18012e4974a43f6f652c9cad78</td>\n",
       "      <td>e3329a91a266412fb1a0975d70894178</td>\n",
       "      <td>POSITIVE</td>\n",
       "      <td>2017-07-19 15:02:50.997512+00:00</td>\n",
       "    </tr>\n",
       "    <tr>\n",
       "      <th>1</th>\n",
       "      <td>5ade49fc2dc649b9947496a41e2decdb</td>\n",
       "      <td>384b9f017d5f43ba9dcfd92f2af830c4</td>\n",
       "      <td>e3329a91a266412fb1a0975d70894178</td>\n",
       "      <td>POSITIVE</td>\n",
       "      <td>2017-07-19 15:02:51.238615+00:00</td>\n",
       "    </tr>\n",
       "    <tr>\n",
       "      <th>2</th>\n",
       "      <td>bf4d99eaf7da4bd486f9007c90c177a5</td>\n",
       "      <td>94fe74bcebf9442fb5cd9a0327590a84</td>\n",
       "      <td>726f47fb5bd94c5db8069334cc58020e</td>\n",
       "      <td>POSITIVE</td>\n",
       "      <td>2017-07-20 12:18:23.705228+00:00</td>\n",
       "    </tr>\n",
       "    <tr>\n",
       "      <th>3</th>\n",
       "      <td>b29ec3c83c5641f9b6afadb2409b6746</td>\n",
       "      <td>922fe92d61e744b1a9462c848a916bcf</td>\n",
       "      <td>726f47fb5bd94c5db8069334cc58020e</td>\n",
       "      <td>POSITIVE</td>\n",
       "      <td>2017-07-20 12:18:24.021703+00:00</td>\n",
       "    </tr>\n",
       "    <tr>\n",
       "      <th>4</th>\n",
       "      <td>ab27b55997b94bef9cca122829e9f64d</td>\n",
       "      <td>94fe74bcebf9442fb5cd9a0327590a84</td>\n",
       "      <td>922fe92d61e744b1a9462c848a916bcf</td>\n",
       "      <td>POSITIVE</td>\n",
       "      <td>2017-07-20 12:18:23.873097+00:00</td>\n",
       "    </tr>\n",
       "  </tbody>\n",
       "</table>\n",
       "</div>"
      ],
      "text/plain": [
       "                                uid                              img1  \\\n",
       "0  0f84770be893475581bebd8c0ce95704  4b6e5a18012e4974a43f6f652c9cad78   \n",
       "1  5ade49fc2dc649b9947496a41e2decdb  384b9f017d5f43ba9dcfd92f2af830c4   \n",
       "2  bf4d99eaf7da4bd486f9007c90c177a5  94fe74bcebf9442fb5cd9a0327590a84   \n",
       "3  b29ec3c83c5641f9b6afadb2409b6746  922fe92d61e744b1a9462c848a916bcf   \n",
       "4  ab27b55997b94bef9cca122829e9f64d  94fe74bcebf9442fb5cd9a0327590a84   \n",
       "\n",
       "                               img2      type                        annotated  \n",
       "0  e3329a91a266412fb1a0975d70894178  POSITIVE 2017-07-19 15:02:50.997512+00:00  \n",
       "1  e3329a91a266412fb1a0975d70894178  POSITIVE 2017-07-19 15:02:51.238615+00:00  \n",
       "2  726f47fb5bd94c5db8069334cc58020e  POSITIVE 2017-07-20 12:18:23.705228+00:00  \n",
       "3  726f47fb5bd94c5db8069334cc58020e  POSITIVE 2017-07-20 12:18:24.021703+00:00  \n",
       "4  922fe92d61e744b1a9462c848a916bcf  POSITIVE 2017-07-20 12:18:23.873097+00:00  "
      ]
     },
     "execution_count": 10,
     "metadata": {},
     "output_type": "execute_result"
    }
   ],
   "source": [
    "# in jeanne's code\n",
    "import pickle\n",
    "\n",
    "with open(path + 'save_link_data_2018_08_02.pkl', 'rb') as f:\n",
    "    morpho_graph_complete = pickle.load(f)\n",
    "\n",
    "# contains uid\timg1\timg2\ttype\tannotated\n",
    "\n",
    "morpho_graph_complete.head()"
   ]
  },
  {
   "cell_type": "markdown",
   "metadata": {},
   "source": [
    "### Model\n",
    "\n",
    "According to Seguin (2016), the model to find similar images is obtained using the loss:\n",
    "\n",
    "l(A,B,C) --> l(A,B) < l(B,C)\n",
    "\n",
    "where A is the input image, B is the morphograph ground truth, C is an image that is considered similar by a pre-trained model.\n",
    "\n",
    "So the steps are:\n",
    "\n",
    "Model 1: e.g. any well performing model from https://pytorch.org/vision/stable/models.html, give all images in the data and obtain embedding (i.e. last CNN layer) of all of them. Compute most similar embeddings to the embeddings of the images in the morphograph.\n",
    "\n",
    "Model 2: fine tune the model with the loss above. The model should stop at the embedding layer.\n",
    "\n",
    "#### Is the loss and training defined somewhere?\n",
    "#### Can we improve this? i.e. another loss, more finetuning layers on artworks?"
   ]
  },
  {
   "cell_type": "markdown",
   "metadata": {},
   "source": [
    "Store final weights of the finetuned model for prediction.\n",
    "\n",
    "Evaluation:\n",
    "- metrics introduced by Seguin (2016), in replica_search.train_retrieval"
   ]
  },
  {
   "cell_type": "markdown",
   "metadata": {},
   "source": [
    "### Topological Data Analysis\n",
    "\n",
    "Since we wish to map the space of images so that the similar ones are close in space and that we can show a structure of such similarities, we use the **mapper** algorithm to find such structure and substructures.\n",
    "\n",
    "Input: the embeddings of the images\n",
    "TDA\n",
    "Output: skeleton of the space, clusters\n",
    "\n",
    "Evaluation: use the clusters and the closeness of the clusters in the skeleton to evaluate the structure.\n",
    "Based on: morphohraph, predictions of the model based on different inputs."
   ]
  },
  {
   "cell_type": "code",
   "execution_count": 22,
   "metadata": {},
   "outputs": [],
   "source": [
    "# some_file.py\n",
    "import sys\n",
    "# insert at 1, 0 is the script path (or '' in REPL)\n",
    "sys.path.insert(1, '/home/guhennec/scratch/2021_Cini/TopologicalAnalysis_Cini/scripts')\n",
    "\n",
    "#from Mapper_Tools_Repl import MapperGraph\n",
    "import kmapper as km\n",
    "\n",
    "mat_cini = np.load(path + 'Replica_UIDs_ResNet_VGG_All.npy', allow_pickle=True)\n",
    "mat_cini.shape\n"
   ]
  },
  {
   "cell_type": "markdown",
   "metadata": {},
   "source": [
    "### Visualize the results\n",
    "\n",
    "Using Flask, improve the visualization of the results."
   ]
  },
  {
   "cell_type": "markdown",
   "metadata": {},
   "source": [
    "### More:\n",
    "\n",
    "#### Can we compare the process to a similar process on the metadata?\n",
    "#### Do the clusters / structure of clusters mirror what we already know?"
   ]
  }
 ],
 "metadata": {
  "interpreter": {
   "hash": "31f2aee4e71d21fbe5cf8b01ff0e069b9275f58929596ceb00d14d90e3e16cd6"
  },
  "kernelspec": {
   "display_name": "Xonsh",
   "language": "python",
   "name": "python3"
  },
  "language_info": {
   "codemirror_mode": {
    "name": "ipython",
    "version": 3
   },
   "file_extension": ".py",
   "mimetype": "text/x-python",
   "name": "python",
   "nbconvert_exporter": "python",
   "pygments_lexer": "ipython3",
   "version": "3.8.12"
  },
  "orig_nbformat": 4
 },
 "nbformat": 4,
 "nbformat_minor": 2
}
