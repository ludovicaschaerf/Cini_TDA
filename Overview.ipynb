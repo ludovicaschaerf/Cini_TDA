{
 "cells": [
  {
   "cell_type": "markdown",
   "metadata": {},
   "source": [
    "# Replica project\n",
    "\n",
    "## Creating a topology of artworks from the Cini Foundation Fototeca\n",
    "\n",
    "### The data\n",
    "\n",
    "The Cini Foundation possesses 300,000 cardboards containing the photograph of artworks and some metadata. These have been digitized as part of the Replica project and are now available in IIIF format.\n",
    "\n",
    "The artworks span 12th-20th century, with most artworks being between 1400-1699. The artworks are mostly from Venician artists and most are Italian/European."
   ]
  },
  {
   "cell_type": "code",
   "execution_count": 1,
   "metadata": {},
   "outputs": [
    {
     "name": "stderr",
     "output_type": "stream",
     "text": [
      "C:\\Users\\ludov\\anaconda3\\envs\\ada\\lib\\site-packages\\IPython\\core\\interactiveshell.py:3444: DtypeWarning: Columns (1) have mixed types.Specify dtype option on import or set low_memory=False.\n",
      "  exec(code_obj, self.user_global_ns, self.user_ns)\n"
     ]
    },
    {
     "data": {
      "text/html": [
       "<div>\n",
       "<style scoped>\n",
       "    .dataframe tbody tr th:only-of-type {\n",
       "        vertical-align: middle;\n",
       "    }\n",
       "\n",
       "    .dataframe tbody tr th {\n",
       "        vertical-align: top;\n",
       "    }\n",
       "\n",
       "    .dataframe thead th {\n",
       "        text-align: right;\n",
       "    }\n",
       "</style>\n",
       "<table border=\"1\" class=\"dataframe\">\n",
       "  <thead>\n",
       "    <tr style=\"text-align: right;\">\n",
       "      <th></th>\n",
       "      <th>Drawer</th>\n",
       "      <th>ImageNumber</th>\n",
       "      <th>AuthorOriginal</th>\n",
       "      <th>Author</th>\n",
       "      <th>AuthorULAN</th>\n",
       "      <th>AuthorULANLabel</th>\n",
       "      <th>AuthorUncertain</th>\n",
       "      <th>AuthorModifier</th>\n",
       "      <th>CardboardURL</th>\n",
       "      <th>ImageURL</th>\n",
       "      <th>...</th>\n",
       "      <th>AuthorDeathLong</th>\n",
       "      <th>AuthorDeathLat</th>\n",
       "      <th>SimpleCollection</th>\n",
       "      <th>AuthorBirthCity</th>\n",
       "      <th>AuthorDeathCity</th>\n",
       "      <th>AuthorComplemented</th>\n",
       "      <th>AuthorComplement</th>\n",
       "      <th>AuthorNeighbour</th>\n",
       "      <th>AuthorNeighbourhood</th>\n",
       "      <th>uid</th>\n",
       "    </tr>\n",
       "  </thead>\n",
       "  <tbody>\n",
       "    <tr>\n",
       "      <th>0</th>\n",
       "      <td>1A</td>\n",
       "      <td>1</td>\n",
       "      <td>ALLEGRINI, Francesco</td>\n",
       "      <td>ALLEGRINI Francesco</td>\n",
       "      <td>ulan:500115272</td>\n",
       "      <td>Allegrini, Francesco</td>\n",
       "      <td>0</td>\n",
       "      <td>NaN</td>\n",
       "      <td>https://dhlabsrv4.epfl.ch/iiif_cini/1A%2F1A_1....</td>\n",
       "      <td>https://dhlabsrv4.epfl.ch/iiif_replica/cini%2F...</td>\n",
       "      <td>...</td>\n",
       "      <td>NaN</td>\n",
       "      <td>NaN</td>\n",
       "      <td>Corpus Gernsheim</td>\n",
       "      <td>NaN</td>\n",
       "      <td>NaN</td>\n",
       "      <td>0</td>\n",
       "      <td>No complement</td>\n",
       "      <td>0</td>\n",
       "      <td>No complement</td>\n",
       "      <td>253993c139284a45be233a13121ddeeb</td>\n",
       "    </tr>\n",
       "    <tr>\n",
       "      <th>1</th>\n",
       "      <td>1A</td>\n",
       "      <td>2</td>\n",
       "      <td>BAROCCI, Federico</td>\n",
       "      <td>BAROCCI Federico</td>\n",
       "      <td>ulan:500115210</td>\n",
       "      <td>Barocci, Federico</td>\n",
       "      <td>0</td>\n",
       "      <td>NaN</td>\n",
       "      <td>https://dhlabsrv4.epfl.ch/iiif_cini/1A%2F1A_2....</td>\n",
       "      <td>https://dhlabsrv4.epfl.ch/iiif_replica/cini%2F...</td>\n",
       "      <td>...</td>\n",
       "      <td>12.633333</td>\n",
       "      <td>43.716667</td>\n",
       "      <td>Corpus Gernsheim</td>\n",
       "      <td>Urbino</td>\n",
       "      <td>Urbino</td>\n",
       "      <td>0</td>\n",
       "      <td>No complement</td>\n",
       "      <td>0</td>\n",
       "      <td>No complement</td>\n",
       "      <td>1323356994c24635a11fdcd9d5f9284a</td>\n",
       "    </tr>\n",
       "    <tr>\n",
       "      <th>2</th>\n",
       "      <td>1A</td>\n",
       "      <td>3</td>\n",
       "      <td>BASSANO, Leandro</td>\n",
       "      <td>BASSANO Leandro</td>\n",
       "      <td>ulan:500015945</td>\n",
       "      <td>Bassano, Leandro</td>\n",
       "      <td>0</td>\n",
       "      <td>NaN</td>\n",
       "      <td>https://dhlabsrv4.epfl.ch/iiif_cini/1A%2F1A_3....</td>\n",
       "      <td>https://dhlabsrv4.epfl.ch/iiif_replica/cini%2F...</td>\n",
       "      <td>...</td>\n",
       "      <td>12.326667</td>\n",
       "      <td>45.438611</td>\n",
       "      <td>Corpus Gernsheim</td>\n",
       "      <td>Bassano del Grappa</td>\n",
       "      <td>Venice</td>\n",
       "      <td>0</td>\n",
       "      <td>No complement</td>\n",
       "      <td>0</td>\n",
       "      <td>No complement</td>\n",
       "      <td>a4268385f6384e61a3dd092bc6b8c083</td>\n",
       "    </tr>\n",
       "    <tr>\n",
       "      <th>3</th>\n",
       "      <td>1A</td>\n",
       "      <td>4</td>\n",
       "      <td>CAMPIGLI, Massimo</td>\n",
       "      <td>CAMPIGLI Massimo</td>\n",
       "      <td>ulan:500029770</td>\n",
       "      <td>Campigli, Massimo</td>\n",
       "      <td>0</td>\n",
       "      <td>NaN</td>\n",
       "      <td>https://dhlabsrv4.epfl.ch/iiif_cini/1A%2F1A_4....</td>\n",
       "      <td>https://dhlabsrv4.epfl.ch/iiif_replica/cini%2F...</td>\n",
       "      <td>...</td>\n",
       "      <td>6.639811</td>\n",
       "      <td>43.269316</td>\n",
       "      <td>Corpus Gernsheim</td>\n",
       "      <td>Berlin</td>\n",
       "      <td>Var</td>\n",
       "      <td>0</td>\n",
       "      <td>No complement</td>\n",
       "      <td>0</td>\n",
       "      <td>No complement</td>\n",
       "      <td>550f368cdb4442aab4d5e2ada702d6ad</td>\n",
       "    </tr>\n",
       "    <tr>\n",
       "      <th>4</th>\n",
       "      <td>1A</td>\n",
       "      <td>5</td>\n",
       "      <td>CARRACCI, A. attr.</td>\n",
       "      <td>CARRACCI A attr</td>\n",
       "      <td>NaN</td>\n",
       "      <td>NaN</td>\n",
       "      <td>0</td>\n",
       "      <td>NaN</td>\n",
       "      <td>https://dhlabsrv4.epfl.ch/iiif_cini/1A%2F1A_5....</td>\n",
       "      <td>https://dhlabsrv4.epfl.ch/iiif_replica/cini%2F...</td>\n",
       "      <td>...</td>\n",
       "      <td>NaN</td>\n",
       "      <td>NaN</td>\n",
       "      <td>Corpus Gernsheim</td>\n",
       "      <td>NaN</td>\n",
       "      <td>NaN</td>\n",
       "      <td>1</td>\n",
       "      <td>attr</td>\n",
       "      <td>0</td>\n",
       "      <td>No complement</td>\n",
       "      <td>6047de5547b643cb87491be925748bee</td>\n",
       "    </tr>\n",
       "  </tbody>\n",
       "</table>\n",
       "<p>5 rows × 39 columns</p>\n",
       "</div>"
      ],
      "text/plain": [
       "  Drawer ImageNumber        AuthorOriginal               Author  \\\n",
       "0     1A           1  ALLEGRINI, Francesco  ALLEGRINI Francesco   \n",
       "1     1A           2     BAROCCI, Federico     BAROCCI Federico   \n",
       "2     1A           3      BASSANO, Leandro      BASSANO Leandro   \n",
       "3     1A           4     CAMPIGLI, Massimo     CAMPIGLI Massimo   \n",
       "4     1A           5    CARRACCI, A. attr.      CARRACCI A attr   \n",
       "\n",
       "       AuthorULAN       AuthorULANLabel  AuthorUncertain AuthorModifier  \\\n",
       "0  ulan:500115272  Allegrini, Francesco                0            NaN   \n",
       "1  ulan:500115210     Barocci, Federico                0            NaN   \n",
       "2  ulan:500015945      Bassano, Leandro                0            NaN   \n",
       "3  ulan:500029770     Campigli, Massimo                0            NaN   \n",
       "4             NaN                   NaN                0            NaN   \n",
       "\n",
       "                                        CardboardURL  \\\n",
       "0  https://dhlabsrv4.epfl.ch/iiif_cini/1A%2F1A_1....   \n",
       "1  https://dhlabsrv4.epfl.ch/iiif_cini/1A%2F1A_2....   \n",
       "2  https://dhlabsrv4.epfl.ch/iiif_cini/1A%2F1A_3....   \n",
       "3  https://dhlabsrv4.epfl.ch/iiif_cini/1A%2F1A_4....   \n",
       "4  https://dhlabsrv4.epfl.ch/iiif_cini/1A%2F1A_5....   \n",
       "\n",
       "                                            ImageURL  ... AuthorDeathLong  \\\n",
       "0  https://dhlabsrv4.epfl.ch/iiif_replica/cini%2F...  ...             NaN   \n",
       "1  https://dhlabsrv4.epfl.ch/iiif_replica/cini%2F...  ...       12.633333   \n",
       "2  https://dhlabsrv4.epfl.ch/iiif_replica/cini%2F...  ...       12.326667   \n",
       "3  https://dhlabsrv4.epfl.ch/iiif_replica/cini%2F...  ...        6.639811   \n",
       "4  https://dhlabsrv4.epfl.ch/iiif_replica/cini%2F...  ...             NaN   \n",
       "\n",
       "  AuthorDeathLat  SimpleCollection     AuthorBirthCity AuthorDeathCity  \\\n",
       "0            NaN  Corpus Gernsheim                 NaN             NaN   \n",
       "1      43.716667  Corpus Gernsheim              Urbino          Urbino   \n",
       "2      45.438611  Corpus Gernsheim  Bassano del Grappa          Venice   \n",
       "3      43.269316  Corpus Gernsheim              Berlin             Var   \n",
       "4            NaN  Corpus Gernsheim                 NaN             NaN   \n",
       "\n",
       "  AuthorComplemented AuthorComplement AuthorNeighbour AuthorNeighbourhood  \\\n",
       "0                  0    No complement               0       No complement   \n",
       "1                  0    No complement               0       No complement   \n",
       "2                  0    No complement               0       No complement   \n",
       "3                  0    No complement               0       No complement   \n",
       "4                  1             attr               0       No complement   \n",
       "\n",
       "                                uid  \n",
       "0  253993c139284a45be233a13121ddeeb  \n",
       "1  1323356994c24635a11fdcd9d5f9284a  \n",
       "2  a4268385f6384e61a3dd092bc6b8c083  \n",
       "3  550f368cdb4442aab4d5e2ada702d6ad  \n",
       "4  6047de5547b643cb87491be925748bee  \n",
       "\n",
       "[5 rows x 39 columns]"
      ]
     },
     "execution_count": 1,
     "metadata": {},
     "output_type": "execute_result"
    }
   ],
   "source": [
    "# loading the metadata\n",
    "%load_ext autoreload\n",
    "%autoreload 2\n",
    "\n",
    "import pandas as pd\n",
    "from IPython.display import Image\n",
    "\n",
    "\n",
    "metadata = pd.read_csv('./CiniDatabases_August2021/Cini_20210623_WithImageURL.csv', sep=';')\n",
    "metadata.head(5)"
   ]
  },
  {
   "cell_type": "code",
   "execution_count": 5,
   "metadata": {},
   "outputs": [
    {
     "data": {
      "text/plain": [
       "(2265, 39)"
      ]
     },
     "execution_count": 5,
     "metadata": {},
     "output_type": "execute_result"
    }
   ],
   "source": [
    "# taking, for example, a subset of the data\n",
    "titian_data = metadata[metadata['AuthorOriginal'].fillna('').str.startswith('TIZIANO')]\n",
    "titian_data.shape"
   ]
  },
  {
   "cell_type": "markdown",
   "metadata": {},
   "source": [
    "The image url allows to retrieve the image from the IIIF source."
   ]
  },
  {
   "cell_type": "code",
   "execution_count": 16,
   "metadata": {},
   "outputs": [
    {
     "name": "stdout",
     "output_type": "stream",
     "text": [
      "https://dhlabsrv4.epfl.ch/iiif_replica/cini%2F1A%2F1A_583.jpg/full/full/0/default.jpg\n"
     ]
    },
    {
     "data": {
      "text/html": [
       "<img src=\"https://dhlabsrv4.epfl.ch/iiif_replica/cini%2F1A%2F1A_583.jpg/full/full/0/default.jpg\" width=\"200\" height=\"200\"/>"
      ],
      "text/plain": [
       "<IPython.core.display.Image object>"
      ]
     },
     "metadata": {},
     "output_type": "display_data"
    }
   ],
   "source": [
    "example_url = titian_data.reset_index()['ImageURL'][0]\n",
    "\n",
    "print(example_url)\n",
    "display(Image(url=example_url, width=200, height=200))"
   ]
  },
  {
   "cell_type": "markdown",
   "metadata": {},
   "source": [
    "#### Data loader for model?\n",
    "\n",
    "### The morphograph\n",
    "\n",
    "The morphograph is an annotated graph containing sets of two images that are considered similar according to the definition that they share a similar visual or physical trait. Where is this set stored? \n",
    "\n",
    "#### Data loader for this set?"
   ]
  },
  {
   "cell_type": "code",
   "execution_count": null,
   "metadata": {},
   "outputs": [],
   "source": [
    "# in jeanne's code\n",
    "import pickle\n",
    "\n",
    "with open('../../../../../../scratch/students/jeanne/replica_data/save_link_data_2018_08_02.pkl', 'rb') as f:\n",
    "    morpho_graph_complete = pickle.load(f)\n",
    "\n",
    "# contains uid\timg1\timg2\ttype\tannotated"
   ]
  },
  {
   "cell_type": "markdown",
   "metadata": {},
   "source": [
    "### Model\n",
    "\n",
    "According to Seguin (2016), the model to find similar images is obtained using the loss:\n",
    "\n",
    "l(A,B,C) --> l(A,B) < l(B,C)\n",
    "\n",
    "where A is the input image, B is the morphograph ground truth, C is an image that is considered similar by a pre-trained model.\n",
    "\n",
    "So the steps are:\n",
    "\n",
    "Model 1: e.g. any well performing model from https://pytorch.org/vision/stable/models.html, give all images in the data and obtain embedding (i.e. last CNN layer) of all of them. Compute most similar embeddings to the embeddings of the images in the morphograph.\n",
    "\n",
    "Model 2: fine tune the model with the loss above. The model should stop at the embedding layer.\n",
    "\n",
    "#### Is the loss and training defined somewhere?\n",
    "#### Can we improve this? i.e. another loss, more finetuning layers on artworks?"
   ]
  },
  {
   "cell_type": "markdown",
   "metadata": {},
   "source": [
    "Store final weights of the finetuned model for prediction.\n",
    "\n",
    "Evaluation:\n",
    "- metrics introduced by Seguin (2016), in replica_search.train_retrieval"
   ]
  },
  {
   "cell_type": "markdown",
   "metadata": {},
   "source": [
    "### Topological Data Analysis\n",
    "\n",
    "Since we wish to map the space of images so that the similar ones are close in space and that we can show a structure of such similarities, we use the **mapper** algorithm to find such structure and substructures.\n",
    "\n",
    "Input: the embeddings of the images\n",
    "TDA\n",
    "Output: skeleton of the space, clusters\n",
    "\n",
    "Evaluation: use the clusters and the closeness of the clusters in the skeleton to evaluate the structure.\n",
    "Based on: morphohraph, predictions of the model based on different inputs."
   ]
  },
  {
   "cell_type": "code",
   "execution_count": null,
   "metadata": {},
   "outputs": [],
   "source": [
    "from replica_analysis.topology_analysis.Mapper_Tools_Repl import MapperGraph\n",
    "import kmapper as km\n"
   ]
  },
  {
   "cell_type": "markdown",
   "metadata": {},
   "source": [
    "### Visualize the results\n",
    "\n",
    "Using Flask, improve the visualization of the results."
   ]
  },
  {
   "cell_type": "markdown",
   "metadata": {},
   "source": [
    "### More:\n",
    "\n",
    "#### Can we compare the process to a similar process on the metadata?\n",
    "#### Do the clusters / structure of clusters mirror what we already know?"
   ]
  }
 ],
 "metadata": {
  "interpreter": {
   "hash": "8e2673524e24647dcb01ed6037d323486da29d546bf954a37cc5c6513d25d62d"
  },
  "kernelspec": {
   "display_name": "Python 3.8.5 ('ada')",
   "language": "python",
   "name": "python3"
  },
  "language_info": {
   "codemirror_mode": {
    "name": "ipython",
    "version": 3
   },
   "file_extension": ".py",
   "mimetype": "text/x-python",
   "name": "python",
   "nbconvert_exporter": "python",
   "pygments_lexer": "ipython3",
   "version": "3.8.5"
  },
  "orig_nbformat": 4
 },
 "nbformat": 4,
 "nbformat_minor": 2
}
